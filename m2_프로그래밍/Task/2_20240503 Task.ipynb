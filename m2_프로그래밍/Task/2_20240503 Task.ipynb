{
  "nbformat": 4,
  "nbformat_minor": 0,
  "metadata": {
    "colab": {
      "provenance": []
    },
    "kernelspec": {
      "name": "python3",
      "display_name": "Python 3"
    },
    "language_info": {
      "name": "python"
    }
  },
  "cells": [
    {
      "cell_type": "code",
      "source": [
        "class Food:\n",
        "  def __init__(self, food):\n",
        "    self.name = food['name']\n",
        "    self.price = food['price']\n",
        "\n",
        "class Order(Food):\n",
        "  def __init__(self, food, setted):\n",
        "    super().__init__(food)\n",
        "    self.setted = setted\n",
        "\n",
        "  def total_price(self):\n",
        "    self.total_price = self.price + self.setted\n",
        "\n",
        "    return self.total_price\n",
        "\n",
        "def order_menu(foods):\n",
        "  num = int(input('비빔밥 메뉴를 선택해주세요 : 1, 2, 3 '))\n",
        "  st = next((3000 for i in [input('세트 주문을 하시겠습니까? (y, n) : ')] if i == 'y'), 0)\n",
        "\n",
        "  return foods[num], st\n",
        "\n",
        "\n",
        "\n",
        "foods = {1: {'name' : '불고기비빔밥', 'price' : 12000},\n",
        "         2: {'name' : '야채비빔밥', 'price' : 8000},\n",
        "         3: {'name' : '전주비빔밥', 'price': 10000}}\n",
        "\n",
        "food, setted = order_menu(foods)\n",
        "order = Order(food, setted)\n",
        "total_price = order.total_price()\n",
        "\n",
        "print(f'총 가격은 {total_price}원 입니다')\n",
        "\n",
        "while 1:\n",
        "  #cont = next((True for i in [input('계속 주문하시겠습니까? (enter:계속 주문 / n:종료)')] if i == ''), False)\n",
        "\n",
        "  # lambda 함수로 간단한 함수 예제 작성. 매개 변수가 없어도 가능하다.\n",
        "  cont = lambda : True if input('계속 주문하시겠습니까? (enter:계속 주문 / n:종료)') == '' else False\n",
        "  if cont():\n",
        "    food, setted = order_menu(foods)\n",
        "    order = Order(food, setted)\n",
        "    total_price += order.total_price()\n",
        "  else:\n",
        "    print(f'주문완료. 총 가격은 {total_price}원 입니다.')\n",
        "    break"
      ],
      "metadata": {
        "id": "-6U7xrXWYPuD",
        "colab": {
          "base_uri": "https://localhost:8080/"
        },
        "outputId": "61f196dc-207e-4483-f0b1-89ba0ec3fcb7"
      },
      "execution_count": null,
      "outputs": [
        {
          "output_type": "stream",
          "name": "stdout",
          "text": [
            "비빔밥 메뉴를 선택해주세요 : 1, 2, 3 1\n",
            "세트 주문을 하시겠습니까? (y, n) : ㅛ\n",
            "총 가격은 12000원 입니다\n",
            "계속 주문하시겠습니까? (enter:계속 주문 / n:종료)\n",
            "비빔밥 메뉴를 선택해주세요 : 1, 2, 3 2\n",
            "세트 주문을 하시겠습니까? (y, n) : y\n",
            "계속 주문하시겠습니까? (enter:계속 주문 / n:종료)n\n",
            "주문완료. 총 가격은 23000원 입니다.\n"
          ]
        }
      ]
    },
    {
      "cell_type": "markdown",
      "source": [
        "[시나리오]\n",
        "1. 시작 인터페이스:\n",
        "- 시스템 시작 시, 사용자에게 주문 시작 여부를 질문 (y 또는 n으로 응답).\n",
        "- y 선택 시 주문 프로세스 시작.\n",
        "- n 선택 시 시스템 종료 및 \"감사합니다.\" 메시지 표시.\n",
        "2. 메뉴 표시:\n",
        "- 주문 프로세스 시작 시, 현재 메뉴 항목과 가격 표시.\n",
        "- 각 메뉴 옆에는 선택 번호 제공 (예: 1, 2, 3).\n",
        "- 세트 주문 시 추가 비용 안내 (3000원 추가).\n",
        "3. 주문 입력:\n",
        "- 메뉴 선택 입력 요청.\n",
        "- 메뉴 번호 입력 후 세트 주문 여부 질문 (y는 세트, n은 일반).\n",
        "- 주문 수량 질문 후, 주문 장바구니에 추가.\n",
        "- 주문이 추가된 후 해당 내용 표시.\n",
        "4. 주문 취소:\n",
        "- 잘못 주문했거나 주문 취소 시 0 입력.\n",
        "- 주문 취소 시 \"모든 주문이 취소되었습니다.\" 메시지 표시.\n",
        "5. 주문 요약 및 결제:\n",
        "- 주문 완료하려면 5 입력.\n",
        "- 주문 내역 및 총 금액 요약 표시.\n",
        "- 결제 금액 안내 및 결제 진행 요청.\n",
        "- 결제 완료 후 \"총 금액은 XXX원이 결제되었습니다. 감사합니다.\" 메시지 표시 및 주문 초기화.\n",
        "6. 반복 주문 가능:\n",
        "- 결제 후 추가 주문 진행 가능.\n",
        "- 언제든지 n 입력하여 주문 프로세스 종료 및 시스템 빠져나올 수 있음."
      ],
      "metadata": {
        "id": "IUU5W8vdnAxX"
      }
    },
    {
      "cell_type": "markdown",
      "source": [
        "[ 함수 구성 및 역할 ]\n",
        "1. display_menu()\n",
        "- 역할: 사용자에게 메뉴 선택지를 표시.\n",
        "- 세부 기능: 메뉴 아이템과 각각의 가격, 세트 주문 시 추가 비용을 표시.\n",
        "- 시나리오 연결: 사용자가 주문 프로세스를 시작할 때, 어떤 메뉴를 선택할 수 있는지 표시.\n",
        "2. display_order_summary()\n",
        "- 역할: 현재 주문 상태를 요약하여 표시.\n",
        "- 세부 기능: 선택된 메뉴 항목, 수량, 세트 여부, 각 항목의 가격과 총 주문 금액을 계산하여 표시.\n",
        "- 시나리오 연결: 주문을 마친 후, 사용자가 자신의 주문 내역을 확인하고 최종 결제하기 전에 전체 주문 내용 검토.\n",
        "3. add_order(menu_id, is_set)\n",
        "- 역할: 사용자의 메뉴 선택을 주문 목록에 추가.\n",
        "- 세부 기능: 메뉴 ID와 세트 여부에 따라 주문을 추가하고, 추가된 주문 정보를 사용자에게 전달.\n",
        "- 시나리오 연결: 사용자가 메뉴를 선택하고 주문 수량을 입력할 때, 해당 주문을 시스템에 추가 및 확인.\n",
        "4. process_order()\n",
        "- 역할: 주문 프로세스의 메인 컨트롤러.\n",
        "- 세부 기능: 사용자의 입력을 받아 메뉴 선택, 주문, 주문 취소, 결제를 처리하고, 프로세스의 시작과 종료를 관리.\n",
        "- 시나리오 연결: 전체 주문 프로세스를 실행하고, 사용자의 각 선택에 따라 적절한 행동을 지시하며, 필요에 따라 다른 함수들을 호출.\n",
        "\n",
        "[ 시나리오의 흐름과 함수 연결 ]\n",
        "1. 시작: 사용자가 주문을 시작하겠다고 응답하면 (y 입력), display_menu() 함수가 호출되어 사용 가능한 메뉴를 표시.\n",
        "2. 메뉴 선택: 사용자가 메뉴 번호를 입력하고, 세트 여부를 선택하면 add_order() 함수가 호출되어 주문을 추가.\n",
        "3. 주문 확인: 주문을 추가할 때마다 display_order_summary() 함수가 호출되어 현재까지의 주문 상태를 확인.\n",
        "4. 주문 수정 또는 결제: 사용자가 주문을 취소하거나 변경할 수 있고, 최종적으로 결제를 원할 때 process_order() 함수 내에서 결제를 진행.\n",
        "4. 종료: 주문 결제가 완료되면, 사용자가 추가 주문을 원하지 않을 경우 (n 입력), 시스템이 종료.\n",
        "\n",
        "이러한 구조화된 접근 방식은 코드의 각 부분이 시나리오의 어떤 단계와 연결되는지 명확하게 정의하며, 시스템의 유지 관리와 확장성을 개선."
      ],
      "metadata": {
        "id": "VDNamrc9p-69"
      }
    },
    {
      "cell_type": "markdown",
      "source": [
        "Task1_0503. 여러개의 음식을 동시에 주문할 수 있는 주문 시스템을 작성하세요.(구조 지향)"
      ],
      "metadata": {
        "id": "m8vZuZlUDOzQ"
      }
    },
    {
      "cell_type": "code",
      "execution_count": 34,
      "metadata": {
        "colab": {
          "base_uri": "https://localhost:8080/"
        },
        "id": "oD7zUZERDLjx",
        "outputId": "8f75962e-5aff-4f63-9c35-4ef27c4daa91"
      },
      "outputs": [
        {
          "output_type": "stream",
          "name": "stdout",
          "text": [
            "\n",
            "KITA 식당에 오신 것을 환영합니다\n",
            "\n",
            "========================================\n",
            "\n",
            "          - 메  뉴 -\n",
            "    1. 불고기 비빔밥 : 12,000원\n",
            "    2. 야채 비빔밥 : 8,000원\n",
            "    3. 전주 비빔밥 : 10,000원\n",
            "\n",
            "    세트 주문시 : 3,000원 추가\n",
            "    (세트는 밥과 반찬이 추가됩니다.)\n",
            "\n",
            "========================================\n",
            "비빔밥 메뉴를 선택해주세요 : 1, 2, 3 1\n",
            "세트 주문을 하시겠습니까? (Y|N) : Y\n",
            "추가로 주문하시겠습니까? Y|N 입력 : Y\n",
            "비빔밥 메뉴를 선택해주세요 : 1, 2, 3 1\n",
            "세트 주문을 하시겠습니까? (Y|N) : Y\n",
            "추가로 주문하시겠습니까? Y|N 입력 : Y\n",
            "비빔밥 메뉴를 선택해주세요 : 1, 2, 3 2\n",
            "세트 주문을 하시겠습니까? (Y|N) : Y\n",
            "추가로 주문하시겠습니까? Y|N 입력 : 3\n",
            "주문하신 메뉴는 불고기비빔밥 (세트) 2개, 총 가격은 9000원 입니다.\n",
            "주문하신 메뉴는 야채비빔밥 (세트) 1개, 총 가격은 9000원 입니다.\n",
            "결제하시겠습니까? (Y|N) : N\n",
            "결제가 취소되었습니다.\n",
            "추가로 주문하시겠습니까? Y|N 입력 : Y\n",
            "비빔밥 메뉴를 선택해주세요 : 1, 2, 3 3\n",
            "세트 주문을 하시겠습니까? (Y|N) : Y\n",
            "추가로 주문하시겠습니까? Y|N 입력 : N\n",
            "주문하신 메뉴는 불고기비빔밥 (세트) 2개, 총 가격은 12000원 입니다.\n",
            "주문하신 메뉴는 야채비빔밥 (세트) 1개, 총 가격은 12000원 입니다.\n",
            "주문하신 메뉴는 전주비빔밥 (세트) 1개, 총 가격은 12000원 입니다.\n",
            "결제하시겠습니까? (Y|N) : Y\n",
            "결제가 완료되었습니다.\n",
            "이용해주셔서 감사합니다.\n"
          ]
        }
      ],
      "source": [
        "# 코드를 작은 단위의 함수로 분할하여 구성\n",
        "# 입력과 출력이 명확하게 정의\n",
        "# if 조건문을 활용하여 프로그램 실행 경로 선택\n",
        "# while문 등으로 반복하여 함수 실행\n",
        "\n",
        "def show_menu():\n",
        "  menu = {1: {'name' : '불고기비빔밥', 'price' : 12000},\n",
        "           2: {'name' : '야채비빔밥', 'price' : 8000},\n",
        "           3: {'name' : '전주비빔밥', 'price': 10000}}\n",
        "\n",
        "  print(\"\\nKITA 식당에 오신 것을 환영합니다\")\n",
        "  print(\"\\n\" + \"=\" * 40)\n",
        "  print(\"\\n          - 메  뉴 -\")\n",
        "  print(\"    1. 불고기 비빔밥 : 12,000원\")\n",
        "  print(\"    2. 야채 비빔밥 : 8,000원\")\n",
        "  print(\"    3. 전주 비빔밥 : 10,000원\")\n",
        "  print(\"\\n    세트 주문시 : 3,000원 추가\")\n",
        "  print(\"    (세트는 밥과 반찬이 추가됩니다.)\")\n",
        "  print(\"\\n\" + \"=\" * 40)\n",
        "\n",
        "  return menu\n",
        "\n",
        "def order():\n",
        "  num = int(input('비빔밥 메뉴를 선택해주세요 : 1, 2, 3 '))\n",
        "  st  = next((True for i in [input('세트 주문을 하시겠습니까? (Y|N) : ').upper()] if i == 'Y'), False)\n",
        "\n",
        "  return num, st\n",
        "\n",
        "def get_order(menu, mn, st):\n",
        "  order_menu = {**menu.get(mn), 'st':st}\n",
        "\n",
        "  return order_menu\n",
        "\n",
        "def get_order_menus(order_menus):\n",
        "  from collections import Counter\n",
        "  global total_price\n",
        "  total_price = 0\n",
        "  menus = []\n",
        "\n",
        "  for i in order_menus:\n",
        "    if i['st']:\n",
        "      total_price += 3000\n",
        "      menus.append(i['name']+' (세트)')\n",
        "    else:\n",
        "      menus.append(i['name'])\n",
        "\n",
        "  items = Counter(menus).items()\n",
        "\n",
        "  return items, total_price\n",
        "\n",
        "def main():\n",
        "  order_menus = []\n",
        "  menu = show_menu()\n",
        "\n",
        "  while True:\n",
        "    mn, st = order()\n",
        "    order_menu = get_order(menu, mn, st)\n",
        "    order_menus.append(order_menu)\n",
        "\n",
        "    is_re_order = lambda : True if input('추가로 주문하시겠습니까? Y|N 입력 : ').upper() == 'Y' else False\n",
        "    if not is_re_order():\n",
        "      items, total_price = get_order_menus(order_menus)\n",
        "\n",
        "      for i in items:\n",
        "        print(f'주문하신 메뉴는 {i[0]} {i[1]}개', end = ', ')\n",
        "        print(f'총 가격은 {total_price}원 입니다.')\n",
        "\n",
        "      pay = lambda : True if input('결제하시겠습니까? (Y|N) : ').upper() == 'Y' else False\n",
        "      if pay():\n",
        "        print(f'결제가 완료되었습니다.')\n",
        "      else:\n",
        "        print(f'결제가 취소되었습니다.')\n",
        "        if is_re_order():\n",
        "          continue\n",
        "      print('이용해주셔서 감사합니다.')\n",
        "      break\n",
        "\n",
        "if __name__ == \"__main__\":\n",
        "  main()"
      ]
    },
    {
      "cell_type": "code",
      "source": [
        "# 메뉴 아이템과 가격 설정\n",
        "menu_items = {\n",
        "    '1': (\"불고기 비빔밥\", 12000),\n",
        "    '2': (\"야채 비빔밥\", 8000),\n",
        "    '3': (\"전주 비빔밥\", 10000)\n",
        "}\n",
        "set_price = 3000\n",
        "orders = {}\n",
        "price_total = 0\n",
        "\n",
        "def display_menu():\n",
        "    print(\"\\n♣♣♣ KITA 식당에 오신 것을 환영합니다 ♣♣♣\")\n",
        "    print(\"========================================\")\n",
        "    print(\"           - 메뉴 -\")\n",
        "    for key, (name, price) in menu_items.items():\n",
        "        print(f\"  {key}. {name} : {price}원\")\n",
        "    print(\"\\n  세트 주문시 : 3000원 추가 (세트는 밥과 반찬이 추가됩니다.)\")\n",
        "    print(\"========================================\")\n",
        "\n",
        "def display_order_summary():\n",
        "    global price_total  # 전역 변수 price_total 사용 선언\n",
        "    print(\"\\n■장바구니\")\n",
        "    price_total = 0\n",
        "    for key, (name, price) in menu_items.items():\n",
        "        count = orders.get((key, False), 0)\n",
        "        count_set = orders.get((key, True), 0)\n",
        "        print(f\" {name} {count}개: {count * price}원\")\n",
        "        print(f\" {name} 세트 {count_set}개: {count_set * (price + set_price)}원\")\n",
        "        price_total += (count * price) + (count_set * (price + set_price))\n",
        "    print(f\" 총 금액 {price_total}원\\n\")\n",
        "\n",
        "def add_order(menu_id, is_set):\n",
        "    item_name, item_price = menu_items[menu_id]\n",
        "    if is_set:\n",
        "        item_price += set_price\n",
        "    num = input(f\"\\n● {item_name}{' 세트' if is_set else ''} 몇 개 주문 하시겠습니까?\\n\")\n",
        "    if num.isdigit() and int(num) > 0:\n",
        "        orders[(menu_id, is_set)] = orders.get((menu_id, is_set), 0) + int(num) # orders는 {(menu_id, is_set):개수}\n",
        "        print(f\"\\n{item_name}{' 세트' if is_set else ''} {num}개가 장바구니에 담겼습니다.\\n\")\n",
        "    else:\n",
        "        print('★양수만 입력하세요.★')\n",
        "\n",
        "def process_order():\n",
        "    while True:\n",
        "        msg = input(\"● 주문을 하시겠습니까? (y 또는 n) >> \").strip().lower()\n",
        "        if msg == 'y':\n",
        "          while True:\n",
        "            display_menu()\n",
        "            display_order_summary()\n",
        "            choice = input(\"● 주문할 메뉴를 골라주세요. (불고기 비빔밥:1, 야채 비빔밥:2, 전주 비빔밥:3, \\\n",
        "            전체 취소:0, 결재:5) >> \").strip().lower()\n",
        "            if choice in menu_items:\n",
        "                set_choice = input(\"\\n●3000원을 추가해 세트로 주문하시겠습니까? \\\n",
        "                (일반주문시:n, 세트주문시:y)\\n\").strip().lower()\n",
        "                if set_choice in ['y', 'n']:\n",
        "                    add_order(choice, set_choice == 'y')\n",
        "                else:\n",
        "                    print('★올바른 선택을 입력하세요 (y 또는 n).★')\n",
        "            elif choice == '0':\n",
        "                orders.clear()\n",
        "                print('\\n모든 주문이 취소되었습니다.')\n",
        "            elif choice == '5':\n",
        "                if price_total > 0:\n",
        "                    print(f'\\n●주문하려면 결제해주세요. 결제금액은 {price_total}원 입니다.\\n')\n",
        "                    input(\"결제를 완료하려면 아무 키나 누르세요...\")  # 사용자가 결제를 확인할 수 있도록 입력 대기\n",
        "                    print(f\"\\n총 금액 {price_total}원이 결제 되었습니다. 감사합니다.\")\n",
        "                    orders.clear()\n",
        "                    break\n",
        "                else:\n",
        "                    print('★메뉴를 고르고 주문해주세요!★')\n",
        "            else:\n",
        "                print('★메뉴의 지정된 숫자로 입력하세요★')\n",
        "        else:\n",
        "          print('감사합니다.')\n",
        "          break\n",
        "if __name__ == \"__main__\":\n",
        "    process_order()"
      ],
      "metadata": {
        "id": "3WQhIX_w5WKR"
      },
      "execution_count": null,
      "outputs": []
    },
    {
      "cell_type": "markdown",
      "source": [
        "Task2_0503. 내장함수 5개를 활용해서 사용자 함수로 간단한 프로그램을 만드세요.\n",
        "\n",
        "[예시] 문서관리 프로그램\n",
        "\n",
        "len() - 문자열의 길이를 계산\n",
        "\n",
        "input() - 사용자로부터 입력을 받습니다.\n",
        "\n",
        "print() - 결과를 출력\n",
        "\n",
        "sum() - 주어진 조건에 따라 특정 개수를 계산\n",
        "\n",
        "Count(from collections) - 문자열의 빈도수 계산"
      ],
      "metadata": {
        "id": "9zJ9uirmT9QC"
      }
    },
    {
      "cell_type": "code",
      "source": [
        "# 회문 검사 프로그램\n",
        "\n",
        "string = 'level'\n",
        "#string = 'hello'\n",
        "#string = 'Nurses run'\n",
        "word = string.replace(' ', '').lower()\n",
        "\n",
        "l = len(word) // 2\n",
        "\n",
        "for i in range(l):\n",
        "  if word[i] != word[-1 - i]:\n",
        "    print(f'{string}은 회문이 아닙니다.')\n",
        "    break\n",
        "else:\n",
        "  print(f'{string}은 회문입니다')"
      ],
      "metadata": {
        "id": "mM-qwxvwT9pb",
        "colab": {
          "base_uri": "https://localhost:8080/"
        },
        "outputId": "d3b7b2fb-4086-4f69-fdc9-5546a71baefe"
      },
      "execution_count": null,
      "outputs": [
        {
          "output_type": "stream",
          "name": "stdout",
          "text": [
            "level은 회문입니다\n"
          ]
        }
      ]
    },
    {
      "cell_type": "markdown",
      "source": [
        "Task3_0503. 외장함수 3개 이상 활용해서 간단한 프로그램을 만드세요"
      ],
      "metadata": {
        "id": "i6sv5tzwVD3w"
      }
    },
    {
      "cell_type": "code",
      "source": [
        "#환율 변환 프로그램\n",
        "\n",
        "#필요한 외장 함수: requests, BeautifulSoup, re\n",
        "#프로그램 설명: 실시간 환율 정보를 가져와서 사용자가 입력한 금액을 다른 통화로 변환해주는 프로그램입니다.\n",
        "\n",
        "import requests\n",
        "from bs4 import BeautifulSoup\n",
        "import re\n",
        "\n",
        "def get_exchange_list(url):\n",
        "  response = requests.get(url)\n",
        "  soup = BeautifulSoup(response.text, 'html.parser')\n",
        "  tbody = soup.find_all('tbody')[0]\n",
        "  rows = [re.split('[\\n|\\t]', i.text.strip()) for i in tbody if i.text.strip() != '']\n",
        "  new_list = [[j.replace(',', '') for j in i if j != ''] for i in rows]\n",
        "\n",
        "  return new_list\n",
        "\n",
        "\n",
        "url = 'https://finance.naver.com/marketindex/exchangeList.naver'\n",
        "exchange_list = get_exchange_list(url)\n",
        "\n",
        "currency = input('변환할 통화를 입력해주세요(USD/EUR/JPY) : ')\n",
        "won      = float(input('변환할 금액을 입력해주세요(원)          : '))\n",
        "\n",
        "for i in exchange_list:\n",
        "  if currency in i[0]:\n",
        "    if '100' in i[0]:\n",
        "      print(f\"{i[0]} : {(won/float(i[1]))*100:.2f}\")\n",
        "    else:\n",
        "      print(f\"{i[0]} : {(won/float(i[1])):.2f}\")\n",
        "    break\n"
      ],
      "metadata": {
        "id": "u9nYcTynVE-q",
        "colab": {
          "base_uri": "https://localhost:8080/"
        },
        "outputId": "c0146d71-66c2-4588-a3bf-515c1fa1477f"
      },
      "execution_count": null,
      "outputs": [
        {
          "output_type": "stream",
          "name": "stdout",
          "text": [
            "변환할 통화를 입력해주세요(USD/EUR/JPY) : VND\n",
            "변환할 금액을 입력해주세요(원)          : 40000\n",
            "베트남 VND 100 : 747663.55\n"
          ]
        }
      ]
    },
    {
      "cell_type": "code",
      "source": [
        "#환율 변환 프로그램\n",
        "\n",
        "#필요한 외장 함수: requests, BeautifulSoup, re\n",
        "#프로그램 설명: 실시간 환율 정보를 가져와서 사용자가 입력한 금액을 다른 통화로 변환해주는 프로그램입니다.\n",
        "\n",
        "import requests\n",
        "from bs4 import BeautifulSoup\n",
        "import re\n",
        "\n",
        "url = 'https://finance.naver.com/marketindex/exchangeList.naver'\n",
        "response = requests.get(url)\n",
        "soup = BeautifulSoup(response.text, 'html.parser')\n",
        "\n",
        "countries = soup.select(\"td.tit>a\")\n",
        "currency = soup.select(\"td.sale\")\n",
        "\n",
        "my_list = []\n",
        "for i in range(len(countries)):\n",
        "  name = countries[i].text.replace('\\n','').replace('\\t', '')\n",
        "  exchange = currency[i].text.replace(',', '')\n",
        "  print(name, exchange)"
      ],
      "metadata": {
        "colab": {
          "base_uri": "https://localhost:8080/"
        },
        "id": "qr9D13jXLG2q",
        "outputId": "1b2bbc3f-2dac-4e58-9928-0ed22e0d67d4"
      },
      "execution_count": 98,
      "outputs": [
        {
          "output_type": "stream",
          "name": "stdout",
          "text": [
            "미국 USD 1358.40\n",
            "유럽연합 EUR 1461.43\n",
            "일본 JPY (100엔) 879.19\n",
            "중국 CNY 188.14\n",
            "홍콩 HKD 173.67\n",
            "대만 TWD 41.92\n",
            "영국 GBP 1703.50\n",
            "오만 OMR 3528.77\n",
            "캐나다 CAD 992.84\n",
            "스위스 CHF 1497.02\n",
            "스웨덴 SEK 125.40\n",
            "호주 AUD 896.54\n",
            "뉴질랜드 NZD 816.40\n",
            "체코 CZK 58.45\n",
            "칠레 CLP 1.46\n",
            "튀르키예 TRY 42.07\n",
            "몽골 MNT 0.40\n",
            "이스라엘 ILS 365.54\n",
            "덴마크 DKK 195.96\n",
            "노르웨이 NOK 125.07\n",
            "사우디아라비아 SAR 362.18\n",
            "쿠웨이트 KWD 4418.42\n",
            "바레인 BHD 3602.61\n",
            "아랍에미리트 AED 369.83\n",
            "요르단 JOD 1915.94\n",
            "이집트 EGP 28.33\n",
            "태국 THB 36.95\n",
            "싱가포르 SGD 1003.99\n",
            "말레이시아 MYR 286.43\n",
            "인도네시아 IDR 100 8.48\n",
            "카타르 QAR 372.57\n",
            "카자흐스탄 KZT 3.09\n",
            "브루나이 BND 1003.99\n",
            "인도 INR 16.27\n",
            "파키스탄 PKR 4.89\n",
            "방글라데시 BDT 12.38\n",
            "필리핀 PHP 23.74\n",
            "멕시코 MXN 80.46\n",
            "브라질 BRL 267.60\n",
            "베트남 VND 100 5.35\n",
            "남아프리카 공화국 ZAR 73.37\n",
            "러시아 RUB 14.87\n",
            "헝가리 HUF 3.76\n",
            "폴란드 PLN 339.06\n",
            "스리랑카 LKR 4.54\n",
            "알제리 DZD 10.10\n",
            "케냐 KES 10.16\n",
            "콜롬비아 COP 0.35\n",
            "탄자니아 TZS 0.52\n",
            "네팔 NPR 10.17\n",
            "루마니아 RON 293.98\n",
            "리비아 LYD 279.92\n",
            "마카오 MOP 168.54\n",
            "미얀마 MMK 0.65\n",
            "에티오피아 ETB 23.66\n",
            "우즈베키스탄 UZS 0.11\n",
            "캄보디아 KHR 0.33\n",
            "피지 FJD 605.03\n"
          ]
        }
      ]
    },
    {
      "cell_type": "markdown",
      "source": [
        "Task4_0503. 리스트를 작성하고 람다 함수를 이용해서 한번에 함수를 적용하여 결과값을 출력하세요."
      ],
      "metadata": {
        "id": "gFiigPZPVFWp"
      }
    },
    {
      "cell_type": "code",
      "source": [
        "from functools import reduce\n",
        "\n",
        "a = [8, 3, 2, 10, 15, 7, 1, 9, 0, 11]\n",
        "\n",
        "b = list(filter(lambda x : x> 5 and x <10, a))\n",
        "\n",
        "print(b)\n",
        "\n",
        "a = [1, 2, 3, 4, 5]\n",
        "\n",
        "#reduce(함수, 반복가능한 객체)\n",
        "\n",
        "b = reduce(lambda x, y: x+y, a)\n",
        "print(b)"
      ],
      "metadata": {
        "colab": {
          "base_uri": "https://localhost:8080/"
        },
        "id": "Xv9Y4i5bVFyb",
        "outputId": "5197b0fd-96ba-4846-bb2c-669dbd1761e6"
      },
      "execution_count": null,
      "outputs": [
        {
          "output_type": "stream",
          "name": "stdout",
          "text": [
            "[8, 7, 9]\n"
          ]
        }
      ]
    },
    {
      "cell_type": "markdown",
      "source": [
        "Task5_0503. 외부 라이브러리를 임포트해서 간단한 프로그램을 만드세요."
      ],
      "metadata": {
        "id": "1AeEa4cjVHVE"
      }
    },
    {
      "cell_type": "code",
      "source": [
        "!pip install qrcode"
      ],
      "metadata": {
        "id": "N68RpqHOr3a2"
      },
      "execution_count": null,
      "outputs": []
    },
    {
      "cell_type": "code",
      "source": [
        "import qrcode\n",
        "\n",
        "myQR = qrcode.make(\"https://naver.com\")\n",
        "\n",
        "myQR.save(\"temp01.png\")"
      ],
      "metadata": {
        "id": "mthCWgit7PsB"
      },
      "execution_count": null,
      "outputs": []
    },
    {
      "cell_type": "code",
      "source": [
        "!pip install pillow"
      ],
      "metadata": {
        "colab": {
          "base_uri": "https://localhost:8080/"
        },
        "id": "BJsI0KqY7SN6",
        "outputId": "ad333ff0-86c0-4596-9d00-71dd165880c3"
      },
      "execution_count": null,
      "outputs": [
        {
          "output_type": "stream",
          "name": "stdout",
          "text": [
            "Requirement already satisfied: pillow in /usr/local/lib/python3.10/dist-packages (9.4.0)\n"
          ]
        }
      ]
    },
    {
      "cell_type": "code",
      "source": [
        "from PIL import Image\n",
        "\n",
        "img = Image.open('temp01.png')\n",
        "print(img.filename)\n",
        "print(img.format)\n",
        "print(img.size)\n",
        "print(img.mode)\n",
        "img.show() # 안되넹.."
      ],
      "metadata": {
        "colab": {
          "base_uri": "https://localhost:8080/"
        },
        "id": "R4gxiGRO58WN",
        "outputId": "d7d5241c-fc31-4be9-9789-e716ac9004b9"
      },
      "execution_count": null,
      "outputs": [
        {
          "output_type": "stream",
          "name": "stdout",
          "text": [
            "temp01.png\n",
            "PNG\n",
            "(330, 330)\n",
            "1\n"
          ]
        }
      ]
    }
  ]
}