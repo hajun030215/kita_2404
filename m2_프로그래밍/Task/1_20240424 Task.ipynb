{
  "cells": [
    {
      "cell_type": "markdown",
      "source": [
        "Q1. 변수 x에 숫자 10을 할당하고, 변수 y에 문자열 \"hello\"를 할당한 뒤, 두 변수를 출력하세요."
      ],
      "metadata": {
        "id": "pM0D3MuAcbKi"
      },
      "id": "pM0D3MuAcbKi"
    },
    {
      "cell_type": "code",
      "source": [
        "x = 10\n",
        "y = \"hello\"\n",
        "print(x, y)"
      ],
      "metadata": {
        "id": "tgX8zUpkeJnB"
      },
      "id": "tgX8zUpkeJnB",
      "execution_count": null,
      "outputs": []
    },
    {
      "cell_type": "markdown",
      "source": [
        "Q2. 숫자가 양수인지 음수인지를 판별하는 조건문을 작성하세요."
      ],
      "metadata": {
        "id": "FpcciTxrcjCh"
      },
      "id": "FpcciTxrcjCh"
    },
    {
      "cell_type": "code",
      "source": [
        "num = int(input(\"숫자를 입력하세요 : \"))\n",
        "if num > 0:\n",
        "  print(\"양수입니다.\")\n",
        "elif num < 0:\n",
        "  print(\"음수입니다.\")\n",
        "else:\n",
        "  print(\"0입니다.\")"
      ],
      "metadata": {
        "id": "uFeA2YNpeKJY",
        "colab": {
          "base_uri": "https://localhost:8080/"
        },
        "outputId": "b4c2bb3c-4aa6-4927-89de-bd3dcbd6bd8b"
      },
      "id": "uFeA2YNpeKJY",
      "execution_count": 67,
      "outputs": [
        {
          "output_type": "stream",
          "name": "stdout",
          "text": [
            "숫자를 입력하세요 : 3\n",
            "양수입니다.\n"
          ]
        }
      ]
    },
    {
      "cell_type": "markdown",
      "source": [
        "Q3. 리스트 [1, 2, 3, 4, 5]의 각 요소를 출력하는 반복문을 작성하세요.\n"
      ],
      "metadata": {
        "id": "1GFgMet1cvyU"
      },
      "id": "1GFgMet1cvyU"
    },
    {
      "cell_type": "code",
      "source": [
        "num_list = [1, 2, 3, 4, 5]\n",
        "for i in range(len(num_list)):\n",
        "  print(num_list[i])"
      ],
      "metadata": {
        "id": "rPKSq830eKgu"
      },
      "id": "rPKSq830eKgu",
      "execution_count": null,
      "outputs": []
    },
    {
      "cell_type": "markdown",
      "source": [
        "Q4. 두 숫자를 입력받아 더하는 함수 add를 정의하고 호출하세요."
      ],
      "metadata": {
        "id": "CwYl86gvc6-G"
      },
      "id": "CwYl86gvc6-G"
    },
    {
      "cell_type": "code",
      "source": [
        "def add(num1, num2):\n",
        "  result = num1 + num2\n",
        "  return result\n",
        "\n",
        "print(add(1, 2))"
      ],
      "metadata": {
        "id": "5UVoXCY8eGew"
      },
      "id": "5UVoXCY8eGew",
      "execution_count": null,
      "outputs": []
    },
    {
      "cell_type": "markdown",
      "source": [
        "Q5. 문자열 \"hello\"에서 처음 세 문자를 슬라이싱하여 출력하세요."
      ],
      "metadata": {
        "id": "NeWAyeEsdFO-"
      },
      "id": "NeWAyeEsdFO-"
    },
    {
      "cell_type": "code",
      "source": [
        "list_hello = list(\"hello\")\n",
        "\n",
        "for i in range(3):\n",
        "  print(list_hello[i])\n",
        "\n",
        "s = \"hello\"\n",
        "print(s[:3])"
      ],
      "metadata": {
        "id": "8wNBnI92eLZn",
        "colab": {
          "base_uri": "https://localhost:8080/"
        },
        "outputId": "8a93f3eb-8dae-483b-a68a-4aa8344d9a9e"
      },
      "id": "8wNBnI92eLZn",
      "execution_count": 62,
      "outputs": [
        {
          "output_type": "stream",
          "name": "stdout",
          "text": [
            "h\n",
            "e\n",
            "l\n",
            "hel\n"
          ]
        }
      ]
    },
    {
      "cell_type": "markdown",
      "source": [
        "Q6. 주어진 정수 리스트에서 가장 자주 등장하는 숫자(최빈값)를 찾아 반환하는 함수를 작성하세요. 만약 최빈값이 여러 개라면, 그 중 가장 작은 숫자를 반환하세요.\n",
        "\n",
        "numbers = [1, 3, 2, 3, 4, 1, 3, 3]"
      ],
      "metadata": {
        "id": "4ZK2lZ8UdTRV"
      },
      "id": "4ZK2lZ8UdTRV"
    },
    {
      "cell_type": "code",
      "source": [
        "def find_mode(numbers):\n",
        "  from collections import Counter\n",
        "  count = Counter(numbers)\n",
        "  max_freq = max(count.values())\n",
        "  frequent_numbers = [num for num, freq in count.items() if freq == max_freq]\n",
        "  return min(frequent_numbers)\n",
        "\n",
        "numbers = [1, 3, 2, 3, 4, 1, 3, 3, 1, 1, 1, 1]\n",
        "print(find_mode(numbers))"
      ],
      "metadata": {
        "id": "6YnaPjx2eMLg",
        "colab": {
          "base_uri": "https://localhost:8080/"
        },
        "outputId": "b7cb1d90-f71d-428c-a433-dba1bb8c2cd8"
      },
      "id": "6YnaPjx2eMLg",
      "execution_count": 65,
      "outputs": [
        {
          "output_type": "stream",
          "name": "stdout",
          "text": [
            "1\n"
          ]
        }
      ]
    },
    {
      "cell_type": "markdown",
      "source": [
        "Q7. 딕셔너리 person에서 키 \"name\"의 값을 출력하세요."
      ],
      "metadata": {
        "id": "hM7_9KsMdaKj"
      },
      "id": "hM7_9KsMdaKj"
    },
    {
      "cell_type": "code",
      "source": [
        "person = {\"name\" : \"김한결\"}\n",
        "\n",
        "print(person[\"name\"])"
      ],
      "metadata": {
        "id": "7BuRcX4ieMqB"
      },
      "id": "7BuRcX4ieMqB",
      "execution_count": null,
      "outputs": []
    },
    {
      "cell_type": "markdown",
      "source": [
        "Q8. 이름과 나이를 입력받아 \"Hello, [name]. You are [age] years old.\" 형식으로 출력하세요."
      ],
      "metadata": {
        "id": "CWt0HW7Jdg7f"
      },
      "id": "CWt0HW7Jdg7f"
    },
    {
      "cell_type": "code",
      "source": [
        "name = input(\"이름 : \")\n",
        "age = int(input(\"나이 : \"))\n",
        "\n",
        "print(\"Hello, [{}]. You are [{}] years old.\".format(name, age))\n",
        "print(f\"Hello, {name}. You are {age} years old.\")"
      ],
      "metadata": {
        "id": "mzr1N3AoeNKa",
        "colab": {
          "base_uri": "https://localhost:8080/"
        },
        "outputId": "568a309e-7dab-45e3-c7f2-4b2523b07741"
      },
      "id": "mzr1N3AoeNKa",
      "execution_count": 66,
      "outputs": [
        {
          "output_type": "stream",
          "name": "stdout",
          "text": [
            "이름 : 김한결\n",
            "나이 : 30\n",
            "Hello, [김한결]. You are [30] years old.\n",
            "Hello, 김한결. You are 30 years old.\n"
          ]
        }
      ]
    },
    {
      "cell_type": "markdown",
      "source": [
        "Q9. 0부터 9까지 숫자 중에서 홀수만 포함하는 리스트를 리스트 컴프리헨션을 사용하여 생성하세요."
      ],
      "metadata": {
        "id": "02KDybr3dqtW"
      },
      "id": "02KDybr3dqtW"
    },
    {
      "cell_type": "code",
      "source": [
        "num_list = []\n",
        "\n",
        "for i in range(10):\n",
        "  if i % 2:\n",
        "    num_list.append(i)\n",
        "\n",
        "print(num_list)\n",
        "\n",
        "odds = [x for x in range(10) if x % 2 != 0]\n",
        "print(odds)\n",
        "# 0을 생략해도 나오더라"
      ],
      "metadata": {
        "id": "XymAHmcKeNqc",
        "colab": {
          "base_uri": "https://localhost:8080/"
        },
        "outputId": "48a4e3f3-f98a-4b2a-a507-2d0dfe2bb674"
      },
      "id": "XymAHmcKeNqc",
      "execution_count": 70,
      "outputs": [
        {
          "output_type": "stream",
          "name": "stdout",
          "text": [
            "[1, 3, 5, 7, 9]\n",
            "[1, 3, 5, 7, 9]\n"
          ]
        }
      ]
    },
    {
      "cell_type": "markdown",
      "source": [
        "Q10. 숫자를 0으로 나누려 할 때 발생하는 예외를 처리하는 코드를 작성하세요."
      ],
      "metadata": {
        "id": "KKQXaGGBdyuO"
      },
      "id": "KKQXaGGBdyuO"
    },
    {
      "cell_type": "code",
      "source": [
        "num = int(input(\"숫자를 입력하세요 : \"))\n",
        "try:\n",
        "  print(num/0)\n",
        "except ZeroDivisionError:\n",
        "  print(\"숫자를 0으로 나눌 수 없어요\")"
      ],
      "metadata": {
        "id": "AMBKeJNkeN_A",
        "colab": {
          "base_uri": "https://localhost:8080/"
        },
        "outputId": "de890714-c0de-4691-c7d1-aa08f1903ad2"
      },
      "id": "AMBKeJNkeN_A",
      "execution_count": 71,
      "outputs": [
        {
          "output_type": "stream",
          "name": "stdout",
          "text": [
            "숫자를 입력하세요 : 0\n",
            "숫자를 0으로 나눌 수 없어요\n"
          ]
        }
      ]
    }
  ],
  "metadata": {
    "kernelspec": {
      "display_name": "Python 3 (ipykernel)",
      "language": "python",
      "name": "python3"
    },
    "language_info": {
      "codemirror_mode": {
        "name": "ipython",
        "version": 3
      },
      "file_extension": ".py",
      "mimetype": "text/x-python",
      "name": "python",
      "nbconvert_exporter": "python",
      "pygments_lexer": "ipython3",
      "version": "3.10.13"
    },
    "colab": {
      "provenance": []
    }
  },
  "nbformat": 4,
  "nbformat_minor": 5
}
