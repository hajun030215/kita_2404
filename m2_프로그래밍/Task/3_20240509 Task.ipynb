{
  "nbformat": 4,
  "nbformat_minor": 0,
  "metadata": {
    "colab": {
      "provenance": []
    },
    "kernelspec": {
      "name": "python3",
      "display_name": "Python 3"
    },
    "language_info": {
      "name": "python"
    }
  },
  "cells": [
    {
      "cell_type": "markdown",
      "source": [
        "Q. 주어진 텍스트에서 단어 빈도를 아래와 같이 출력하세요.\n",
        "\n",
        " ======================================\\\n",
        "가장 많이 나온 단어 5개를 뽑아 봤습니다.\\\n",
        "[the] -> [8]회 나타남\\\n",
        "[a  ] -> [6]회 나타남\\\n",
        "[on ] -> [5]회 나타남\\\n",
        "[of ] -> [4]회 나타남\\\n",
        "[to ] -> [4]회 나타남"
      ],
      "metadata": {
        "id": "EJOZQyr6Zdry"
      }
    },
    {
      "cell_type": "code",
      "source": [
        "with open('mydata.txt','w') as f: # with : close를 따로 안해줘도 된다.\n",
        "    f.write(\n",
        "'''\n",
        "a lot of things occur each day\n",
        "we've got to live with on our way\n",
        "there's so much misery on the screen\n",
        "with commercials in between\n",
        "\n",
        "and the russians won't be so late\n",
        "uncle sam don't want to wait\n",
        "no matter if you're black or white\n",
        "you never ever had a right\n",
        "\n",
        "and look up to the eternal skies\n",
        "see warfare even there\n",
        "what once has been a paradise\n",
        "now destruction and despair\n",
        "\n",
        "in other worlds the children die\n",
        "lacking food ill from a fly\n",
        "oppressed by troops to tame their land\n",
        "it's all the same again\n",
        "\n",
        "\n",
        "if any man is free on earth\n",
        "then tormentors steal his birth\n",
        "they slam gun butts in his face\n",
        "and leave his woman choked in mace\n",
        "\n",
        "so stand up for our human rights\n",
        "push back this pest of hate\n",
        "raise you voice pass on the light\n",
        "unite! it's not too late\n",
        "\n",
        "how many tears flow away\n",
        "to become a sea of fears\n",
        "how many hearts are torn apart\n",
        "till another torment starts\n",
        "\n",
        "but before the world\n",
        "turns into a sun\n",
        "all cruelty and violence\n",
        "on earth will be dead and gone\n",
        "\n",
        "so stand up for our human rights\n",
        "push back this pest of hate\n",
        "raise you voice pass on the light\n",
        "unite! it's not too late\n",
        "''')"
      ],
      "metadata": {
        "id": "GP8MFNZCen97"
      },
      "execution_count": 2,
      "outputs": []
    },
    {
      "cell_type": "code",
      "source": [
        "import re\n",
        "from collections import Counter\n",
        "\n",
        "with open('mydata.txt', 'r') as f:\n",
        "  data = f.read()\n",
        "\n",
        "words_list = data\n",
        "\n",
        "# re.sub() 사용하여 모든 구두점 제거\n",
        "words_list = re.sub(r'[,.!\\n\\']', '', words_list).lower().split()\n",
        "\n",
        "counts = Counter(words_list).most_common(5)\n",
        "\n",
        "print('=' * 38)\n",
        "print('가장 많이 나온 단어 5개를 뽑아 봤습니다.')\n",
        "for word, count in counts:\n",
        "  print(f'[{word:3}] -> [{count}]회 나타남')"
      ],
      "metadata": {
        "colab": {
          "base_uri": "https://localhost:8080/"
        },
        "id": "-1s8vConuVEm",
        "outputId": "c8ad80b7-953c-467c-916f-acca7f65cefe"
      },
      "execution_count": 26,
      "outputs": [
        {
          "output_type": "stream",
          "name": "stdout",
          "text": [
            "======================================\n",
            "가장 많이 나온 단어 5개를 뽑아 봤습니다.\n",
            "[the] -> [8]회 나타남\n",
            "[a  ] -> [6]회 나타남\n",
            "[on ] -> [5]회 나타남\n",
            "[of ] -> [4]회 나타남\n",
            "[to ] -> [4]회 나타남\n"
          ]
        }
      ]
    },
    {
      "cell_type": "code",
      "execution_count": 16,
      "metadata": {
        "colab": {
          "base_uri": "https://localhost:8080/"
        },
        "id": "o6jaEvH-ZaW_",
        "outputId": "6d224b24-5598-4a11-f8cb-90d63b479900"
      },
      "outputs": [
        {
          "output_type": "stream",
          "name": "stdout",
          "text": [
            "======================================\n",
            "가장 많이 나온 알파벳 5개를 뽑아 봤습니다.\n",
            "[e] -> [97]회 나타남\n",
            "[t] -> [85]회 나타남\n",
            "[a] -> [78]회 나타남\n",
            "[o] -> [73]회 나타남\n",
            "[n] -> [60]회 나타남\n"
          ]
        }
      ],
      "source": [
        "import re\n",
        "from collections import Counter\n",
        "\n",
        "def get_text_freq(filename):\n",
        "  with open(filename, 'r') as f:\n",
        "    return f.read()\n",
        "\n",
        "def get_words_by_split(words_list):\n",
        "  words_list = re.sub(r'[ ,.!\\n\\']', '', words_list)\n",
        "  return words_list\n",
        "\n",
        "def get_most_common_list(words):\n",
        "  return Counter(words).most_common(5)\n",
        "\n",
        "def main():\n",
        "  filename = 'mydata.txt'\n",
        "  words_list = get_text_freq(filename)\n",
        "  words = get_words_by_split(words_list)\n",
        "  most_common_list = get_most_common_list(words)\n",
        "\n",
        "  print('=' * 38)\n",
        "  print('가장 많이 나온 알파벳 5개를 뽑아 봤습니다.')\n",
        "  for alph, count in most_common_list:\n",
        "    print(f'[{alph}] -> [{count}]회 나타남')\n",
        "\n",
        "if __name__ == '__main__':\n",
        "  main()"
      ]
    },
    {
      "cell_type": "markdown",
      "source": [
        "Task2_0509.  람다함수와 적합한 내장함수를 사용하여 아래와 같이 출력하세요.\n",
        "\n",
        "[1,2,3,4,5] -> [1,4,9,16,25]\\\n",
        "[1,2,3,4,5] -> [1,2]"
      ],
      "metadata": {
        "id": "VGNpi9CMZf6Q"
      }
    },
    {
      "cell_type": "code",
      "source": [
        "myList = [1,2,3,4,5]\n",
        "\n",
        "print(list(map(lambda x:x*x, myList)))\n",
        "print(list(filter(lambda x: x <= 2, myList)))"
      ],
      "metadata": {
        "colab": {
          "base_uri": "https://localhost:8080/"
        },
        "id": "LmdkOc4BZg5U",
        "outputId": "42afd616-63aa-4cc3-ebce-74b08453f237"
      },
      "execution_count": 36,
      "outputs": [
        {
          "output_type": "stream",
          "name": "stdout",
          "text": [
            "[1, 4, 9, 16, 25]\n",
            "[1, 2]\n"
          ]
        }
      ]
    },
    {
      "cell_type": "markdown",
      "source": [
        "Task3_0509. [1,-3,2,0,-5,6] 에서 양수만 필터링해서 출력하세요(내장함수, 사용자함수 각각 이용)"
      ],
      "metadata": {
        "id": "t2qezM3vZfwD"
      }
    },
    {
      "cell_type": "code",
      "source": [
        "myList = [1,-3,2,0,-5,6]\n",
        "\n",
        "def get_pos_number(myList):\n",
        "  pos = [i for i in myList if i >= 0]\n",
        "  return pos\n",
        "\n",
        "print(get_pos_number(myList))\n",
        "\n",
        "print(list(filter(lambda x: x >= 0, myList))) # filter함수 내 lambda 함수 사용에 if는 사용하지 않는다."
      ],
      "metadata": {
        "colab": {
          "base_uri": "https://localhost:8080/"
        },
        "id": "PwVvlLviZhVJ",
        "outputId": "5cca48e2-5242-4a72-c074-db348996d804"
      },
      "execution_count": 33,
      "outputs": [
        {
          "output_type": "stream",
          "name": "stdout",
          "text": [
            "[1, 2, 0, 6]\n",
            "[1, 2, 0, 6]\n"
          ]
        }
      ]
    },
    {
      "cell_type": "markdown",
      "source": [
        "Task4_0509. **args를 이용하여 아래와 같이 출력할 수 있는 사용자 함수 func2를 작성하세요.\n",
        "\n",
        "Width: 100\\\n",
        "Height: 200\\\n",
        "Other arguments: {'color': 'red', 'thickness': 5}\n",
        "\n",
        "Width: 100\\\n",
        "Height: 200\\\n",
        "Other arguments: {'color': 'red', 'thickness': 5, 'type': 'large'}"
      ],
      "metadata": {
        "id": "UO99n851ZflY"
      }
    },
    {
      "cell_type": "code",
      "source": [
        "def func2(width, height, **args):\n",
        "  print(f'Width: {width}')\n",
        "  print(f'Height: {height}')\n",
        "  print(f'Other arguments: {args}')\n",
        "\n",
        "func2(100, 200, color='red', thickness=5)\n",
        "func2(100, 200, color='red', thickness=5, type='large')"
      ],
      "metadata": {
        "colab": {
          "base_uri": "https://localhost:8080/"
        },
        "id": "K-gGv5AhZh0p",
        "outputId": "cad18146-0f54-4ee5-e384-4d39e8c84e6f"
      },
      "execution_count": 40,
      "outputs": [
        {
          "output_type": "stream",
          "name": "stdout",
          "text": [
            "Width: 100\n",
            "Height: 200\n",
            "Other arguments: {'color': 'red', 'thickness': 5}\n",
            "Width: 100\n",
            "Height: 200\n",
            "Other arguments: {'color': 'red', 'thickness': 5, 'type': 'large'}\n"
          ]
        }
      ]
    },
    {
      "cell_type": "markdown",
      "source": [
        "Task5_0509. 아래와 같은 결과를 얻을 수 있도록 사용자 함수 func3를 작성하세요.\n",
        "\n",
        "Width: 100, Height: 200, Color: blue, Thickness: 1\\\n",
        "Width: 100, Height: 200, Color: red, Thickness: 15"
      ],
      "metadata": {
        "id": "RfTTanYLZfad"
      }
    },
    {
      "cell_type": "code",
      "source": [
        "def func3(**args):\n",
        "  print(args) # 1번째 방법\n",
        "\n",
        "  # 2번째 방법\n",
        "  myList = []\n",
        "  for i in args.items():\n",
        "    myList.append(':'.join(map(str, i)))\n",
        "  print(','.join(myList))\n",
        "\n",
        "func3(Width=100, Height=200, Color='blue', Hhickness=1)\n",
        "func3(Width=100, Height=200, Color='red', Hhickness=15)"
      ],
      "metadata": {
        "colab": {
          "base_uri": "https://localhost:8080/"
        },
        "id": "MjizsbCpZiVf",
        "outputId": "d888f5f7-c45d-4da3-b0a2-829e4ad0d487"
      },
      "execution_count": 71,
      "outputs": [
        {
          "output_type": "stream",
          "name": "stdout",
          "text": [
            "{'Width': 100, 'Height': 200, 'Color': 'blue', 'Hhickness': 1}\n",
            "Width:100,Height:200,Color:blue,Hhickness:1\n",
            "{'Width': 100, 'Height': 200, 'Color': 'red', 'Hhickness': 15}\n",
            "Width:100,Height:200,Color:red,Hhickness:15\n"
          ]
        }
      ]
    },
    {
      "cell_type": "markdown",
      "source": [
        "Task6_0509. 입력으로 들어오는 모든 수의 평균 값을 계산해 주는 함수를 작성한 후 1,2,3을 입력한 결과를 출력하세요."
      ],
      "metadata": {
        "id": "TkkYuNNkZfPh"
      }
    },
    {
      "cell_type": "code",
      "source": [
        "def get_avg(*args):\n",
        "  return sum(args) / len(args)\n",
        "\n",
        "avg = get_avg(1,2,3)\n",
        "print(avg)"
      ],
      "metadata": {
        "colab": {
          "base_uri": "https://localhost:8080/"
        },
        "id": "UbK7nKFOZixZ",
        "outputId": "3e2eb60e-4ca2-4d18-d13e-b381902eca88"
      },
      "execution_count": 3,
      "outputs": [
        {
          "output_type": "stream",
          "name": "stdout",
          "text": [
            "2.0\n"
          ]
        }
      ]
    },
    {
      "cell_type": "markdown",
      "source": [
        "Task7_0509. 원의 면적과 둘레의 길이를 구하는 사용자 함수를 작성하여 반지름이 5와 10일때 면적과 둘레를 구하세요(반올림:round())"
      ],
      "metadata": {
        "id": "PJJWgrqNZfEm"
      }
    },
    {
      "cell_type": "code",
      "source": [
        "def get_area_len_circle(radius):\n",
        "  area   = radius * radius * 3.14\n",
        "  length = radius * 2 * 3.14\n",
        "\n",
        "  print(f'반지름 : {radius}, 면적 : {round(area)}, 둘레 : {round(length)}')\n",
        "\n",
        "get_area_len_circle(5)\n",
        "get_area_len_circle(10)"
      ],
      "metadata": {
        "colab": {
          "base_uri": "https://localhost:8080/"
        },
        "id": "g7R97GtPZjNe",
        "outputId": "920f6dd6-330f-4b03-e4a9-f03352fbef93"
      },
      "execution_count": 60,
      "outputs": [
        {
          "output_type": "stream",
          "name": "stdout",
          "text": [
            "반지름 : 5, 면적 : 78, 둘레 : 31\n",
            "반지름 : 10, 면적 : 314, 둘레 : 63\n"
          ]
        }
      ]
    },
    {
      "cell_type": "markdown",
      "source": [
        "Task8_0509. 게시물의 총 건수와 한 페이지에 보여 줄 게시물 수를 입력시 총 페이지 수를 출력하는 프로그램을 작성하세요."
      ],
      "metadata": {
        "id": "eARJjmIzZe5b"
      }
    },
    {
      "cell_type": "code",
      "source": [
        "import math\n",
        "\n",
        "def get_all_pages(posts, postByPage):\n",
        "  total = math.ceil(posts/postByPage)\n",
        "  print(f'총 페이지 수는 {total}개 입니다.')\n",
        "\n",
        "posts = 100\n",
        "postByPage = 6\n",
        "get_all_pages(posts, postByPage)"
      ],
      "metadata": {
        "colab": {
          "base_uri": "https://localhost:8080/"
        },
        "id": "3B5U3qdSZjo4",
        "outputId": "e73fe47e-f897-4d26-90ce-ca138bb9bef9"
      },
      "execution_count": 67,
      "outputs": [
        {
          "output_type": "stream",
          "name": "stdout",
          "text": [
            "총 페이지 수는 17개 입니다.\n"
          ]
        }
      ]
    },
    {
      "cell_type": "markdown",
      "source": [
        "Task9_0509. 위의 문제를 *args를 사용한 사용자 함수 bignum을 작성하여 bignum(20,1,30)과 bignum(20,10,50,70, 100)의 결과를 출력하세요."
      ],
      "metadata": {
        "id": "M22YF3U1Zes7"
      }
    },
    {
      "cell_type": "code",
      "source": [
        "def bignum(*args):\n",
        "  print(max(args))\n",
        "\n",
        "  bignum = 0\n",
        "  for i in args:\n",
        "    if i > bignum:\n",
        "      bignum = i\n",
        "  print(bignum)\n",
        "\n",
        "bignum(20,1,30)\n",
        "bignum(20,10,50,70,100)"
      ],
      "metadata": {
        "colab": {
          "base_uri": "https://localhost:8080/"
        },
        "id": "QS0g_fNhZkAK",
        "outputId": "a3320ac0-2536-49dc-94d5-0a1e7034c94f"
      },
      "execution_count": 77,
      "outputs": [
        {
          "output_type": "stream",
          "name": "stdout",
          "text": [
            "30\n",
            "30\n",
            "100\n",
            "100\n"
          ]
        }
      ]
    },
    {
      "cell_type": "markdown",
      "source": [
        "Task10_0509. 연산자 계산을 연산자를 choice로 변수를 *args로 사용한 사용자 함수 cal을 이용하여 다음을 수행하세요.\n",
        "\n",
        "cal('*',1,2,3,4,5)\n",
        "\n",
        "cal('+',1,2,3,4,5,6,7)"
      ],
      "metadata": {
        "id": "LyOvtwimZega"
      }
    },
    {
      "cell_type": "code",
      "source": [
        "import math\n",
        "\n",
        "def cal(choice, *args):\n",
        "  operator = {'+':lambda:sum(args), '*':lambda:math.prod(args)}\n",
        "  if choice not in operator:\n",
        "    return\n",
        "  print(f'결과값 : {operator[choice]()}')\n",
        "\n",
        "cal('*',1,2,3,4,5)\n",
        "\n",
        "cal('+',1,2,3,4,5,6,7)"
      ],
      "metadata": {
        "colab": {
          "base_uri": "https://localhost:8080/"
        },
        "id": "XGeprMfnZkf2",
        "outputId": "0935c6d5-e063-433b-8189-d2913d7dbd04"
      },
      "execution_count": 97,
      "outputs": [
        {
          "output_type": "stream",
          "name": "stdout",
          "text": [
            "결과값 : 120\n",
            "결과값 : 28\n"
          ]
        }
      ]
    }
  ]
}