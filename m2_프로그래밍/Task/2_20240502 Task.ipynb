{
  "nbformat": 4,
  "nbformat_minor": 0,
  "metadata": {
    "colab": {
      "provenance": []
    },
    "kernelspec": {
      "name": "python3",
      "display_name": "Python 3"
    },
    "language_info": {
      "name": "python"
    }
  },
  "cells": [
    {
      "cell_type": "markdown",
      "source": [
        "Task1_0502. 짝수와 짝수를 입력하면 곱한 값을 출력하고 홀수와 홀수를 입력하면 덧셈 값을 출력하고 그외는 다시 입력하라는 메시지를 출력하세요."
      ],
      "metadata": {
        "id": "Z4r8uRvd2FjL"
      }
    },
    {
      "cell_type": "code",
      "execution_count": null,
      "metadata": {
        "id": "FZaFZv2PSQog"
      },
      "outputs": [],
      "source": [
        "num1 = int(input(\"숫자를 입력해주세요\"))\n",
        "num2 = int(input(\"숫자를 입력해주세요\"))\n",
        "\n",
        "if num1 % 2 == 0 and num2 % 2 == 0:\n",
        "  print(f'둘다 짝수이므로 {num1} x {num2} = {num1*num2}입니다.')\n",
        "elif num1 % 2 == 1 and num2 % 2 == 1:\n",
        "  print(f'둘다 홀수이므로 {num1} + {num2} = {num1+num2}입니다.')\n",
        "else:\n",
        "  print('다시 입력해주세요')"
      ]
    },
    {
      "cell_type": "markdown",
      "source": [
        "Task2_0502. 현재 계절 구분 프로그램\n",
        "- 시나리오 : 3 ~ 5월은 봄, 6 ~ 8월은 여름, 9 ~ 11월은 가을, 12 ~ 2월은 겨울로 구분. 지금 계절을 알려주는 프로그램\n",
        "- 각 계절별 출력 멘트는 계절에 맞게 창작\n",
        "- if 조건문으로 datetime 모듈을 import해서 datetime.now 함수를 사용해서 작성"
      ],
      "metadata": {
        "id": "2T1uXuiv3zdC"
      }
    },
    {
      "cell_type": "code",
      "source": [
        "import pytz\n",
        "import datetime\n",
        "\n",
        "local = pytz.timezone('Asia/Seoul')\n",
        "month = datetime.datetime.now(local).month # 5월\n",
        "\n",
        "if month >= 3 and month <= 5:\n",
        "  print('현재 계절은 봄입니다.')\n",
        "elif month >= 6 and month <= 8:\n",
        "  print('현재 계절은 여름입니다.')\n",
        "elif month >= 9 and month <= 11:\n",
        "  print('현재 계절은 가을입니다.')\n",
        "elif month == 12 or month <= 2:\n",
        "  print('현재 계절은 겨울입니다.')"
      ],
      "metadata": {
        "colab": {
          "base_uri": "https://localhost:8080/"
        },
        "id": "BBeU_whT30s5",
        "outputId": "557df502-c91f-4776-f549-c1e7eef10e90"
      },
      "execution_count": null,
      "outputs": [
        {
          "output_type": "stream",
          "name": "stdout",
          "text": [
            "현재 계절은 봄입니다.\n"
          ]
        }
      ]
    },
    {
      "cell_type": "code",
      "source": [
        "import datetime\n",
        "\n",
        "month = datetime.datetime.now().month # 5월\n",
        "\n",
        "sp = [3, 4, 5]\n",
        "su = [6, 7, 8]\n",
        "au = [9, 10, 11]\n",
        "wi = [12, 1, 2]\n",
        "\n",
        "if month in sp:\n",
        "  print('현재 계절은 봄입니다.')\n",
        "elif month in su:\n",
        "  print('현재 계절은 여름입니다.')\n",
        "elif month in au:\n",
        "  print('현재 계절은 가을입니다,')\n",
        "else:\n",
        "  print('현재 계절은 겨울입니다.')"
      ],
      "metadata": {
        "colab": {
          "base_uri": "https://localhost:8080/"
        },
        "id": "pdTvfOkiyxEJ",
        "outputId": "3dc73365-3958-404f-dca3-544a59d842bf"
      },
      "execution_count": null,
      "outputs": [
        {
          "output_type": "stream",
          "name": "stdout",
          "text": [
            "현재 계절은 봄입니다.\n"
          ]
        }
      ]
    },
    {
      "cell_type": "markdown",
      "source": [
        "Task3_0502. 1부터 99까지 아래와 같이 2개의 수를 곱해서 가장 큰 수를 구하세요.\n",
        "\n",
        "`1*99, 2*98 ...99*1`"
      ],
      "metadata": {
        "id": "-dR3bs5G5ne-"
      }
    },
    {
      "cell_type": "code",
      "source": [
        "numbers = list(range(1, 100))\n",
        "\n",
        "max_num = 0\n",
        "l1 = []\n",
        "for i in range(50):\n",
        "  num = (i+1) * numbers[-(i+1)]\n",
        "  if num > max_num:\n",
        "    max_num = num\n",
        "    l1 = [i+1, numbers[-(i+1)]]\n",
        "\n",
        "print(f'가장 큰 숫자 조합 : {l1[0]} X {l1[1]} = {max_num}')"
      ],
      "metadata": {
        "colab": {
          "base_uri": "https://localhost:8080/"
        },
        "id": "Qa6Nfdk-5n29",
        "outputId": "c5b40838-917f-46b3-acca-76e44eecce39"
      },
      "execution_count": null,
      "outputs": [
        {
          "output_type": "stream",
          "name": "stdout",
          "text": [
            "가장 큰 숫자 조합 : 50 X 50 = 2500\n"
          ]
        }
      ]
    },
    {
      "cell_type": "code",
      "source": [
        "numbers = list(range(1, 100))\n",
        "\n",
        "mul_list = []\n",
        "for i in range(50):\n",
        "  mul_list.append((i+1) * numbers[-(i+1)])\n",
        "\n",
        "print(max(mul_list))"
      ],
      "metadata": {
        "colab": {
          "base_uri": "https://localhost:8080/"
        },
        "id": "8W3j58C6KgS_",
        "outputId": "51c53b68-c6fa-46e7-9295-a9988756ad02"
      },
      "execution_count": null,
      "outputs": [
        {
          "output_type": "stream",
          "name": "stdout",
          "text": [
            "2500\n"
          ]
        }
      ]
    },
    {
      "cell_type": "code",
      "source": [
        "max_val = 0\n",
        "for i in range(1, 100):\n",
        "  if max_val >= (i*(100-i)):\n",
        "    continue\n",
        "  else:\n",
        "    max_val = i*(100-i)\n",
        "print(max_val)"
      ],
      "metadata": {
        "colab": {
          "base_uri": "https://localhost:8080/"
        },
        "id": "M7zbI_Dx1GLK",
        "outputId": "4b3c1842-a613-4886-e4b9-4e02ee46c6ce"
      },
      "execution_count": null,
      "outputs": [
        {
          "output_type": "stream",
          "name": "stdout",
          "text": [
            "2500\n"
          ]
        }
      ]
    },
    {
      "cell_type": "code",
      "source": [
        "n = 1\n",
        "result = 0\n",
        "while n <= 100:\n",
        "  a = n*(100-n)\n",
        "  if a > result:\n",
        "    result = a\n",
        "    n += 1\n",
        "  else:\n",
        "    n += 1\n",
        "    continue\n",
        "print(result)"
      ],
      "metadata": {
        "id": "ynold1LM2URz"
      },
      "execution_count": null,
      "outputs": []
    },
    {
      "cell_type": "code",
      "source": [
        "def findBiggestOne():\n",
        "  biggestNum = 0\n",
        "  for i, j in zip(range(1,100), range(99, 0, -1)):\n",
        "    if i * j > biggestNum:\n",
        "      biggestNum = i * j\n",
        "    return biggestNum\n",
        "\n",
        "print(findBiggestOne())"
      ],
      "metadata": {
        "id": "D8abhdvx4jJ7"
      },
      "execution_count": null,
      "outputs": []
    },
    {
      "cell_type": "code",
      "source": [
        "list1 = [str(i) for i in range(99,0,-1)]\n",
        "list2 = list(range(99,0,-1))\n",
        "print(list1)\n",
        "print(list2)\n",
        "\n",
        "print(type(list1[0]))"
      ],
      "metadata": {
        "colab": {
          "base_uri": "https://localhost:8080/"
        },
        "id": "nmDUSQ4z-chm",
        "outputId": "ad75e3ba-1eea-4c16-e283-4c90d4353c18"
      },
      "execution_count": null,
      "outputs": [
        {
          "output_type": "stream",
          "name": "stdout",
          "text": [
            "['99', '98', '97', '96', '95', '94', '93', '92', '91', '90', '89', '88', '87', '86', '85', '84', '83', '82', '81', '80', '79', '78', '77', '76', '75', '74', '73', '72', '71', '70', '69', '68', '67', '66', '65', '64', '63', '62', '61', '60', '59', '58', '57', '56', '55', '54', '53', '52', '51', '50', '49', '48', '47', '46', '45', '44', '43', '42', '41', '40', '39', '38', '37', '36', '35', '34', '33', '32', '31', '30', '29', '28', '27', '26', '25', '24', '23', '22', '21', '20', '19', '18', '17', '16', '15', '14', '13', '12', '11', '10', '9', '8', '7', '6', '5', '4', '3', '2', '1']\n",
            "[99, 98, 97, 96, 95, 94, 93, 92, 91, 90, 89, 88, 87, 86, 85, 84, 83, 82, 81, 80, 79, 78, 77, 76, 75, 74, 73, 72, 71, 70, 69, 68, 67, 66, 65, 64, 63, 62, 61, 60, 59, 58, 57, 56, 55, 54, 53, 52, 51, 50, 49, 48, 47, 46, 45, 44, 43, 42, 41, 40, 39, 38, 37, 36, 35, 34, 33, 32, 31, 30, 29, 28, 27, 26, 25, 24, 23, 22, 21, 20, 19, 18, 17, 16, 15, 14, 13, 12, 11, 10, 9, 8, 7, 6, 5, 4, 3, 2, 1]\n",
            "<class 'str'>\n"
          ]
        }
      ]
    },
    {
      "cell_type": "markdown",
      "source": [
        "Task4_0502. [    ]을 채워서 아래의 출력과 같이 출력하세요.\n",
        "\n",
        "numbers = [1,2,3,4,5,6,7,8,9]\n",
        "output = [[], [], []]\n",
        "\n",
        " [[1,4,7],[2,5,8],[3,6,9]]"
      ],
      "metadata": {
        "id": "I4gE8JW75pgn"
      }
    },
    {
      "cell_type": "code",
      "source": [
        "numbers = [1,2,3,4,5,6,7,8,9]\n",
        "output = [numbers[i::3] for i in range(3)]\n",
        "print(output)"
      ],
      "metadata": {
        "colab": {
          "base_uri": "https://localhost:8080/"
        },
        "id": "7Lp57RhS5p8C",
        "outputId": "0ef21621-59e6-4559-82fd-367bff2ee6cd"
      },
      "execution_count": null,
      "outputs": [
        {
          "output_type": "stream",
          "name": "stdout",
          "text": [
            "[[1, 4, 7], [2, 5, 8], [3, 6, 9]]\n"
          ]
        }
      ]
    },
    {
      "cell_type": "markdown",
      "source": [
        "Task5_0502. 주어진 리스트에서 중복된 요소를 제거하고, 남은 요소만을 포함하는 새 리스트를 반환합니다. 오름차순 유지\n",
        "\n",
        "input_list = [1, 2, 2, 3, 4, 4, 4, 5, 6, 7, 7]"
      ],
      "metadata": {
        "id": "Phx8naUb5zz4"
      }
    },
    {
      "cell_type": "code",
      "source": [
        "input_list = [1, 2, 2, 3, 7, 4, 4, 5, 6, 7, 7]\n",
        "#list(set(input_list)) # 순서 유지 안됨\n",
        "\n",
        "for i in input_list:\n",
        "  print(f'숫자: {i}')\n",
        "  if input_list.count(i) > 1:\n",
        "    print(f'카운트 : {input_list.count(i)}')\n",
        "    input_list.remove(i)\n",
        "print(input_list)\n",
        "# 얘도 순서 유지안됨"
      ],
      "metadata": {
        "colab": {
          "base_uri": "https://localhost:8080/"
        },
        "id": "ZC20J-Zu50PM",
        "outputId": "deebd2d2-bc0f-4922-fb9e-358b43328cfd"
      },
      "execution_count": null,
      "outputs": [
        {
          "output_type": "stream",
          "name": "stdout",
          "text": [
            "7\n",
            "카운트 : 3\n",
            "7\n",
            "카운트 : 2\n",
            "6\n",
            "5\n",
            "4\n",
            "카운트 : 2\n",
            "4\n",
            "7\n",
            "3\n",
            "2\n",
            "카운트 : 2\n",
            "2\n",
            "1\n",
            "[1, 2, 3, 4, 5, 6, 7]\n"
          ]
        }
      ]
    },
    {
      "cell_type": "code",
      "source": [
        "input_list = [1, 2, 6, 2, 3, 7, 4, 4, 5, 6, 7, 7]\n",
        "\n",
        "output_list = []\n",
        "for i in input_list:\n",
        "  if i not in output_list:\n",
        "    output_list.append(i)\n",
        "\n",
        "print(output_list)"
      ],
      "metadata": {
        "colab": {
          "base_uri": "https://localhost:8080/"
        },
        "id": "aXYLOF-DCApH",
        "outputId": "e419e0d5-0874-4c5b-a9d5-7c407345ca89"
      },
      "execution_count": null,
      "outputs": [
        {
          "output_type": "stream",
          "name": "stdout",
          "text": [
            "[1, 2, 6, 3, 7, 4, 5]\n"
          ]
        }
      ]
    },
    {
      "cell_type": "code",
      "source": [
        "input_list = [1, 2, 6, 2, 3, 7, 4, 4, 5, 6, 7, 7]\n",
        "\n",
        "# 위의 코드는 가능한데 아래 코드는 안되는 이유:\n",
        "# 위의 코드는 if문을 충족할시 바로 append되는 코드, 아래 코드는 모든 for문을 실행 후 한꺼번에 output_list로 담는 코드\n",
        "output_list = []\n",
        "output_list = [i for i in input_list if i not in output_list]\n",
        "\n",
        "print(output_list)"
      ],
      "metadata": {
        "colab": {
          "base_uri": "https://localhost:8080/"
        },
        "id": "wSQgUzuDEwK1",
        "outputId": "d6350d8a-b4e1-4197-add4-96243675942e"
      },
      "execution_count": null,
      "outputs": [
        {
          "output_type": "stream",
          "name": "stdout",
          "text": [
            "[1, 2, 6, 2, 3, 7, 4, 4, 5, 6, 7, 7]\n"
          ]
        }
      ]
    },
    {
      "cell_type": "markdown",
      "source": [
        "Task6_0502. 주어진 문자열을 모스코드로 변환하는 함수를 작성하세요.\n",
        "공백은 무시하고 알파벳만 변환하세요.\n",
        "input_text = \"Hello World\""
      ],
      "metadata": {
        "id": "rzCJYQjm50q_"
      }
    },
    {
      "cell_type": "code",
      "source": [
        "import re\n",
        "\n",
        "morse_code = {\n",
        "        'A': '.-', 'B': '-...', 'C': '-.-.', 'D': '-..', 'E': '.', 'F': '..-.',\n",
        "        'G': '--.', 'H': '....', 'I': '..', 'J': '.---', 'K': '-.-', 'L': '.-..',\n",
        "        'M': '--', 'N': '-.', 'O': '---', 'P': '.--.', 'Q': '--.-', 'R': '.-.',\n",
        "        'S': '...', 'T': '-', 'U': '..-', 'V': '...-', 'W': '.--', 'X': '-..-',\n",
        "        'Y': '-.--', 'Z': '--..'\n",
        "    }\n",
        "\n",
        "input_text = 'Hello World'\n",
        "\n",
        "hw = list(re.findall('[\\w]', input_text))\n",
        "\n",
        "morse_text = ''\n",
        "for i in hw:\n",
        "  i = i.upper()\n",
        "\n",
        "  morse_text += morse_code[i]\n",
        "\n",
        "print(morse_text)"
      ],
      "metadata": {
        "colab": {
          "base_uri": "https://localhost:8080/"
        },
        "id": "sY1eJCDt51Ad",
        "outputId": "05eee462-64a0-4536-a4fb-66d320471f9c"
      },
      "execution_count": null,
      "outputs": [
        {
          "output_type": "stream",
          "name": "stdout",
          "text": [
            "......-...-..---.-----.-..-..-..\n"
          ]
        }
      ]
    },
    {
      "cell_type": "markdown",
      "source": [
        "Task7_0502. 주어진 비대칭 m×n 매트릭스(2차원 리스트)에서, 모든 대각선 상의 합을 계산하는 함수를 작성하세요. 결과는 각 대각선의 합을 리스트로 반환해야 합니다."
      ],
      "metadata": {
        "id": "Bs1Lbn0Y6irK"
      }
    },
    {
      "cell_type": "code",
      "source": [
        "#[1, 6, 15, 24, 20, 12]\n",
        "#[3, 8, 15, 24, 18, 10]\n",
        "\n",
        "# [0][0]\n",
        "# [0][1] [1][0]\n",
        "# [0][2] [1][1] [2][0]\n",
        "# [1][2] [2][1] [3][0]\n",
        "# [2][2] [3][1]\n",
        "# [3][2]\n",
        "\n",
        "# [3][0]\n",
        "# [3][1] [2][0]\n",
        "# [3][2] [2][1] [1][0]\n",
        "# [2][2] [1][1] [0][0]\n",
        "# [1][2] [0][1]\n",
        "# [0][2]\n",
        "\n",
        "# 0-1-2-1-2-3-2-3-4-3-4-5\n",
        "\n",
        "\n",
        "def get_sum_diagonal(arr):\n",
        "  left_arr = []\n",
        "  right_arr = []\n",
        "\n",
        "  max_diagonals = len(arr) + len(arr[0]) - 1\n",
        "  left_arr = [0] * max_diagonals\n",
        "  right_arr = [0] * max_diagonals\n",
        "\n",
        "  for i1 in range(len(arr)):\n",
        "    for i2 in range(len(arr[i1])):\n",
        "      left_arr[i1+i2] += arr[i1][i2] # 1부터 오른쪽\n",
        "      right_arr[i1+i2] += arr[i1][-i2+2] # 3부터 왼쪽\n",
        "  return [left_arr, right_arr]\n",
        "\n",
        "#arr = [\n",
        "#    [ 1,  2,  3],\n",
        "#    [ 4,  5,  6],\n",
        "#    [ 7,  8,  9],\n",
        "#    [10, 11, 12]\n",
        "#]\n",
        "\n",
        "arr = [\n",
        "    [ 1,  2,  3, 4],\n",
        "    [ 5,  6,  7, 8],\n",
        "    [ 9, 10, 11, 12],\n",
        "    [13, 14, 15, 16]\n",
        "]\n",
        "result = get_sum_diagonal(arr)\n",
        "result"
      ],
      "metadata": {
        "colab": {
          "base_uri": "https://localhost:8080/"
        },
        "id": "vugQGYlY6jCN",
        "outputId": "96ba482b-80c8-42ad-fd6a-6154a34a8713"
      },
      "execution_count": 27,
      "outputs": [
        {
          "output_type": "execute_result",
          "data": {
            "text/plain": [
              "[[1, 7, 18, 34, 33, 27, 16], [3, 9, 18, 34, 31, 25, 16]]"
            ]
          },
          "metadata": {},
          "execution_count": 27
        }
      ]
    },
    {
      "cell_type": "markdown",
      "source": [
        "- 대각선 수 구하기 :\n",
        "\n",
        "4행 3열에서 첫 번째 행은 3개의 대각선에 각각 기여합니다.\n",
        "첫번재 열은 4개의 대각선에 각각 기여합니다. 하지만 가장 왼쪽 상단의 원소가 두 방향에서 모두 카운트되므로, 총 대각선 수는 3+4-1 = 6개가 됩니다.\n",
        "\n",
        "- 대각선 합 구하기\n",
        "a b c\n",
        "d e f\n",
        "g h i\n",
        "j k l\n",
        "\n",
        "대각선 0: a\n",
        "대각선 1: b + d\n",
        "대각선 2: c + e + g\n",
        "대각선 3: f + h + j\n",
        "대각선 4: i + k\n",
        "대각선 5: l"
      ],
      "metadata": {
        "id": "9KYB604VHBsb"
      }
    },
    {
      "cell_type": "code",
      "source": [
        "input_matrix = [\n",
        "    [1, 2, 3],\n",
        "    [4, 5, 6],\n",
        "    [7, 8, 9],\n",
        "    [10, 11, 12]\n",
        "]\n",
        "print(len(input_matrix))\n",
        "print(len(input_matrix[0]))"
      ],
      "metadata": {
        "id": "egCbtEmwMvT8"
      },
      "execution_count": null,
      "outputs": []
    },
    {
      "cell_type": "code",
      "source": [
        "input_matrix = [\n",
        "    [ 1,  2,  3],\n",
        "    [ 4,  5,  6],\n",
        "    [ 7,  8,  9],\n",
        "    [10, 11, 12]\n",
        "]\n",
        "\n",
        "for i in range(len(input_matrix)):\n",
        "  for j in range(len(input_matrix[0])):\n",
        "    print('*', end=' ')\n",
        "  print()"
      ],
      "metadata": {
        "colab": {
          "base_uri": "https://localhost:8080/"
        },
        "id": "8t3bhe8pG_1M",
        "outputId": "96d82dc9-71f1-478a-edbc-f2213df42e89"
      },
      "execution_count": null,
      "outputs": [
        {
          "output_type": "stream",
          "name": "stdout",
          "text": [
            "* * * \n",
            "* * * \n",
            "* * * \n",
            "* * * \n"
          ]
        }
      ]
    },
    {
      "cell_type": "code",
      "source": [
        "def diagonal_sums(matrix):\n",
        "    if not matrix:\n",
        "        return []\n",
        "    m, n = len(matrix), len(matrix[0])\n",
        "    # 최대 가능한 대각선 수는 m + n - 1\n",
        "    print(m,n)\n",
        "    max_diagonals = m + n - 1\n",
        "    result = [0] * max_diagonals\n",
        "\n",
        "    # 모든 원소를 순회하면서 해당 대각선 인덱스에 값을 더함\n",
        "    for i in range(m):\n",
        "        for j in range(n):\n",
        "            # 대각선 인덱스는 행 인덱스와 열 인덱스의 차의 절댓값\n",
        "            diagonal_index = i + j\n",
        "            result[diagonal_index] += matrix[i][j]\n",
        "\n",
        "    return result\n",
        "\n",
        "# 매트릭스 입력\n",
        "input_matrix = [\n",
        "    [1, 2, 3],\n",
        "    [4, 5, 6],\n",
        "    [7, 8, 9],\n",
        "    [10, 11, 12]\n",
        "]\n",
        "\n",
        "# 대각선 합 결과 출력\n",
        "print(diagonal_sums(input_matrix))"
      ],
      "metadata": {
        "colab": {
          "base_uri": "https://localhost:8080/"
        },
        "id": "nT6XaV0xHm0s",
        "outputId": "7d9bf0bd-8a7d-420f-c0c9-a2bfea1fd384"
      },
      "execution_count": 24,
      "outputs": [
        {
          "output_type": "stream",
          "name": "stdout",
          "text": [
            "4 3\n",
            "[1, 6, 15, 24, 20, 12]\n"
          ]
        }
      ]
    }
  ]
}