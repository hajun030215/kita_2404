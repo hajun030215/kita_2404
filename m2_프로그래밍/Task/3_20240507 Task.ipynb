{
  "nbformat": 4,
  "nbformat_minor": 0,
  "metadata": {
    "colab": {
      "provenance": []
    },
    "kernelspec": {
      "name": "python3",
      "display_name": "Python 3"
    },
    "language_info": {
      "name": "python"
    }
  },
  "cells": [
    {
      "cell_type": "markdown",
      "source": [
        "Task1_0507. 튜플 형태인 strings를 다양한 문자가 포함된 순서로 정렬하세요.\n",
        "strings = ('a', 'ca', 'bar', 'aaaa', 'ababa')"
      ],
      "metadata": {
        "id": "D4mt4tIxsmr0"
      }
    },
    {
      "cell_type": "code",
      "execution_count": 2,
      "metadata": {
        "colab": {
          "base_uri": "https://localhost:8080/"
        },
        "id": "Yc08PDEZsmHS",
        "outputId": "f204d29b-607e-4ff5-a171-bd61d33c5c26"
      },
      "outputs": [
        {
          "output_type": "stream",
          "name": "stdout",
          "text": [
            "['bar', 'ababa', 'ca', 'aaaa', 'a']\n",
            "['bar', 'ababa', 'ca', 'aaaa', 'a']\n",
            "['bar', 'ababa', 'ca', 'aaaa', 'a']\n"
          ]
        }
      ],
      "source": [
        "strings = ('a', 'ca', 'bar', 'aaaa', 'ababa')\n",
        "\n",
        "# set으로 중복 제거 후 len으로 길이를 찾아서 len(x)를 기준으로 정렬\n",
        "\n",
        "\n",
        "#[['a'], ['c', 'a'], ['r', 'b', 'a'], ['a'], ['b', 'a']]\n",
        "\n",
        "sorted_list1 = sorted(strings, key=lambda x: (len(set(x)), len(x)), reverse=True)\n",
        "sorted_list2 = sorted(strings, key=lambda x: (-len(set(x)), -len(x))) # 키값에 -를 붙이면 reverse=True와 같은 의미를 가진다.\n",
        "\n",
        "#f = sorted(e, key = lambda x : (x[0], -x[1]))\n",
        "print(sorted_list1)\n",
        "print(sorted_list2)\n",
        "\n",
        "strings = list(strings)\n",
        "strings.sort(key=lambda x: (len(set(x)), len(x)), reverse=True)\n",
        "print(strings)"
      ]
    },
    {
      "cell_type": "markdown",
      "source": [
        "Task2_0507. a,b 변수와 연산자를 입력하면 사칙연산을 수행하는 코드를 작성하세요.(eval 사용하는 경우와 안하는 경우)"
      ],
      "metadata": {
        "id": "y0xZLOECsnjs"
      }
    },
    {
      "cell_type": "code",
      "source": [
        "num = '5*5'\n",
        "maths = ['+', '-', '/', '*']\n",
        "math = {'+':lambda a,b:a+b, '-':lambda a,b:a-b, '/':lambda a,b:a/b, '*':lambda a,b:a*b,}\n",
        "\n",
        "num_list = list(num)\n",
        "for i in num_list:\n",
        "  if i in maths:\n",
        "    num = num.split(i)\n",
        "    print(math[i](int(num[0]), int(num[1])))"
      ],
      "metadata": {
        "colab": {
          "base_uri": "https://localhost:8080/"
        },
        "id": "UwKO9EuDnEsF",
        "outputId": "581800a0-7899-4ae1-b2cd-6769eb922cd8"
      },
      "execution_count": 4,
      "outputs": [
        {
          "output_type": "stream",
          "name": "stdout",
          "text": [
            "25\n"
          ]
        }
      ]
    },
    {
      "cell_type": "code",
      "source": [
        "a = 10\n",
        "b = 20\n",
        "\n",
        "res = eval(input('수식을 입력하세요 : ex(a+b | a-b)\\n'))\n",
        "print(res)\n",
        "\n",
        "s = 'a+b'\n",
        "\n",
        "if s[1] == '+':\n",
        "  print(f'{a} {s[1]} {b} = {a + b}')\n",
        "elif s[1] == '-':\n",
        "  print(f'{a} {s[1]} {b} = {a - b}')\n",
        "elif s[1] == '/':\n",
        "  print(f'{a} {s[1]} {b} = {a / b}')\n",
        "elif s[1] == '//':\n",
        "  print(f'{a} {s[1]} {b} = {a // b}')\n",
        "elif s[1] == '*':\n",
        "  print(f'{a} {s[1]} {b} = {a * b}')\n",
        "else:\n",
        "  print('사칙연산을 입력해주세요')\n",
        "\n",
        "\n"
      ],
      "metadata": {
        "colab": {
          "base_uri": "https://localhost:8080/"
        },
        "id": "AfZYTgxRwgsP",
        "outputId": "904a29d1-1b60-4f31-d852-0615b04c0a4b"
      },
      "execution_count": 38,
      "outputs": [
        {
          "output_type": "stream",
          "name": "stdout",
          "text": [
            "10 + 20 = 30\n"
          ]
        }
      ]
    },
    {
      "cell_type": "code",
      "source": [
        "string = '5+5'\n",
        "print(eval(string))\n",
        "\n",
        "expression = input(\"계산할 수식을 입력하세요 : \")\n",
        "result = eval(expression)\n",
        "print(f\"계산 결과 : {result}\")\n",
        "\n",
        "data = [1, 2, 3, 4, 5]\n",
        "operation = input('실행할 리스트 연산을 입력하세요: ') # 예) data.append(6), data.pop()\n",
        "result = eval(operation)\n",
        "print(data)"
      ],
      "metadata": {
        "colab": {
          "base_uri": "https://localhost:8080/"
        },
        "id": "Y7IEzE0qsrI2",
        "outputId": "488325c5-9255-41ee-d223-ae94b254fa01"
      },
      "execution_count": 11,
      "outputs": [
        {
          "output_type": "stream",
          "name": "stdout",
          "text": [
            "연산을 입력하세요 : 5*5\n",
            "25\n",
            "10\n"
          ]
        }
      ]
    },
    {
      "cell_type": "markdown",
      "source": [
        "Task3_0507. list1에 대해서 아래와 같이 출력하는 코드를 작성하세요.\n",
        "\n",
        "인사평가 1번째 해당자는 김부장입니다. 회의실A로 오시기 바랍니다.\\\n",
        "인사평가 2번째 해당자는 이차장입니다. 회의실A로 오시기 바랍니다.\\\n",
        "인사평가 3번째 해당자는 김과장입니다. 회의실A로 오시기 바랍니다.\\\n",
        "인사평가 4번째 해당자는 이대리입니다. 회의실A로 오시기 바랍니다.\\\n",
        "인사평가 5번째 해당자는 오사원입니다. 회의실A로 오시기 바랍니다.\\\n",
        "인사평가 6번째 해당자는 김인턴입니다. 회의실A로 오시기 바랍니다."
      ],
      "metadata": {
        "id": "wz50pEPpzZHX"
      }
    },
    {
      "cell_type": "code",
      "source": [
        "list1 = ['김부장', '이차장', '김과장', '이대리', '오사원', '김인턴']\n",
        "\n",
        "for i, j in enumerate(list1):\n",
        "  print(f'인사평가 {i+1}번째 해당자는 {j}입니다. 회의실 A로 오시기 바랍니다.')"
      ],
      "metadata": {
        "colab": {
          "base_uri": "https://localhost:8080/"
        },
        "id": "eLXTtrXMzfLa",
        "outputId": "96d8c799-7540-4487-8ac2-5ff8a0267d3e"
      },
      "execution_count": 21,
      "outputs": [
        {
          "output_type": "stream",
          "name": "stdout",
          "text": [
            "인사평가 0번째 해당자는 김부장입니다. 회의실 A로 오시기 바랍니다.\n",
            "인사평가 1번째 해당자는 이차장입니다. 회의실 A로 오시기 바랍니다.\n",
            "인사평가 2번째 해당자는 김과장입니다. 회의실 A로 오시기 바랍니다.\n",
            "인사평가 3번째 해당자는 이대리입니다. 회의실 A로 오시기 바랍니다.\n",
            "인사평가 4번째 해당자는 오사원입니다. 회의실 A로 오시기 바랍니다.\n",
            "인사평가 5번째 해당자는 김인턴입니다. 회의실 A로 오시기 바랍니다.\n"
          ]
        }
      ]
    },
    {
      "cell_type": "markdown",
      "source": [
        "Task4_0507. 주어진 문자열 리스트의 요소들을 대문자로 변환하세요.\n",
        "words = [\"hello\", \"world\", \"python\", \"map\"]"
      ],
      "metadata": {
        "id": "GzcwF9rbzwgv"
      }
    },
    {
      "cell_type": "code",
      "source": [
        "words = [\"hello\", \"world\", \"python\", \"map\"]\n",
        "\n",
        "upper_words = [i.upper() for i in words]\n",
        "print(upper_words)"
      ],
      "metadata": {
        "colab": {
          "base_uri": "https://localhost:8080/"
        },
        "id": "zDJoX9BxzxJ5",
        "outputId": "3a1f59d7-d567-40c3-d276-87e21ed0869a"
      },
      "execution_count": 24,
      "outputs": [
        {
          "output_type": "stream",
          "name": "stdout",
          "text": [
            "['HELLO', 'WORLD', 'PYTHON', 'MAP']\n"
          ]
        }
      ]
    },
    {
      "cell_type": "code",
      "source": [
        "print(type(str))\n",
        "# class 'type'\n",
        "\n",
        "print(type(str.upper))\n",
        "# class 'method_descriptor'"
      ],
      "metadata": {
        "id": "LoC-3rHUwc7o"
      },
      "execution_count": null,
      "outputs": []
    },
    {
      "cell_type": "markdown",
      "source": [
        "Task5_0507. 주어진 리스트에서 'p'로 시작하는 단어만 필터링하세요.\n",
        "\n",
        "words = [\"python\", \"is\", \"powerful\", \"programming\", \"language\", \"pandas\"]"
      ],
      "metadata": {
        "id": "HvQG01Ugz84u"
      }
    },
    {
      "cell_type": "code",
      "source": [
        "words = [\"python\", \"is\", \"powerful\", \"programming\", \"language\", \"pandas\"]\n",
        "\n",
        "filter_words = list(filter(lambda x: x[0] == 'p', words))\n",
        "filter_words = list(filter(lambda x: x.startswith('p'), words))\n",
        "print(filter_words)\n",
        "\n",
        "upper_words = list(map(str.upper, words))\n",
        "print(upper_words)\n",
        "\n",
        "print([i for i in words if i.startswith('p')])"
      ],
      "metadata": {
        "colab": {
          "base_uri": "https://localhost:8080/"
        },
        "id": "E6GP9AHr0FQi",
        "outputId": "8ca2b7f9-8c10-4380-8752-ddd42355411a"
      },
      "execution_count": 9,
      "outputs": [
        {
          "output_type": "stream",
          "name": "stdout",
          "text": [
            "['python', 'powerful', 'programming', 'pandas']\n",
            "['PYTHON', 'IS', 'POWERFUL', 'PROGRAMMING', 'LANGUAGE', 'PANDAS']\n",
            "['python', 'powerful', 'programming', 'pandas']\n"
          ]
        }
      ]
    },
    {
      "cell_type": "markdown",
      "source": [
        "Task6_0507. 내장함수를 이용해서 list = [0,1,2,3,4,5,6]에서 2를 삭제 후 출력하세요.(2가지 방법)"
      ],
      "metadata": {
        "id": "1ooWb1r80MMg"
      }
    },
    {
      "cell_type": "code",
      "source": [
        "list1 = [0,1,2,3,4,5,6]\n",
        "list1.pop(2) # 인덱스\n",
        "\n",
        "list1 = [0,1,2,3,4,5,6]\n",
        "list1.remove(2) # 값\n",
        "print(list1)\n",
        "\n",
        "# del은 키워드"
      ],
      "metadata": {
        "colab": {
          "base_uri": "https://localhost:8080/"
        },
        "id": "PrI14TNy0NhD",
        "outputId": "8f34e009-b481-4b7a-b82e-6ffa1283ae63"
      },
      "execution_count": 29,
      "outputs": [
        {
          "output_type": "stream",
          "name": "stdout",
          "text": [
            "[0, 1, 3, 4, 5, 6]\n"
          ]
        }
      ]
    },
    {
      "cell_type": "markdown",
      "source": [
        "Task7_0507. 내장함수를 이용하여 동일한 개수로 이루어진 자료형을 화살표 좌측에서 우측으로 변환하세요.\n",
        "\n",
        "[1,2,3],[4,5,6] -> [(1,4),(2,5),(3,6)]\\\n",
        "[1,2,3],[4,5,6] [7,8,9] -> [(1,4,7),(2,5,8),(3,6,9)]\\\n",
        "('abc','def') -> [('a','d'),('b','e'),('c','f')]"
      ],
      "metadata": {
        "id": "1ieIfZiE0lOv"
      }
    },
    {
      "cell_type": "code",
      "source": [
        "#[1,2,3],[4,5,6] -> [(1,4),(2,5),(3,6)]\\\n",
        "#[1,2,3],[4,5,6] [7,8,9] -> [(1,4,7),(2,5,8),(3,6,9)]\\\n",
        "#('abc','def') -> [('a','d'),('b','e'),('c','f')]\n",
        "a = [1,2,3]\n",
        "b = [4,5,6]\n",
        "c = [7,8,9]\n",
        "d = ('abc','def')\n",
        "\n",
        "print(list(zip(a, b)))\n",
        "print(list(zip(a, b, c)))\n",
        "print(list(zip(d[0], d[1])))"
      ],
      "metadata": {
        "colab": {
          "base_uri": "https://localhost:8080/"
        },
        "id": "KPgqSWdy9zqY",
        "outputId": "7c714b70-d62d-4500-b9a8-267ca2d00126"
      },
      "execution_count": 10,
      "outputs": [
        {
          "output_type": "stream",
          "name": "stdout",
          "text": [
            "[(1, 4), (2, 5), (3, 6)]\n",
            "[(1, 4, 7), (2, 5, 8), (3, 6, 9)]\n",
            "[('a', 'd'), ('b', 'e'), ('c', 'f')]\n"
          ]
        }
      ]
    },
    {
      "cell_type": "markdown",
      "source": [
        "Task8_0507. url에서 호스트 도메인(news.naver.com)을 추출하여 출력하세요.\n",
        "\n",
        "url = 'http://news.naver.com/main/read.nhn?mode=LSD&mid=shm&sid1=105&oid=028&aid=0002334601'"
      ],
      "metadata": {
        "id": "BBExLtit2EOS"
      }
    },
    {
      "cell_type": "code",
      "source": [
        "url = 'http://news.naver.com/main/read.nhn?mode=LSD&mid=shm&sid1=105&oid=028&aid=0002334601'\n",
        "\n",
        "import re\n",
        "\n",
        "# [^//][^/]에서 []와 그 안의 ^는 //를 매칭하여 찾지만 그건 빼고 반환하라는 뜻\n",
        "m = re.search('[^//](\\w+.\\w+.\\w+)[^/]', url)\n",
        "print(m.group())\n",
        "\n",
        "print(url[7:21])\n",
        "\n",
        "print(url.split('/')[2])"
      ],
      "metadata": {
        "colab": {
          "base_uri": "https://localhost:8080/"
        },
        "id": "vzlsC95G2E7X",
        "outputId": "61877a26-c285-4259-bfc3-92cb3f032cfd"
      },
      "execution_count": 11,
      "outputs": [
        {
          "output_type": "stream",
          "name": "stdout",
          "text": [
            "news.naver.com\n",
            "news.naver.com\n",
            "news.naver.com\n"
          ]
        }
      ]
    },
    {
      "cell_type": "code",
      "source": [
        "print(range(10), type(range(10)))\n",
        "print(type([i for i in range(10)]))\n",
        "print(list(range(10)))"
      ],
      "metadata": {
        "colab": {
          "base_uri": "https://localhost:8080/"
        },
        "id": "UT7Jbxsh1TvG",
        "outputId": "de6abf20-5e81-4126-9a68-aedbf14f685c"
      },
      "execution_count": 14,
      "outputs": [
        {
          "output_type": "stream",
          "name": "stdout",
          "text": [
            "range(0, 10) <class 'range'>\n",
            "<class 'list'>\n",
            "[0, 1, 2, 3, 4, 5, 6, 7, 8, 9]\n"
          ]
        }
      ]
    },
    {
      "cell_type": "code",
      "source": [
        "# 몫과 나머지\n",
        "print(divmod(7,3))"
      ],
      "metadata": {
        "colab": {
          "base_uri": "https://localhost:8080/"
        },
        "id": "r-734jtP2bzY",
        "outputId": "1caa4213-e40a-48b7-d268-cc1a76c4f6fb"
      },
      "execution_count": 15,
      "outputs": [
        {
          "output_type": "stream",
          "name": "stdout",
          "text": [
            "(2, 1)\n"
          ]
        }
      ]
    },
    {
      "cell_type": "code",
      "source": [
        "# Q. 내장함수를 이용해서 list = [0, 1, 2, 3, 4, 5, 6]에서 모든원소를 삭제 후 출력하세요\n",
        "\n",
        "list1 = [0, 1, 2, 3, 4, 5, 6]\n",
        "\n",
        "list1.clear()\n",
        "\n",
        "print(list1)"
      ],
      "metadata": {
        "colab": {
          "base_uri": "https://localhost:8080/"
        },
        "id": "TaQlrKVm2oqb",
        "outputId": "4afd345c-0321-4d1a-d49d-822f10d87c29"
      },
      "execution_count": 19,
      "outputs": [
        {
          "output_type": "stream",
          "name": "stdout",
          "text": [
            "[]\n"
          ]
        }
      ]
    },
    {
      "cell_type": "code",
      "source": [
        "# Q. 150분을 시간과 분으로 변환해서 출력하세요.\n",
        "\n",
        "minutes = 150\n",
        "\n",
        "hour, minute = divmod(minutes, 60)\n",
        "print(f'{hour}시간 {minute}분')\n",
        "\n",
        "# 기본적으로 튜플 형태의 반환이나, 각각의 변수에 할당도 가능하다"
      ],
      "metadata": {
        "colab": {
          "base_uri": "https://localhost:8080/"
        },
        "id": "xx_WE6Tx3Gwc",
        "outputId": "7d19918b-f506-43e9-ece4-95d977e7696b"
      },
      "execution_count": 26,
      "outputs": [
        {
          "output_type": "stream",
          "name": "stdout",
          "text": [
            "2시간 30분\n"
          ]
        }
      ]
    }
  ]
}