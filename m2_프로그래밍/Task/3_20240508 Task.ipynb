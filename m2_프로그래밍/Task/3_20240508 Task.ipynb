{
  "nbformat": 4,
  "nbformat_minor": 0,
  "metadata": {
    "colab": {
      "provenance": []
    },
    "kernelspec": {
      "name": "python3",
      "display_name": "Python 3"
    },
    "language_info": {
      "name": "python"
    }
  },
  "cells": [
    {
      "cell_type": "markdown",
      "source": [
        "Task1_0508. title() 함수를 사용하지 않고 동일한 결과를 출력하세요."
      ],
      "metadata": {
        "id": "wnBacjd65M2k"
      }
    },
    {
      "cell_type": "code",
      "source": [
        "name = input('이름을 입력해주세요 : ').lower()\n",
        "list1 = name.split(' ')\n",
        "#title = [i[0].upper()+i[1:] for i in list1]\n",
        "title = [i.capitalize() for i in list1 if i != '']\n",
        "print(f\"{' '.join(title)}\")\n",
        "\n",
        "print(list(map(lambda x:(x[0].upper()+x[1:]), list1)))"
      ],
      "metadata": {
        "colab": {
          "base_uri": "https://localhost:8080/"
        },
        "id": "SY6YCY_k5NOA",
        "outputId": "b629e494-81a9-4129-f743-d711bea09e3c"
      },
      "execution_count": 34,
      "outputs": [
        {
          "output_type": "stream",
          "name": "stdout",
          "text": [
            "이름을 입력해주세요 : kim han gyeol\n",
            "Kim Han Gyeol\n",
            "['Kim', 'Han', 'Gyeol']\n"
          ]
        }
      ]
    },
    {
      "cell_type": "markdown",
      "source": [
        "Task2_0507. join 함수를 이용해서 ['a','b','c']을 아래와 같이 출력하세요.\n",
        "\n",
        "a::b::c"
      ],
      "metadata": {
        "id": "ahoEhYkL5Mso"
      }
    },
    {
      "cell_type": "code",
      "source": [
        "list1 = ['a', 'b', 'c']\n",
        "\n",
        "print('::'.join(list1))"
      ],
      "metadata": {
        "colab": {
          "base_uri": "https://localhost:8080/"
        },
        "id": "rk4Gl-WO5Nu8",
        "outputId": "2976e945-b303-4789-8f6a-ac633a97afdc"
      },
      "execution_count": null,
      "outputs": [
        {
          "output_type": "stream",
          "name": "stdout",
          "text": [
            "a::b::c\n"
          ]
        }
      ]
    },
    {
      "cell_type": "markdown",
      "source": [
        "Task3_0508. 다음을 수행하세요.\n",
        "- 사용자로부터 문자열을 입력받습니다.\n",
        "- 입력받은 문자열이 숫자로만 이루어져 있는지 확인합니다.\n",
        "- 만약 숫자로만 이루어져 있다면, 그 숫자를 정수로 변환하여 100을 더한 결과를 출력합니다.\n",
        "- 숫자가 아닌 문자가 포함되어 있다면, 사용자에게 숫자만 입력하라는 메시지를 출력합니다.\n",
        "- 연산이 수행이 완료될 때까지 반복하고 수행이 완료되면 break 합니다."
      ],
      "metadata": {
        "id": "VJmOerOU5Mjx"
      }
    },
    {
      "cell_type": "code",
      "source": [
        "while True:\n",
        "  txt = input('문자열 입력 : ')\n",
        "\n",
        "  if txt.isdigit():\n",
        "    res = int(txt)+100\n",
        "    print(res)\n",
        "    break\n",
        "  else:\n",
        "    print('숫자만 입력해주세요')"
      ],
      "metadata": {
        "colab": {
          "base_uri": "https://localhost:8080/"
        },
        "id": "PSliXi3u5OIg",
        "outputId": "820e9bb0-687e-44ba-bdf5-1a42964eb244"
      },
      "execution_count": 24,
      "outputs": [
        {
          "output_type": "stream",
          "name": "stdout",
          "text": [
            "문자열 입력 : \n",
            "숫자만 입력해주세요\n",
            "문자열 입력 : \n",
            "숫자만 입력해주세요\n",
            "문자열 입력 : 2412\n",
            "2512\n"
          ]
        }
      ]
    },
    {
      "cell_type": "markdown",
      "source": [
        "Task4_0508. 문자와 숫자로만 구성된 아이디만 유효한 규칙을 만들려고 한다. 아래 사항을 참조하여 프로그램을 작성하세요.\n",
        "사용자로부터 문자열을 입력받습니다.\n",
        "입력받은 문자열이 알파벳과 숫자로만 이루어져 있는지 확인합니다.\n",
        "만약 조건을 만족한다면 \"유효한 아이디입니다\"라고 출력합니다.\n",
        "그렇지 않다면, \"아이디는 알파벳과 숫자만 포함할 수 있습니다\"라고 메시지를 출력합니다."
      ],
      "metadata": {
        "id": "U6fvSa965MZH"
      }
    },
    {
      "cell_type": "code",
      "source": [
        "while 1:\n",
        "  val = input('비밀번호를 입력하세요: ')\n",
        "  if val.isalnum():\n",
        "    print(f\"{val}은 유효한 아이디입니다.\")\n",
        "    break\n",
        "  else:\n",
        "    print(f\"{val}은 유효하지 않습니다. 알파벳과 숫자만 포함할 수 있습니다\\n다시 입력해주세요\")"
      ],
      "metadata": {
        "colab": {
          "base_uri": "https://localhost:8080/"
        },
        "id": "u60ZUEiZ5On2",
        "outputId": "3bdc6950-db76-49f1-9f1c-e8f3003b1807"
      },
      "execution_count": 37,
      "outputs": [
        {
          "output_type": "stream",
          "name": "stdout",
          "text": [
            "비밀번호를 입력하세요: dsgds!@$!\n",
            "dsgds!@$!은 유효하지 않습니다. 알파벳과 숫자만 포함할 수 있습니다\n",
            "다시 입력해주세요\n",
            "비밀번호를 입력하세요: dsgs2121\n",
            "dsgs2121은 유효한 아이디입니다.\n"
          ]
        }
      ]
    },
    {
      "cell_type": "code",
      "source": [
        "while 1:\n",
        "  if input('비밀번호를 입력하세요: ').isalnum():\n",
        "    print(f\"{val}은 유효한 아이디입니다.\")\n",
        "    break\n",
        "  else:\n",
        "    print(f\"{val}은 유효하지 않습니다. 알파벳과 숫자만 포함할 수 있습니다\\n다시 입력해주세요\")"
      ],
      "metadata": {
        "colab": {
          "base_uri": "https://localhost:8080/"
        },
        "id": "bxwFzNDf4Wtw",
        "outputId": "21fcb427-f313-4f2f-b078-fab3731d6e57"
      },
      "execution_count": 38,
      "outputs": [
        {
          "output_type": "stream",
          "name": "stdout",
          "text": [
            "비밀번호를 입력하세요: sgdsgsd23523!@!\n",
            "dsgs2121은 유효하지 않습니다. 알파벳과 숫자만 포함할 수 있습니다\n",
            "다시 입력해주세요\n",
            "비밀번호를 입력하세요: gdsgsdgds12\n",
            "dsgs2121은 유효한 아이디입니다.\n"
          ]
        }
      ]
    },
    {
      "cell_type": "markdown",
      "source": [
        "Task5_0508. 코딩을 한줄로 작성해서 동일한 결과를 출력하세요."
      ],
      "metadata": {
        "id": "FkSmh_QU5MRE"
      }
    },
    {
      "cell_type": "code",
      "source": [
        "\"\"\"\n",
        "list = []\n",
        "for i in range(0,20,2):\n",
        "  list.append(i*i)\n",
        "print(list)\n",
        "\"\"\"\n",
        "\n",
        "print([i*i for i in range(0,20,2)])\n",
        "print(list(map(lambda x : x * x, range(0, 20, 2))))"
      ],
      "metadata": {
        "colab": {
          "base_uri": "https://localhost:8080/"
        },
        "id": "P0Sxhgq35cM5",
        "outputId": "456e418c-738e-4de8-ffac-7afedcd913fb"
      },
      "execution_count": 44,
      "outputs": [
        {
          "output_type": "stream",
          "name": "stdout",
          "text": [
            "[0, 4, 16, 36, 64, 100, 144, 196, 256, 324]\n",
            "[0, 4, 16, 36, 64, 100, 144, 196, 256, 324]\n"
          ]
        }
      ]
    },
    {
      "cell_type": "markdown",
      "source": [
        "Task6_0508. 유닉스 타임스탬프를 받아서 해당 시간을 datetime.datetime 객체로 변환하고, 그 결과를 출력하는 사용자 함수를 작성하여 임의의 타임스탬프를 입력하여 결과를 출력하세요."
      ],
      "metadata": {
        "id": "7uTPJTf15MGn"
      }
    },
    {
      "cell_type": "code",
      "source": [
        "import time\n",
        "from datetime import datetime\n",
        "\n",
        "def get_timestamp_to_datetime(unix):\n",
        "  return datetime.fromtimestamp(unix)\n",
        "\n",
        "#unix = time.time()\n",
        "unix = float(input('유닉스 타임스탬프 : '))\n",
        "dt = get_timestamp_to_datetime(unix)\n",
        "print(dt)"
      ],
      "metadata": {
        "colab": {
          "base_uri": "https://localhost:8080/"
        },
        "id": "azTEGJld5cpE",
        "outputId": "e6312c10-9c48-4044-b1bb-cea979113c1d"
      },
      "execution_count": 47,
      "outputs": [
        {
          "output_type": "stream",
          "name": "stdout",
          "text": [
            "유닉스 타임스탬프 : 151325235.15235235\n",
            "1974-10-18 10:47:15.152352\n"
          ]
        }
      ]
    },
    {
      "cell_type": "markdown",
      "source": [
        "Task7_0508. datetime 객체를 문자열로 변환하는 사용자 함수를 작성하여 datetime 객체를 \"YYYY-MM-DD HH:MM:SS\" 형식의 문자열로 변환하고 출력하세요."
      ],
      "metadata": {
        "id": "oujlZcdT5LmA"
      }
    },
    {
      "cell_type": "code",
      "execution_count": 53,
      "metadata": {
        "colab": {
          "base_uri": "https://localhost:8080/"
        },
        "id": "MtflwhAK5FTk",
        "outputId": "16c9c0e3-b510-4b97-ea1d-d33481c1c5d8"
      },
      "outputs": [
        {
          "output_type": "stream",
          "name": "stdout",
          "text": [
            "2024-05-09 10:23:18 <class 'str'>\n"
          ]
        }
      ],
      "source": [
        "import pytz\n",
        "from datetime import datetime\n",
        "\n",
        "tz = pytz.timezone('Asia/Seoul')\n",
        "\n",
        "def get_datetime_to_str(now):\n",
        "  return now.strftime('%Y-%m-%d %H:%M:%S')\n",
        "\n",
        "now = datetime.now(tz)\n",
        "dt_str = get_datetime_to_str(now)\n",
        "print(dt_str, type(dt_str))"
      ]
    },
    {
      "cell_type": "markdown",
      "source": [
        "Task8_0508. 올해 경과된 날짜수 계산하세요."
      ],
      "metadata": {
        "id": "dN2jusy45uGX"
      }
    },
    {
      "cell_type": "code",
      "source": [
        "import time\n",
        "\n",
        "count = time.localtime().tm_yday\n",
        "\n",
        "print(f'오늘은 {count}일째 되는 날 입니다.')\n",
        "print(f'올해 경과된 날짜 수는 {count - 1}일 입니다.')"
      ],
      "metadata": {
        "colab": {
          "base_uri": "https://localhost:8080/"
        },
        "id": "wAzPMPQU5ufq",
        "outputId": "11c7158d-64c6-4503-f420-3c2a86d2dbf2"
      },
      "execution_count": 58,
      "outputs": [
        {
          "output_type": "stream",
          "name": "stdout",
          "text": [
            "오늘은 130일째 되는 날 입니다.\n",
            "올해 경과된 날짜 수는 129일 입니다.\n"
          ]
        }
      ]
    },
    {
      "cell_type": "code",
      "source": [
        "import datetime\n",
        "import pytz\n",
        "\n",
        "tz = pytz.timezone('Asia/Seoul')\n",
        "\n",
        "current_date = datetime.datetime.today().astimezone(tz).date()\n",
        "\n",
        "start_year = datetime.date(current_date.year, 1, 1)\n",
        "days_passed = (current_date - start_year).days\n",
        "print(f\"올해 경과된 날짜 수: {days_passed}일 입니다.\")"
      ],
      "metadata": {
        "colab": {
          "base_uri": "https://localhost:8080/"
        },
        "id": "vX4YT_qD9Ch1",
        "outputId": "285edda4-5589-4821-8616-49f770325e5d"
      },
      "execution_count": 93,
      "outputs": [
        {
          "output_type": "stream",
          "name": "stdout",
          "text": [
            "올해 경과된 날짜 수: 129일 입니다.\n"
          ]
        }
      ]
    },
    {
      "cell_type": "markdown",
      "source": [
        "Task9_0508. 현재 요일을 \"2021-6-26 오늘은 토요일입니다.\"와 같은 형식으로 출력하세요."
      ],
      "metadata": {
        "id": "x2TvkYaj97AZ"
      }
    },
    {
      "cell_type": "code",
      "source": [
        "import time\n",
        "import pytz\n",
        "from datetime import datetime\n",
        "\n",
        "wdays = {'Mon':'월요일', 'Tue':'화요일', 'Wed':'수요일', 'Thu':'목요일', 'Fri':'금요일', 'Sat':'토요일', 'Sun': '일요일'}\n",
        "\n",
        "tz = pytz.timezone('Asia/Seoul')\n",
        "now  = datetime.now(tz)\n",
        "date = now.date()\n",
        "wday = now.strftime(\"%a\")\n",
        "\n",
        "print(f'{date} 오늘은 {wdays[wday]}입니다.')"
      ],
      "metadata": {
        "colab": {
          "base_uri": "https://localhost:8080/"
        },
        "id": "79EIB8tM97dA",
        "outputId": "dec86a3f-083e-4938-82c4-8fdfefe6551d"
      },
      "execution_count": 72,
      "outputs": [
        {
          "output_type": "stream",
          "name": "stdout",
          "text": [
            "2024-05-09 오늘은 목요일입니다.\n"
          ]
        }
      ]
    },
    {
      "cell_type": "markdown",
      "source": [
        "Task10_0508. 1에서 백만까지 더하는데 걸리는 프로그램 실행 시간을 밀리초(ms) 단위로 구하세요.(1ms=0.001초)"
      ],
      "metadata": {
        "id": "5x74RH-M98JO"
      }
    },
    {
      "cell_type": "code",
      "source": [
        "import time\n",
        "\n",
        "start = time.time()\n",
        "sn = sum(range(1, 1000001))\n",
        "end = time.time()\n",
        "print(f\"1에서 백만까지 더하는데 걸린 시간 : {(end - start):.3f}초\")\n",
        "\n",
        "minute, second = divmod((end-start), 60)\n",
        "h, m = divmod(minute, 60)\n",
        "print(f'{int(h)}시간 {int(minute)}분 {second:.3f}초')"
      ],
      "metadata": {
        "colab": {
          "base_uri": "https://localhost:8080/"
        },
        "id": "41SOdIHf98gg",
        "outputId": "4bf7d8d1-f254-4194-a873-088923d19c29"
      },
      "execution_count": 78,
      "outputs": [
        {
          "output_type": "stream",
          "name": "stdout",
          "text": [
            "1에서 백만까지 더하는데 걸린 시간 : 0.039초\n",
            "0시간 0분 0.039초\n"
          ]
        }
      ]
    }
  ]
}