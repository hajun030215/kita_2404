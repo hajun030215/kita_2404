{
  "nbformat": 4,
  "nbformat_minor": 0,
  "metadata": {
    "colab": {
      "provenance": []
    },
    "kernelspec": {
      "name": "python3",
      "display_name": "Python 3"
    },
    "language_info": {
      "name": "python"
    }
  },
  "cells": [
    {
      "cell_type": "markdown",
      "source": [
        "- zip함수는 이터레이터를 반환하고 이 이터레이터를 단 한번만 소비할 수 있다\n",
        "- list()함수를 사용하여 이터레이터의 모든 원소를 한번에 소비해버리면, 그 결과는 빈 이터레이터가 되기 때문에 리스트로 다시 저장한 후 사용해야한다"
      ],
      "metadata": {
        "id": "0hiZLZaY4lhb"
      }
    },
    {
      "cell_type": "markdown",
      "source": [
        "Task1_0430. 남녀 파트너 정해주기 프로그램(zip)\n",
        "\n",
        "같은 수의 남녀 모임에서 파트너를 랜덤하게 정해주는 프로그램을 만들어 보세요"
      ],
      "metadata": {
        "id": "rZNNLobYjCgv"
      }
    },
    {
      "cell_type": "code",
      "execution_count": null,
      "metadata": {
        "id": "z5Txd6QMi3aE"
      },
      "outputs": [],
      "source": [
        "from random import shuffle\n",
        "\n",
        "male = ['철수', '갑돌', '로미오', '이몽룡', '온돌']\n",
        "female = ['미미', '갑순', '줄리엣', '성춘향', '평강']\n",
        "shuffle(male)\n",
        "shuffle(female)\n",
        "#print(['커플 : ' + m + ', ' + fe for m, fe in zip(male, female) ])\n",
        "#couples = zip(male, female)\n",
        "couples = list(zip(male, female))\n",
        "\n",
        "for i, couple in enumerate(couples):\n",
        "  print(f\"커플{i+1}: {couple[0]}, {couple[1]}\")"
      ]
    },
    {
      "cell_type": "markdown",
      "source": [
        "Task2_0430. 대문자, 소문자, 숫자를 포함하는 8자리 랜덤 비밀번호를 생성하는 프로그램을 작성하세요."
      ],
      "metadata": {
        "id": "qZ9RMeRMLYDD"
      }
    },
    {
      "cell_type": "code",
      "source": [
        "import random\n",
        "import string\n",
        "\n",
        "population = list(string.ascii_letters+string.digits)\n",
        "k = 5\n",
        "\n",
        "password = ''.join(random.sample(population, k))\n",
        "print(password)\n",
        "\n",
        "################################\n",
        "\n",
        "characters = string.ascii_letters+string.digits\n",
        "pwd = ''.join(random.choice(characters) for i in range(8))\n",
        "print(pwd)\n",
        "\n",
        "################################\n",
        "\n",
        "# 반드시 소문자,대문자,숫자를 하나 이상 포함일 경우\n",
        "lowercase = random.choice(string.ascii_lowercase)\n",
        "uppercase = random.choice(string.ascii_uppercase)\n",
        "digitscase = random.choice(string.digits)\n",
        "\n",
        "letters = [lowercase, uppercase, digitscase]\n",
        "letters.extend(pwd)\n",
        "random.shuffle(letters)\n",
        "\n",
        "random_pwd = ''.join(letters)\n",
        "print(random_pwd)"
      ],
      "metadata": {
        "id": "RTeDtt_nLYds"
      },
      "execution_count": null,
      "outputs": []
    },
    {
      "cell_type": "markdown",
      "source": [
        "Task3_0430. 발표자 수를 랜덤하게 출력하는 프로그램을 작성하세요.(발표자 수 입력)\n",
        "\n",
        "kita = ['김성현','황강민','윤호준','류윤선','이상협','박지환','최환욱','서보선','김한결','김도현','김하준',\n",
        "        '김도원','신현진','소지승','이범석','이현석','이명신','박윤경','이도헌','김홍준']"
      ],
      "metadata": {
        "id": "xIMD9uE7LYvc"
      }
    },
    {
      "cell_type": "code",
      "source": [
        "from random import sample\n",
        "\n",
        "k = int(input(\"발표자 수 : \"))\n",
        "\n",
        "kita = ['김성현','황강민','윤호준','류윤선','이상협','박지환','최환욱','서보선','김한결','김도현','김하준', '김도원','신현진','소지승','이범석','이현석','이명신','박윤경','이도헌','김홍준']\n",
        "\n",
        "sample(kita, k) # sample : 중복없이 요소 선택"
      ],
      "metadata": {
        "id": "PRkTE0yBLZbj"
      },
      "execution_count": null,
      "outputs": []
    },
    {
      "cell_type": "markdown",
      "source": [
        "Task4_0430. 사용자로부터 숫자를 입력받아 해당 숫자의 구구단을 출력하는 프로그램을 작성하세요."
      ],
      "metadata": {
        "id": "neyL_noeLZ3V"
      }
    },
    {
      "cell_type": "code",
      "source": [
        "num = int(input(\"구구단 몇단? \"))\n",
        "\n",
        "for n in range(1, 10):\n",
        "  print(f'{num} X {n} = {num * n}')"
      ],
      "metadata": {
        "id": "o9L75XNwLaO_"
      },
      "execution_count": null,
      "outputs": []
    },
    {
      "cell_type": "markdown",
      "source": [
        "표현식(Expression)\n",
        "- 하나 이상의 값, 변수, 연산자, 함수 호출 등을 조합하여 평가(evaluate)될 때 값을 생성하거나 반환하는 코드\n",
        "- 표현식은 계산되어 값이 되는 모든 것을 의미\n",
        "\n",
        "표현식의 예시:\n",
        "- 수치 계산: 2 + 3는 5라는 값을 반환\n",
        "- 문자열 조합: \"Hello \" + \"World\"는 \"Hello World\"라는 문자열을 생성\n",
        "- 논리 연산: x > 5는 x의 값에 따라 True 또는 False를 반환\n",
        "- 함수 호출: sum([1, 2, 3])은 리스트의 합인 6을 반환\n",
        "- 조건식: x if x > 0 else -x는 x가 양수면 x를, 음수면 -x를 반환"
      ],
      "metadata": {
        "id": "kpNw1UlkHgg2"
      }
    },
    {
      "cell_type": "code",
      "source": [
        "for i in range(2, 10):\n",
        "  print(f\"{' '*5}{i}단{' '*5}\", end='\\t')\n",
        "print()\n",
        "\n",
        "for i in range(2, 10):\n",
        "  print('='*12, end ='\\t')\n",
        "print()\n",
        "\n",
        "for p in range(1, 10):\n",
        "  for i in range(2, 10):\n",
        "    print(f' {i} * {p} = {i * p}', end = '\\t')\n",
        "  print()"
      ],
      "metadata": {
        "id": "yg0ny5A5HjC4"
      },
      "execution_count": null,
      "outputs": []
    },
    {
      "cell_type": "markdown",
      "source": [
        "Task5_0430. 사용자로부터 숫자를 입력받아 해당 숫자의 팩토리얼을 계산하세요."
      ],
      "metadata": {
        "id": "RmmmkyE2Laoe"
      }
    },
    {
      "cell_type": "code",
      "source": [
        "# 팩토리얼 : 5! = 5 * 4 * 3 * 2 * 1 = 120\n",
        "\n",
        "num = int(input(\"팩토리얼 숫자 : \"))\n",
        "\n",
        "total = 0\n",
        "for i in range(num, 0, -1):\n",
        "  total += i\n",
        "\n",
        "print(f'= {total}')"
      ],
      "metadata": {
        "id": "irStPazrLbAq"
      },
      "execution_count": null,
      "outputs": []
    },
    {
      "cell_type": "markdown",
      "source": [
        "Task6_0430. 0부터 20까지의 숫자 중에서 짝수와 홀수를 분리하여 두 개의 리스트에 저장하세요."
      ],
      "metadata": {
        "id": "v_aG3ywpLbh_"
      }
    },
    {
      "cell_type": "code",
      "source": [
        "a = []\n",
        "b = []\n",
        "\n",
        "for i in range(21):\n",
        "  if i % 2 == 0:\n",
        "    a.append(i)\n",
        "  else:\n",
        "    b.append(i)\n",
        "\n",
        "print(a)\n",
        "print(b)"
      ],
      "metadata": {
        "id": "6F378hc0Lb4e"
      },
      "execution_count": null,
      "outputs": []
    },
    {
      "cell_type": "markdown",
      "source": [
        "Task7_0430. 주어진 리스트에서 최대값을 찾아 출력하세요."
      ],
      "metadata": {
        "id": "iUVcXBluLciM"
      }
    },
    {
      "cell_type": "code",
      "source": [
        "numbers = [34, 78, 2, 45, 99, 23]\n",
        "\n",
        "max(numbers)"
      ],
      "metadata": {
        "id": "wTmWfkCdLc6E"
      },
      "execution_count": null,
      "outputs": []
    },
    {
      "cell_type": "markdown",
      "source": [
        "Task8_0430.  1부터 10 사이의 임의의 숫자를 맞추는 게임을 만드세요. 사용자가 숫자를 맞출 때까지 입력을 계속 받으며, 정답을 맞추면 게임을 종료하세요.\n",
        "단, 정답을 맞출 수 있는 힌트를 주어야한다.\n",
        "입력 숫자가 정답보다 큰가 작은가"
      ],
      "metadata": {
        "id": "nYjCKpsnL6dA"
      }
    },
    {
      "cell_type": "code",
      "source": [
        "from random import randint\n",
        "\n",
        "res_num = randint(1, 10)\n",
        "\n",
        "while 1:\n",
        "  user_num = int(input(\"숫자를 입력하세요 : \"))\n",
        "\n",
        "  if user_num > res_num:\n",
        "    print(f'{user_num}보다 작아야합니다')\n",
        "  elif user_num < res_num:\n",
        "    print(f'{user_num}보다 커야합니다')\n",
        "  else:\n",
        "    print(f'축하합니다! 당신의 숫자 {user_num}은 정답입니다!')\n",
        "    break"
      ],
      "metadata": {
        "id": "yCCifTHnL60-"
      },
      "execution_count": null,
      "outputs": []
    },
    {
      "cell_type": "markdown",
      "source": [
        "Task9_0430. 태어난 연도를 입력받아 띠를 출력하는 프로그램을 작성하세요."
      ],
      "metadata": {
        "id": "o_obk2yJL7Oz"
      }
    },
    {
      "cell_type": "code",
      "source": [
        "animals = ['원숭이', '닭', '개', '돼지', '쥐', '소', '호랑이', '토끼', '용', '뱀', '말', '양']\n",
        "\n",
        "year = int(input('태어난 연도 : '))\n",
        "\n",
        "def get_animals_from_year(year):\n",
        "  return animals[year%12]\n",
        "\n",
        "#zodiac_index = (year - 1924) % 12\n",
        "# 1924를 넣는 이유는 쥐띠에 해당하는 해를 빼줘야하기 떄문\n",
        "#zodiac = animals[zodiac_index]\n",
        "\n",
        "print(get_animals_from_year(year)+'띠')"
      ],
      "metadata": {
        "id": "W9GqiPhnL7pv"
      },
      "execution_count": null,
      "outputs": []
    },
    {
      "cell_type": "markdown",
      "source": [
        "Task10_0430. 아래 사항을 반영하여 커피 자판기 프로그램을 작성하세요.\n",
        "- 시나리오 : 자판기 커피 재고 5잔, 커피 1잔 가격 300원, 재고 범위내에서 300원 이상 돈을 넣으면 거스름돈과 커피를 주고 그렇지 않으면 반환하며 재고가 소진되면 안내멘트 출력\n",
        "- 각 Case별 멘트 출력은 상황에 맞게 창작\n",
        "- while, if ~ elif ~ else 제어문을 사용하여 작성"
      ],
      "metadata": {
        "id": "srhGLhFGL77A"
      }
    },
    {
      "cell_type": "code",
      "source": [
        "coffee = 5\n",
        "price = 300\n",
        "money = int(input(\"돈을 넣어주세요 : \"))\n",
        "\n",
        "# 돈을 넣으면 일단 커피를 한잔 뽑는다.\n",
        "# 더 뽑을건지 묻는다? 입력을 받아서 처리할까?\n",
        "# 더 뽑는다고하면 재고 내에서 더 뽑아준다.?\n",
        "# 더 안뽑는다하면 break 거스름돈 반환\n",
        "# 돈이 모자르면 break 거스름돈 반환\n",
        "\n",
        "def coffee_machine(coffee, money):\n",
        "  coffee -= 1;\n",
        "  money -= 300\n",
        "\n",
        "  print('주문하신 커피 1잔 나왔습니다.')\n",
        "  return coffee, money\n",
        "\n",
        "while 1:\n",
        "  if money >= 300:\n",
        "    if coffee:\n",
        "      coffee, money = coffee_machine(coffee, money)\n",
        "    else:\n",
        "      print(f'커피 재고가 부족합니다. 거스름돈 : {money}')\n",
        "      break\n",
        "  elif coffee == 5 and money < 300:\n",
        "    print(f'돈이 부족합니다. 거스름돈 : {money}원')\n",
        "    break\n",
        "  else:\n",
        "    print(f'거스름돈 : {money}원')\n",
        "    break"
      ],
      "metadata": {
        "id": "AopJga6EL8c7"
      },
      "execution_count": null,
      "outputs": []
    },
    {
      "cell_type": "code",
      "source": [
        "coffee = 5\n",
        "while True:\n",
        "  money = int(input(\"돈을 넣어주세요 \"))\n",
        "  if money == 300:\n",
        "    print(\"커피를 추출합니다.\")\n",
        "    coffee -= 1\n",
        "  elif money > 300:\n",
        "    print(\"거스름돈 %d원을 반환하고 커피를 추출합니다.\" %(money-300))\n",
        "    coffee -= 1\n",
        "  else:\n",
        "    print(\"금액이 부족하여 %d원을 반환합니다.\" %(money))\n",
        "\n",
        "  if coffee == 0:\n",
        "    print(\"커피가 다 소진되었습니다. 다음에 또 찾아주시길 바랍니다.\")\n",
        "    break"
      ],
      "metadata": {
        "id": "CWsi3lpkR7yT"
      },
      "execution_count": null,
      "outputs": []
    }
  ]
}
