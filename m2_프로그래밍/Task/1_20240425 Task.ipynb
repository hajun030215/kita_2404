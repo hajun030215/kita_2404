{
  "nbformat": 4,
  "nbformat_minor": 0,
  "metadata": {
    "colab": {
      "provenance": []
    },
    "kernelspec": {
      "name": "python3",
      "display_name": "Python 3"
    },
    "language_info": {
      "name": "python"
    }
  },
  "cells": [
    {
      "cell_type": "markdown",
      "source": [
        "Task1_0425. 주어진 숫자 리스트에서 최소값과 최대값을 찾아 출력하세요."
      ],
      "metadata": {
        "id": "YlWWRVtnhnwW"
      }
    },
    {
      "cell_type": "code",
      "execution_count": null,
      "metadata": {
        "id": "dpVzet-whk0D"
      },
      "outputs": [],
      "source": [
        "numbers = [58, 45, 69, 19, 4, 87, 29, 13, 39, 15]\n",
        "\n",
        "min_num = min(numbers)\n",
        "max_num = max(numbers)\n",
        "\n",
        "print(f\"최소값 : {min_num} / 최대값 : {max_num}\")"
      ]
    },
    {
      "cell_type": "markdown",
      "source": [
        "Task2_0425. 주어진 숫자 리스트의 모든 요소의 합계와 평균을 계산하고 출력하세요"
      ],
      "metadata": {
        "id": "RVOKif02hwAB"
      }
    },
    {
      "cell_type": "code",
      "source": [
        "import numpy\n",
        "\n",
        "numbers = [58, 45, 69, 19, 4, 87, 29, 13, 39, 15]\n",
        "\n",
        "sum_num = sum(numbers)\n",
        "avg_num = numpy.mean(numbers)\n",
        "print(f\"합계 : {sum_num} / 평균 : {avg_num}입니다.\")\n",
        "\n",
        "# 풀어서 계산해보자\n",
        "def sum_number(numbers):\n",
        "sn = 0\n",
        "for i in numbers:\n",
        "sn += i\n",
        "return sn\n",
        "\n",
        "def avg_number(numbers):\n",
        "sum_res = sum(numbers)\n",
        "avg_res = sum_res/len(numbers)\n",
        "\n",
        "return avg_res\n",
        "\n",
        "print(\"합계는 : \", sum_number(numbers))\n",
        "print(\"평균은 : \", avg_number(numbers))"
      ],
      "metadata": {
        "id": "9rvdDhZBh00b"
      },
      "execution_count": null,
      "outputs": []
    },
    {
      "cell_type": "markdown",
      "source": [
        "Task3_0425. 주어진 리스트에서 특정 요소가 등장하는 모든 인덱스를 리스트로 만들어 출력하세요."
      ],
      "metadata": {
        "id": "aVSvKYLBh8T5"
      }
    },
    {
      "cell_type": "code",
      "source": [
        "target = 'apple'\n",
        "items = ['apple', 'banana', 'cherry', 'apple', 'cherry', 'apple']\\\n",
        "\n",
        "apples = []\n",
        "\n",
        "---------------------------\n",
        "for i in range(len(items)):\n",
        "if items[i] == target:\n",
        "apples.append(i)\n",
        "print(apples)\n",
        "---------------------------\n",
        "apples = [i for i in range(len(items)) if items[i] == target]\n",
        "print(apples)\n",
        "---------------------------\n",
        "제대로 동작하는 이유 : if items[i] == target이면 'i' 값이 리스트에 담기기 때문이다. 이때 i는 '인덱스값'이다."
      ],
      "metadata": {
        "id": "B5uedPN2iBOc"
      },
      "execution_count": null,
      "outputs": []
    },
    {
      "cell_type": "markdown",
      "source": [
        "Task4_0425. 주어진 리스트에서 연속해서 반복되는 요소만 제거하고, 결과 리스트를 반환하세요."
      ],
      "metadata": {
        "id": "8mxD-DRAiB64"
      }
    },
    {
      "cell_type": "code",
      "source": [
        "# 단, 처음 등장하는 요소는 유지해야 합니다.\n",
        "# 예를 들어, ['a', 'a', 'b', 'c', 'c', 'c', 'd', 'e', 'e']가 입력되면, ['a', 'b', 'c', 'd', 'e']를 출력해야 합니다.\n",
        "\n",
        "list1 = ['a', 'a', 'b', 'c', 'c', 'c', 'd', 'e', 'e']\n",
        "\n",
        "list2 = []\n",
        "\n",
        "for i in list1:\n",
        "if i not in list2:\n",
        "list2.append(i)\n",
        "\n",
        "print(list2)"
      ],
      "metadata": {
        "id": "eXKJl4R_iHuf"
      },
      "execution_count": null,
      "outputs": []
    },
    {
      "cell_type": "markdown",
      "source": [
        "Task5_0425 주어진 정수 리스트와 회전 횟수 k에 대해 리스트를 오른쪽으로 k만큼 회전시킨 결과를 반환하세요."
      ],
      "metadata": {
        "id": "PKWieD7ZiKVl"
      }
    },
    {
      "cell_type": "code",
      "source": [
        "# k가 리스트의 길이보다 클 수 있으며, 이 경우 k를 리스트 길이로 나눈 나머지만큼 실제 회전시키면 됩니다.\n",
        "# 예를 들어, [1, 2, 3, 4, 5]와 k=2가 주어지면, 결과는 [4, 5, 1, 2, 3]이 되어야 합니다.\n",
        "int_list = list(map(int, input(\"리스트를 입력해주세요 : \").split(' ')))\n",
        "k = int(input(\"회전시킬 값을 입력해주세요 : \"))\n",
        "\n",
        "k = len(int_list) - k\n",
        "res_list = int_list[k:] + int_list[:k]\n",
        "\n",
        "print(f\"회전 후의 리스트는 {res_list}(이)가 됩니다.\")\n",
        "\n",
        "# 왼쪽으로 회전시킬때는?\n",
        "res_list = int_list[-k:] + int_list[:-k] # --4는 +4\n",
        "\n",
        "print(f\"회전 후의 리스트는 {res_list}(이)가 됩니다.\")"
      ],
      "metadata": {
        "id": "zc1bA_8xiOI1"
      },
      "execution_count": null,
      "outputs": []
    }
  ]
}
