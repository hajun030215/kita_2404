{
  "nbformat": 4,
  "nbformat_minor": 0,
  "metadata": {
    "colab": {
      "provenance": []
    },
    "kernelspec": {
      "name": "python3",
      "display_name": "Python 3"
    },
    "language_info": {
      "name": "python"
    }
  },
  "cells": [
    {
      "cell_type": "markdown",
      "source": [
        "Task1_0516. '199305, 1923A, a93247'에서 '199305'만 출력하세요."
      ],
      "metadata": {
        "id": "TAaA56oA-KNK"
      }
    },
    {
      "cell_type": "code",
      "execution_count": null,
      "metadata": {
        "colab": {
          "base_uri": "https://localhost:8080/"
        },
        "id": "UoSkWEUS-I_a",
        "outputId": "05245ca9-73b2-462e-bc47-3a9eaf8c9bc8"
      },
      "outputs": [
        {
          "output_type": "stream",
          "name": "stdout",
          "text": [
            "<re.Match object; span=(0, 6), match='199305'>\n"
          ]
        }
      ],
      "source": [
        "import re\n",
        "\n",
        "t = '199305, 1923A, a93247'\n",
        "p = re.compile('\\d+')\n",
        "m = p.match(t)\n",
        "print(m)"
      ]
    },
    {
      "cell_type": "markdown",
      "source": [
        "Task2_0516. '99food234, a93456\\n, a9356ba '에서 '99food234'만 출력하세요."
      ],
      "metadata": {
        "id": "EBOQH6rz-PN9"
      }
    },
    {
      "cell_type": "code",
      "source": [
        "import re\n",
        "t = '99food234, a93456\\n, a9356ba '\n",
        "p = re.compile('\\w+')\n",
        "m = p.match(t)\n",
        "print(m)"
      ],
      "metadata": {
        "colab": {
          "base_uri": "https://localhost:8080/"
        },
        "id": "pN6ptW5T-Pp_",
        "outputId": "5cbb773f-948c-487d-ac63-0c965eb21caa"
      },
      "execution_count": null,
      "outputs": [
        {
          "output_type": "stream",
          "name": "stdout",
          "text": [
            "<re.Match object; span=(0, 9), match='99food234'>\n"
          ]
        }
      ]
    },
    {
      "cell_type": "markdown",
      "source": [
        "Task3_0516. 주어진 문자열이 유효한 이메일 주소인지 확인\n",
        "\"example@example.com\""
      ],
      "metadata": {
        "id": "pz4Le9yyPeRN"
      }
    },
    {
      "cell_type": "code",
      "source": [
        "import re\n",
        "t = \"example@example.com\"\n",
        "m = bool(re.search(r'^\\w+@\\w+\\.com$', t))\n",
        "print(m)"
      ],
      "metadata": {
        "colab": {
          "base_uri": "https://localhost:8080/"
        },
        "id": "5OqAbqBmPemn",
        "outputId": "3439d564-4a84-4873-84d8-197cd6113dc3"
      },
      "execution_count": null,
      "outputs": [
        {
          "output_type": "stream",
          "name": "stdout",
          "text": [
            "True\n"
          ]
        }
      ]
    },
    {
      "cell_type": "markdown",
      "source": [
        "Task4_0516. 주어진 문자열이 올바른 전화번호 형식(010-0000-0000)인지 확인하세요.\n",
        "\"010-1234-5678\""
      ],
      "metadata": {
        "id": "tw7xkR8LPiwp"
      }
    },
    {
      "cell_type": "code",
      "source": [
        "import re\n",
        "t = \"010-1234-5678\"\n",
        "m = bool(re.match('^010-\\d{4}-\\d{4}$', t))\n",
        "print(m)"
      ],
      "metadata": {
        "colab": {
          "base_uri": "https://localhost:8080/"
        },
        "id": "2zG0q1l3PjKw",
        "outputId": "f47bd6ce-7075-4592-ab32-5b865549807c"
      },
      "execution_count": null,
      "outputs": [
        {
          "output_type": "stream",
          "name": "stdout",
          "text": [
            "True\n"
          ]
        }
      ]
    },
    {
      "cell_type": "markdown",
      "source": [
        "Task5_0516. 문자열에서 모든 HTML 태그를 찾아 리스트로 반환하세요.\n"
      ],
      "metadata": {
        "id": "33OxBhZzPsw1"
      }
    },
    {
      "cell_type": "code",
      "source": [
        "import re\n",
        "text = \"<html><head></head><body></body></html>\"\n",
        "m = re.findall('<html>', text)\n",
        "print(m)"
      ],
      "metadata": {
        "colab": {
          "base_uri": "https://localhost:8080/"
        },
        "id": "QBhR2YVUPtRr",
        "outputId": "5aab1653-a4e3-4c60-cf53-bd4476522a9f"
      },
      "execution_count": null,
      "outputs": [
        {
          "output_type": "stream",
          "name": "stdout",
          "text": [
            "['<html>']\n"
          ]
        }
      ]
    },
    {
      "cell_type": "markdown",
      "source": [
        "Task6_0516. 주어진 비밀번호가 최소 8자, 대문자, 소문자, 숫자, 특수문자를 포함하는지 확인하세요.\n",
        "\"Aa1!aaaa\""
      ],
      "metadata": {
        "id": "oTgR93VfPvvN"
      }
    },
    {
      "cell_type": "code",
      "source": [
        "import re\n",
        "t = \"Aa1!aaaa\"\n",
        "m = re.search('[{(}(a-z)+(A-Z)+\\d+(\\D\\W\\S)+}]{8,10}?', t)\n",
        "print(m)"
      ],
      "metadata": {
        "colab": {
          "base_uri": "https://localhost:8080/"
        },
        "id": "jTpGK8G9P5eK",
        "outputId": "394b2d69-d77a-485a-f646-ff3c9f1f7e0d"
      },
      "execution_count": null,
      "outputs": [
        {
          "output_type": "stream",
          "name": "stdout",
          "text": [
            "<re.Match object; span=(0, 8), match='Aa1!aaaa'>\n"
          ]
        }
      ]
    },
    {
      "cell_type": "markdown",
      "source": [
        "Task7_0516. 주어진 문자열이 유효한 URL인지 확인하세요.\n",
        "\"https://www.example.com\""
      ],
      "metadata": {
        "id": "KlncdxnoP5ry"
      }
    },
    {
      "cell_type": "code",
      "source": [
        "import re\n",
        "t = \"https://www.example.com\"\n",
        "m = bool(re.match('(https|http)://w{3}\\.\\w+\\.com$', t))\n",
        "print(m)"
      ],
      "metadata": {
        "colab": {
          "base_uri": "https://localhost:8080/"
        },
        "id": "abIfKBgpP6Fp",
        "outputId": "9b6ca555-6916-4db2-cee4-78f220f70269"
      },
      "execution_count": null,
      "outputs": [
        {
          "output_type": "stream",
          "name": "stdout",
          "text": [
            "<re.Match object; span=(0, 23), match='https://www.example.com'>\n"
          ]
        }
      ]
    },
    {
      "cell_type": "markdown",
      "source": [
        "Task8_0516. 주어진 문자열이 유효한 주민등록번호(######-#######) 형식인지 확인하세요.\n",
        "\"900101-1234567\""
      ],
      "metadata": {
        "id": "MVONEXeFP61_"
      }
    },
    {
      "cell_type": "code",
      "source": [
        "import re\n",
        "t = \"900101-1234567\"\n",
        "\n",
        "p = r'^\\d{6}[-]\\d{7}$'\n",
        "m = bool(re.match(p, t))\n",
        "print(m)"
      ],
      "metadata": {
        "colab": {
          "base_uri": "https://localhost:8080/"
        },
        "id": "6VLyI7xgP7P1",
        "outputId": "67acc3c7-b5d8-4f5a-dd90-8950a7770424"
      },
      "execution_count": null,
      "outputs": [
        {
          "output_type": "stream",
          "name": "stdout",
          "text": [
            "True\n"
          ]
        }
      ]
    },
    {
      "cell_type": "markdown",
      "source": [
        "Task9_0516. 주어진 문자열이 유효한 IPv4 주소인지 확인하세요.\n",
        "\"192.168.1.1\""
      ],
      "metadata": {
        "id": "0k6KfTs-P7uF"
      }
    },
    {
      "cell_type": "code",
      "source": [
        "import re\n",
        "t = \"192.168.1.1\"\n",
        "m = re.match('(\\d{0,3}\\.\\d{0,3}\\.\\d{0,3}\\.\\d{0,3})$', t)\n",
        "print(m)"
      ],
      "metadata": {
        "colab": {
          "base_uri": "https://localhost:8080/"
        },
        "id": "QjDUe9o8P8YE",
        "outputId": "6ffde71b-9d32-4f10-9dac-db0231169bd2"
      },
      "execution_count": null,
      "outputs": [
        {
          "output_type": "stream",
          "name": "stdout",
          "text": [
            "<re.Match object; span=(0, 11), match='192.168.1.1'>\n"
          ]
        }
      ]
    },
    {
      "cell_type": "markdown",
      "source": [
        "Task10_0516. 주어진 파일 이름에서 확장자가 .jpg, .jpeg, 또는 .png인지 확인하세요.\n",
        "\"image.jpg\""
      ],
      "metadata": {
        "id": "-p-EB_aRP8BM"
      }
    },
    {
      "cell_type": "code",
      "source": [
        "import re\n",
        "t = \"image.jpg\"\n",
        "m = re.search(r'\\.(jpg)|(jpeg)|(png)', t)\n",
        "print(m)"
      ],
      "metadata": {
        "colab": {
          "base_uri": "https://localhost:8080/"
        },
        "id": "ToCYN6n8QIo0",
        "outputId": "d509aa6d-f480-4512-d000-79009ea679f6"
      },
      "execution_count": null,
      "outputs": [
        {
          "output_type": "stream",
          "name": "stdout",
          "text": [
            "<re.Match object; span=(5, 9), match='.jpg'>\n"
          ]
        }
      ]
    },
    {
      "cell_type": "markdown",
      "source": [
        "Task11_0516. 문자열에서 Python 주석을 제거하세요.\n",
        "code_with_comments = \"\"\"\n",
        "# This is a whole line comment\n",
        "print(\"Hello, world!\")  # This is a side comment\n",
        "# Another comment\n",
        "print(\"Python is fun!\") # Another side comment\n",
        "\"\"\""
      ],
      "metadata": {
        "id": "tIKz_sMhQR2X"
      }
    },
    {
      "cell_type": "code",
      "source": [
        "import re\n",
        "\n",
        "code_with_comments = \"\"\"\n",
        "# This is a whole line comment\n",
        "print(\"Hello, world!\")  # This is a side comment\n",
        "# Another comment\n",
        "print(\"Python is fun!\") # Another side comment\n",
        "\"\"\"\n",
        "\n",
        "m = re.sub(r'#', '', code_with_comments)\n",
        "print(m)"
      ],
      "metadata": {
        "colab": {
          "base_uri": "https://localhost:8080/"
        },
        "id": "BnPIaVe6QSG4",
        "outputId": "8a170b8b-d251-4da8-e633-1a566aab988a"
      },
      "execution_count": null,
      "outputs": [
        {
          "output_type": "stream",
          "name": "stdout",
          "text": [
            "\n",
            " This is a whole line comment\n",
            "print(\"Hello, world!\")   This is a side comment\n",
            " Another comment\n",
            "print(\"Python is fun!\")  Another side comment\n",
            "\n"
          ]
        }
      ]
    },
    {
      "cell_type": "markdown",
      "source": [
        "Task12_0516. 지정된 HTML 문자열 내에서 이메일 주소를 찾아서 그 결과를 출력\n",
        "html = \"\"\"\n",
        "<ul>\n",
        "  <li>Email: example@example.com</li>\n",
        "  <li>Contact: contact@sample.org</li>\n",
        "</ul>\n",
        "\"\"\""
      ],
      "metadata": {
        "id": "9NMsrak6QZ-g"
      }
    },
    {
      "cell_type": "code",
      "source": [
        "import re\n",
        "html = \"\"\"\n",
        "<ul>\n",
        "  <li>Email: example@example.com</li>\n",
        "  <li>Contact: contact@sample.org</li>\n",
        "  <li>Contact: contact@sample.net</li>\n",
        "</ul>\n",
        "\"\"\"\n",
        "\n",
        "m = re.findall(r'(\\w+@\\w+\\.(?:com|org))', html)\n",
        "print(m)"
      ],
      "metadata": {
        "colab": {
          "base_uri": "https://localhost:8080/"
        },
        "id": "Kn1O0PyuQaqF",
        "outputId": "87310588-cf95-431e-c538-724aa5c3ea68"
      },
      "execution_count": null,
      "outputs": [
        {
          "output_type": "stream",
          "name": "stdout",
          "text": [
            "['example@example.com', 'contact@sample.org']\n"
          ]
        }
      ]
    }
  ]
}