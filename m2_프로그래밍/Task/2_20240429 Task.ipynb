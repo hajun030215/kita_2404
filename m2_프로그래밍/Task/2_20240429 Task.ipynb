{
  "nbformat": 4,
  "nbformat_minor": 0,
  "metadata": {
    "colab": {
      "provenance": []
    },
    "kernelspec": {
      "name": "python3",
      "display_name": "Python 3"
    },
    "language_info": {
      "name": "python"
    }
  },
  "cells": [
    {
      "cell_type": "markdown",
      "source": [
        "Task1_0429. input_str을 아래와 같이 단어로 분리하시오.\n",
        "\n",
        "input_str = \"Hello, World! How are you today? I am fine. Thank you!\"\n",
        "\n",
        "['hello', 'wolrd', 'how', 'are', 'you', 'today', 'i', 'am', 'fine', 'Thank', 'you', '']"
      ],
      "metadata": {
        "id": "x5Uzli0Xobz_"
      }
    },
    {
      "cell_type": "code",
      "execution_count": 13,
      "metadata": {
        "colab": {
          "base_uri": "https://localhost:8080/"
        },
        "id": "9kNKJtmEoVIu",
        "outputId": "bb891946-f0cc-482a-be96-4a46d48dab27"
      },
      "outputs": [
        {
          "output_type": "stream",
          "name": "stdout",
          "text": [
            "['Hello', 'World', 'How', 'are', 'you', 'today', 'I', 'am', 'fine', 'Thank', 'you', '']\n"
          ]
        }
      ],
      "source": [
        "import re\n",
        "\n",
        "input_str = \"Hello, World! How are you today? I am fine. Thank you!\"\n",
        "\n",
        "#output_str = re.findall(r'[a-z|A-Z|]+', input_str)\n",
        "output_str = re.split(r'[ ,.?!]+', input_str)\n",
        "tokens = list(filter(None, tokens))\n",
        "print(output_str)"
      ]
    },
    {
      "cell_type": "code",
      "source": [
        "table = {'Tom' : 1234, 'Jack' : 4518, 'Eddie': 9638}\n",
        "for name, phone in table.items():\n",
        "  print(f'{name:5} ==> {phone:5d}')\n",
        "  # :과 그 뒤 숫자는 자릿수를 뜻한다.\n",
        "  # 최소 5개 문자 너비 할당. 줄맞춤 할때 사용"
      ],
      "metadata": {
        "colab": {
          "base_uri": "https://localhost:8080/"
        },
        "id": "1uFAnXxKu4vW",
        "outputId": "daf107a3-3a06-489b-89ac-921b0971b379"
      },
      "execution_count": null,
      "outputs": [
        {
          "output_type": "stream",
          "name": "stdout",
          "text": [
            "Tom   ==>  1234\n",
            "Jack  ==>  4518\n",
            "Eddie ==>  9638\n"
          ]
        }
      ]
    },
    {
      "cell_type": "code",
      "source": [
        "# 소수점 n번째 자리까지만 표현\n",
        "\n",
        "y = 3.42134234\n",
        "f'{y:0.3f}'"
      ],
      "metadata": {
        "colab": {
          "base_uri": "https://localhost:8080/",
          "height": 35
        },
        "id": "VBw30M3gwON9",
        "outputId": "052b0b07-bfd9-4568-c95a-cf18db9efcd3"
      },
      "execution_count": null,
      "outputs": [
        {
          "output_type": "execute_result",
          "data": {
            "text/plain": [
              "'3.421'"
            ],
            "application/vnd.google.colaboratory.intrinsic+json": {
              "type": "string"
            }
          },
          "metadata": {},
          "execution_count": 13
        }
      ]
    },
    {
      "cell_type": "code",
      "source": [
        "# 소수점 4자리까지 표현하고 총 자리수를 10으로 맞춤\n",
        "y = 3.42134234\n",
        "f'{y:10.4f}'"
      ],
      "metadata": {
        "colab": {
          "base_uri": "https://localhost:8080/",
          "height": 35
        },
        "id": "3x0vTePUwW4k",
        "outputId": "d47e348e-f977-44b3-f856-e715f5506c51"
      },
      "execution_count": null,
      "outputs": [
        {
          "output_type": "execute_result",
          "data": {
            "text/plain": [
              "'    3.4213'"
            ],
            "application/vnd.google.colaboratory.intrinsic+json": {
              "type": "string"
            }
          },
          "metadata": {},
          "execution_count": 15
        }
      ]
    },
    {
      "cell_type": "code",
      "source": [
        "# Q. num1=12345, num2=12.345679 를 아래와 같이 출력하세요\n",
        "# 12345\n",
        "#      12345\n",
        "# 12.345679\n",
        "#           12.346\n",
        "\n",
        "num1 = 12345\n",
        "num2 = 12.345679\n",
        "\n",
        "print(f'{num1}')\n",
        "print(f'{num1:10}')\n",
        "print(f'{num2}')\n",
        "print(f'{num2:16.3f}')"
      ],
      "metadata": {
        "colab": {
          "base_uri": "https://localhost:8080/"
        },
        "id": "Tw6UQf0jwmAV",
        "outputId": "853b8ac2-2164-4600-878c-6fa18da8f473"
      },
      "execution_count": null,
      "outputs": [
        {
          "output_type": "stream",
          "name": "stdout",
          "text": [
            "12345\n",
            "     12345\n",
            "12.345679\n",
            "          12.346\n"
          ]
        }
      ]
    },
    {
      "cell_type": "markdown",
      "source": [
        "Task2_0429. 십진수 122를 2진수, 8진수, 16진수로 변경하여 출력하세요."
      ],
      "metadata": {
        "id": "GyTqA7ty6uTv"
      }
    },
    {
      "cell_type": "code",
      "source": [
        "n = 122\n",
        "\n",
        "# 2진수\n",
        "print(0b1111010)\n",
        "binary_number = bin(n)\n",
        "# 8진수\n",
        "print(0o172)\n",
        "octal_number = oct(n)\n",
        "# 16진수\n",
        "print(0x7A)\n",
        "hexadecimal_number = hex(n)\n",
        "\n",
        "print(binary_number, octal_number, hexadecimal_number)\n",
        "\n"
      ],
      "metadata": {
        "colab": {
          "base_uri": "https://localhost:8080/"
        },
        "id": "oDMqD3y36u_r",
        "outputId": "bf9f1f04-eb90-4d58-e2c0-c069bd0521a3"
      },
      "execution_count": 15,
      "outputs": [
        {
          "output_type": "stream",
          "name": "stdout",
          "text": [
            "122\n",
            "122\n",
            "122\n",
            "0b1111010 0o172 0x7a\n"
          ]
        }
      ]
    },
    {
      "cell_type": "markdown",
      "source": [
        "Task3_0429. 두 수의 곱셈 결과를 계산하고, 그 결과에 10을 더하세요."
      ],
      "metadata": {
        "id": "8z4qZi807vX7"
      }
    },
    {
      "cell_type": "code",
      "source": [
        "a = 10\n",
        "b = 20\n",
        "\n",
        "res = a * b + 10\n",
        "res"
      ],
      "metadata": {
        "colab": {
          "base_uri": "https://localhost:8080/"
        },
        "id": "XPH5dXRoRpiy",
        "outputId": "ba1e74bd-cbc4-4777-ea6c-0dc418430072"
      },
      "execution_count": 17,
      "outputs": [
        {
          "output_type": "execute_result",
          "data": {
            "text/plain": [
              "210"
            ]
          },
          "metadata": {},
          "execution_count": 17
        }
      ]
    },
    {
      "cell_type": "markdown",
      "source": [
        "Task4_0429. 주어진 리스트에서 두 번째 요소를 삭제하고, 마지막에 새로운 요소 'Python'을 추가하세요.\n",
        "\n",
        "리스트: ['Java', 'C', 'JavaScript']"
      ],
      "metadata": {
        "id": "mw1cCe5g7vK2"
      }
    },
    {
      "cell_type": "code",
      "source": [
        "list1 = ['Java', 'C', 'JavaScript']\n",
        "\n",
        "del list1[1]\n",
        "# list1.pop(1)\n",
        "list1.append('Python')\n",
        "\n",
        "list1"
      ],
      "metadata": {
        "colab": {
          "base_uri": "https://localhost:8080/"
        },
        "id": "afnGtvUSRqF3",
        "outputId": "0268dcfb-9f9e-481f-d711-2f7d7984e522"
      },
      "execution_count": null,
      "outputs": [
        {
          "output_type": "execute_result",
          "data": {
            "text/plain": [
              "['Java', 'JavaScript', 'Python']"
            ]
          },
          "metadata": {},
          "execution_count": 14
        }
      ]
    },
    {
      "cell_type": "markdown",
      "source": [
        "Task5_0429. 주어진 문자열에서 처음 세 글자와 마지막 세 글자를 연결하여 새로운 문자열을 만드세요.\n",
        "\n",
        "문자열: 'Incredible'"
      ],
      "metadata": {
        "id": "2oOoApW27umz"
      }
    },
    {
      "cell_type": "code",
      "source": [
        "string = 'Incredible'\n",
        "\n",
        "new_str = string[:3]+string[-3:]\n",
        "\n",
        "new_str"
      ],
      "metadata": {
        "colab": {
          "base_uri": "https://localhost:8080/",
          "height": 35
        },
        "id": "kGAiLJ2SRqhP",
        "outputId": "c4401bc8-4d23-4d81-c6cd-7dec394a95cf"
      },
      "execution_count": null,
      "outputs": [
        {
          "output_type": "execute_result",
          "data": {
            "text/plain": [
              "'Incble'"
            ],
            "application/vnd.google.colaboratory.intrinsic+json": {
              "type": "string"
            }
          },
          "metadata": {},
          "execution_count": 26
        }
      ]
    },
    {
      "cell_type": "markdown",
      "source": [
        "Task6_0429. 사용자의 이름과 이메일을 딕셔너리로 저장하고, 이름을 입력받아 해당하는 이메일을 출력하세요.\n",
        "\n",
        "사용자 정보: 이름 - 'Alice', 이메일 - 'alice@example.com'"
      ],
      "metadata": {
        "id": "jmXMGOMR724f"
      }
    },
    {
      "cell_type": "code",
      "source": [
        "dict1 = {'Alice' : 'alice@example.com'}\n",
        "\n",
        "input_name = input('이름을 입력하세요 : ')\n",
        "\n",
        "if not input_name:\n",
        "  print('ZeroDivisionError')\n",
        "else:\n",
        "  if input_name in dict1:\n",
        "    print(dict1[input_name])\n",
        "  else:\n",
        "    print('해당 이름이 존재하지 않습니다.')"
      ],
      "metadata": {
        "colab": {
          "base_uri": "https://localhost:8080/"
        },
        "id": "yzeltrlXRrGN",
        "outputId": "cfa659f8-c368-4501-96a9-990b24a5ece0"
      },
      "execution_count": null,
      "outputs": [
        {
          "output_type": "stream",
          "name": "stdout",
          "text": [
            "이름을 입력하세요 : Alice\n",
            "alice@example.com\n"
          ]
        }
      ]
    },
    {
      "cell_type": "markdown",
      "source": [
        "Task7_0429. 주어진 두 튜플에서 공통 요소만을 찾아 집합으로 만드세요.\n",
        "\n",
        "튜플: (1, 2, 3, 4, 5)와 (4, 5, 6, 7, 8)"
      ],
      "metadata": {
        "id": "KO9osq6072iD"
      }
    },
    {
      "cell_type": "code",
      "source": [
        "tu1 = (1, 2, 3, 4, 5)\n",
        "tu2 = (4, 5, 6, 7, 8)\n",
        "\n",
        "set1 = set(tu1+tu2)\n",
        "# set1 = set(tu1) & set(tu2)\n",
        "\n",
        "set1"
      ],
      "metadata": {
        "colab": {
          "base_uri": "https://localhost:8080/"
        },
        "id": "ssZupohyRrkF",
        "outputId": "6deae82b-75a3-4dd8-b82b-5c77890b3fdd"
      },
      "execution_count": null,
      "outputs": [
        {
          "output_type": "execute_result",
          "data": {
            "text/plain": [
              "{1, 2, 3, 4, 5, 6, 7, 8}"
            ]
          },
          "metadata": {},
          "execution_count": 37
        }
      ]
    },
    {
      "cell_type": "markdown",
      "source": [
        "Task8_Challenge_0429. 다음 요구 사항을 충족하는 프로그램을 작성하세요:\n",
        "\n",
        "- 사용자로부터 이름, 나이, 좋아하는 색상을 입력받습니다.\n",
        "- 입력받은 정보를 딕셔너리로 저장하고, 모든 사용자 정보를 리스트에 저장합니다.\n",
        "- 이름이 'John'인 사용자의 정보만 출력하세요.\n",
        "- 전체 사용자의 평균 나이를 계산하고 출력하세요.\n",
        "\n",
        "1. 사용자 데이터:\n",
        "- 이름: John\n",
        "- 나이: 28\n",
        "- 좋아하는 색상: Blue\n",
        "2. 사용자 데이터:\n",
        "- 이름: Alice\n",
        "- 나이: 24\n",
        "- 좋아하는 색상: Red\n",
        "3. 사용자 데이터:\n",
        "- 이름: Maria\n",
        "- 나이: 32\n",
        "- 좋아하는 색상: Green"
      ],
      "metadata": {
        "id": "IR2igKCx77vO"
      }
    },
    {
      "cell_type": "code",
      "source": [
        "import statistics\n",
        "\n",
        "user_dict = [{'name':'John', 'age': 28, 'color': 'Blue'}, {'name':'Alice', 'age': 24, 'color': 'Red'}, {'name':'Maria', 'age': 32, 'color': 'Green'}]\n",
        "\n",
        "def check_new_user(v):\n",
        "  value = input(f\"{v} : \")\n",
        "\n",
        "  if value:\n",
        "    return value\n",
        "  else:\n",
        "    print(f\"{v}를 입력하지 않았습니다.\")\n",
        "    return None\n",
        "\n",
        "new_user = {}\n",
        "new_user['name'] = check_new_user('이름')\n",
        "new_user['age'] = int(check_new_user('나이'))\n",
        "new_user['color'] = check_new_user('좋아하는 색상')\n",
        "\n",
        "# append()를 사용하여 리스트 안에 해시를 추가할 수 있다.\n",
        "user_dict.append(new_user)\n",
        "\n",
        "total_age = 0\n",
        "for user in user_dict:\n",
        "  total_age += user['age']\n",
        "\n",
        "  if user['name'] == 'John':\n",
        "    for key in user:\n",
        "      print(f\"{key} : {user[key]}\")\n",
        "\n",
        "avg_age = total_age / len(user_dict)\n",
        "print(f\"사용자 나이 평균 : {avg_age:.2f}\")"
      ],
      "metadata": {
        "colab": {
          "base_uri": "https://localhost:8080/"
        },
        "id": "uSC3CefURoTW",
        "outputId": "44d77c49-45ee-4e06-e08f-fc4af6f8d32c"
      },
      "execution_count": 35,
      "outputs": [
        {
          "output_type": "stream",
          "name": "stdout",
          "text": [
            "이름 : hang\n",
            "나이 : 48\n",
            "좋아하는 색상 : blue\n",
            "28\n",
            "name : John\n",
            "age : 28\n",
            "color : Blue\n",
            "24\n",
            "32\n",
            "48\n",
            "사용자 나이 평균 : 33.00\n"
          ]
        }
      ]
    },
    {
      "cell_type": "code",
      "source": [
        "users = []\n",
        "for _ in range(3):\n",
        "  name = input(\"이름 : \")\n",
        "  age = int(input(\"나이 : \"))\n",
        "  color = input(\"좋아하는 색 : \")\n",
        "\n",
        "  user_info = {'name':name, 'age':age, 'color':color}\n",
        "  users.append(user_info)\n",
        "\n",
        "for user in users:\n",
        "  if user['name'] == 'John':\n",
        "    print(f'John\\'s info: {user}')\n",
        "\n",
        "total_age = sum(user['age'] for user in users)\n",
        "avg_age = total_age / len(users)\n",
        "\n",
        "print(f'{avg_age:.2f}')"
      ],
      "metadata": {
        "id": "Hoh9wi930Por",
        "colab": {
          "base_uri": "https://localhost:8080/"
        },
        "outputId": "5ac85de6-a429-414a-bb03-2c5a650786de"
      },
      "execution_count": 33,
      "outputs": [
        {
          "output_type": "stream",
          "name": "stdout",
          "text": [
            "John\n",
            "38\n",
            "blue\n",
            "Alice\n",
            "24\n",
            "red\n",
            "mra\n",
            "40\n",
            "blue\n",
            "John's info: {'name': 'John', 'age': 38, 'color': 'blue'}\n",
            "34.00\n"
          ]
        }
      ]
    }
  ]
}
