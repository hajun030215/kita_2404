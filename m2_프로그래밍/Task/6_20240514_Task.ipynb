{
  "nbformat": 4,
  "nbformat_minor": 0,
  "metadata": {
    "colab": {
      "provenance": []
    },
    "kernelspec": {
      "name": "python3",
      "display_name": "Python 3"
    },
    "language_info": {
      "name": "python"
    }
  },
  "cells": [
    {
      "cell_type": "markdown",
      "source": [
        "Task1_0514. BC, CC, ABC 모두 C가 출력되는 정규 표현식을 ( )에 작성하세요."
      ],
      "metadata": {
        "id": "qV7ZTEI1EgjR"
      }
    },
    {
      "cell_type": "code",
      "execution_count": null,
      "metadata": {
        "colab": {
          "base_uri": "https://localhost:8080/"
        },
        "id": "QU2JE3rDEe3e",
        "outputId": "a712b63c-7406-4770-817b-254e0fc3faa3"
      },
      "outputs": [
        {
          "output_type": "stream",
          "name": "stdout",
          "text": [
            "<re.Match object; span=(0, 2), match='BC'>\n",
            "<re.Match object; span=(0, 1), match='C'>\n",
            "<re.Match object; span=(1, 3), match='BC'>\n",
            "<re.Match object; span=(1, 3), match='BC'>\n"
          ]
        }
      ],
      "source": [
        "import re\n",
        "pattern = re.compile('C$') # 문자열 마지막이 C\n",
        "pattern = re.compile('A?C') # A가 없거나 한번. C 출력\n",
        "pattern = re.compile('A*C') # A가 없거나 있거나. BC출력\n",
        "pattern = re.compile('B?C') # B가 있거나 없거나. BC출력\n",
        "#pattern = re.compile('')\n",
        "text1 = 'BC'\n",
        "text2 = 'CC'\n",
        "text3 = 'ABC'\n",
        "text4 = 'BBC'\n",
        "p1 = pattern.search(text1)\n",
        "p2 = pattern.search(text2)\n",
        "p3 = pattern.search(text3)\n",
        "p4 = pattern.search(text4)\n",
        "print(p1)\n",
        "print(p2)\n",
        "print(p3)\n",
        "print(p4)"
      ]
    },
    {
      "cell_type": "code",
      "source": [
        "import re\n",
        "\n",
        "list = ['BC', 'CC', 'ABC', 'BBC', 'AAC']\n",
        "\n",
        "pattern = re.compile('A?C')\n",
        "\n",
        "for s in list:\n",
        "  match = pattern.match(s)\n",
        "  if match:\n",
        "    print(f\"{s} : found match\")\n",
        "  else:\n",
        "    print(f\"{s} : not found\")"
      ],
      "metadata": {
        "colab": {
          "base_uri": "https://localhost:8080/"
        },
        "id": "mFykCQZW1N81",
        "outputId": "1f63d709-4da8-4d34-815d-d99fd3a0dca9"
      },
      "execution_count": null,
      "outputs": [
        {
          "output_type": "stream",
          "name": "stdout",
          "text": [
            "BC : not found\n",
            "CC : found match\n",
            "ABC : not found\n",
            "BBC : not found\n",
            "AAC : not found\n"
          ]
        }
      ]
    },
    {
      "cell_type": "markdown",
      "source": [
        "Task2_0514. ' Python3 is very good programming language!'에서  ['Python', 'is', 'very', 'good', 'programming', 'language']를 모두 출력하세요."
      ],
      "metadata": {
        "id": "9R9Bas8ZG-ho"
      }
    },
    {
      "cell_type": "code",
      "source": [
        "text =  'Python3 is very good programming language!'\n",
        "pattern = re.compile('[a-zA-Z]+')\n",
        "pattern.findall(text)"
      ],
      "metadata": {
        "colab": {
          "base_uri": "https://localhost:8080/"
        },
        "id": "6_eg5g70G_Rp",
        "outputId": "f6b9444e-bca1-4dfe-96d9-fda55ca6231f"
      },
      "execution_count": null,
      "outputs": [
        {
          "output_type": "execute_result",
          "data": {
            "text/plain": [
              "['Python', 'is', 'very', 'good', 'programming', 'language']"
            ]
          },
          "metadata": {},
          "execution_count": 36
        }
      ]
    }
  ]
}