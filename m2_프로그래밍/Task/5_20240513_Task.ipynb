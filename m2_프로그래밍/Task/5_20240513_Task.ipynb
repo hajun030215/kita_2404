{
  "nbformat": 4,
  "nbformat_minor": 0,
  "metadata": {
    "colab": {
      "provenance": []
    },
    "kernelspec": {
      "name": "python3",
      "display_name": "Python 3"
    },
    "language_info": {
      "name": "python"
    }
  },
  "cells": [
    {
      "cell_type": "markdown",
      "source": [
        "Task1_0513. 클래스 구성 요소와 관련 아래 사항에 대한 사례를 작성하세요.\n",
        "- 클래스 선언\n",
        "- 생성자\n",
        "- 속성(attributes)\n",
        "- 메서드\n",
        "- 상속\n",
        "- 인스턴스화(객체 만들기)\n",
        "- 클래스 변수\n",
        "- 매직 메서드(특수 메서드)"
      ],
      "metadata": {
        "id": "q7wJrvFTg2eL"
      }
    },
    {
      "cell_type": "code",
      "execution_count": 9,
      "metadata": {
        "colab": {
          "base_uri": "https://localhost:8080/"
        },
        "id": "SU48bgi6gvX6",
        "outputId": "6331b8c3-2180-4387-fc61-3ecc002858a9"
      },
      "outputs": [
        {
          "output_type": "stream",
          "name": "stdout",
          "text": [
            "안녕하세요 제 이름은 김한결입니다. 발표하겠습니다.\n"
          ]
        }
      ],
      "source": [
        "class MyClass: # 클래스선언\n",
        "  var = '안녕하세요' # 클래스 변수\n",
        "  def __init__(self, name): # 생성자\n",
        "    self.name = name\n",
        "\n",
        "  def __str__(self): # 매직 메서드\n",
        "    return f'{self.var}'\n",
        "\n",
        "class Speak(MyClass): # 상속\n",
        "  def __init__(self, name):\n",
        "    super().__init__(name)\n",
        "    super().__str__()\n",
        "\n",
        "  def speak_any(self):\n",
        "    return f'제 이름은 {self.name}입니다.'\n",
        "\n",
        "  def __str__(self, any): # 오버라이딩\n",
        "    print(f'{self.var} {any} 발표하겠습니다.')\n",
        "\n",
        "s = Speak('김한결')\n",
        "any = s.speak_any()\n",
        "s.__str__(any)"
      ]
    },
    {
      "cell_type": "markdown",
      "source": [
        "Task2_0513. 두개의 수를 입력한 후 두개의 수에 대한 사칙연산을 수행하세요.(0을 입력한 경우 다시 입력하도록 조치)"
      ],
      "metadata": {
        "id": "30m28BNQg4Cy"
      }
    },
    {
      "cell_type": "code",
      "source": [
        "class Oper:\n",
        "  def __init__(self):\n",
        "    while True:\n",
        "      try:\n",
        "        num1 = int(input('숫자를 입력해주세요 : '))\n",
        "        num2 = int(input('숫자를 입력해주세요 : '))\n",
        "      except:\n",
        "        continue\n",
        "\n",
        "      if num1 != 0 and num2 != 0:\n",
        "        self.num1 = num1\n",
        "        self.num2 = num2\n",
        "        break\n",
        "      else:\n",
        "        print('다시 입력하세요')\n",
        "        continue\n",
        "\n",
        "  def sum(self): # +\n",
        "    return self.num1+self.num2\n",
        "\n",
        "  def mul(self): # *\n",
        "    return self.num1*self.num2\n",
        "\n",
        "  def sub(self): # -\n",
        "    return self.num1-self.num2\n",
        "\n",
        "  def div(self): # /\n",
        "    return self.num1/self.num2\n",
        "\n",
        "op = Oper()\n",
        "print(op.sum())\n",
        "print(op.mul())\n",
        "print(op.sub())\n",
        "print(op.div())"
      ],
      "metadata": {
        "colab": {
          "base_uri": "https://localhost:8080/"
        },
        "id": "XM-ipiAWg4bR",
        "outputId": "4f040768-8d30-4348-fde6-1a98bef9b53e"
      },
      "execution_count": 16,
      "outputs": [
        {
          "output_type": "stream",
          "name": "stdout",
          "text": [
            "숫자를 입력해주세요 : 10.2\n",
            "숫자를 입력해주세요 : 7.3\n",
            "숫자를 입력해주세요 : 10\n",
            "숫자를 입력해주세요 : 8\n",
            "18\n",
            "80\n",
            "2\n",
            "1.25\n"
          ]
        }
      ]
    },
    {
      "cell_type": "markdown",
      "source": [
        "Task3_0513. 파이썬 오버라이딩, 오버로딩, 다형성의 사례를 만들어 보세요."
      ],
      "metadata": {
        "id": "LC-Ehjqtg365"
      }
    },
    {
      "cell_type": "code",
      "source": [
        "class Electronics:\n",
        "  def __init__(self):\n",
        "    self.var = f' : 전자기기입니다.'\n",
        "  def speak(self):\n",
        "    print(self.var)\n",
        "\n",
        "class HandPhone(Electronics):\n",
        "  def __init__(self):\n",
        "    super().__init__()\n",
        "\n",
        "  def speak(self): # 오버라이딩\n",
        "    return f\"핸드폰{self.var}\"\n",
        "\n",
        "class LabTop(Electronics):\n",
        "  def __init__(self):\n",
        "    super().__init__()\n",
        "\n",
        "  def speak(self, *args): # 오버로딩\n",
        "    print(*args, self.var)\n",
        "    return ', '.join(args)+self.var\n",
        "\n",
        "def show_electronics(name, *args):\n",
        "  if args:\n",
        "    return name.speak(*args)\n",
        "  else:\n",
        "    return name.speak()\n",
        "\n",
        "hp = HandPhone()\n",
        "#hp.speak()\n",
        "lt = LabTop()\n",
        "#lt.speak('노트북', '데스크탑', '건조기', '냉장고')\n",
        "\n",
        "print(show_electronics(hp))\n",
        "show_electronics(lt, '노트북', '데스크탑', '건조기', '냉장고')"
      ],
      "metadata": {
        "colab": {
          "base_uri": "https://localhost:8080/",
          "height": 72
        },
        "id": "p1z47EAMg4xL",
        "outputId": "8cf15e0c-4d92-4f6a-e657-4aef7bedf58a"
      },
      "execution_count": null,
      "outputs": [
        {
          "output_type": "stream",
          "name": "stdout",
          "text": [
            "핸드폰 : 전자기기입니다.\n",
            "노트북 데스크탑 건조기 냉장고  : 전자기기입니다.\n"
          ]
        },
        {
          "output_type": "execute_result",
          "data": {
            "text/plain": [
              "'노트북, 데스크탑, 건조기, 냉장고 : 전자기기입니다.'"
            ],
            "application/vnd.google.colaboratory.intrinsic+json": {
              "type": "string"
            }
          },
          "metadata": {},
          "execution_count": 35
        }
      ]
    },
    {
      "cell_type": "code",
      "source": [
        "class Robot:\n",
        "  def __init__(self, name):\n",
        "    self.name = name\n",
        "    print(f'안녕! 나는 {self.name}이야')\n",
        "  def helping(self):\n",
        "    print('도움을 줄 수 있어!')\n",
        "\n",
        "class ServingRobot(Robot):\n",
        "  # 오버라이딩\n",
        "  def helping(self):\n",
        "    print(\"음식을 가져다 드릴 수 있습니다\")\n",
        "  def move(self, table):\n",
        "    print(f\"{table}번 테이블로 음식을 가져다드렸습니다.\")\n",
        "\n",
        "class CleaningRobot(Robot):\n",
        "  # 유사 오버로딩\n",
        "  def helping(self, how = \"청소기\"):\n",
        "    print(f\"{how}로 청소합니다\")\n",
        "\n",
        "# 다형성\n",
        "def robot_mode(robot):\n",
        "  robot.helping()\n",
        "\n",
        "# 객체 생성\n",
        "robobo = ServingRobot('robobo')\n",
        "roboti = ServingRobot('roboti')\n",
        "\n",
        "# 오버라이딩 사용\n",
        "robobo.helping()\n",
        "# 오버로딩 사용\n",
        "roboti.helping('물걸레')\n",
        "# 다형성을 통한 메서드 호출\n",
        "robot_mode(robobo)\n",
        "robot_mode(roboti)"
      ],
      "metadata": {
        "id": "w89Q8DezjHdn"
      },
      "execution_count": null,
      "outputs": []
    }
  ]
}