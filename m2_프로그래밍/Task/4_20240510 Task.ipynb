{
  "nbformat": 4,
  "nbformat_minor": 0,
  "metadata": {
    "colab": {
      "provenance": []
    },
    "kernelspec": {
      "name": "python3",
      "display_name": "Python 3"
    },
    "language_info": {
      "name": "python"
    }
  },
  "cells": [
    {
      "cell_type": "markdown",
      "source": [
        "Task1_0510. try ~ except, try ~ except ~ finally, try ~ except ~else, try ~ except ~else ~finally 4가지 예외 처리가 필요한 경우에 대해서 코딩을 수행하세요."
      ],
      "metadata": {
        "id": "GFXbxG3IVaBe"
      }
    },
    {
      "cell_type": "code",
      "execution_count": null,
      "metadata": {
        "id": "h9BdQrm0VXsA"
      },
      "outputs": [],
      "source": [
        "user_input = input('정수입력 : ')\n",
        "my_list = [1,2,3]\n",
        "\n",
        "try:\n",
        "  int(user_input)\n",
        "except ValueError as e:\n",
        "  print(f\"An error occurred: {e}\")\n",
        "finally:\n",
        "  print(f'{user_input}')\n",
        "\n",
        "try:\n",
        "  print(my_list[3])\n",
        "except IndexError as e:\n",
        "  print(f'An error occurred: {e}')\n",
        "\n",
        "try:\n",
        "  print(my_list[3])\n",
        "except IndexError as e:\n",
        "  print(f'An error occurred: {e}')\n",
        "else:\n",
        "  print(my_list[-1])\n",
        "\n",
        "try:\n",
        "  int(user_input)\n",
        "except ValueError as e:\n",
        "  print(f\"An error occurred: {e}\")\n",
        "else:\n",
        "  print(f'{user_input}는 정수입니다!')\n",
        "finally:\n",
        "  print(f'{user_input}')"
      ]
    },
    {
      "cell_type": "markdown",
      "source": [
        "Task2_0510. 리스트 ['52','273','32','문자','103']에서 숫자 부분만 출력하세요(예외 처리 수행)"
      ],
      "metadata": {
        "id": "9wFsKVxJVqrH"
      }
    },
    {
      "cell_type": "code",
      "source": [
        "my_list = ['52','273','32','문자','103']\n",
        "\n",
        "for i in my_list:\n",
        "  try:\n",
        "    print(int(i), end =' ')\n",
        "  except ValueError as e:\n",
        "    pass"
      ],
      "metadata": {
        "colab": {
          "base_uri": "https://localhost:8080/"
        },
        "id": "6_Nxer_JVrYX",
        "outputId": "7843f891-036d-4f19-a249-ccdc085a00d2"
      },
      "execution_count": null,
      "outputs": [
        {
          "output_type": "stream",
          "name": "stdout",
          "text": [
            "52 273 32 103 "
          ]
        }
      ]
    },
    {
      "cell_type": "markdown",
      "source": [
        "Task3_0510. 두가지 시나리오를 예외처리를 하여 코드 작업을 수행하세요\n",
        "- 정수를 입력하면 > '예외 발생하지 않음' > '프로그램 종료'\n",
        "- 정수를 입력하지 않으면 > '정수 아님' > '프로그램 종료'"
      ],
      "metadata": {
        "id": "WLZTLyLkV0mQ"
      }
    },
    {
      "cell_type": "code",
      "source": [
        "while True:\n",
        "  try:\n",
        "    input = int(input('정수를 입력해주세요 : '))\n",
        "  except ValueError as e:\n",
        "    print('정수아님')\n",
        "    break\n",
        "  else:\n",
        "    print('예외 발생하지 않음')\n",
        "    break\n"
      ],
      "metadata": {
        "colab": {
          "base_uri": "https://localhost:8080/"
        },
        "id": "Y12Ph1jZhgFp",
        "outputId": "390fb2ef-c9b2-4221-bfb1-7cf50ae5a959"
      },
      "execution_count": null,
      "outputs": [
        {
          "output_type": "stream",
          "name": "stdout",
          "text": [
            "정수를 입력해주세요 : 2\n",
            "예외 발생하지 않음\n"
          ]
        }
      ]
    },
    {
      "cell_type": "markdown",
      "source": [
        "Task4_0510. 생성자만으로 구성된 클래스를 작성하고 객체 3개를 만들어서 결과를 출력하세요."
      ],
      "metadata": {
        "id": "kCM_wigjhgh4"
      }
    },
    {
      "cell_type": "code",
      "source": [
        "class myClass1:\n",
        "  def __init__(self, name, age, height):\n",
        "    self.name = name\n",
        "    self.age = age\n",
        "    self.height = height\n",
        "\n",
        "    print(f'{name}은 {age}살이고 {height}cm 입니다.')\n",
        "\n",
        "obj1 = myClass1('홍길동', 26, 174)\n",
        "obj2 = myClass1('홍길순', 30, 101)\n",
        "obj3 = myClass1('홍장군', 23, 182)"
      ],
      "metadata": {
        "colab": {
          "base_uri": "https://localhost:8080/"
        },
        "id": "skOdvP3fhsOm",
        "outputId": "620efe4c-1fc3-4239-b273-0e0f6131195a"
      },
      "execution_count": null,
      "outputs": [
        {
          "output_type": "stream",
          "name": "stdout",
          "text": [
            "홍길동\n",
            "23\n",
            "174\n"
          ]
        }
      ]
    },
    {
      "cell_type": "markdown",
      "source": [
        "Task5_0510. 생성자, 메소드를 모두 포함하는 클래스를 작성하고 객체 3개를 만들어서 결과를 출력하세요"
      ],
      "metadata": {
        "id": "qN9l7Ur9hhBQ"
      }
    },
    {
      "cell_type": "code",
      "source": [
        "class myClass1:\n",
        "  def __init__(self, name, age, height):\n",
        "    self.name = name\n",
        "    self.age = age\n",
        "    self.height = height\n",
        "\n",
        "  def __str__(self):\n",
        "    return f\"{self.name}은(는) {self.age}세 입니다\"\n",
        "\n",
        "  def user_info(self):\n",
        "    print(f'{self.name}은 {self.age}살이고 {self.height}cm 입니다.')\n",
        "\n",
        "user1 = myClass1('김한결', 30, 170)\n",
        "user2 = myClass1('김실로', 25, 180)\n",
        "user3 = myClass1('김제희', 21, 170)\n",
        "\n",
        "user1.user_info()\n",
        "user2.user_info()\n",
        "user3.user_info()\n",
        "user3.__str__()"
      ],
      "metadata": {
        "colab": {
          "base_uri": "https://localhost:8080/",
          "height": 91
        },
        "id": "O-UMd69Zhsj3",
        "outputId": "9a998953-f626-4dc2-8f41-d80e731f3b04"
      },
      "execution_count": null,
      "outputs": [
        {
          "output_type": "stream",
          "name": "stdout",
          "text": [
            "김한결은 30살이고 170cm 입니다.\n",
            "김실로은 25살이고 180cm 입니다.\n",
            "김제희은 21살이고 170cm 입니다.\n"
          ]
        },
        {
          "output_type": "execute_result",
          "data": {
            "text/plain": [
              "'김제희은(는) 21세 입니다'"
            ],
            "application/vnd.google.colaboratory.intrinsic+json": {
              "type": "string"
            }
          },
          "metadata": {},
          "execution_count": 1
        }
      ]
    },
    {
      "cell_type": "markdown",
      "source": [
        "Task6_0510. 여러개의 음식을 주문할 수 있는 주문 시스템을 작성하세요.(클래스 활용 - 객체 지향)"
      ],
      "metadata": {
        "id": "P7H3hOyRhi1E"
      }
    },
    {
      "cell_type": "code",
      "source": [
        "class Menu():\n",
        "  def __init__(self):\n",
        "    self.menu = {1: {'name' : '불고기비빔밥', 'price' : 12000},\n",
        "                 2: {'name' : '야채비빔밥', 'price' : 8000},\n",
        "                 3: {'name' : '전주비빔밥', 'price': 10000}}\n",
        "\n",
        "  def show_menu(self):\n",
        "    print(\"\\nKITA 식당에 오신 것을 환영합니다\")\n",
        "    print(\"\\n\" + \"=\" * 40)\n",
        "    print(\"\\n          - 메  뉴 -\")\n",
        "    print(\"    1. 불고기 비빔밥 : 12,000원\")\n",
        "    print(\"    2. 야채 비빔밥 : 8,000원\")\n",
        "    print(\"    3. 전주 비빔밥 : 10,000원\")\n",
        "    print(\"\\n    세트 주문시 : 3,000원 추가\")\n",
        "    print(\"    (세트는 밥과 반찬이 추가됩니다.)\")\n",
        "    print(\"\\n\" + \"=\" * 40)\n",
        "\n",
        "  def choice_menu(self):\n",
        "    while True:\n",
        "      try:\n",
        "        fnum = next((i for i in [int(input('메뉴 번호를 입력해주세요 : '))] if i in (1, 2, 3)))\n",
        "      except:\n",
        "        print('잘못 입력하셨습니다. 다시 입력해주세요')\n",
        "        continue\n",
        "\n",
        "      is_set  = next((True for i in [input('세트 주문을 하시겠습니까? (Y|N) : ').upper()] if i == 'Y'), False)\n",
        "\n",
        "      self.fnum = fnum\n",
        "      self.is_set = is_set\n",
        "      break\n",
        "\n",
        "class Order(Menu):\n",
        "  def __init__(self):\n",
        "    super().__init__()\n",
        "    super().choice_menu()\n",
        "    fnum = self.fnum\n",
        "    is_set = self.is_set\n",
        "\n",
        "    food = self.menu[fnum]\n",
        "    self.name = food['name']\n",
        "    self.price = food['price']\n",
        "\n",
        "    if is_set:\n",
        "      self.name = self.name + '(세트)'\n",
        "      self.price += 3000\n",
        "\n",
        "class OrderBasket():\n",
        "  def __init__(self):\n",
        "    self.orders = {}\n",
        "    self.total_price = 0\n",
        "  def add_order(self, order):\n",
        "    name = order.name\n",
        "    if name in self.orders:\n",
        "      self.orders[name] += 1\n",
        "    else:\n",
        "      self.orders[name] = 1\n",
        "\n",
        "    self.total_price += order.price\n",
        "\n",
        "class Kiosk:\n",
        "\n",
        "  def kiosk_start(self):\n",
        "    menu = Menu()\n",
        "    menu.show_menu()\n",
        "    order = Order()\n",
        "\n",
        "    basket = OrderBasket()\n",
        "    basket.add_order(order)\n",
        "\n",
        "    while True:\n",
        "      is_re_order  = lambda: True if input('추가로 주문 하시겠습니까? (Y|N) : ').upper() == 'Y' else False\n",
        "      if is_re_order():\n",
        "        order = Order()\n",
        "        basket.add_order(order)\n",
        "        continue\n",
        "      else:\n",
        "        print('주문이 완료되었습니다')\n",
        "        break\n",
        "\n",
        "    print('주문하신 메뉴는', end=' ')\n",
        "    for name, count in basket.orders.items():\n",
        "      print(f'{name} {count}개', end=', ')\n",
        "    print(f'총 금액 {basket.total_price}원 입니다.')\n",
        "\n",
        "if __name__ == '__main__':\n",
        "  k = Kiosk()\n",
        "  k.kiosk_start()"
      ],
      "metadata": {
        "colab": {
          "base_uri": "https://localhost:8080/"
        },
        "id": "Ym15bz-97qgT",
        "outputId": "bbf8bdd2-90bb-4370-a01e-760f668b8099"
      },
      "execution_count": 1,
      "outputs": [
        {
          "output_type": "stream",
          "name": "stdout",
          "text": [
            "\n",
            "KITA 식당에 오신 것을 환영합니다\n",
            "\n",
            "========================================\n",
            "\n",
            "          - 메  뉴 -\n",
            "    1. 불고기 비빔밥 : 12,000원\n",
            "    2. 야채 비빔밥 : 8,000원\n",
            "    3. 전주 비빔밥 : 10,000원\n",
            "\n",
            "    세트 주문시 : 3,000원 추가\n",
            "    (세트는 밥과 반찬이 추가됩니다.)\n",
            "\n",
            "========================================\n",
            "메뉴 번호를 입력해주세요 : 1\n",
            "세트 주문을 하시겠습니까? (Y|N) : N\n",
            "추가로 주문 하시겠습니까? (Y|N) : N\n",
            "주문이 완료되었습니다\n",
            "주문하신 메뉴는 불고기비빔밥 1개, 총 금액 12000원 입니다.\n"
          ]
        }
      ]
    },
    {
      "cell_type": "code",
      "source": [],
      "metadata": {
        "id": "waaqPSEQapIL"
      },
      "execution_count": null,
      "outputs": []
    }
  ]
}