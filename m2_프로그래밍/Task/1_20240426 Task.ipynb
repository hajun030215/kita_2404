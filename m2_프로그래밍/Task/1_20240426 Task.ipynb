{
  "nbformat": 4,
  "nbformat_minor": 0,
  "metadata": {
    "colab": {
      "provenance": []
    },
    "kernelspec": {
      "name": "python3",
      "display_name": "Python 3"
    },
    "language_info": {
      "name": "python"
    }
  },
  "cells": [
    {
      "cell_type": "markdown",
      "source": [
        "Task1_0426. 주어진 리스트에서 중복된 요소를 제외한 후 고유한 요소의 개수를 세는 프로그램을 작성하세요.\n",
        "data = [1, 2, 2, 3, 4, 4, 4, 5]"
      ],
      "metadata": {
        "id": "uAJRwqr9m3Sv"
      }
    },
    {
      "cell_type": "code",
      "execution_count": null,
      "metadata": {
        "id": "GY9eUittMwZh"
      },
      "outputs": [],
      "source": [
        "data = [1, 2, 2, 3, 4, 4, 4, 5]\n",
        "\n",
        "print(len(set(data)))"
      ]
    },
    {
      "cell_type": "markdown",
      "source": [
        "## Task2_0426. 두 개의 리스트에서 공통으로 나타나는 요소들을 찾아 리스트로 반환하는 프로그램을 작성하세요.\n",
        "\n",
        "예시 입력: list1 = [1, 2, 3, 4, 5], list2 = [4, 5, 6, 7, 8]\n",
        "\n",
        "예시 출력: [4, 5]"
      ],
      "metadata": {
        "id": "M3-c_kjAm6Nl"
      }
    },
    {
      "cell_type": "code",
      "source": [
        "list1 = [1, 2, 3, 4, 5]\n",
        "list2 = [4, 5, 6, 7, 8]\n",
        "# 출력 : [4, 5]\n",
        "\n",
        "sum_set = set(list1) & set(list2)\n",
        "print(list(sum_set))\n",
        "\n",
        "# 리스트로 반환"
      ],
      "metadata": {
        "id": "9GWCZSYxm6zK"
      },
      "execution_count": null,
      "outputs": []
    },
    {
      "cell_type": "markdown",
      "source": [
        "## Task3_0426. 주어진 숫자 리스트에서 특정 값보다 큰 요소가 하나라도 존재하는지 검사하고, 그 결과를 불 값으로 반환하는 함수를 작성하세요.\n",
        "\n",
        "[ 예시 ]\n",
        "- numbers = [1, 2, 3, 10, 20]\n",
        "- threshold = 15"
      ],
      "metadata": {
        "id": "emxfpPs2m7O4"
      }
    },
    {
      "cell_type": "code",
      "source": [
        "numbers = [1, 2, 3, 10, 20]\n",
        "threshold = 15\n",
        "\n",
        "def bool_test(numbers, thr):\n",
        "  check = False\n",
        "\n",
        "  for i in numbers:\n",
        "    if i > thr:\n",
        "      check = True\n",
        "\n",
        "  return bool(check)\n",
        "\n",
        "print(bool_test(numbers, threshold))\n",
        "\n",
        "#######################################\n",
        "\n",
        "def threshold_bool_check(numbers, target):\n",
        "  return any(num > target for num in numbers)\n",
        "\n",
        "print(threshold_bool_check(numbers, threshold))"
      ],
      "metadata": {
        "id": "3md9sbvsm7w8"
      },
      "execution_count": null,
      "outputs": []
    },
    {
      "cell_type": "markdown",
      "source": [
        "## Task4_0426. 주어진 문자열이 특정 문자열을 포함하는지 확인하고 결과를 불 값으로 반환하는 함수를 작성하세요.\n",
        "\n",
        "- text = \"hello world\"\n",
        "- substring = \"world\""
      ],
      "metadata": {
        "id": "lI20A29-m8Hs"
      }
    },
    {
      "cell_type": "code",
      "source": [
        "text = \"hello world\"\n",
        "substring = \"world\"\n",
        "\n",
        "# world가 text 안에 있느냐\n",
        "def return_bool(text, substring):\n",
        "  if substring in text:\n",
        "    return True\n",
        "  else:\n",
        "    return False\n",
        "\n",
        "print(return_bool(text, substring))"
      ],
      "metadata": {
        "id": "DpvaIJ7sm8aT"
      },
      "execution_count": null,
      "outputs": []
    },
    {
      "cell_type": "markdown",
      "source": [
        "## Task5_0426. 주어진 연도가 윤년인지 판별하는 함수를 작성하세요. 윤년은 다음의 조건을 만족해야 합니다:\n",
        "- 4로 나누어 떨어진다.\n",
        "- 100으로 나누어 떨어지지 않거나, 400으로 나누어 떨어지면 윤년이다.\n",
        "\n",
        "year = 2020\n",
        "\n",
        "True"
      ],
      "metadata": {
        "id": "39WFMusBm8ww"
      }
    },
    {
      "cell_type": "code",
      "source": [
        "def leap_year(year):\n",
        "\n",
        "  # if year % 4 == 0 and (year % 100 != 0 or year % 400 == 0):\n",
        "  # if ( not year % 4 ) and ( (year % 100) or ( not year % 400 ) )\n",
        "  if year % 4 == 0:\n",
        "    if year % 100 != 0 or year % 400 == 0:\n",
        "      return True\n",
        "  else:\n",
        "    return False\n",
        "\n",
        "year = 2024\n",
        "leap_year(year)"
      ],
      "metadata": {
        "id": "uID6pgcUm9GP"
      },
      "execution_count": null,
      "outputs": []
    },
    {
      "cell_type": "markdown",
      "source": [
        "## Task6_0426. Calculator 클래스를 작성하고 4친 연산을 수행하는 객체 4개를 작성하여 결과를 출력하세요."
      ],
      "metadata": {
        "id": "_44rodfXm9d3"
      }
    },
    {
      "cell_type": "code",
      "source": [
        "class Calculator:\n",
        "  def add(self, a, b):\n",
        "    return a + b\n",
        "\n",
        "  def mul(self, a, b):\n",
        "    return a * b\n",
        "\n",
        "  def devide(self, a, b):\n",
        "    if a|b == 0:\n",
        "      return \"ZeroDivision Error\"\n",
        "\n",
        "    return round((a / b), 2)\n",
        "\n",
        "  def subtract(self, a, b):\n",
        "    return a - b\n",
        "\n",
        "a = 10\n",
        "b = 3\n",
        "\n",
        "obj1 = Calculator()\n",
        "print(obj1.add(a, b))\n",
        "obj2 = Calculator()\n",
        "print(obj2.mul(a, b))\n",
        "obj3 = Calculator()\n",
        "print(obj3.devide(a, b))\n",
        "obj4 = Calculator()\n",
        "print(obj4.subtract(a, b))"
      ],
      "metadata": {
        "id": "g9dXbT02m96K"
      },
      "execution_count": null,
      "outputs": []
    },
    {
      "cell_type": "markdown",
      "source": [
        "## Task7_0426. 다음 과제를 수행하세요.\n",
        "- 사용자로 부터 텍스트를 입력 받는다.\n",
        "- 문자을 단어 단위로 분리 : split()\n",
        "- 단어의 빈도수를 저장할 딕셔너리를 생성\n",
        "- 각 단어의 빈도 수를 계산(for 문 / if else문): word = word.lower()\n",
        "- 결과 출력\n",
        "\n",
        "[ 예시 ]\n",
        "\n",
        "문장을 입력하세요: I love apple. I love orange. Apple is tasty\n",
        "\n",
        "{'i': 2, 'love': 2, 'apple.': 1, 'orange.': 1, 'apple': 1, 'is': 1, 'tasty': 1}"
      ],
      "metadata": {
        "id": "Q3WqzljHm-SF"
      }
    },
    {
      "cell_type": "code",
      "source": [
        "# 사용자로부터 문장을 입력 받아 공백을 기준으로 분리합니다.\n",
        "text = list(input(\"문장을 입력해주세요 : \").split(' '))\n",
        "\n",
        "# 단어의 빈도수를 저장할 딕셔너리 생성\n",
        "dict1 = {}\n",
        "\n",
        "# 각 단어의 빈도수 계산\n",
        "for i in text:\n",
        "  # 결과값에서 키가 소문자이어야 하기 때문에 lower() 함수 사용\n",
        "  i = i.lower()\n",
        "\n",
        "  # if i in dict1으로만 해도 된다. 굳이 keys를 뽑지 않아도 됨\n",
        "  if i in dict1.keys():\n",
        "    # i라는 키가 존재하면 + 1\n",
        "    dict1[i] += 1\n",
        "  else:\n",
        "    dict1[i] = 1\n",
        "\n",
        "print(dict1)"
      ],
      "metadata": {
        "id": "Ct94tI6Xm-qM"
      },
      "execution_count": null,
      "outputs": []
    }
  ]
}
