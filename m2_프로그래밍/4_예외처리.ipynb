{
  "nbformat": 4,
  "nbformat_minor": 0,
  "metadata": {
    "colab": {
      "provenance": []
    },
    "kernelspec": {
      "name": "python3",
      "display_name": "Python 3"
    },
    "language_info": {
      "name": "python"
    }
  },
  "cells": [
    {
      "cell_type": "markdown",
      "source": [
        "#### 에러(Error) vs. 예외(Exception).\n",
        "\n",
        "에러(Error):\n",
        "- 에러는 주로 프로그램 실행 전에 발생하는, 프로그램의 잘못된 구문이나 절차 등에 의해 발생하는 문제를 말한다.\n",
        "- 대표적인 에러로는 구문 에러(SyntaxError)가 있다. 예를 들어, 올바르지 않은 들여쓰기나 잘못된 코드 구조로 인해 파이썬 인터프리터가 코드를 실행하기 전에 에러를 발생시킨다.\n",
        "- 에러는 대체로 프로그램의 수정 없이는 복구될 수 없는 심각한 문제들이다.\n",
        "\n",
        "예외(Exception):\n",
        "- 예외는 실행 중인 프로그램에 영향을 주는 이벤트로, 일반적인 프로그램 흐름을 방해한다.\n",
        "- 예외는 프로그램의 정상적인 흐름을 방해하지만, 적절한 예외 처리를 통해 프로그램의 중단 없이 예외를 '잡아내고(catch)' 처리할 수 있다. 예를 들어, 파일을 열 때 파일이 존재하지 않는 경우 FileNotFoundError 예외가 발생할 수 있다. 이 경우 적절한 except 블록으로 예외를 처리하여 사용자에게 메시지를 표시하고 대안적인 행동을 취할 수 있다.\n",
        "- 예외는 try-except 블록을 통해 프로그램에서 처리할 수 있으며, 이를 통해 프로그램이 예외 상황에서도 안정적으로 동작하도록 만들 수 있다.\n",
        "\n",
        "요약하자면, 에러는 대개 코드 수정이 필요한 문제들을 가리키며, 예외는 프로그램 실행 중에 발생하지만 적절히 처리할 수 있는 예상 가능한 '예외적' 상황들을 말한다.\n",
        "\n",
        "#### 파이썬에서 발생할 수 있는 에러와 예외의 유형:\n",
        "에러 : 프로그램이 실행되기 전에 발생하는 문제\n",
        "- SyntaxError: 코드의 구문이 잘못되었을 때 생긴다.<br>\n",
        "\n",
        "예외 : 실행 시간(runtime) 중에 발생하고 처리 가능\n",
        "- NameError: 정의되지 않은 변수를 호출할 때 생긴다.\n",
        "- TypeError: 연산이나 함수가 부적절한 유형의 객체에 적용될 때 발생한다.\n",
        "- ValueError: 연산이나 함수가 적절하지 않은 값을 객체에 적용할 때 발생한다.\n",
        "- IndexError: 리스트 등의 시퀀스에서 존재하지 않는 인덱스를 사용할 때 생긴다.\n",
        "- KeyError: 딕셔너리에서 존재하지 않는 키를 사용할 때 발생한다.\n",
        "- AttributeError: 존재하지 않는 속성이나 메서드를 호출할 때 생긴다.\n",
        "- IOError 또는 OSError: 파일 입출력 과정에서 에러가 생길 때 발생한다.\n",
        "- ZeroDivisionError: 0으로 나눌 때 생긴다.\n",
        "- ImportError: 모듈을 임포트할 수 없을 때 발생한다.\n",
        "- StopIteration: 이터레이터에 더 이상의 아이템이 없을 때 next()를 호출하면 발생한다.\n",
        "- MemoryError: 메모리 할당이 실패할 때 생긴다.\n",
        "- RecursionError: 재귀 호출이 너무 깊어질 때 발생한다."
      ],
      "metadata": {
        "id": "jXMlX7jCExxa"
      }
    },
    {
      "cell_type": "code",
      "execution_count": null,
      "metadata": {
        "id": "a7r-i-krEmN6"
      },
      "outputs": [],
      "source": [
        "# 구문 오류 : 프로그램 실행전에 발생하는 오류\n",
        "# 예외 또는 런타임 오류 : 프로그램 실행 중에 발생하는 오류\n",
        "\n",
        "print('예외를 강제로 발생!)"
      ]
    },
    {
      "cell_type": "code",
      "source": [
        "# 정수를 입력하지 않은 경우 예외 발생 ValueError -> 예외처리\n",
        "num_input = int(input('정수 입력 : '))\n",
        "print('원의 반지름 : ', num_input)\n",
        "\n",
        "int('abc')"
      ],
      "metadata": {
        "id": "NbmpdHOGFaH4"
      },
      "execution_count": null,
      "outputs": []
    },
    {
      "cell_type": "code",
      "source": [
        "# TypeError : 부적절한 유형의 객체 연산\n",
        "'2' + 2"
      ],
      "metadata": {
        "id": "7Jmuo2hKFxYF"
      },
      "execution_count": null,
      "outputs": []
    },
    {
      "cell_type": "code",
      "source": [
        "# indexError: 존재하지 않는 인덱스 사용\n",
        "\n",
        "my_lsit = [1, 2, 3]\n",
        "print(my_list[3])"
      ],
      "metadata": {
        "id": "Jehu241JGGe_"
      },
      "execution_count": null,
      "outputs": []
    },
    {
      "cell_type": "code",
      "source": [
        "# param = 1\n",
        "print('안녕하세요')\n",
        "print(param)"
      ],
      "metadata": {
        "id": "0Ti_Kt0UFQku"
      },
      "execution_count": null,
      "outputs": []
    },
    {
      "cell_type": "code",
      "source": [
        "# KeyError : 딕셔너리에서 존재하지 않는 키 사용\n",
        "\n",
        "my_dict = {'a':1, 'b':2}\n",
        "print(my_dict['c'])"
      ],
      "metadata": {
        "id": "ry5M7oV_GcbB"
      },
      "execution_count": null,
      "outputs": []
    },
    {
      "cell_type": "code",
      "source": [
        "# AttributeError: 존재하지 않는 속성이나 메서드 호출, 리스트에는 push라는 메서드가 없어 AttributeError가 발생한다\n",
        "\n",
        "my_list = [1,2,3]\n",
        "my_list.push(4)"
      ],
      "metadata": {
        "id": "rnqZYTVUGlxW"
      },
      "execution_count": null,
      "outputs": []
    },
    {
      "cell_type": "code",
      "source": [
        "# IOError/OSError : 존재하지 않는 파일 열기 시도. 파일이 존재하지 않아 IOError 또는 OSError가 발생\n",
        "\n",
        "with open('non_existent_file.txt') as f:\n",
        "  read_data = f.read()"
      ],
      "metadata": {
        "id": "YCLTdDAMG1MA"
      },
      "execution_count": null,
      "outputs": []
    },
    {
      "cell_type": "code",
      "source": [
        "# ZeroDivisionError: 0으로 나누기\n",
        "\n",
        "division = 10 / 0"
      ],
      "metadata": {
        "id": "qnb7TwZ6HPxy"
      },
      "execution_count": null,
      "outputs": []
    },
    {
      "cell_type": "code",
      "source": [
        "# ImportError : 존재하지 않는 모듈 임포트 시도\n",
        "\n",
        "import non_existent_module"
      ],
      "metadata": {
        "id": "oghjiwJaHdYN"
      },
      "execution_count": null,
      "outputs": []
    },
    {
      "cell_type": "code",
      "source": [
        "# StopIteration: 이터레이터가 더이상 값을 제공하지 않음. 모든 값을 이미 소진한 이터레이터에 대해 next()를 호출하면 발생\n",
        "\n",
        "my_iterator = iter([1, 2, 3])\n",
        "next(my_iterator)\n",
        "next(my_iterator)\n",
        "next(my_iterator)\n",
        "next(my_iterator) # 여기서 StopIteration 발생"
      ],
      "metadata": {
        "id": "jp9r_nsgHirb"
      },
      "execution_count": null,
      "outputs": []
    },
    {
      "cell_type": "code",
      "source": [
        "# MemoryError: 매우 큰 메모리 할당 시도. 시스템에서 제공하는 메모리 용량을 초과하려고 하면 MemoryError가 발생\n",
        "\n",
        "very_large_list = [0]*(10**10)"
      ],
      "metadata": {
        "id": "HXOeQcbNHxxu"
      },
      "execution_count": null,
      "outputs": []
    },
    {
      "cell_type": "code",
      "source": [
        "# RecursionError:너무 깊은 재귀 호출\n",
        "# 아무런 종료 조건 없이 자기 자신을 계속해서 호출하므로, 파이썬의 최대 재귀 깊이에 도달할 때까지 실행\n",
        "# 이 한계에 도달하면 RecursionError 예외가 발생\n",
        "\n",
        "def recursive_function():\n",
        "  recursive_function()\n",
        "recursive_function()"
      ],
      "metadata": {
        "id": "3MSIl-OfIPtB"
      },
      "execution_count": null,
      "outputs": []
    },
    {
      "cell_type": "code",
      "source": [
        "# 조건문으로 예외처리\n",
        "\n",
        "user_input = input('정수입력 : ')\n",
        "if user_input.isdigit():\n",
        "  num_input = int(num_input)\n",
        "  print('원의 반지름 : ', num_input)\n",
        "else:\n",
        "  print(\"정수를 입력해주세요!\")"
      ],
      "metadata": {
        "id": "PCqLxsNfIdd6"
      },
      "execution_count": null,
      "outputs": []
    },
    {
      "cell_type": "markdown",
      "source": [
        "- 프로그램이 실행되는 동안 오류가 발생하면 프로그램이 더 이상 진행될 수 없는 상태가 되는데 이를 예외라고 함\n",
        "- 예외가 발생해도 프로그램을 중단하지 않고 예외에 대한 적절한 처리를 하여 프로그램을 계속 진행하도록 하는 구문이 try ~ except"
      ],
      "metadata": {
        "id": "NdFefUxdJguz"
      }
    },
    {
      "cell_type": "markdown",
      "source": [
        "#### 파이썬에서 예외 처리\n",
        "프로그램 실행 중 발생할 수 있는 오류를 예상하고 관리할 수 있게 하는 강력한 기능이다. 이는 try, except, else, finally 블록을 사용해 수행된다. 각 구성 요소에 대해 간략히 설명하자면:\n",
        "\n",
        "- try: 이 코드 블록은 예외를 발생시킬 수 있는 연산을 포함한다. 코드가 오류를 일으킬 수 있다는 것을 \"시도\"하는 곳이다.\n",
        "\n",
        "- except: try 블록 내에서 오류가 발생하면, 파이썬은 그 블록의 실행을 멈추고 except 블록으로 점프한다. except 블록에서는 예외를 처리한다, 즉 오류에 대응하는 코드가 들어간다. 특정 예외를 이름으로 잡거나 모든 예외를 잡을 수 있다.\n",
        "\n",
        "- else: 이 블록은 선택적이며 try-except 블록 뒤에 올 수 있다. else 블록의 코드는 try 블록에서 예외가 발생하지 않았을 때만 실행된다. try 블록이 성공적으로 실행됐을 때만 실행되어야 하는 코드를 넣기에 적합하다.\n",
        "\n",
        "- finally: 이 블록은 선택적이지만, 존재한다면 예외 발생 여부와 관계없이 실행된다. 파일을 닫거나 리소스를 해제하는 등의 정리 작업을 위해 자주 사용된다. 이 작업들은 오류 발생 여부와 관계없이 수행되어야 한다.\n",
        "#### 예외 처리 방법\n",
        "- try + except<br>\n",
        "  try : 에러가 발생할 것 같은, 예외처리를 하고 싶은 곳을 찾아서 try 구문에 코드를 작성합니다.<br>\n",
        "  except : 에러가 발생했을 때 처리할 코드를 작성합니다.\n",
        "- try + except + else<br>\n",
        "  else 는 에러가 발생하지 않았을때 거치는 구문입니다. else만 단독으로 try + else 는 불가능합니다. except 가 있어야 합니다.\n",
        "- try + finally<br>\n",
        "  finally 는 에러가 발생해도, 발생하지 않아도 무조건 거치는 구문입니다.except. 없이 try + finally 만 사용한다면 에러가 발생한 후에 finally 구문까지만 실행이 되고 프로그램이 중간에 죽게 됩니다.\n",
        "- try + except + finally\n",
        "  <br> except 구문을 추가하고 finally 구문도 있음\n",
        "- try + except + else + finally\n",
        "  <br> try (해당 구문 안에서 에러 발생 시 처리 가능 - 필수)\n",
        "  <br> except (에러 발생시 수행 - 선택이지만 에러를 처리하려면 필수)\n",
        "  <br> else (에러 없을 때 수행 - 선택이지만 except 없이는 올 수 없음)\n",
        "  <br> finally (에러가 있거나 없거나 상관없이 항상 수행 - 선택)"
      ],
      "metadata": {
        "id": "_3C2HH0sJwfT"
      }
    },
    {
      "cell_type": "code",
      "source": [
        "# 위의 예외 처리를 수행하세요\n",
        "\n",
        "try:\n",
        "  print(unknown_var)\n",
        "except NameError as e:\n",
        "  print(f\"An error occurred: {e}\")"
      ],
      "metadata": {
        "colab": {
          "base_uri": "https://localhost:8080/"
        },
        "id": "qo8kZ-eoI_Pu",
        "outputId": "c17bc412-1893-4d24-d45f-ea7ef3d08154"
      },
      "execution_count": null,
      "outputs": [
        {
          "output_type": "stream",
          "name": "stdout",
          "text": [
            "An error occurred: name 'unknown_var' is not defined\n"
          ]
        }
      ]
    },
    {
      "cell_type": "code",
      "source": [
        "try:\n",
        "  '2'+2\n",
        "except TypeError as e:\n",
        "  print(f'An error occurred: {e}')"
      ],
      "metadata": {
        "colab": {
          "base_uri": "https://localhost:8080/"
        },
        "id": "lIsQamRCLUJ6",
        "outputId": "da070c09-3df8-488c-bb52-efcfecb32e56"
      },
      "execution_count": null,
      "outputs": [
        {
          "output_type": "stream",
          "name": "stdout",
          "text": [
            "An error occurred: can only concatenate str (not \"int\") to str\n"
          ]
        }
      ]
    },
    {
      "cell_type": "code",
      "source": [
        "try:\n",
        "  int('abc')\n",
        "except ValueError as e:\n",
        "  print(f'An error occurred: {e}')"
      ],
      "metadata": {
        "colab": {
          "base_uri": "https://localhost:8080/"
        },
        "id": "FfmBwMJCLZ9N",
        "outputId": "b90c7913-d745-476f-b59d-fb803bd327c1"
      },
      "execution_count": null,
      "outputs": [
        {
          "output_type": "stream",
          "name": "stdout",
          "text": [
            "An error occurred: invalid literal for int() with base 10: 'abc'\n"
          ]
        }
      ]
    },
    {
      "cell_type": "code",
      "source": [
        "my_list = [1,2,3]\n",
        "\n",
        "try:\n",
        "  print(my_list[3])\n",
        "except indexError as e:\n",
        "  print(f'An error occurred: {e}')"
      ],
      "metadata": {
        "id": "TMSUVV7kMP-n"
      },
      "execution_count": null,
      "outputs": []
    },
    {
      "cell_type": "code",
      "source": [
        "my_dict = {'a':1, 'b':2}\n",
        "try:\n",
        "  print(my_dict['c'])\n",
        "except KeyError as e:\n",
        "  print(f\"The key wasn' found: {e}\")"
      ],
      "metadata": {
        "colab": {
          "base_uri": "https://localhost:8080/"
        },
        "id": "0v4oNGvIPV7N",
        "outputId": "806e677c-e80e-4330-d17b-00d9dc51ffaa"
      },
      "execution_count": null,
      "outputs": [
        {
          "output_type": "stream",
          "name": "stdout",
          "text": [
            "The key wasn' found: 'c'\n"
          ]
        }
      ]
    },
    {
      "cell_type": "code",
      "source": [
        "# e:는 AttributeError만을 잡아내어 처리하고, e를 통해 오류에 대한 자세한 정보를 얻을 수 있게한다.\n",
        "\n",
        "my_list = [1,2,3]\n",
        "try:\n",
        "  my_list.push(4)\n",
        "except AttributeError as e:\n",
        "  print(f\"An error occurred: {e}\")"
      ],
      "metadata": {
        "colab": {
          "base_uri": "https://localhost:8080/"
        },
        "id": "L_hFC3KyP9bf",
        "outputId": "77086437-d459-4d3c-ff26-b1f647005588"
      },
      "execution_count": null,
      "outputs": [
        {
          "output_type": "stream",
          "name": "stdout",
          "text": [
            "An error occurred: 'list' object has no attribute 'push'\n"
          ]
        }
      ]
    },
    {
      "cell_type": "code",
      "source": [
        "try:\n",
        "  with open('non_existent_file.txt') as f:\n",
        "    read_data = f.read()\n",
        "except OSError as e:\n",
        "  print(f\"File error: {e}\")"
      ],
      "metadata": {
        "id": "XnHsOWKPQjXV"
      },
      "execution_count": null,
      "outputs": []
    },
    {
      "cell_type": "code",
      "source": [
        "try:\n",
        "  division = 10/0\n",
        "except ZeroDivisionError as e:\n",
        "  print(f\"Math error: {e}\")"
      ],
      "metadata": {
        "id": "47UME3gsQtY8"
      },
      "execution_count": null,
      "outputs": []
    },
    {
      "cell_type": "code",
      "source": [
        "my_iterator = iter([1, 2, 3])\n",
        "try:\n",
        "  while True:\n",
        "    item = next(my_iterator)\n",
        "    print(item)\n",
        "except StopIteration:\n",
        "  print(\"Reached the end of the iterator.\")"
      ],
      "metadata": {
        "id": "pQb8Ve_LQysh"
      },
      "execution_count": null,
      "outputs": []
    },
    {
      "cell_type": "code",
      "source": [
        "# Q. 예외처리를 수행하세요.\n",
        "\n",
        "arr = ['b', 'l', 'o', 'g']\n",
        "\n",
        "try:\n",
        "  print(arr[8]) # error\n",
        "except IndexError as e:\n",
        "  print(f\"list index out of range: {e}\")"
      ],
      "metadata": {
        "colab": {
          "base_uri": "https://localhost:8080/"
        },
        "id": "twmQh95ITAQ2",
        "outputId": "fc1af137-97cc-4fa1-b3c6-2fa70a4a2f68"
      },
      "execution_count": null,
      "outputs": [
        {
          "output_type": "stream",
          "name": "stdout",
          "text": [
            "list index out of range: list index out of range\n"
          ]
        }
      ]
    },
    {
      "cell_type": "code",
      "source": [
        "try:\n",
        "  arr = ['b', 'l', 'o', 'g']\n",
        "  print(arr[3])\n",
        "except:\n",
        "  print('예외 발생')\n",
        "else:\n",
        "  print('예외가 발생하지 않았음')"
      ],
      "metadata": {
        "id": "HFRfL7eRTd9B"
      },
      "execution_count": null,
      "outputs": []
    },
    {
      "cell_type": "code",
      "source": [
        "try:\n",
        "  arr = ['b', 'l', 'o', 'g']\n",
        "  print(arr[3])\n",
        "except:\n",
        "  print('예외 발생')\n",
        "else:\n",
        "  print('예외가 발생하지 않았음')\n",
        "finally:\n",
        "  print('무조건 실행')"
      ],
      "metadata": {
        "id": "gMjEGWQ4UPhE"
      },
      "execution_count": null,
      "outputs": []
    }
  ]
}