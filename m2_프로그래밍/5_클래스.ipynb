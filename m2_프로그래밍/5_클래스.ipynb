{
  "nbformat": 4,
  "nbformat_minor": 0,
  "metadata": {
    "colab": {
      "provenance": []
    },
    "kernelspec": {
      "name": "python3",
      "display_name": "Python 3"
    },
    "language_info": {
      "name": "python"
    }
  },
  "cells": [
    {
      "cell_type": "markdown",
      "source": [
        "#### 객체(object) 개념 정리 ( 신원/타입/속성/메소드/클래스/OOP)\n",
        "- 파이썬 프로그램에서 모든 데이터는 객체(object)라는 개념을 사용하여 저장됩니다.\n",
        "- 가장 기본이 되는 데이터 타입인 숫자, 문자열, 리스트, 사전은 다 객체입니다.\n",
        "- 클래스를 사용해서 사용자 정의 객체를 생성할 수도 있습니다.\n",
        "- 또한 프로그램의 구조와 인터프리터의 내부 동작과 관련된 객체들도 있습니다\n",
        "- 객체(object) : 프로그램에서 저장되는 모든 데이터는 객체입니다. 각 객체는 신원(identity), 타입(클래스라고도 함)과 값을 가집니다.\n",
        "  - 객체의 신원(identity) : 객체가 메모리에 저장된 위치를 가리키는 포인터\n",
        "  - 객체의 타입(클래스) : 객체의 내부적인 표현 형태와 객체가 지원하는 메서드 및 연산들을 설명, 특정 타입의 객체가 생성되면 그 객체를 그 타입의 인스턴스(instance)라고 부른다.\n",
        "  - 객체의 속성(attribute)와 메서드(method) : 속성(attribute)은 객체에 연결된 값이고 메서드(method)는 호출될 때 객체에 대해 특정 연산을 수행하는 함수\n",
        "  \n",
        "https://happy-obok.tistory.com/22"
      ],
      "metadata": {
        "id": "K98ktm6GWH8m"
      }
    },
    {
      "cell_type": "markdown",
      "source": [
        "## 클래스\n",
        "\n",
        "클래스(class)란 똑같은 무엇인가를 계속해서 만들어 낼 수 있는 설계 도면이고(과자 틀),\n",
        "객체(object)란 클래스로 만든 피조물(과자 틀을 사용해 만든 과자)을 뜻한다.  \n",
        "과자 틀 → 클래스 (class)  \n",
        "과자 틀에 의해서 만들어진 과자 → 객체 (object)\n",
        "\n",
        "- class : 함수 + 변수 모아놓은 것\n",
        "- 오브젝트(object) : 클래스를 써서 만든 것\n",
        "- 오브젝트(object) == 인스턴스(instance)\n",
        "- 클래스를 정의한 후, 그 클래스를 사용해서 데이터 객체(인스턴스)를 만들 수 있다.\n",
        "- 동일한 클래스에 의해 만들어진 각 객체들은 유사한 특징을 공유한다.\n",
        "- 모든 인스턴스에서 메소드(=코드)는 동일하지만, 속성(데이터)는 다르다.\n",
        "  * 메소드 : 코드\n",
        "  * 속성 : 데이터\n",
        "  * 인스턴스 : 클래스에 의해 만들어진 데이터 객체\n",
        "  * a = 클래스() 이렇게 만든 a는 객체이다. 그리고 a 객체는 클래스의 인스턴스이다. 즉 인스턴스라는 말은 특정 객체(a)가 어떤 클래스의 객체인지를 관계 위주로 설명할 때 사용"
      ],
      "metadata": {
        "id": "9B3BR8kmWRfD"
      }
    },
    {
      "cell_type": "code",
      "execution_count": null,
      "metadata": {
        "colab": {
          "base_uri": "https://localhost:8080/"
        },
        "id": "jUGKl2P4WFpp",
        "outputId": "aa1827e3-9644-43f5-8c0a-c4bc4fc1655b"
      },
      "outputs": [
        {
          "output_type": "stream",
          "name": "stdout",
          "text": [
            "kita 과정입니다.\n",
            "Kita\n"
          ]
        }
      ],
      "source": [
        "# 생성자(Constructor)란 객체가 생성될 때 자동으로 호출되는 메서드를 의미\n",
        "# 파이썬 메서드 이름으로 __init__를 사용하면 이 메스드는 생성자가 된다.\n",
        "# 클래스 생성자(인자가 없는 경우)\n",
        "\n",
        "class Kita:\n",
        "  def __init__(self): # self : 객체 참조값\n",
        "    self.var = \"Kita\" # 인스턴스 멤버\n",
        "    print(\"kita 과정입니다.\")\n",
        "\n",
        "obj = Kita()\n",
        "print(obj.var)"
      ]
    },
    {
      "cell_type": "markdown",
      "source": [
        "#### self\n",
        "- Python에서 클래스 정의 시 self 키워드는 인스턴스 메서드의 첫 번째 매개변수로 사용\n",
        "- self의 사용법\n",
        "    - 클래스의 인스턴스 메서드를 정의할 때, 첫 번째 매개변수로 self를 사용\n",
        "    - self를 사용하여 인스턴스 속성에 접근하거나 설정\n",
        "    - self를 통해 같은 객체의 다른 메서드를 호출\n",
        "    - 클래스로부터 객체를 생성할 때, Python은 자동으로 self를 첫 번째 매개변수로 전달\n",
        "    - self는 객체의 속성과 메서드를 해당 객체에 속한 네임스페이스에 바인딩\n",
        "    - self는 해당 서브클래스의 인스턴스를 가리키며, 이를 통해 부모 클래스의 메서드와 속성에 접근"
      ],
      "metadata": {
        "id": "k_PtLhfGcqyr"
      }
    },
    {
      "cell_type": "code",
      "source": [
        "# 인스턴스 메서드 정의\n",
        "# __init__을 세팅하지 않으면 디폴트로 아무 기능없는 생성자를 자동생성한다.\n",
        "class MyClass:\n",
        "  def method(self, arg1, arg2):\n",
        "    pass\n",
        "    # 여기에서 self는 인스턴스 객체를 가리킵니다.\n",
        "    # arg1과 arg2는 전달된 인자입니다."
      ],
      "metadata": {
        "id": "hKY3sJ7vcrv6"
      },
      "execution_count": null,
      "outputs": []
    },
    {
      "cell_type": "code",
      "source": [
        "\n",
        "class MyClass2:\n",
        "  def __init__(self, value):\n",
        "    self.instance_variable = value # 인스턴스 변수 설정\n",
        "\n",
        "  def method(self):\n",
        "    return self.instance_variable # 인스턴스 변수 접근\n",
        "\n",
        "\n",
        "# 객체 생성시 자동 사용\n",
        "obj = MyClass2(10)\n",
        "# __init__ 메서드가 호출되며 self는 여기서 obj입니다.\n",
        "obj.method()"
      ],
      "metadata": {
        "id": "y8okXHcqf6Ty"
      },
      "execution_count": null,
      "outputs": []
    },
    {
      "cell_type": "code",
      "source": [
        "# 클래스 생성자(있는 경우)\n",
        "class Kita:\n",
        "  def __init__(self, name, age, major):\n",
        "    self.name  = name\n",
        "    self.age   = age\n",
        "    self.major = major\n",
        "\n",
        "  def get_user_info(self):\n",
        "\n",
        "    print(f'{self.name}은 {self.age}세이며 {self.major}를 전공했습니다.')\n",
        "\n",
        "a = Kita('홍길동', 25, 'computer')\n",
        "b = Kita('홍길순', 27, 'business')\n",
        "\n",
        "a.get_user_info()\n",
        "b.get_user_info()\n"
      ],
      "metadata": {
        "colab": {
          "base_uri": "https://localhost:8080/"
        },
        "id": "zE_GN13Ke7Wb",
        "outputId": "dcbeb8b3-7e4e-4a20-c185-cca48b2475a3"
      },
      "execution_count": null,
      "outputs": [
        {
          "output_type": "stream",
          "name": "stdout",
          "text": [
            "홍길동은 25세이며 computer를 전공했습니다.\n",
            "홍길순은 27세이며 business를 전공했습니다.\n"
          ]
        }
      ]
    },
    {
      "cell_type": "markdown",
      "source": [
        "## 클래스를 구성하는 요소\n",
        "- 클래스 선언: class 키워드와 대문자로 시작하는 이름 사용.\n",
        "- 생성자: \\__init__ 메서드로 인스턴스 초기화, self를 첫 인자로 사용.\n",
        "- 속성(Attributes): self.변수명 형태의 인스턴스 변수로 각 객체의 상태 정의.\n",
        "- 메서드(Methods): 객체의 동작을 정의하는 함수, 첫 인자로 self를 사용.\n",
        "- 상속(Inheritance): 다른 클래스의 기능을 확장 또는 수정.\n",
        "- 인스턴스화: 클래스 이름에 괄호를 추가하여 객체 인스턴스 생성.\n",
        "- self: 메서드와 속성에서 객체 자신을 참조.\n",
        "- 클래스 변수: 클래스 내 정의되고 모든 인스턴스에 공유.\n",
        "- 인스턴스 변수: self로 접근, 각 인스턴스에 고유한 데이터 저장.\n",
        "- 매직 메서드(특수 메서드): __로 둘러싸인 메서드로 내장 연산/함수 커스터마이즈."
      ],
      "metadata": {
        "id": "FrhNzF_TiEGJ"
      }
    },
    {
      "cell_type": "code",
      "source": [
        "# 상속 : 기본 클래스 또는 부모 클래스\n",
        "class Animal:\n",
        "  def __init__(self, name):\n",
        "    self.name = name\n",
        "\n",
        "  def speak(self):\n",
        "    raise NotImplementedError(\"Subclass must implement abstract method\") # 여기서 직접 사용할 일은 없다.\n",
        "\n",
        "# 자식 클래스에서 Animal 클래스 상속\n",
        "class Dog(Animal):\n",
        "  def speak(self): # 부모클래스에서 가져온 speak 메소드를 Overring:재정의 한 것\n",
        "    return f\"{self.name} says Woof!\"\n",
        "\n",
        "class Cat(Animal):\n",
        "  def speak(self):\n",
        "    return f\"{self.name} says Neow!\"\n",
        "\n",
        "dog = Dog('니니')\n",
        "cat = Cat('콩이')\n",
        "\n",
        "dog.speak()\n",
        "cat.speak()"
      ],
      "metadata": {
        "colab": {
          "base_uri": "https://localhost:8080/",
          "height": 35
        },
        "id": "Gb8cGZy9hboS",
        "outputId": "5ba6641a-6a69-4688-c2dd-0e12cec544cf"
      },
      "execution_count": null,
      "outputs": [
        {
          "output_type": "execute_result",
          "data": {
            "text/plain": [
              "'콩이 says Neow!'"
            ],
            "application/vnd.google.colaboratory.intrinsic+json": {
              "type": "string"
            }
          },
          "metadata": {},
          "execution_count": 23
        }
      ]
    },
    {
      "cell_type": "code",
      "source": [
        "# 클래스 변수 vs 인스턴스 변수\n",
        "# 클래스 변수 : 클래스의 모든 인스턴스에 공유되는 변수. 클래스 정의 내부에서 선언되고, 클래스 이름을 사용하여 접근\n",
        "class Car:\n",
        "  wheels = 4 # 클래스 변수\n",
        "\n",
        "  def __init__(self, brand, model):\n",
        "    self.brand = brand\n",
        "    self.model = model"
      ],
      "metadata": {
        "id": "1z67axPkm17C"
      },
      "execution_count": null,
      "outputs": []
    },
    {
      "cell_type": "markdown",
      "source": [
        "매직 메서드(Magic Methods)\n",
        "- 파이썬에서 특별한 의미를 가지는 내장 메서드로, 더블 언더스코어(__)로 시작하고 끝나는 메서드 이름을 갖는다.\n",
        "- 파이썬의 데이터 모델을 구성하는 핵심적인 부분으로, 파이썬의 객체가 다양한 연산에서 어떻게 동작할지를 정의.\n",
        "- 사용자가 이러한 메서드를 직접 호출하기보다는, 파이썬의 내부적인 구조나 연산을 통해 자동으로 호출.\n",
        "\n",
        "[ 매직 메서드의 예 ]\n",
        "\n",
        "`__init__(self, [...])`: 객체가 생성될 때 초기화를 위해 호출. 생성자라고도 한다.\\\n",
        "`__str__(self)`: 객체를 인간이 읽을 수 있는 문자열 형태로 변환할 때 사용. print() 함수나 str() 내장 함수를 사용할 때 자동으로 호출.\\\n",
        "`__repr__(self)`: 객체의 공식적인 문자열 표현을 생성할 때 사용. 개발자가 이 객체를 어떻게 볼지를 정의. 보통 객체를 다시 해당 객체를 생성할 수 있는 코드 형태로 표현.\\\n",
        "`__eq__(self, other)`: 두 객체의 동등성을 비교할 때 사용 (== 연산자).\\\n",
        "`__add__(self, other)`: 두 객체를 더할 때 사용 (+ 연산자).\\\n",
        "`__len__(self)`: 객체의 길이를 반환할 때 사용, 예를 들어 len() 함수가 호출될 때 자동으로 이 메서드를 사용."
      ],
      "metadata": {
        "id": "GcSwM7_unV34"
      }
    },
    {
      "cell_type": "code",
      "source": [
        "# 매직 메서드\n",
        "# __str__메서드는 객체의 공식적인 문자열 표현을 제공하는 표준방법\n",
        "# 이를 통해 print() 함수나 str() 함수와 같은 내장 함수에서 객체를 자동으로 문자열로 변환할 수 있다\n",
        "\n",
        "class Book:\n",
        "  def __init__(self, title, author):\n",
        "    self.title = title\n",
        "    self.author = author\n",
        "\n",
        "  def __str__(self): # 객체를 문자열로 표현할 때 사용\n",
        "    return f\"{self.title} by {self.author}\"\n",
        "\n",
        "obj = Book('해리포터', '조앤롤링')"
      ],
      "metadata": {
        "colab": {
          "base_uri": "https://localhost:8080/"
        },
        "id": "i9QnfP_lnH4Z",
        "outputId": "d70f0837-f7c5-4aab-f532-81ae52660c1e"
      },
      "execution_count": null,
      "outputs": [
        {
          "output_type": "execute_result",
          "data": {
            "text/plain": [
              "<__main__.Book at 0x7ad31591eb30>"
            ]
          },
          "metadata": {},
          "execution_count": 27
        }
      ]
    },
    {
      "cell_type": "code",
      "source": [
        "from cryptography.fernet import Fernet\n",
        "import difflib\n",
        "\n",
        "class File:\n",
        "  def __init__(self, filename):\n",
        "    pass\n",
        "\n",
        "class Encrypt(File):\n",
        "  def __init__(self, filename):\n",
        "    pass\n",
        "\n",
        "class Key(File):\n",
        "  def __init__(self, filename):\n",
        "    super().__init__(filename)\n",
        "    print(self.filename)\n",
        "\n",
        "class Decrypt(File):\n",
        "  def __init__(self, filename):\n",
        "    pass\n",
        "\n",
        "filename = 'test.txt'\n",
        "dataKey = key(filename)\n",
        "print(dataKey)\n",
        "encryptedFile = Encrypt(filename)\n",
        "print(encryptedFile)\n",
        "decryptedFile = Decrypt(filename)\n",
        "print(decryptedFile)"
      ],
      "metadata": {
        "id": "Grza58wedQvK"
      },
      "execution_count": null,
      "outputs": []
    },
    {
      "cell_type": "markdown",
      "source": [
        "Q. 클래스 구성 요소와 관련 아래 사항에 대한 사례를 작성하세요.\n",
        "- 클래스 선언\n",
        "- 생성자\n",
        "- 속성(attributes)\n",
        "- 메서드\n",
        "- 상속\n",
        "- 인스턴스화(객체 만들기)\n",
        "- 클래스 변수\n",
        "- 매직 메서드(특수 메서드)"
      ],
      "metadata": {
        "id": "QSP4Pv4nfPaL"
      }
    },
    {
      "cell_type": "code",
      "source": [
        "# 인스턴스 메서드는 해당 인스턴스의 데이터에 접근하고 조작할 수 있는 기능을 제공\n",
        "class Myclass:\n",
        "  var = '안녕하세요'\n",
        "  def __init__(self):\n",
        "    self.name = 'kita'\n",
        "    print(f'{self.name} 과정입니다')\n",
        "\n",
        "  def sayHello(self):\n",
        "    return self.var\n",
        "\n",
        "obj = MyClass()\n",
        "# obj 인스턴스를 통해 클래스 변수 var에 접근하여 그 값을 출력\n",
        "print(obj.var)\n",
        "# obj 인스턴스의 sayHello 메서드를 호출. 이 메서드는 클래스 변수 var를 반환하므로 결과적으로 '안녕하세요'rk cnffur\n",
        "print(obj.sayHello())"
      ],
      "metadata": {
        "id": "xDs0cVxSe9x6"
      },
      "execution_count": null,
      "outputs": []
    },
    {
      "cell_type": "code",
      "source": [
        "class AutoEmail:\n",
        "  def __init__(self, name, time):\n",
        "    self.name = name\n",
        "    self.time = time\n",
        "  def send(self):\n",
        "    return f\"안녕하세요 {self.name}님, 업무미팅은 {self.time}시 입니다.\"\n",
        "\n",
        "run1 = AutoEmail('Kevin', 2)\n",
        "run2 = AutoEmail(\"James\", 5)\n",
        "print(run1.send())\n",
        "print(run2.send())"
      ],
      "metadata": {
        "id": "uNW-idLzi5HB"
      },
      "execution_count": null,
      "outputs": []
    },
    {
      "cell_type": "code",
      "source": [
        "#Q. 기본가격 1000원인 2개의 상품에 대하여 임의의 추가 가격을 입력시 아래 두개의 방식으로 산출하세요.(class 이용)\n",
        "#- price1 : 기본가격 + 추가가격\n",
        "#- price2 : (기본가격 + 추가가격) * 90%\n",
        "\n",
        "class Product:\n",
        "  def __init__(self):\n",
        "    self.price = 1000\n",
        "\n",
        "class Expensive(Product):\n",
        "  def __init__(self, more_price):\n",
        "    super().__init__()\n",
        "    self.ex = self.price+more_price\n",
        "\n",
        "  def __str__(self):\n",
        "    return f'{self.ex}원'\n",
        "\n",
        "class Sale(Product):\n",
        "  def __init__(self):\n",
        "    super().__init__()\n",
        "\n",
        "  def __str__(self):\n",
        "    return f\"{(self.price*0.9):.0f}원\"\n",
        "\n",
        "p1 = Expensive(1000)\n",
        "p2 = Sale()\n",
        "\n",
        "print(p1)\n",
        "print(p2)"
      ],
      "metadata": {
        "colab": {
          "base_uri": "https://localhost:8080/"
        },
        "id": "ty6pz9Zrj6gF",
        "outputId": "641535db-5bef-4375-b519-c4ddbb338135"
      },
      "execution_count": 16,
      "outputs": [
        {
          "output_type": "stream",
          "name": "stdout",
          "text": [
            "2000원\n",
            "900원\n"
          ]
        }
      ]
    },
    {
      "cell_type": "markdown",
      "source": [
        "오버라이딩(Overriding)\n",
        "- 부모 클래스에 정의된 메서드를 자식 클래스에서 재정의\n",
        "\n",
        "오버로딩(Overloading)\n",
        "- 오버로딩(Overloading)은 하나의 클래스 내에서 메서드 이름은 같지만 매개변수의 타입이나 개수가 다른 여러 메서드를 정의하는 것을 의미. 이를 통해 동일한 메서드 호출에 다양한 매개변수를 사용할 수 있다.\n",
        "- 파이썬은 기본적으로 오버로딩을 직접 지원하지 않지만,  기본값 인자(default arguments), 가변 인자(variable arguments), 키워드 인자(keyword arguments) 등을 사용하여 유사한 기능을 구현\n",
        "\n",
        "다형성(Polymorphism)\n",
        "- 서로 다른 클래스의 객체가 동일한 인터페이스를 공유할 수 있게 하는 개념\n",
        "-  다형성은 하나의 인터페이스가 다양한 형태의 객체에 적용될 수 있음을 의미\n",
        "- 예를 들어, 여러 동물 클래스가 모두 speak 메서드를 갖고 있을 때, 이 메서드는 각 동물에 맞게 다르게 구현"
      ],
      "metadata": {
        "id": "1i7ovErtoMoS"
      }
    },
    {
      "cell_type": "code",
      "source": [
        "class Animal:\n",
        "  def speak(self):\n",
        "    return \"I'm an animal!\"\n",
        "\n",
        "# 오버라이딩 : Dog과 Cat 클래스는 Animal 클래스의 speak 메서드를 오버라이딩\n",
        "class Dog(Animal):\n",
        "  def speak(self):\n",
        "    return \"Woof!\"\n",
        "\n",
        "class Cat(Animal):\n",
        "  def speak(self):\n",
        "    return \"Meow!\""
      ],
      "metadata": {
        "id": "AHypjNl8oNxZ"
      },
      "execution_count": null,
      "outputs": []
    },
    {
      "cell_type": "code",
      "source": [
        "# 오버로딩 : 하나의 클래스 내에서 메서드 이름은 같지만 매개변수의 타입이나 개수가 다른 여러 메서드를 정의\n",
        "# 오버로딩 유사 구현 : Bird 클래스는 기본값 인자를 사용하여 오버로딩과 유사한 기능을 구현.\n",
        "class Animal:\n",
        "  def speak(self):\n",
        "    return \"I'm an animal!\"\n",
        "\n",
        "class Bird(Animal):\n",
        "  def speak(self, mood = 'happy'):\n",
        "    if mood == 'happy':\n",
        "      return \"Tweet!\"\n",
        "    else:\n",
        "      return \"Squawk!\"\n",
        "\n",
        "bird = Bird()\n",
        "# 오버로딩 유사 구현 사용\n",
        "print(bird.speak(\"angry\")) # Squawk!"
      ],
      "metadata": {
        "id": "SpjRr3ERs_OV"
      },
      "execution_count": null,
      "outputs": []
    },
    {
      "cell_type": "code",
      "source": [
        "# 다형성: 하나의 인터페이스가 다양한 형태의 객체에 적용\n",
        "\n",
        "def animal_sound(animal):\n",
        "  print(animal.speak())\n",
        "\n",
        "# 다형성을 통한 메서드 호출\n",
        "animal_sound(dog)\n",
        "animal_sound(cat)\n",
        "animal_sound(bird)"
      ],
      "metadata": {
        "id": "y2WlvlrHtkPj"
      },
      "execution_count": null,
      "outputs": []
    }
  ]
}