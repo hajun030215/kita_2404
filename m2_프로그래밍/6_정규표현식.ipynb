{
  "nbformat": 4,
  "nbformat_minor": 0,
  "metadata": {
    "colab": {
      "provenance": []
    },
    "kernelspec": {
      "name": "python3",
      "display_name": "Python 3"
    },
    "language_info": {
      "name": "python"
    }
  },
  "cells": [
    {
      "cell_type": "markdown",
      "source": [
        "파이썬에서 정규 표현식(Regular Expressions)은 문자열을 처리할 때 매우 강력하고 유연한 도구\n",
        "\n",
        "기본 개념:\n",
        "- 패턴 매칭 (Pattern Matching): 특정 패턴이 문자열에 존재하는지 확인. 예를 들어, 이메일 주소나 전화번호와 같은 특정 형식을 갖는 문자열을 찾을 때 사용\n",
        "\n",
        "- 메타 문자 (Meta Characters): 정규 표현식의 핵심 요소로, 특별한 의미를 가진 문자들. 예를 들어, ^, $, *, +, ?, {}, [], \\, |, () 등이 있습니다.\n",
        "\n",
        "- 리터럴 (Literal): 일반 텍스트 문자. 특별한 의미 없이 문자 그대로를 의미\n",
        "\n",
        "re 모듈 : 파이썬은 정규표현식을 지원하기 위해 기본으로 제공\n",
        "- re.compile의 결과로 리턴되는 객체를 이용하여 그 이후 작업 수행\n",
        "\n",
        "주요 기능:\n",
        "- re.match(pattern, string): 문자열 내에서 시작 부분부터 정규표현식과 일치하는지 확인\n",
        "- re.search(pattern, string): 문자열 전체를 검색하여 주어진 정규표현식과 일치하는 첫번째 위치를 확인\n",
        "- re.findall(pattern, string): 문자열 내에서 주어진 패턴과 일치하는 모든 부분을 찾아 리스트로 반환\n",
        "- re.finditer(): 정규식과 매치되는 모든 문자열을 반복 가능한 객체로 리턴\n",
        "- re.sub(pattern, repl, string): 문자열 내에서 주어진 패턴과 일치하는 부분을 다른 문자열로 대체\n",
        "- re.compile(pattern): 주어진 패턴을 컴파일하여 재사용 가능한 정규 표현식 객체를 생성"
      ],
      "metadata": {
        "id": "1nBDJxJzwMkJ"
      }
    },
    {
      "cell_type": "markdown",
      "source": [
        "re.match에서 반환되는 match 객체는 클래스의 인스턴스\n",
        "- Python의 re 모듈에서 match 객체는 re.Match 클래스의 인스턴스로, 정규 표현식과의 일치에 대한 정보를 담고 있다.\n",
        "\n",
        "- re.Match 클래스의 인스턴스는 다음과 같은 중요한 메소드와 속성을 가지고 있다:\n",
        "  - group(): 일치하는 문자열을 반환. group(0) 또는 group()은 전체 일치를 반환\n",
        "  - start() 및 end(): 일치하는 부분의 시작과 끝 인덱스를 반환.\n",
        "  - span(): 일치하는 부분의 시작과 끝 인덱스를 포함하는 튜플을 반환.\n",
        "  \n",
        "re.match() 함수의 작동원리\n",
        "- 입력: re.match() 함수는 두 가지 주요 인자를 받는다:\n",
        "    - pattern: 검사할 정규 표현식 패턴. 이 패턴은 문자열에서 찾고자 하는 문자의 시퀀스를 정의.\n",
        "    - string: 검사할 전체 문자열입니다.\n",
        "- 패턴 일치 검사: 함수는 주어진 string의 시작 부분부터 pattern에 정의된 정규 표현식과 일치하는지 확인. 여기서 \"시작 부분\"이 중요한데, 이는 함수가 문자열의 처음부터 패턴과 일치하는 부분을 찾는다는 것을 의미.\n",
        "\n",
        "- 결과 반환:\n",
        "    - 일치하는 경우: 패턴이 문자열의 시작 부분과 일치하는 경우, 함수는 re.Match 객체를 반환. 이 객체는 일치에 대한 상세한 정보(예: 일치하는 문자열, 시작 및 끝 인덱스, 캡처된 그룹 등)를 포함.\n",
        "    - 일치하지 않는 경우: 패턴이 문자열의 시작 부분과 일치하지 않으면, 함수는 None을 반환."
      ],
      "metadata": {
        "id": "KIwyzocbxwkZ"
      }
    },
    {
      "cell_type": "code",
      "execution_count": null,
      "metadata": {
        "id": "tlTk4WHYwJdt"
      },
      "outputs": [],
      "source": [
        "import re\n",
        "\n",
        "match = re.match('apple', 'apple pie')\n",
        "print(match.group()) # apple : 매칭 반환\n",
        "print(match.group(0)) # apple : 매칭 0번째 반환\n",
        "print(match.start()) # 0 인덱스 반환\n",
        "print(match.end()) # 5 인덱스 5 바로 앞까지라는 의미\n",
        "print(match.span()) # (0, 5) 인덱스 0~ 5바로 앞까지라는 의미"
      ]
    },
    {
      "cell_type": "code",
      "source": [
        "# 괄호는 문자열 'apple'을 '캡처 그룹'으로 지정하는 역할\n",
        "import re\n",
        "\n",
        "p = '(apple) pie'\n",
        "t = 'apple pie'\n",
        "\n",
        "match = re.match(p, t)\n",
        "print(match.group())\n",
        "print(match.group(1))"
      ],
      "metadata": {
        "colab": {
          "base_uri": "https://localhost:8080/"
        },
        "id": "h0R_WG7hzzBx",
        "outputId": "5041acf2-097e-48ea-f6ec-f94c4430bb0f"
      },
      "execution_count": null,
      "outputs": [
        {
          "output_type": "stream",
          "name": "stdout",
          "text": [
            "apple pie\n",
            "apple\n"
          ]
        }
      ]
    },
    {
      "cell_type": "code",
      "source": [
        "# ()가 단순한 문자열로 매치되길 원할 때는 이스케이프 처리. 이런경우 원칙적으로 백슬래시를 두번 사용해야한다\n",
        "p = '\\\\(apple\\\\) pie'\n",
        "t = '(apple) pie'\n",
        "\n",
        "match = re,match(p,t)\n",
        "print(match.group())"
      ],
      "metadata": {
        "id": "1w53w_ow0JJx"
      },
      "execution_count": null,
      "outputs": []
    },
    {
      "cell_type": "code",
      "source": [
        "# 로우스트링 r'...'을 사용하면, 백슬래시를 두번 연속해서 쓰는 것을 피할 수 있어 코드가 더 깔끔해지고 오류 발생 가능성을 낮춘다\n",
        "\n",
        "p = r'\\(apple\\) pie'\n",
        "t = '(apple) pie'\n",
        "\n",
        "match = re.match(p, t)\n",
        "print(match.group())"
      ],
      "metadata": {
        "id": "UsgHX5Un0wwH"
      },
      "execution_count": null,
      "outputs": []
    },
    {
      "cell_type": "code",
      "source": [
        "# 그룹\n",
        "\n",
        "p = '(apple) (pie)'\n",
        "t = 'apple pie'\n",
        "\n",
        "match = re.match(p,t)\n",
        "print(match.group())\n",
        "print(match.group(0))\n",
        "print(match.group(1))\n",
        "print(match.group(2))"
      ],
      "metadata": {
        "colab": {
          "base_uri": "https://localhost:8080/"
        },
        "id": "P7ODgfAk1JAk",
        "outputId": "f76007dd-71eb-4d45-a717-134cedaf282c"
      },
      "execution_count": null,
      "outputs": [
        {
          "output_type": "stream",
          "name": "stdout",
          "text": [
            "apple pie\n",
            "apple pie\n",
            "apple\n",
            "pie\n"
          ]
        }
      ]
    },
    {
      "cell_type": "code",
      "source": [
        "search = re.search('apple', 'sweet apple pie')\n",
        "print(search.group())\n",
        "print(search.groups())\n",
        "print(search.group(0))\n",
        "print(search.start())\n",
        "print(search.end())\n",
        "print(search.span())"
      ],
      "metadata": {
        "colab": {
          "base_uri": "https://localhost:8080/"
        },
        "id": "QSmyeLT62T1Q",
        "outputId": "0f39c1e8-2e62-4e5b-b425-d9aff764da50"
      },
      "execution_count": null,
      "outputs": [
        {
          "output_type": "stream",
          "name": "stdout",
          "text": [
            "apple\n",
            "()\n",
            "apple\n",
            "6\n",
            "11\n",
            "(6, 11)\n"
          ]
        }
      ]
    },
    {
      "cell_type": "code",
      "source": [
        "import re\n",
        "\n",
        "# 검색하기\n",
        "if re.search('apple', 'apple pie'):\n",
        "  print('found an apple!')\n",
        "\n",
        "# 모든 일치 항목 찾기\n",
        "print(re.findall('a.', 'ab ac ad')) # a 다음에 어떠 문자도 상관X\n",
        "\n",
        "# 문자열 대체하기\n",
        "print(re.sub('blue', 'red', 'blue sky and blue ocean'))\n",
        "\n",
        "# 패턴 컴파일 하기\n",
        "pattern = re.compile('[a-e]')\n",
        "print(pattern.findall('hello world'))"
      ],
      "metadata": {
        "colab": {
          "base_uri": "https://localhost:8080/"
        },
        "id": "m9sM_v8kaXdk",
        "outputId": "a6ca695b-21d3-402f-f376-98ba179f2fa5"
      },
      "execution_count": null,
      "outputs": [
        {
          "output_type": "stream",
          "name": "stdout",
          "text": [
            "found an apple!\n",
            "['ab', 'ac', 'ad']\n",
            "red sky and red ocean\n",
            "['e', 'd']\n"
          ]
        }
      ]
    },
    {
      "cell_type": "code",
      "source": [
        "import re\n",
        "\n",
        "pattern = r'\\d+'\n",
        "string = '123 apple'\n",
        "match = re,match(pattern, string) # match는 re.Match의 인스턴스\n",
        "if match:\n",
        "  print(match.group())\n",
        "  print(match.start())\n",
        "  print(match.end())\n",
        "  print(match.span())"
      ],
      "metadata": {
        "id": "FvXdKD9tq9tN"
      },
      "execution_count": null,
      "outputs": []
    },
    {
      "cell_type": "markdown",
      "source": [
        "#### 정규 표현식의 기본 구성 요소\n",
        "1. 리터럴(Literals): 일반 텍스트 문자(예: a, b, 1, 2)\n",
        "\n",
        "2. 메타 문자(Meta Characters): 특별한 의미를 지닌 문자들\n",
        "- `.`: 어떤 한 문자와 일치 (\\n 제외)\n",
        "- ^: 문자열의 시작과 일치\n",
        "- $: 문자열의 끝과 일치\n",
        "- *: 0번 이상 반복되는 경우와 일치\n",
        "- +: 1번 이상 반복되는 경우와 일치\n",
        "- ?: 0번 또는 1번 등장하는 경우와 일치\n",
        "- {m,n}: 최소 m번, 최대 n번 반복\n",
        "- []: 문자 집합 중 하나와 일치 (예: [abc]는 a, b, c 중 하나와 일치)\n",
        "- |: OR 조건 (예: a|b는 a 또는 b)\n",
        "- (...): 그룹화\n",
        "\n",
        "3. 특수 시퀀스(Special Sequences):\n",
        "- \\d: 숫자와 일치\n",
        "- \\D: 숫자가 아닌 공백, 문자, 구두점 등 모든 문자와 일치\n",
        "- \\s: 스페이스(' '), 탭('\\t'), 캐리지 리턴('\\r'), 뉴라인('\\n'), 폼 피드('\\f') 등 공백 문자와 일치\n",
        "- \\S: 공백이 아닌 문자, 숫자, 특수 문자 등 모든 것과 일치\n",
        "- \\w: 단어 문자(문자, 숫자, 밑줄)와 일치\n",
        "- \\W: 단어 문자가 아닌 특수 문자, 공백 문자, 구두점 등과 일치"
      ],
      "metadata": {
        "id": "-O7pZnoztO8V"
      }
    },
    {
      "cell_type": "markdown",
      "source": [
        "1. `.` (마침표)\n",
        "- 의미: 어떤 한 문자와 일치(줄바꿈 문자 제외)\n",
        "- 예시:\n",
        "  - 패턴: a.b\n",
        "  - 매칭 예시: \"acb\", \"a*b\", \"a3b\"\n",
        "  - 불일치 예시: \"ab\", \"a\\nb\"\n",
        "2. ^ (캐럿)\n",
        "- 의미: 문자열의 시작과 일치\n",
        "- 예시:\n",
        "  - 패턴: ^Hello\n",
        "  - 매칭 예시: \"Hello world\"\n",
        "  - 불일치 예시: \"world, Hello\"\n",
        "3. \\$ (달러 기호)\n",
        "- 의미: 문자열의 끝과 일치\n",
        "- 예시:\n",
        "  - 패턴: end$\n",
        "  - 매칭 예시: \"It's the end\"\n",
        "  - 불일치 예시: \"end of the story\"\n",
        "4. \\* (별표)\n",
        "- 의미: 앞의 문자가 0번 이상 반복\n",
        "- 예시:\n",
        "  - 패턴: a*b\n",
        "  - 매칭 예시: \"b\", \"ab\", \"aaab\"\n",
        "  - 불일치 예시: \"a\"\n",
        "5. \\+ (플러스)\n",
        "- 의미: 앞의 문자가 1번 이상 반복\n",
        "- 예시:\n",
        "  - 패턴: a+b\n",
        "  - 매칭 예시: \"ab\", \"aaab\"\n",
        "  - 불일치 예시: \"b\", \"a\"\n",
        "6. ? (물음표)\n",
        "- 의미: 앞의 문자가 0번 또는 1번 등장\n",
        "- 예시:\n",
        "  - 패턴: a?b\n",
        "  - 매칭 예시: \"ab\", \"b\"\n",
        "  - 불일치 예시: \"aab\"\n",
        "7. {m,n} (중괄호)\n",
        "- 의미: 앞의 문자가 최소 m번, 최대 n번 반복\n",
        "- 예시:\n",
        "  - 패턴: a{2,3}\n",
        "  - 매칭 예시: \"aa\", \"aaa\"\n",
        "  - 불일치 예시: \"a\", \"aaaa\"\n",
        "8. `[]` (대괄호)\n",
        "- 의미: 대괄호 안의 문자 중 하나와 일치\n",
        "- 예시:\n",
        "  - 패턴: [abc]\n",
        "  - 매칭 예시: \"a\", \"b\", \"c\"\n",
        "  - 불일치 예시: \"d\"\n",
        "9. | (파이프)\n",
        "- 의미: OR 조건\n",
        "- 예시:\n",
        "  - 패턴: a|b\n",
        "  - 매칭 예시: \"a\", \"b\"\n",
        "  - 불일치 예시: \"c\"\n",
        "10. (...) (괄호)\n",
        "- 의미: 그룹화, 캡처 그룹\n",
        "- 예시:\n",
        "  - 패턴: (a|b)c\n",
        "  - 매칭 예시: \"ac\", \"bc\""
      ],
      "metadata": {
        "id": "8kKj3YMjtbB3"
      }
    },
    {
      "cell_type": "markdown",
      "source": [
        "이스케이프 문자(escape character) vs 이스케이프 시퀀스(escape sequence)\n",
        "\n",
        "이스케이프 문자\n",
        "- 이스케이프 문자는 문자열 내에서 특수한 목적을 가지고 사용되는 문자. 대표적인 예로는 백슬래시(\\\\)가 있다.\n",
        "- 이 문자는 문자열 내에서 다른 문자와 결합하여 다양한 이스케이프 시퀀스를 형성하거나 특정 문자를 리터럴 값으로 표현하는 데 사용.\n",
        "\n",
        "이스케이프 시퀀스\n",
        "- 이스케이프 시퀀스는 이스케이프 문자에 이어지는 하나 또는 그 이상의 문자로 구성된 문자열.\n",
        "- 이스케이프 시퀀스는 일반적으로 출력할 수 없는 특수한 명령이나 문자를 표현하는 데 사용. 예를 들어, \\n은 새 줄(new line)을, \\t는 탭(tab)을 의미. 이스케이프 시퀀스는 이스케이프 문자를 통해 특별한 처리를 필요로 하는 여러 문자를 문자열 안에 포함시킬 수 있게 한다."
      ],
      "metadata": {
        "id": "JHvtl467wj-v"
      }
    },
    {
      "cell_type": "code",
      "source": [
        "# 이스케이프 문자 사용 예\n",
        "text = 'He said. \\\"Hello.\\\"'\n",
        "print(text)\n",
        "\n",
        "# 이스케이프 시퀀스 사용 예\n",
        "text = \"First Line\\nSecond Line\"\n",
        "print(text)"
      ],
      "metadata": {
        "colab": {
          "base_uri": "https://localhost:8080/"
        },
        "id": "VPlxOwfBtXAp",
        "outputId": "605a8a62-e291-416a-c9bf-211cac5b3fa3"
      },
      "execution_count": null,
      "outputs": [
        {
          "output_type": "stream",
          "name": "stdout",
          "text": [
            "He said. \"Hello.\"\n",
            "First Line\n",
            "Second Line\n"
          ]
        }
      ]
    },
    {
      "cell_type": "markdown",
      "source": [
        "Python에서 로우 스트링\n",
        "- 문자열 앞에 r이나 R을 붙여 정의\n",
        "- 주요 목적은 문자열 내에서 백슬래시(\\\\)와 같은 이스케이프 문자를 문자 그대로 처리하여, 특수 문자열을 이스케이프하는 복잡성을 줄인다.\n",
        "- 로우스트링 사용이 필수적인 경우\n",
        "  - 백슬래시 다음에 특정 문자가 오는 경우: 만약 문자열 내에 백슬래시(\\) 다음에 특별한 의미를 가지는 문자(n, t, b, r, u, x 등)가 오면, 이들은 각각 줄바꿈(\\n), 탭(\\t), 백스페이스(\\b), 캐리지 리턴(\\r), 유니코드 문자(\\uXXXX), 16진수 문자(\\xXX) 등으로 해석. 이런 경우 로우스트링을 사용하지 않으면 문자열이 의도치 않게 변경될 수 있다.\n",
        "\n",
        "  - 정규 표현식의 메타문자를 이스케이프 해야 할 때: 정규 표현식에서 메타문자(예: *, +, [, ], (, ), {, }, ^, $, ., |, ?, \\\\ 등)를 리터럴 문자로 사용하고 싶다면, 이스케이프 처리(\\)를 해야 합니다. 이때 로우스트링을 사용하지 않으면, \\ 자체를 이스케이프해야 하므로 코드가 복잡해질 수 있다."
      ],
      "metadata": {
        "id": "_--AnoqoyARX"
      }
    },
    {
      "cell_type": "code",
      "source": [
        "# 일반 문자열에서의 이스케이프 시퀀스 사용\n",
        "#path = \"C:\\\\Users\\\\Username\\\\Documents\"\n",
        "path = \"C:\\Ksers\\Ksername\\Kocuments\" # \\U와 \\D는 모두 해당되는 코드가 있다. \\U의 경우 유니코드\n",
        "print(path) # 출력 : C:\\Users\\Username\\Documents\n",
        "\n",
        "# 로우 스트링 사용\n",
        "raw_path = r\"C:\\Users\\Username\\Documents\"\n",
        "print(raw_path) # 출력 : C:\\Users\\Username\\Documents"
      ],
      "metadata": {
        "colab": {
          "base_uri": "https://localhost:8080/"
        },
        "id": "jmiriPgsyF8Z",
        "outputId": "85f6af6f-7b52-4223-959e-15e7fa9ba40e"
      },
      "execution_count": null,
      "outputs": [
        {
          "output_type": "stream",
          "name": "stdout",
          "text": [
            "C:\\Ksers\\Ksername\\Kocuments\n",
            "C:\\Users\\Username\\Documents\n"
          ]
        }
      ]
    },
    {
      "cell_type": "code",
      "source": [
        "import re\n",
        "pattern = r'(\\d{4})-(\\d{2})-(\\d{2})'\n",
        "text = \"오늘의 날짜는 2023-04-30입니다.\"\n",
        "match = re.search(pattern,text)\n",
        "print(match.groups())\n",
        "print(match.group())\n",
        "print(match.group(0))\n",
        "print(match.group(1))"
      ],
      "metadata": {
        "colab": {
          "base_uri": "https://localhost:8080/"
        },
        "id": "FECHWZwT16j7",
        "outputId": "ebb8339e-9bb3-41e4-99da-1c04b8d2cf4c"
      },
      "execution_count": null,
      "outputs": [
        {
          "output_type": "stream",
          "name": "stdout",
          "text": [
            "('2023', '04', '30')\n",
            "2023-04-30\n",
            "2023-04-30\n",
            "2023\n"
          ]
        }
      ]
    },
    {
      "cell_type": "code",
      "source": [
        "import re\n",
        "\n",
        "# 정규표현식 패턴 : YYYY-MM-DD 형식의 날짜\n",
        "pattern = r'(\\d{4})-(\\d{2})-(\\d{2})'\n",
        "\n",
        "text = \"오늘의 잘짜는 2023-04-30입니다.\"\n",
        "match = re.search(pattern, text)\n",
        "if match:\n",
        "  print(f\"{match.group(1)}년 {match.group(2)}월 {match.group(3)}일\")"
      ],
      "metadata": {
        "colab": {
          "base_uri": "https://localhost:8080/"
        },
        "id": "d4Snm40J3-gd",
        "outputId": "b8902fe5-23f8-401f-a692-69f9696238b3"
      },
      "execution_count": null,
      "outputs": [
        {
          "output_type": "stream",
          "name": "stdout",
          "text": [
            "2023년 04월 30일\n"
          ]
        }
      ]
    },
    {
      "cell_type": "code",
      "source": [
        "# Q. 문자열 \"The cat in the hat.\"에서 \"cat\"과 \"hat\"을 찾으세요.\n",
        "import re\n",
        "\n",
        "text = \"The cat in the hat.\"\n",
        "pattern = r\"[ch]+at\"\n",
        "pattern = r\"[ch]*at\"\n",
        "pattern = r\".*(cat).*(hat).*\"\n",
        "\n",
        "a = re.findall(pattern, text)\n",
        "a = re.search(pattern, text)\n",
        "print(a)\n",
        "print(a.group(2)) # 이 경우 0이면 모든 문자열이 나오는데 1이면 cat이 나온다 2는 hat\n",
        "print(a.groups()) # 이 경우 cat과 hat만 출력"
      ],
      "metadata": {
        "colab": {
          "base_uri": "https://localhost:8080/"
        },
        "id": "7Z9xfZz7451w",
        "outputId": "6fd49205-0253-4ddd-bb57-25ca4358d457"
      },
      "execution_count": null,
      "outputs": [
        {
          "output_type": "stream",
          "name": "stdout",
          "text": [
            "<re.Match object; span=(0, 19), match='The cat in the hat.'>\n",
            "hat\n",
            "('cat', 'hat')\n"
          ]
        }
      ]
    },
    {
      "cell_type": "code",
      "source": [
        "import re\n",
        "\n",
        "text = \"bat, cat, rat, fat\"\n",
        "pattern = f\"[bcr]at\"\n",
        "pattern = f\"[^f]at\" # 가 아닌것\n",
        "matches = re.findall(pattern, text)\n",
        "print(matches)"
      ],
      "metadata": {
        "colab": {
          "base_uri": "https://localhost:8080/"
        },
        "id": "7tJjOVfc6W_w",
        "outputId": "556b9443-52c2-469a-e0f0-7da51d00ef0f"
      },
      "execution_count": null,
      "outputs": [
        {
          "output_type": "stream",
          "name": "stdout",
          "text": [
            "['bat', 'cat', 'rat']\n"
          ]
        }
      ]
    },
    {
      "cell_type": "code",
      "source": [
        "# Q. 문자열 \"123 abc 456\"에서 모든 숫자를 찾으세요.\n",
        "\n",
        "text = \"123 abc 456\"\n",
        "pattern = r\"(\\d)+\"\n",
        "pattern = r\"[\\d]+\" # 위와 같은 결과\n",
        "pattern = r\"[\\d]+\" # 1, 2, 3, 4, 5, 6 : [ ]안에서 사용하면 하나만 찾기 때문\n",
        "pattern = r\"\\d+\" # 1, 2번과 같은 결과 : '123', '456'\n",
        "match = re.findall(pattern, text) # findall은 search나 match finditer와 다르게 리스트 객체이다.\n",
        "print(match) # findall 외는 모두 re의 인스턴스이다."
      ],
      "metadata": {
        "colab": {
          "base_uri": "https://localhost:8080/"
        },
        "id": "W4kWZ9wV7R94",
        "outputId": "5c467d40-eb94-464a-85d5-ad67015211a5"
      },
      "execution_count": null,
      "outputs": [
        {
          "output_type": "stream",
          "name": "stdout",
          "text": [
            "['123', '456']\n"
          ]
        }
      ]
    },
    {
      "cell_type": "code",
      "source": [
        "# Q. 문자열 \"Hello, my name is John.\"에서 첫단어 \"Hello\"를 찾으세요.\n",
        "\n",
        "text = \"Hello, my name is John.\"\n",
        "pattern = f\"^Hello\"\n",
        "pattern = f\"^\\w+\"\n",
        "pattern = f\"^[\\S]+\" # 이경우 Hello, 반환\n",
        "pattern = f\"^[\\w+]\" # 이 경우 H만 반환\n",
        "pattern = f\"^[\\w]+\" # 이렇게해야 Hello 반환\n",
        "pattern = f\"[\\w]+\"\n",
        "\n",
        "match = re.match(pattern, text)\n",
        "print(match.group())"
      ],
      "metadata": {
        "colab": {
          "base_uri": "https://localhost:8080/"
        },
        "id": "Awq18wU98dKE",
        "outputId": "b5216499-b039-40b0-a327-32a6f2a46784"
      },
      "execution_count": null,
      "outputs": [
        {
          "output_type": "stream",
          "name": "stdout",
          "text": [
            "Hello\n"
          ]
        }
      ]
    },
    {
      "cell_type": "code",
      "source": [
        "# Q. \"The car parked in the garage #42.\"에서 문장의 마지막 단어 \"garage\"를 찾으세요\n",
        "import re\n",
        "print(re.search('garage', \"The car parked in the garage #42.\").group())"
      ],
      "metadata": {
        "colab": {
          "base_uri": "https://localhost:8080/"
        },
        "id": "vEYsW72N-MoY",
        "outputId": "89e92ced-cc65-4502-d083-67a03ffc6070"
      },
      "execution_count": null,
      "outputs": [
        {
          "output_type": "stream",
          "name": "stdout",
          "text": [
            "garage\n"
          ]
        }
      ]
    },
    {
      "cell_type": "code",
      "source": [
        "pattern = re.compile('[a-z]+')\n",
        "p1 = pattern.search('Banker')\n",
        "p2 = pattern.search('banker')\n",
        "print(p1.group())\n",
        "print(p2.group())"
      ],
      "metadata": {
        "colab": {
          "base_uri": "https://localhost:8080/"
        },
        "id": "vqnes6mV-sKz",
        "outputId": "3531e3ca-d318-4350-cdca-d84eed378bcf"
      },
      "execution_count": null,
      "outputs": [
        {
          "output_type": "stream",
          "name": "stdout",
          "text": [
            "anker\n",
            "banker\n"
          ]
        }
      ]
    },
    {
      "cell_type": "code",
      "source": [
        "import re\n",
        "regex = re.compile('[a]')\n",
        "text = '12345abc'\n",
        "print(re.search(regex, text).group())\n",
        "\n",
        "regex = re.compile('[A-Z]')\n",
        "text = '12345Abc'\n",
        "print(re.search(regex, text).group())"
      ],
      "metadata": {
        "colab": {
          "base_uri": "https://localhost:8080/"
        },
        "id": "rqGT6NyW_Ocf",
        "outputId": "4485204e-59d3-477c-b3ef-b18f794322b8"
      },
      "execution_count": null,
      "outputs": [
        {
          "output_type": "stream",
          "name": "stdout",
          "text": [
            "a\n",
            "A\n"
          ]
        }
      ]
    },
    {
      "cell_type": "code",
      "source": [
        "# Q. 'KOREA 대한민국'에서 '대'만 출력하세요.\n",
        "\n",
        "regex = re.compile('[가-힣]')\n",
        "\n",
        "text = 'KOREA 아대한민국'\n",
        "pattern = r\"[아]\"\n",
        "print(re.search(pattern, text).group()) # 아\n",
        "print(re.search(regex, text).group(0)) # 아 : 서치한 맨 첫글자\n",
        "print(re.findall(regex, text)) # 아, 대, 한, 민, 국"
      ],
      "metadata": {
        "colab": {
          "base_uri": "https://localhost:8080/"
        },
        "id": "SlyJCXbQ_5Fr",
        "outputId": "62486bae-f774-494b-bfef-92a2ea9c7d95"
      },
      "execution_count": null,
      "outputs": [
        {
          "output_type": "stream",
          "name": "stdout",
          "text": [
            "아\n",
            "아\n",
            "['아', '대', '한', '민', '국']\n"
          ]
        }
      ]
    },
    {
      "cell_type": "code",
      "source": [
        "# search 문자열 전체를 검색하여 정규식과 매칭되는 패턴을 찾는다.\n",
        "# a{2}는 a를 2회 반복하여 사용\n",
        "# Q. '122333c' 를 모두 출력하세요\n",
        "import re\n",
        "regex = re.compile('12{2}3{3}c')\n",
        "text = '122333c'\n",
        "m = regex.search(text)\n",
        "m.group()"
      ],
      "metadata": {
        "colab": {
          "base_uri": "https://localhost:8080/",
          "height": 35
        },
        "id": "FcbjYZm8A-Kd",
        "outputId": "a14910f5-49da-4845-cc51-67f6203f673a"
      },
      "execution_count": null,
      "outputs": [
        {
          "output_type": "execute_result",
          "data": {
            "text/plain": [
              "'122333c'"
            ],
            "application/vnd.google.colaboratory.intrinsic+json": {
              "type": "string"
            }
          },
          "metadata": {},
          "execution_count": 90
        }
      ]
    },
    {
      "cell_type": "code",
      "source": [
        "# Q. 'aaaaBBBcccDDDeee'을 모두 출력하세요.\n",
        "\n",
        "import re\n",
        "regex = re.compile('a{4}B{3}c{3}D{3}e{3}')\n",
        "regex = re.compile('[a-zA-Z]+')\n",
        "regex = re.compile('[\\w]+')\n",
        "text = 'aaaaBBBcccDDDeee'\n",
        "m = regex.search(text)\n",
        "m.group()"
      ],
      "metadata": {
        "colab": {
          "base_uri": "https://localhost:8080/",
          "height": 35
        },
        "id": "GSh-airrDmC3",
        "outputId": "10bcf2ac-c8e4-4fe0-ebe2-a33a39750263"
      },
      "execution_count": null,
      "outputs": [
        {
          "output_type": "execute_result",
          "data": {
            "text/plain": [
              "'aaaaBBBcccDDDeee'"
            ],
            "application/vnd.google.colaboratory.intrinsic+json": {
              "type": "string"
            }
          },
          "metadata": {},
          "execution_count": 99
        }
      ]
    },
    {
      "cell_type": "code",
      "source": [
        "# finditer는 findall과 동일하지만 그 결과로 반복가능한 객체를 돌려준다.\n",
        "# 반복가능한 객체가 포함하는 각각의 요소는 match객체이다\n",
        "\n",
        "p = re.compile('[a-z]+')\n",
        "result = p.finditer('life is too short')\n",
        "for r in result:print(r.group()) # findall은 리스트 finditer는 match객체 반환"
      ],
      "metadata": {
        "colab": {
          "base_uri": "https://localhost:8080/"
        },
        "id": "xUITcKuCFaf5",
        "outputId": "f3ce1fab-881c-4120-c911-740fc1c0af83"
      },
      "execution_count": null,
      "outputs": [
        {
          "output_type": "stream",
          "name": "stdout",
          "text": [
            "life\n",
            "is\n",
            "too\n",
            "short\n"
          ]
        }
      ]
    },
    {
      "cell_type": "code",
      "source": [
        "# Q. '1234a1234'에서 '1', '2', '3', '4'를 모두 출력하세요\n",
        "\n",
        "import re\n",
        "\n",
        "regex = re.compile('[1234]')\n",
        "text = '1234a1234'\n",
        "\n",
        "regex.findall(text)"
      ],
      "metadata": {
        "colab": {
          "base_uri": "https://localhost:8080/"
        },
        "id": "6RPo_k3sGpoi",
        "outputId": "6bcee21e-f127-43c3-b7bd-42e9b547e479"
      },
      "execution_count": null,
      "outputs": [
        {
          "output_type": "execute_result",
          "data": {
            "text/plain": [
              "['1', '2', '3', '4', '1', '2', '3', '4']"
            ]
          },
          "metadata": {},
          "execution_count": 101
        }
      ]
    },
    {
      "cell_type": "code",
      "source": [
        "# Dot(.) 메타 문자는 줄바꿈 문자를 제외한 모든 문자와 매치\n",
        "import re\n",
        "p = re.compile('a.+b')\n",
        "m1 = p.match('a\\nb')\n",
        "m2 = p.match('acb')\n",
        "m3 = p.match('a12?Ab')\n",
        "print(m1)\n",
        "print(m2.group())\n",
        "print(m3.group())"
      ],
      "metadata": {
        "colab": {
          "base_uri": "https://localhost:8080/"
        },
        "id": "H7UpzdVtYf1n",
        "outputId": "ca6bf00b-3ea4-407e-f0d4-260a63cca66d"
      },
      "execution_count": null,
      "outputs": [
        {
          "output_type": "stream",
          "name": "stdout",
          "text": [
            "None\n",
            "acb\n",
            "a12?Ab\n"
          ]
        }
      ]
    },
    {
      "cell_type": "code",
      "source": [
        "# re.DOTALL 옵션은 여러줄로 이루어진 문자열에서 \\n에 상관없이 검색시 사용\n",
        "\n",
        "p = re.compile('a.b', re.DOTALL)\n",
        "m = p.match('a\\nb')\n",
        "print(m.group())\n",
        "# a\\nb가 모두 출력이라 줄바꿈되어 출력된다"
      ],
      "metadata": {
        "colab": {
          "base_uri": "https://localhost:8080/"
        },
        "id": "9wGm_9_R3G0u",
        "outputId": "b370288d-68d2-4075-92be-a13a36f22b3c"
      },
      "execution_count": null,
      "outputs": [
        {
          "output_type": "stream",
          "name": "stdout",
          "text": [
            "a\n",
            "b\n"
          ]
        }
      ]
    },
    {
      "cell_type": "code",
      "source": [
        "# Q. text에서 what are you doing?만 출력\n",
        "\n",
        "text = 'what are you doing?\\nit is going to be late for school\\nwe need to hurry up'\n",
        "\n",
        "p = re.compile('.*')\n",
        "p = re.compile('.*', re.DOTALL)\n",
        "print(p.search(text).group())"
      ],
      "metadata": {
        "colab": {
          "base_uri": "https://localhost:8080/"
        },
        "id": "wU_SH3uY4FQ-",
        "outputId": "ea643866-9bac-4fd3-9e6a-599e5e06d6b5"
      },
      "execution_count": null,
      "outputs": [
        {
          "output_type": "stream",
          "name": "stdout",
          "text": [
            "what are you doing?\n",
            "it is going to be late for school\n",
            "we need to hurry up\n"
          ]
        }
      ]
    },
    {
      "cell_type": "code",
      "source": [
        "# re.IGNORECASE 또는 re.I 옵션은 대소문자 구분 없이 매치를 수행시 사용\n",
        "p = re.compile('[a-z]+', re.I)\n",
        "print(p.match('Python'))\n",
        "print(p.match('python'))\n",
        "print(p.match('PYTHON'))"
      ],
      "metadata": {
        "colab": {
          "base_uri": "https://localhost:8080/"
        },
        "id": "V9IV7mli5MoH",
        "outputId": "5f1f8dbf-958a-4f35-8dbc-6788a2aa1927"
      },
      "execution_count": null,
      "outputs": [
        {
          "output_type": "stream",
          "name": "stdout",
          "text": [
            "<re.Match object; span=(0, 6), match='Python'>\n",
            "<re.Match object; span=(0, 6), match='python'>\n",
            "<re.Match object; span=(0, 6), match='PYTHON'>\n"
          ]
        }
      ]
    },
    {
      "cell_type": "code",
      "source": [
        "# 대소문자를 구분하지 않고 매치시키려면 compile 메소드의 두번째 매개변수를 re.I로 넘겨준다 (re.모듈의 상수다)\n",
        "\n",
        "text = 'Friend fRiend friEnd FRIEND'\n",
        "\n",
        "p = re.compile(r'friend', re.I)\n",
        "print(p.findall(text))"
      ],
      "metadata": {
        "colab": {
          "base_uri": "https://localhost:8080/"
        },
        "id": "p7C9sbEn50y7",
        "outputId": "4691f1af-0a85-464c-a111-ee7602823103"
      },
      "execution_count": null,
      "outputs": [
        {
          "output_type": "stream",
          "name": "stdout",
          "text": [
            "['Friend', 'fRiend', 'friEnd', 'FRIEND']\n"
          ]
        }
      ]
    },
    {
      "cell_type": "code",
      "source": [
        "# python이라는 문자열로 시작하고 그뒤에 whitespace, 그뒤에 단어가 오는경우\n",
        "# re.MULTILINE 또는 re.M 옵션으로 ^테마 문자를 각 라인의 처음으로 인식시킴\n",
        "\n",
        "import re\n",
        "p = re.compile('^python\\s\\w+', re.M) # ^때문에 문자열 맨 앞에 위치만 python one만 매칭된다.\n",
        "\n",
        "data = \"\"\"python one\n",
        "life is too short\n",
        "python  two\n",
        "you need python\n",
        "python three\"\"\"\n",
        "\n",
        "print(p.findall(data))"
      ],
      "metadata": {
        "colab": {
          "base_uri": "https://localhost:8080/"
        },
        "id": "J4mz9W_r6Xa6",
        "outputId": "749d640f-ac73-48c5-9ef7-7287a0c67d77"
      },
      "execution_count": null,
      "outputs": [
        {
          "output_type": "stream",
          "name": "stdout",
          "text": [
            "['python one', 'python three']\n"
          ]
        }
      ]
    },
    {
      "cell_type": "code",
      "source": [
        "# r'\\\\section'은 로우 스트링을 사용하여 백슬래시를 이스케이프하고, 정규표현식에서 \\section을 리터럴로 매치\n",
        "# 파이썬 문자열 리터럴 규칙에 의하여 \\\\이 \\으로 변경되어 \\section이 전달\n",
        "\n",
        "p = re.compile(r'\\\\section')\n",
        "\n",
        "print(p.match(r'\\section\\section'))\n",
        "p.findall(r'\\section\\section')"
      ],
      "metadata": {
        "colab": {
          "base_uri": "https://localhost:8080/"
        },
        "id": "l7vRGCE96JNH",
        "outputId": "da9b9bc8-8314-455d-cbd1-f15710034270"
      },
      "execution_count": null,
      "outputs": [
        {
          "output_type": "stream",
          "name": "stdout",
          "text": [
            "<re.Match object; span=(0, 8), match='\\\\section'>\n"
          ]
        },
        {
          "output_type": "execute_result",
          "data": {
            "text/plain": [
              "['\\\\section', '\\\\section']"
            ]
          },
          "metadata": {},
          "execution_count": 4
        }
      ]
    },
    {
      "cell_type": "code",
      "source": [
        "# 메타 문자\n",
        "# | ^ $\n",
        "import re\n",
        "p = re.compile('Crow|Servo')\n",
        "m = p.match('CrowHello')\n",
        "print(m)\n",
        "print()\n",
        "print(re.search('^Life', 'Lift is too short'))\n",
        "print(re.search('^Life', 'My Life'))\n",
        "print()\n",
        "print(re.search('Life$', 'Life is too short'))\n",
        "print(re.search('Life$', 'My Life'))"
      ],
      "metadata": {
        "colab": {
          "base_uri": "https://localhost:8080/"
        },
        "id": "jS1wUFgU6nKE",
        "outputId": "024eac4a-d478-4176-a8a0-26c4ab59bbed"
      },
      "execution_count": null,
      "outputs": [
        {
          "output_type": "stream",
          "name": "stdout",
          "text": [
            "<re.Match object; span=(0, 4), match='Crow'>\n",
            "\n",
            "None\n",
            "None\n",
            "\n",
            "None\n",
            "<re.Match object; span=(3, 7), match='Life'>\n"
          ]
        }
      ]
    },
    {
      "cell_type": "code",
      "source": [
        "# \\b whitespace에 의해 구분\n",
        "# \\B whitespace로 구분된 단어가 아닌 경우 매치\n",
        "p = re.compile(r'\\bclass\\b')\n",
        "print((p.search('no class at all')))\n",
        "print(p.search('the declassified algorithim'))\n",
        "print()\n",
        "q = re.compilre(r'\\Bclass\\B')\n",
        "print(q.search('no class at all'))\n",
        "print(q.search('the declassified algorithim'))"
      ],
      "metadata": {
        "id": "OR2qZ-JZ__u3"
      },
      "execution_count": null,
      "outputs": []
    },
    {
      "cell_type": "markdown",
      "source": [
        "#### 그룹화\n",
        "괄호 ()는 '그룹화'를 위해 사용 : 주로 여러 문자열 패턴을 하나의 단위로 묶거나, 특정 부분의 문자열을 추출하는 데 사용\n",
        "\n",
        "그룹화의 주요 용도:\n",
        "- 패턴의 일부를 하나의 단위로 묶기 : 괄호는 여러 문자 또는 문자 집합을 하나의 단위로 묶어서, 그 전체에 대해 수량자 (예: *, +, ?, {m,n} 등)를 적용할 수 있게 한다.\n",
        "\n",
        "- 텍스트 캡처 : 괄호로 묶인 부분은 '캡처 그룹'이 되어, 매칭된 텍스트를 나중에 사용하기 위해 저장. 예를 들어, re.search()나 re.match() 등의 함수로 매치 객체를 얻은 후, group() 메서드를 사용하여 이 텍스트를 추출할 수 있다.\n",
        "\n",
        "- 백레퍼런스(backreferences): 정규 표현식 내에서 앞서 정의된 그룹을 다시 참조할 수 있다. 이는 패턴이 이전에 매치된 동일한 텍스트와 일치해야 할 때 유용.\n",
        "\n",
        "- 비캡처 그룹(non-capturing groups): 때로는 괄호를 사용하여 그룹을 만들지만, 매치된 내용을 나중에 사용하고 싶지 않을 때가 있다. 이 경우 (?:...) 형태를 사용하여 그룹을 만든다. 이 그룹은 매칭에는 영향을 주지만, 결과를 저장하지는 않는다."
      ],
      "metadata": {
        "id": "vFMsyKZHBKA2"
      }
    },
    {
      "cell_type": "code",
      "source": [
        "# '(ha)+'패턴은 'ha' 문자열이 하나 이상 반복되는 부분을 찾는다.\n",
        "import re\n",
        "\n",
        "pattern = r'(ha)+'\n",
        "text = 'hahaha, that\\'s funny'\n",
        "match = re.search(pattern, text)\n",
        "if match:\n",
        "  print(match.group())"
      ],
      "metadata": {
        "colab": {
          "base_uri": "https://localhost:8080/"
        },
        "id": "72uVwae7BK77",
        "outputId": "6321b807-da87-4040-a04c-3002f4056dd3"
      },
      "execution_count": null,
      "outputs": [
        {
          "output_type": "stream",
          "name": "stdout",
          "text": [
            "hahaha\n"
          ]
        }
      ]
    },
    {
      "cell_type": "markdown",
      "source": [
        "- \\1은 첫 번째 캡처 그룹 ((\\b\\w+))을 다시 참조. 이는 앞서 찾은 단어와 정확히 동일한 단어가 연속해서 나타나야 함을 의미\n",
        "- Capturing Group ((\\b\\w+)): 괄호는 캡처 그룹을 만든다.이 경우 \\b\\w+는 단어 경계로 시작하는 하나 이상의 단어 문자로 이루어진 시퀀스를 캡처"
      ],
      "metadata": {
        "id": "RyN-JsOXCbCl"
      }
    },
    {
      "cell_type": "code",
      "source": [
        "import re\n",
        "\n",
        "pattern = r'(\\b\\w+)\\s+\\1' # \\b는 공백으로 분리가 되느냐아니냐를 따지는 이스케이프문자이기 때문에 \\s를 두번쓴게 아니다\n",
        "text = '이것은 중복 중복 단어입니다.'\n",
        "\n",
        "match = re.search(pattern, text)\n",
        "\n",
        "if match:\n",
        "  print(match.group())"
      ],
      "metadata": {
        "colab": {
          "base_uri": "https://localhost:8080/"
        },
        "id": "YtaHqRdHCCjT",
        "outputId": "1e756a2a-f485-4a2e-a055-69ed321c9319"
      },
      "execution_count": null,
      "outputs": [
        {
          "output_type": "stream",
          "name": "stdout",
          "text": [
            "중복 중복\n"
          ]
        }
      ]
    },
    {
      "cell_type": "code",
      "source": [
        "#  첫번째 숫자 그룹은 비캡처 그룹(?:\\d{4})로 설정되어 있어, 매치 결과는 저장되지 않고 '월'과 '일'만 캡처된다.\n",
        "\n",
        "import re\n",
        "pattern = r'(?:\\d{4})-(\\d{2})-({\\d{2}})'\n",
        "text = '오늘의 날짜는 2023-04-30입니다'\n",
        "\n",
        "match = re.search(pattern, text)\n",
        "\n",
        "if match:\n",
        "  print(\"월: \", match.group(1))\n",
        "  print(\"일: \", match.group(2))\n",
        "  print(match.group(0))"
      ],
      "metadata": {
        "id": "ivIr_lINDZ1B"
      },
      "execution_count": null,
      "outputs": []
    },
    {
      "cell_type": "code",
      "source": [
        "# 그룹이 중첩되어 있는 경우는 바깥쪽부터 시작하여 안쪽으로 들어갈수록 인덱스 증가\n",
        "\n",
        "p = re.compile(r'(\\w+)\\s+((\\d+)[-](\\d+)+[-](\\d+))')\n",
        "m = p.search('park 010-1234-5678')\n",
        "print(m.group())\n",
        "print(m.group(1))\n",
        "print(m.group(2))\n",
        "print(m.group(3))\n",
        "print(m.group(4))\n",
        "print(m.group(5))"
      ],
      "metadata": {
        "colab": {
          "base_uri": "https://localhost:8080/"
        },
        "id": "BRdjYswgEy-r",
        "outputId": "b4c2fe09-c881-4769-8bba-a39802ec51b8"
      },
      "execution_count": null,
      "outputs": [
        {
          "output_type": "stream",
          "name": "stdout",
          "text": [
            "park 010-1234-5678\n",
            "park\n",
            "010-1234-5678\n",
            "010\n",
            "1234\n",
            "5678\n"
          ]
        }
      ]
    },
    {
      "cell_type": "markdown",
      "source": [
        "그룹화 이름\n",
        "- `(?P<name>\\w+)는 하나 이상의 단어 문자(\\w+)에 일치하며, 이 부분을 'name'이라는 이름으로 그룹화`\n",
        "- `\\s+는 하나 이상의 공백 문자에 일치합니다.`\n",
        "- `(?P<phone>(\\d+)[-]\\d+[-]\\d+)는 전화번호 형식에 일치하는 부분을 찾으며, 이 부분을 'phone'이라는 이름으로 그룹화. 여기서 \\d+는 하나 이상의 숫자에 일치하고, [-]는 리터럴 대시 문자에 일치.`"
      ],
      "metadata": {
        "id": "is7HA72tFy22"
      }
    },
    {
      "cell_type": "code",
      "source": [
        "p = re.compile(r'(?P<name>\\w+)\\s+((\\d+)[-](\\d+)+[-]\\d+)')\n",
        "m = p.search('park 010-1234-5678')\n",
        "print(m.group())\n",
        "print(m.group('name'))\n",
        "print(m.group(1))\n",
        "print(m.group(2))\n",
        "print(m.group(3))\n",
        "print(m.group(4))\n"
      ],
      "metadata": {
        "colab": {
          "base_uri": "https://localhost:8080/"
        },
        "id": "zjIVLQbzFzte",
        "outputId": "809976a4-2156-4e85-ce69-b6e24997c9c0"
      },
      "execution_count": null,
      "outputs": [
        {
          "output_type": "stream",
          "name": "stdout",
          "text": [
            "park 010-1234-5678\n",
            "park\n",
            "park\n",
            "010-1234-5678\n",
            "010\n",
            "1234\n"
          ]
        }
      ]
    },
    {
      "cell_type": "code",
      "source": [
        "import re\n",
        "# 그룹명을 이용하여 정규식 내에서 재참조\n",
        "p = re.compile(r'(?P<word>)\\s+(?P=word)')\n",
        "p.search('Paris in the the spring').group()"
      ],
      "metadata": {
        "colab": {
          "base_uri": "https://localhost:8080/",
          "height": 35
        },
        "id": "0t4tZGZtHU-w",
        "outputId": "f90e8ab3-5459-4a97-9602-c1c6305f14e9"
      },
      "execution_count": null,
      "outputs": [
        {
          "output_type": "execute_result",
          "data": {
            "text/plain": [
              "' '"
            ],
            "application/vnd.google.colaboratory.intrinsic+json": {
              "type": "string"
            }
          },
          "metadata": {},
          "execution_count": 14
        }
      ]
    },
    {
      "cell_type": "markdown",
      "source": [
        "정규 표현식에서 전방탐색(Lookahead)\n",
        "- 특정 패턴 뒤에 오는 문자열을 확인하는 방법으로, 긍정 전방탐색과 부정 전방탐색 두 가지 형태가 있다.\n",
        "- 이들은 매칭을 결정하는 조건을 설정하지만, 실제로 해당 문자열을 결과에 포함시키지는 않는다. 즉, 문자열을 '소모(consume)'하지 않는다..\n",
        "\n",
        "- 긍정 전방탐색 (Positive Lookahead)\n",
        "    - 형식: (?=...)\n",
        "    - 설명: 긍정 전방탐색은 ...에 해당하는 정규식 패턴이 일치해야 하지만, 해당 부분은 결과에 포함되지 않는다.\n",
        "    - 예시: X(?=Y)는 'Y'가 뒤따르는 'X'에 일치합니다. 'X'는 결과에 포함되지만, 'Y'는 포함되지 않는다.\n",
        "- 부정 전방탐색 (Negative Lookahead)\n",
        "    - 형식: (?!...)\n",
        "    - 설명: 부정 전방탐색은 ...에 해당하는 정규식 패턴이 일치하지 않아야 합니다. 여기서도 일치하는 부분은 결과에 포함되지 않는다.\n",
        "    - 예시: X(?!Y)는 'Y'가 뒤따르지 않는 'X'에 일치합니다. 'X'는 결과에 포함되지만, 'Y'는 검사 대상이지 결과에 포함되지 않는다."
      ],
      "metadata": {
        "id": "g7Qr9iJNHySq"
      }
    },
    {
      "cell_type": "code",
      "source": [
        "# 전방탐색\n",
        "\n",
        "p = re.compile(r'.+:')\n",
        "m = p.search('http://google.com')\n",
        "print(m.group())\n",
        "print()\n",
        "p = re.compile(r'.+(?=:)')\n",
        "m = p.search('http://google.com')\n",
        "print(m.group())\n",
        "print()\n",
        "\n",
        "p = re.compile(r'.+(?!=:)')\n",
        "m = p.search('http\\n://google.com')\n",
        "print(m.group())\n",
        "print()"
      ],
      "metadata": {
        "colab": {
          "base_uri": "https://localhost:8080/"
        },
        "id": "AzyRNcNPHzG0",
        "outputId": "7ff76a8c-76b9-42f9-9d45-62d86113a5df"
      },
      "execution_count": null,
      "outputs": [
        {
          "output_type": "stream",
          "name": "stdout",
          "text": [
            "http:\n",
            "\n",
            "http\n",
            "\n",
            "http\n",
            "\n"
          ]
        }
      ]
    },
    {
      "cell_type": "markdown",
      "source": [
        "긍정적 후방 탐색 (?<=B)A 'A'앞에 'B'가 있는 경우에만 A에 매칭\n",
        "\n",
        "긍정적 후방 탐색은 현재 위치의 앞쪽에 일치하는 패턴이 있을 경우에만 일치를 성공시키는 조건. 이 탐색은 패턴을 찾지만, 결과에는 포함시키지 않는다. 즉, @ 기호는 포함되지 않지만, 이 기호 뒤에 오는 특정 패턴을 검사하는 데 사용.\n",
        "\n",
        "부정적 후방 탐색 (?<!B)A  'A' 앞에 'B'가 없는 경우에만 'A'에 매칭"
      ],
      "metadata": {
        "id": "saQ_PDs6KEYY"
      }
    },
    {
      "cell_type": "code",
      "source": [
        "# (?<=@): 이부분은 후방 긍정 탐색(lookbehind assertion). @ 기호 바로 뒤의 문자들만 검사하도록 지정\n",
        "text = 'Contract us at support@company.com, sales@enterprise.com or info@organization.org.'\n",
        "p = re.compile(r'(?<=@)[a-zA-Z0-9.-]+(?=\\.com)')\n",
        "m = p.findall(text)\n",
        "print(m)\n",
        "print()"
      ],
      "metadata": {
        "colab": {
          "base_uri": "https://localhost:8080/"
        },
        "id": "IqabKQk5JBFi",
        "outputId": "e929392d-45e0-4dd9-ac68-d2cd7713e01d"
      },
      "execution_count": null,
      "outputs": [
        {
          "output_type": "stream",
          "name": "stdout",
          "text": [
            "['company', 'enterprise']\n",
            "\n"
          ]
        }
      ]
    },
    {
      "cell_type": "markdown",
      "source": [
        "Greedy (탐욕스러운) 매칭\n",
        "- Greedy 매칭은 가능한 한 많은 문자와 일치하려고 한다. 즉, 주어진 패턴과 일치하는 문자열 중 가장 긴 것을 찾는다.\n",
        "- 예를 들어, 정규 표현식 a.*b는 a로 시작하고 b로 끝나는 가장 긴 문자열 부분과 일치한다.\n",
        "\n",
        "Non-Greedy (비탐욕스러운) 매칭\n",
        "- Non-Greedy 매칭은 가능한 한 적은 문자와 일치하려고 한다. 즉, 주어진 패턴과 일치하는 문자열 중 가장 짧은 것을 찾는다.\n",
        "- 예를 들어, 정규 표현식 a.*?b는 a로 시작하고 b로 끝나는 가장 짧은 문자열 부분과 일치합니다."
      ],
      "metadata": {
        "id": "FkNmeO5oN0Ph"
      }
    },
    {
      "cell_type": "code",
      "source": [
        "import re\n",
        "\n",
        "text = \"<div>Hello</div><div>World</div>\"\n",
        "pattern = r'<div>.*</div>'\n",
        "matches = re.findall(pattern, text)\n",
        "print(matches)"
      ],
      "metadata": {
        "colab": {
          "base_uri": "https://localhost:8080/"
        },
        "id": "RnIhRndxNmJT",
        "outputId": "50696d49-917e-47ec-a4a6-4ee292328cf1"
      },
      "execution_count": null,
      "outputs": [
        {
          "output_type": "stream",
          "name": "stdout",
          "text": [
            "['<div>Hello</div><div>World</div>']\n"
          ]
        }
      ]
    },
    {
      "cell_type": "code",
      "source": [
        "import re\n",
        "\n",
        "text = \"<div>Hello</div><div>World</div>\"\n",
        "pattern = r'<div>.*?</div>'\n",
        "matches = re.findall(pattern, text)\n",
        "print(matches)"
      ],
      "metadata": {
        "colab": {
          "base_uri": "https://localhost:8080/"
        },
        "id": "WoDRx-KXObFz",
        "outputId": "c782a036-139d-47ad-d908-7e2d96253c61"
      },
      "execution_count": null,
      "outputs": [
        {
          "output_type": "stream",
          "name": "stdout",
          "text": [
            "['<div>Hello</div>', '<div>World</div>']\n"
          ]
        }
      ]
    }
  ]
}