{
  "nbformat": 4,
  "nbformat_minor": 0,
  "metadata": {
    "colab": {
      "provenance": []
    },
    "kernelspec": {
      "name": "python3",
      "display_name": "Python 3"
    },
    "language_info": {
      "name": "python"
    }
  },
  "cells": [
    {
      "cell_type": "markdown",
      "source": [
        "## 프로그래밍 언어\n",
        "[ 주요 기능 ]\n",
        "- 명령 실행: 프로그래밍 언어를 통해 개발자는 컴퓨터에 명령을 내려 특정 작업을 수행. 이는 데이터 처리, 계산, 정보 저장 및 검색 등을 포함.\n",
        "- 알고리즘 구현: 문제 해결을 위한 절차나 방법을 명확한 단계로 나누어 구현. 프로그래밍 언어는 이러한 절차를 정의하고 실행할 수 있는 도구를 제공.\n",
        "- 자동화: 반복적인 작업이나 복잡한 시스템 관리 작업을 자동화하여 효율성을 높이고 오류를 줄일 수 있다.\n",
        "- 인터페이스 및 상호작용: 사용자 인터페이스(UI)를 생성하고, 사용자 입력을 처리하며, 외부 시스템 또는 다른 프로그램과 상호작용하는 메커니즘을 제공.\n",
        "- 데이터 조작 및 관리: 데이터베이스와의 통신, 데이터 검색, 수정 및 관리 등을 할 수 있다.\n",
        "\n",
        "[ 구성 요소 ]\n",
        "- 문법(Syntax): 프로그래밍 언어의 문법은 언어가 어떻게 구성되어야 하는지를 정의. 변수 선언, 연산자 사용, 제어 구조 등의 규칙을 포함.\n",
        "- 데이터 타입(Data Types): 다양한 종류의 데이터(예: 정수, 실수, 문자열)를 다루기 위한 분류. 각 데이터 타입은 메모리 사용과 연산 방법에 영향을 미친다.\n",
        "- 변수(Variables): 데이터를 저장할 수 있는 메모리 공간의 이름. 변수를 통해 프로그램 내에서 데이터를 저장하고 참조할 수 있다.\n",
        "- 연산자(Operators): 산술, 비교, 논리 등의 연산을 수행하는 기호. 이를 통해 데이터를 조작하고 조건을 설정할 수 있다.\n",
        "- 제어 구조(Control Structures): 프로그램의 흐름을 제어하는 구조로, 조건문(if, switch), 반복문(for, while), 키워드(break, continue) 등이 있다.\n",
        "- 함수 및 절차(Functions and Procedures): 특정 작업을 수행하는 코드 블록. 함수는 반복적인 코드를 효율적으로 관리할 수 있게 해준다.\n",
        "- 라이브러리(Libraries): 특정 기능을 수행하는 함수나 데이터를 모아놓은 집합. 라이브러리를 사용하면 복잡한 기능을 쉽게 구현할 수 있다."
      ],
      "metadata": {
        "id": "HgcGMLwLgA94"
      }
    },
    {
      "cell_type": "markdown",
      "source": [
        "- 파이썬 소개\n",
        "- 용어 : 식별자(기본 규칙), 주석, 연산자, 자료, 키워드\n",
        "- 자료형 : 수치형, 시퀀스(문자열, 리스트, 튜플), 매핑(사전), 집합(set), 블린(bool)\n",
        "- 자료형 활용 사례 : 사용자 함수, 클래스\n",
        "- 들여쓰기, 이스케이프 문자, 문자열 포멧, 2/8/16진수\n",
        "- 객체지향언어 : 파이썬에서 \"모든 것이 객체\"\n",
        "  - 기본 데이터 타입, 함수, 모듈, 클래스 등"
      ],
      "metadata": {
        "id": "uGt501xVgEes"
      }
    },
    {
      "cell_type": "code",
      "execution_count": null,
      "metadata": {
        "id": "pBeh8N177hmT",
        "colab": {
          "base_uri": "https://localhost:8080/"
        },
        "outputId": "e5d7c330-e662-4fbc-9048-5100a18b21e5"
      },
      "outputs": [
        {
          "output_type": "stream",
          "name": "stdout",
          "text": [
            "Python 3.10.12\n"
          ]
        }
      ],
      "source": [
        "# !기호는 Colab 셀에서 Unix/Linux 셸 명령어를 실행하는데 사용\n",
        "# Unix/Linux 기반이기 때문에 이에 맞는 명령어를 사용해야한다.\n",
        "!python --version"
      ]
    },
    {
      "cell_type": "code",
      "source": [
        "# % 기호는 IPython 환경(즉, Colab이 포함된 Jupyter 환경)에서 제공하는 매직 명령어를 사용\n",
        "# 라인 매직은 단일 라인에 대해 실행되며 % 하나를 사용하고 셀 매직(=> %%)은 셀 전체에 적용되며 %%를 사용\n",
        "# 현재 작업 폴더 확인\n",
        "%pwd"
      ],
      "metadata": {
        "colab": {
          "base_uri": "https://localhost:8080/",
          "height": 36
        },
        "id": "6PryWeiDBc5c",
        "outputId": "a1b920d6-4a30-4c0c-f22c-506346908708"
      },
      "execution_count": null,
      "outputs": [
        {
          "output_type": "execute_result",
          "data": {
            "text/plain": [
              "'/content'"
            ],
            "application/vnd.google.colaboratory.intrinsic+json": {
              "type": "string"
            }
          },
          "metadata": {},
          "execution_count": 2
        }
      ]
    },
    {
      "cell_type": "code",
      "source": [
        "%%time\n",
        "# 간단한 for 루프를 사용한 계산\n",
        "sum = 0\n",
        "for i in range(100000):\n",
        "  sum += i\n",
        "print(sum)\n",
        "# 셀 전체를 가지고 사용. 이 경우 해당 계산을 하는데 얼마만큼의 시간이 들었는지를 나타내줌"
      ],
      "metadata": {
        "colab": {
          "base_uri": "https://localhost:8080/"
        },
        "id": "IjHsYquGCZlK",
        "outputId": "0736909b-c496-4873-ee79-4e634fc32a8c"
      },
      "execution_count": null,
      "outputs": [
        {
          "output_type": "stream",
          "name": "stdout",
          "text": [
            "4999950000\n",
            "CPU times: user 16.8 ms, sys: 0 ns, total: 16.8 ms\n",
            "Wall time: 16.9 ms\n"
          ]
        }
      ]
    },
    {
      "cell_type": "markdown",
      "source": [
        "#### 파이썬 이란\n",
        "- 1990년 암스테르담의 귀도 반 로섬(Guido Van Rossum)이 개발한 인터프리터 언어\n",
        "- 컴퓨터 프로그래밍 교육을 위해 많이 사용하지만, 기업의 실무를 위해서도 많이 사용하는 언어. 구글에서 만든 소프트웨어의 50%이상이 파이썬으로 작성\n",
        "\n",
        "#### 파이썬의 특징\n",
        "- 파이썬은 인간다운 언어이다\n",
        "- 파이썬은 문법이 쉬워 빠르게 배울 수 있다\n",
        "- 파이썬은 무료이지만 강력하다\n",
        "- 파이썬은 간결하다\n",
        "- 파이썬은 프로그래밍을 즐기게 해준다\n",
        "- 파이썬은 개발 속도가 빠르다\n",
        "\n",
        "#### 파이썬으로 할 수 있는 일\n",
        "- 웹 개발: Django, Flask 등의 프레임워크를 사용하여 웹 애플리케이션을 개발할 수 있습니다.\n",
        "- 데이터 분석: Pandas, NumPy, SciPy와 같은 라이브러리를 사용하여 데이터를 분석하고 처리할 수 있습니다.\n",
        "- 머신 러닝과 인공지능: TensorFlow, PyTorch, Scikit-learn 등의 라이브러리를 활용하여 머신 러닝 모델을 구축하고 훈련시킬 수 있습니다.\n",
        "- 자동화: 파이썬 스크립트를 작성하여 일상적인 작업을 자동화하고, 시스템 관리 작업을 수행할 수 있습니다.\n",
        "- 게임 개발: Pygame과 같은 라이브러리를 사용하여 간단한 게임을 개발할 수 있습니다.\n",
        "- 모바일 애플리케이션 개발: Kivy 또는 BeeWare와 같은 라이브러리를 사용하여 모바일 애플리케이션을 개발할 수 있습니다.\n",
        "- 데스크탑 애플리케이션 개발: PyQt, Tkinter 등의 라이브러리를 활용하여 데스크탑 애플리케이션을 개발할 수 있습니다.\n",
        "- 시스템 스크립팅과 네트워킹: 시스템 유틸리티를 개발하거나 네트워크 프로토콜을 구현할 수 있습니다.\n",
        "- 임베디드 시스템과 하드웨어 제어: 라즈베리 파이와 같은 임베디드 시스템을 제어하고 하드웨어를 프로그래밍할 수 있습니다.\n",
        "- 사이언티픽 컴퓨팅: 과학적 연산과 시뮬레이션을 위해 파이썬을 활용할 수 있습니다.\n",
        "- 교육: 파이썬은 초보자에게 프로그래밍을 가르치는 데 이상적인 언어로 평가받고 있습니다.\n",
        "- 파이썬의 다양한 라이브러리와 프레임워크 덕분에, 이러한 분야에서의 작업이 더욱 쉽고 효율적으로 수행될 수 있습니다.\n"
      ],
      "metadata": {
        "id": "XjekaAqW7jWJ"
      }
    },
    {
      "cell_type": "markdown",
      "source": [
        "#### 용어\n",
        "- 식별자 : 프로그램밍 언어에서 이름을 붙일 때 사용하는 단어. 주로 변수 또는 함수 이름 등으로 사용\n",
        "- 주석 : 프로그램을 설명하기 위해 사용. # 기호로 주석 처리\n",
        "- 연산자 : 스스로 값이 되는 것이 아니고 값과 값 사이에 무언가 기능을 적용할 때 사용\n",
        "- 자료 : 리터럴이라고 하는데 숫자이든 문자이든 어떠한 값 자체를 의미. 1, 10, \"Hello\"\n",
        "- 키워드 : 파이썬이 만들어질 때 이미 사용하겠다고 예약해 놓는 것. False, None, True, ...\n",
        "- 프로그램밍 언어에서 사용자가 이름을 정할 때 키워드는 사용할 수 없음\n",
        "\n",
        "#### 식별자\n",
        "count, user_name, _is_valid, calculate_area, Car, model, year, math 및 m 모두 유효한 식별자. 각각의 식별자는 특정한 데이터 또는 기능에 이름을 부여하여 코드 내에서 해당 데이터나 기능을 참조할 수 있게하며 코드의 가독성과 유지 보수성을 높이는 데 중요한 역할"
      ],
      "metadata": {
        "id": "pUJZOwimDc7D"
      }
    },
    {
      "cell_type": "code",
      "source": [
        "# 변수 식별자\n",
        "count = 10\n",
        "user_name = \"Alice\"\n",
        "_is_valid = True\n",
        "\n",
        "# 함수 식별자\n",
        "def calculate_area(radius):\n",
        "  return 3.14150 * radius * radius\n",
        "\n",
        "# 클래스 식별자\n",
        "class Car:\n",
        "  def __init__(self, model, year):\n",
        "    self.model = model\n",
        "    self.year = year\n",
        "\n",
        "# 모듈 식별자\n",
        "import math as m\n"
      ],
      "metadata": {
        "id": "copN_kKdESpJ"
      },
      "execution_count": null,
      "outputs": []
    },
    {
      "cell_type": "markdown",
      "source": [
        "#### 식별자 기본 규칙\n",
        "- 키워드를 사용하면 안된다.\n",
        "- 특수문자는 언더 바(_) 만 사용\n",
        "- 숫자로 시작하면 안된다.\n",
        "- 공백을 포함할 수 없다."
      ],
      "metadata": {
        "id": "wGQk8wArISOC"
      }
    },
    {
      "cell_type": "code",
      "source": [
        "import keyword\n",
        "print(keyword.kwlist)\n",
        "len(keyword.kwlist)"
      ],
      "metadata": {
        "colab": {
          "base_uri": "https://localhost:8080/"
        },
        "id": "ix-Ga7rvIRDy",
        "outputId": "2f5cc5f5-ded2-4ed4-ba4e-4d23ff6a2da6"
      },
      "execution_count": null,
      "outputs": [
        {
          "output_type": "stream",
          "name": "stdout",
          "text": [
            "['False', 'None', 'True', 'and', 'as', 'assert', 'async', 'await', 'break', 'class', 'continue', 'def', 'del', 'elif', 'else', 'except', 'finally', 'for', 'from', 'global', 'if', 'import', 'in', 'is', 'lambda', 'nonlocal', 'not', 'or', 'pass', 'raise', 'return', 'try', 'while', 'with', 'yield']\n"
          ]
        },
        {
          "output_type": "execute_result",
          "data": {
            "text/plain": [
              "35"
            ]
          },
          "metadata": {},
          "execution_count": 5
        }
      ]
    },
    {
      "cell_type": "code",
      "source": [
        "alpha\n",
        "break #키워드\n",
        "alpha10\n",
        "_alpha\n",
        "273alpha #숫자\n",
        "AlpHa\n",
        "ALPHA\n",
        "has space #공백"
      ],
      "metadata": {
        "id": "3PsFdhT6JhOS"
      },
      "execution_count": null,
      "outputs": []
    },
    {
      "cell_type": "markdown",
      "source": [
        "## Q. 주어진 문자열 리스트에서 유효한 Python 변수 이름만을 추출하여 반환하는 함수를 작성하세요"
      ],
      "metadata": {
        "id": "xZsuTBqYKPj-"
      }
    },
    {
      "cell_type": "code",
      "source": [
        "import keyword\n",
        "import re\n",
        "\n",
        "identifiers = [\"var1\", \"2things\", \"variable_name\", \"time!\", \"__init__\", \"False\"]\n",
        "\n",
        "def collect_name_in_keyword(res_list):\n",
        "\n",
        "  #맨 앞에 숫자가 있느냐, _ 외에 다른 특수문자가 있느냐\n",
        "\n",
        "  valid_variables = [var for var in res_list if re.match(r'^[a-zA-Z_][\\w+]*$', var) and not keyword.iskeyword(var)]\n",
        "\n",
        "  print(valid_variables)\n",
        "\n",
        "collect_name_in_keyword(identifiers)"
      ],
      "metadata": {
        "id": "gHTAogKgKUmy",
        "colab": {
          "base_uri": "https://localhost:8080/"
        },
        "outputId": "2e5281b9-a144-41eb-c8d7-f850ff8d83f8"
      },
      "execution_count": null,
      "outputs": [
        {
          "output_type": "stream",
          "name": "stdout",
          "text": [
            "['var1', 'variable_name', '__init__']\n"
          ]
        }
      ]
    },
    {
      "cell_type": "code",
      "source": [
        "import keyword\n",
        "def valid_identifiers(identifiers):\n",
        "  valid = []\n",
        "\n",
        "  for identifier in identifiers:\n",
        "    if identifier.isidentifier() and not keyword.iskeyword(identifier):\n",
        "      valid.append(identifier)\n",
        "  return valid\n",
        "\n",
        "# 예제실행\n",
        "identifiers = [\"var1\", \"2things\", \"variable_name\", \"time!\", \"__init__\"]\n",
        "print(valid_identifiers(identifiers))"
      ],
      "metadata": {
        "colab": {
          "base_uri": "https://localhost:8080/"
        },
        "id": "dZHp-yQT3Wk4",
        "outputId": "a7a88bb0-847d-457f-9f41-fd1e0f4bbbaf"
      },
      "execution_count": null,
      "outputs": [
        {
          "output_type": "stream",
          "name": "stdout",
          "text": [
            "['var1', 'variable_name', '__init__']\n"
          ]
        }
      ]
    },
    {
      "cell_type": "markdown",
      "source": [
        "파이썬은 snake_case와 CamelCase를 모두 사용\n",
        "\n",
        "- itemlist : item_list itemList\n",
        "- loginstatus : login_status loginStatus\n",
        "- 캐멀 케이스(대문자로 시작) 클래스\n",
        "- 스네이크 케이스(소문자로 시작) 뒤에 ()가 있다 - 함수\n",
        "- 스케이크 케이스(소문자로 시작) 뒤에 ()가 없다 - 변수"
      ],
      "metadata": {
        "id": "ftNMarHI7Ofb"
      }
    },
    {
      "cell_type": "code",
      "source": [
        "# 연산자\n",
        "a = 5\n",
        "b = 3\n",
        "c = b % a\n",
        "d = a // b\n",
        "e = b / a\n",
        "\n",
        "print(c)\n",
        "print(d)\n",
        "print(e)"
      ],
      "metadata": {
        "id": "k1TDNlm77heR"
      },
      "execution_count": null,
      "outputs": []
    },
    {
      "cell_type": "code",
      "source": [
        "a = 3\n",
        "b = 5\n",
        "\n",
        "if a > b:\n",
        "  print(a)"
      ],
      "metadata": {
        "id": "MTv5o6pGAJQp"
      },
      "execution_count": null,
      "outputs": []
    },
    {
      "cell_type": "markdown",
      "source": [
        "#### 자료형\n",
        "- 자료형 또는 데이터 타입이란 숫자, 문자 등과 같이 여러 종류의 데이터를 구분하기 위한 분류\n",
        "- 파이썬의 자료형은 크게 숫자(numbers), 시퀀스(sequence), 매핑(mapping) 등으로 나눌 수 있다.\n",
        "- 파이썬의 기본 자료형\n",
        "  - 수치형\n",
        "    - 정수형 : int는 정수(integer)를 나타낸다. 양의 정수와 음의 정수, 숫자 0\n",
        "    - 실수형 : float는 원래 부동소수점수(floating-point number)를 가리키는데, 지금은 단순히 소수점 이하를 표현할 수 있는 수이다.\n",
        "    - 복소수형 : 복소수를 complex로 나타내고 제곱하면 -1이 되는 수 i를 ‘허수(imaginary number)’라고 하는데 허수 i를 j로 표현\n",
        "  - 시퀀스 : 문자열(str), 리스트(list), 튜플(tuple), 사용자 정의 클래스가 시퀀스에 속한다. for 문에서 사용할 수 있는 것들이 바로 시퀀스\n",
        "    - 문자열 : 문자를 한 줄로 표현하며 문자열 인덱스를 이용해 문자열의 일부를 복사\n",
        "    - 리스트 : 대괄호([ ])로 감싸 주고 각 요솟값은 쉼표(,)로 구분\n",
        "    - 튜플 : 튜플은 ( )으로 둘러싸고 각 요솟값은 쉼표(,)로 구분\n",
        "  - 매핑\n",
        "    - 사전 : 딕셔너리(dict)는 키(key)와 값(value)의 짝으로 이뤄지는데 이런 것을 매핑 [a : b]\n",
        "  - 집합 : 집합을 표현하는 세트(set) {}\n",
        "  - 블린 : 참, 거짓을 표현"
      ],
      "metadata": {
        "id": "4Y7HxyQBA9Tt"
      }
    },
    {
      "cell_type": "code",
      "source": [
        "# 정수형 실수형\n",
        "i1 = 3\n",
        "f1 = 3.5\n",
        "print(i1)\n",
        "print(f1)"
      ],
      "metadata": {
        "colab": {
          "base_uri": "https://localhost:8080/"
        },
        "id": "IXMCfuANCirB",
        "outputId": "6f61850e-8f22-42d7-c888-dc556ea48152"
      },
      "execution_count": null,
      "outputs": [
        {
          "output_type": "stream",
          "name": "stdout",
          "text": [
            "3\n",
            "3.5\n"
          ]
        }
      ]
    },
    {
      "cell_type": "code",
      "source": [
        "# 정수(int)\n",
        "\n",
        "print(int(True))\n",
        "print(int(False))\n",
        "print(int('100'))\n",
        "print(int(3.14))\n",
        "#print(int(\"A\"))\n",
        "print(chr(100))\n",
        "print(chr(65))\n",
        "print(chr(78))\n",
        "print(chr(79))\n",
        "print(chr(80))\n",
        "print(chr(81))\n",
        "print(chr(97))"
      ],
      "metadata": {
        "colab": {
          "base_uri": "https://localhost:8080/"
        },
        "id": "JYnb7VvzCvm2",
        "outputId": "abac963b-b928-484e-d476-b8ad698e0827"
      },
      "execution_count": null,
      "outputs": [
        {
          "output_type": "stream",
          "name": "stdout",
          "text": [
            "1\n",
            "0\n",
            "100\n",
            "3\n",
            "d\n",
            "A\n",
            "N\n",
            "O\n",
            "P\n",
            "Q\n",
            "a\n"
          ]
        }
      ]
    },
    {
      "cell_type": "code",
      "source": [
        "# 실수(float)\n",
        "print(float(True))\n",
        "print(float(False))\n",
        "print(float(3.14))\n",
        "print(float(6))\n",
        "print(float('100'))"
      ],
      "metadata": {
        "colab": {
          "base_uri": "https://localhost:8080/"
        },
        "id": "g_FQrE4mDzs1",
        "outputId": "8702d19a-80bc-4739-ce4f-d16492e2b6ef"
      },
      "execution_count": null,
      "outputs": [
        {
          "output_type": "stream",
          "name": "stdout",
          "text": [
            "1.0\n",
            "0.0\n",
            "3.14\n",
            "6.0\n",
            "100.0\n"
          ]
        }
      ]
    },
    {
      "cell_type": "code",
      "source": [
        "# 사칙연산 : + * / // % **\n",
        "# 정수와 실수의 계산 결과는 무조건 실수로 처리된다. 정수로 바꾸려면 int()를 붙여줘야함\n",
        "# 모든 정수는 실수 안에 포함되기 때문이다.\n",
        "\n",
        "a = 10\n",
        "b = 2.3\n",
        "\n",
        "print(a + b)\n",
        "print(a - b)\n",
        "print(a * b)\n",
        "print(a / b)\n",
        "print(type(a // b))\n",
        "print(a % b)\n",
        "print(a * b)\n",
        "print(type(a ** b))\n"
      ],
      "metadata": {
        "colab": {
          "base_uri": "https://localhost:8080/"
        },
        "id": "X7P4DldzE8t-",
        "outputId": "c5c397ca-d6e9-44f7-ae86-8b01384dc9f9"
      },
      "execution_count": null,
      "outputs": [
        {
          "output_type": "stream",
          "name": "stdout",
          "text": [
            "12.3\n",
            "7.7\n",
            "23.0\n",
            "4.347826086956522\n",
            "<class 'float'>\n",
            "0.8000000000000007\n",
            "23.0\n",
            "<class 'float'>\n"
          ]
        }
      ]
    },
    {
      "cell_type": "code",
      "source": [
        "# 문자열\n",
        "# 주피터 환경에서 마지막 줄은 print안써도 출력된다.\n",
        "string = '문자열'\n",
        "a = \"100\"\n",
        "\n",
        "a"
      ],
      "metadata": {
        "colab": {
          "base_uri": "https://localhost:8080/",
          "height": 35
        },
        "id": "P9QYH8nYFugU",
        "outputId": "48cfe7ff-019e-4d81-f253-1ed905318b10"
      },
      "execution_count": null,
      "outputs": [
        {
          "output_type": "execute_result",
          "data": {
            "text/plain": [
              "'100'"
            ],
            "application/vnd.google.colaboratory.intrinsic+json": {
              "type": "string"
            }
          },
          "metadata": {},
          "execution_count": 55
        }
      ]
    },
    {
      "cell_type": "code",
      "source": [
        "a = 100\n",
        "b = float(50)\n",
        "print(a + b)\n",
        "\n",
        "b = '100'\n",
        "c = '50'\n",
        "print(b + c)\n",
        "\n",
        "# print(a + c) int형과 str형을 합하려했기 때문에 에러난다\n",
        "\n",
        "# 문자열인 c를 int형으로 바꿔주거나 int형인 a를 str형으로 바꿔주면 해결\n",
        "print(a + int(c))\n",
        "print(str(a) + c)\n",
        "\n"
      ],
      "metadata": {
        "colab": {
          "base_uri": "https://localhost:8080/"
        },
        "id": "Wu1NIai2GLjy",
        "outputId": "aef5f151-1c25-4596-dcb0-1a57c840a549"
      },
      "execution_count": null,
      "outputs": [
        {
          "output_type": "stream",
          "name": "stdout",
          "text": [
            "150.0\n",
            "10050\n",
            "150\n",
            "10050\n"
          ]
        }
      ]
    },
    {
      "cell_type": "code",
      "source": [
        "# 사용자 입력\n",
        "#name = input(\"안녕하세요. 이름을 입력 : \")\n",
        "#print(name)\n",
        "\n",
        "a = input(\"a : \")\n",
        "b = input(\"b : \")\n",
        "\n",
        "print(int(a + b)) # 결과값은 53. 계산 후 int형으로 처리하기 때문이다.\n",
        "# input 함수는 입력받은 값을 str형으로 처리한다. 계산하기 전에 int형으로 바꿔줘야한다.\n",
        "\n",
        "a = int(input(\"a : \"))\n",
        "b = int(input(\"b : \"))\n",
        "\n",
        "print(a + b)"
      ],
      "metadata": {
        "colab": {
          "base_uri": "https://localhost:8080/"
        },
        "id": "BZoYsQN7HXn5",
        "outputId": "62512fb0-724b-4519-9525-c0e04ab30d22"
      },
      "execution_count": null,
      "outputs": [
        {
          "output_type": "stream",
          "name": "stdout",
          "text": [
            "a : 5\n",
            "b : 3\n",
            "53\n",
            "a : 3\n",
            "b : 5\n",
            "8\n"
          ]
        }
      ]
    },
    {
      "cell_type": "code",
      "source": [
        "# 실수 + 실수 -> 실수\n",
        "\n",
        "# Q. 3과 3.3을 입력받고 숫자 연산을 수행하여 6.3을 출력하세요\n",
        "\n",
        "a = float(input(\"3 입력 : \"))\n",
        "b = float(input(\"3.3 입력 : \"))\n",
        "\n",
        "print( a + b )"
      ],
      "metadata": {
        "colab": {
          "base_uri": "https://localhost:8080/"
        },
        "id": "3cDsPqbLJHqL",
        "outputId": "81bc4747-2d5e-4a18-c4d3-b907073b5afd"
      },
      "execution_count": null,
      "outputs": [
        {
          "output_type": "stream",
          "name": "stdout",
          "text": [
            "3 입력 : 3\n",
            "3.3 입력 : 3.3\n",
            "6.3\n"
          ]
        }
      ]
    },
    {
      "cell_type": "code",
      "source": [
        "# 정수 + 실수 -> 실수\n",
        "# Q. 3과 3.3을 입력받아서 숫자 연산을 수행하여 6.3을 출력하세요\n",
        "\n",
        "a = int(input(\"정수를 입력하세요 : \"))\n",
        "b = float(input(\"실수를 입력하세요  :\"))\n",
        "\n",
        "print(a + b)"
      ],
      "metadata": {
        "colab": {
          "base_uri": "https://localhost:8080/"
        },
        "id": "dgxUg1ISJ20N",
        "outputId": "5d7fb96b-5e63-467d-af9f-343af0f919a9"
      },
      "execution_count": null,
      "outputs": [
        {
          "output_type": "stream",
          "name": "stdout",
          "text": [
            "정수를 입력하세요 : 3\n",
            "실수를 입력하세요  :3.3\n",
            "6.3\n"
          ]
        }
      ]
    },
    {
      "cell_type": "code",
      "source": [
        "# Q. a = 52와 b = 52.273일 때 a+b는 5252.273으로 출력되도록 a와 b를 문자열 자료형으로 변환하세요.\n",
        "\n",
        "a = 52\n",
        "b = 52.273\n",
        "\n",
        "a = str(a)\n",
        "b = str(b)\n",
        "print(a + b)\n",
        "\n",
        "a = \"52\"\n",
        "b = \"52.273\"\n",
        "print(b + a)"
      ],
      "metadata": {
        "colab": {
          "base_uri": "https://localhost:8080/"
        },
        "id": "68XFae1TNa52",
        "outputId": "0f27ea7a-28d6-483e-bb45-4c6a32de5740"
      },
      "execution_count": null,
      "outputs": [
        {
          "output_type": "stream",
          "name": "stdout",
          "text": [
            "5252.273\n",
            "52.27352\n"
          ]
        }
      ]
    },
    {
      "cell_type": "code",
      "source": [
        "# 문자열 : \"\", '', ''' ''' , \"\"\" \"\"\"\n",
        "p1 = 'python\\'s value is great'\n",
        "p2 = \"python's value is great\"\n",
        "print(p1)\n",
        "print(p2)"
      ],
      "metadata": {
        "colab": {
          "base_uri": "https://localhost:8080/"
        },
        "id": "aDMbPgucOxAY",
        "outputId": "b4f6d66a-b8d7-452c-c6a9-c8e8ce5fe963"
      },
      "execution_count": null,
      "outputs": [
        {
          "output_type": "stream",
          "name": "stdout",
          "text": [
            "python's value is great\n",
            "python's value is great\n"
          ]
        }
      ]
    },
    {
      "cell_type": "code",
      "source": [
        "# \\n 행바꿈\n",
        "\n",
        "print(\"once you study data analysis\\nYou need Python\\n\")\n",
        "print(\"once you study data analysis You need Python\")\n",
        "print(\"once you study data analysis\\tYou need Python\")"
      ],
      "metadata": {
        "colab": {
          "base_uri": "https://localhost:8080/"
        },
        "id": "-tp9hy4bPUSP",
        "outputId": "9b77a329-463e-4c74-9b79-6a6e324b5a2c"
      },
      "execution_count": null,
      "outputs": [
        {
          "output_type": "stream",
          "name": "stdout",
          "text": [
            "once you study data analysis\n",
            "You need Python\n",
            "\n",
            "once you study data analysis You need Python\n",
            "once you study data analysis\tYou need Python\n"
          ]
        }
      ]
    },
    {
      "cell_type": "code",
      "source": [
        "y2 = '''\n",
        "Once you study data analysis\n",
        "You need Python\n",
        "'''\n",
        "\n",
        "y3 = '''Once you study data analysis\n",
        "You need Python'''\n",
        "\n",
        "y4 = \"\"\"\n",
        "Once you study data analysis\n",
        "You need Python\"\"\"\n",
        "\n",
        "print(y2)\n",
        "print(y3)\n",
        "print(y4)"
      ],
      "metadata": {
        "colab": {
          "base_uri": "https://localhost:8080/"
        },
        "id": "Bwvr_QvHSGE3",
        "outputId": "3b5f8fee-868d-42fd-fbd9-c02e07671ed9"
      },
      "execution_count": null,
      "outputs": [
        {
          "output_type": "stream",
          "name": "stdout",
          "text": [
            "\n",
            "Once you study data analysis\n",
            "You need Python\n",
            "\n",
            "Once you study data analysis\n",
            "You need Python\n",
            "\n",
            "Once you study data analysis\n",
            "You need Python\n"
          ]
        }
      ]
    },
    {
      "cell_type": "code",
      "source": [
        "a1=\"Python\"\n",
        "a2 = \" is easy to learn\"\n",
        "print(a1 + a2)\n",
        "print(\"=\" * 25)"
      ],
      "metadata": {
        "colab": {
          "base_uri": "https://localhost:8080/"
        },
        "id": "2OfudsSDTcTP",
        "outputId": "a9db0514-46e8-49b8-c22d-dd7f9d9ecd0c"
      },
      "execution_count": null,
      "outputs": [
        {
          "output_type": "stream",
          "name": "stdout",
          "text": [
            "Python is easy to learn\n",
            "=========================\n"
          ]
        }
      ]
    },
    {
      "cell_type": "code",
      "source": [
        "# Q. 아래와 같이 출력할 수 있는 string을 만드세요.\n",
        "\n",
        "#\"What a wonderful world!\"\n",
        "# he said loudly\n",
        "\n",
        "world = '\"What a wonderful world!\"\\nhe said loudly'\n",
        "print(world)\n",
        "\n",
        "world='''\"What a wonderful world!\"\n",
        "hesaid loudly'''\n",
        "print(world)"
      ],
      "metadata": {
        "colab": {
          "base_uri": "https://localhost:8080/"
        },
        "id": "wuQOiUgtUBiy",
        "outputId": "cc6390bf-abe3-4745-a5e3-48977b6446bf"
      },
      "execution_count": null,
      "outputs": [
        {
          "output_type": "stream",
          "name": "stdout",
          "text": [
            "\"What a wonderful world!\"\n",
            "he said loudly\n",
            "\"What a wonderful world!\"\n",
            "hesaid loudly\n"
          ]
        }
      ]
    },
    {
      "cell_type": "code",
      "source": [
        "# Q. 다른 타입의 숫자 2개를 입력받아 큰 수를 출력하세요\n",
        "\n",
        "num1 = int(input(\"정수를 입력하세요 : \"))\n",
        "num2 = float(input(\"실수를 입력하세요 : \"))\n",
        "\n",
        "if num1 > num2:\n",
        "  print(num1)\n",
        "elif num1 < num2:\n",
        "  print(num2)\n",
        "else:\n",
        "  print(\"두개의 숫자가 같습니다\")"
      ],
      "metadata": {
        "colab": {
          "base_uri": "https://localhost:8080/"
        },
        "id": "M33uhT2aU-DZ",
        "outputId": "b00d0c10-46cf-498c-c917-5825f82ca822"
      },
      "execution_count": null,
      "outputs": [
        {
          "output_type": "stream",
          "name": "stdout",
          "text": [
            "정수를 입력하세요 : 3\n",
            "실수를 입력하세요 : 3.3\n",
            "3.3\n"
          ]
        }
      ]
    },
    {
      "cell_type": "markdown",
      "source": [
        "## 자료형 - List\n",
        "- 리스트는 [ ]로 표시하며 [ ]안의 요소를 콤마로 구분하여 순서있게 나열"
      ],
      "metadata": {
        "id": "rIGAAmdeJqan"
      }
    },
    {
      "cell_type": "code",
      "source": [
        "list1 = [1,2,3,4,5]\n",
        "list2 = ['a', 'b', 'c']\n",
        "list3 = [1, 'a', 'abc', [1,2,3,4,5], ['a', 'b', 'c', 'abc']]\n",
        "# 인덱싱\n",
        "print(list1[0:2])\n",
        "# 굳이 for문을 쓰지않아도 이렇게 출력가능\n",
        "print(list1[0:4])\n",
        "#print(list1)\n",
        "#print(list2)\n",
        "#print(list3[3][0])\n",
        "\n",
        "for i in list3:\n",
        "    if isinstance(i, list):\n",
        "      for n in i:\n",
        "        print(f\"이중배열 : {n}\")\n",
        "    else:\n",
        "      print(f\"list3의 값 : {i}\")\n"
      ],
      "metadata": {
        "colab": {
          "base_uri": "https://localhost:8080/"
        },
        "id": "DJ4xdkEsWAoe",
        "outputId": "959b40b6-dd28-414b-b27c-b616f51cea93"
      },
      "execution_count": null,
      "outputs": [
        {
          "output_type": "stream",
          "name": "stdout",
          "text": [
            "[1, 2]\n",
            "[1, 2, 3, 4]\n",
            "list3의 값 : 1\n",
            "list3의 값 : a\n",
            "list3의 값 : abc\n",
            "이중배열 : 1\n",
            "이중배열 : 2\n",
            "이중배열 : 3\n",
            "이중배열 : 4\n",
            "이중배열 : 5\n",
            "이중배열 : a\n",
            "이중배열 : b\n",
            "이중배열 : c\n",
            "이중배열 : abc\n"
          ]
        }
      ]
    },
    {
      "cell_type": "code",
      "source": [
        "# 더블 인덱싱\n",
        "\n",
        "list1= [1, 'a', 'abc', [1,2,3,4,5], ['a', 'b', 'c', 'abc']]\n",
        "\n",
        "print(list1[3][2])\n",
        "print(list1[4][0])\n",
        "\n",
        "for i in list1:\n",
        "  if isinstance(i, list):\n",
        "    print(i[0:len(i)])\n",
        "  else:\n",
        "    print(i)\n",
        "\n",
        "del list1[0]\n",
        "\n",
        "print(\"=\"*25)"
      ],
      "metadata": {
        "colab": {
          "base_uri": "https://localhost:8080/"
        },
        "id": "dumguqGJqdxY",
        "outputId": "d63ddd70-8757-4506-8a51-0f51d3a02afe"
      },
      "execution_count": null,
      "outputs": [
        {
          "output_type": "stream",
          "name": "stdout",
          "text": [
            "3\n",
            "a\n",
            "1\n",
            "a\n",
            "abc\n",
            "[1, 2, 3, 4, 5]\n",
            "['a', 'b', 'c', 'abc']\n",
            "=========================\n",
            "['a', 'abc', [1, 2, 3, 4, 5]]\n",
            "a\n"
          ]
        }
      ]
    },
    {
      "cell_type": "code",
      "source": [
        "# - 인덱싱\n",
        "\n",
        "a = [1,2,3,4,5,6,7,8,9]\n",
        "b = ['a', 'b', 'c', 'd', 'e']\n",
        "\n",
        "print(a[-1])\n",
        "print(a[-2:])\n",
        "print(a[-4:-1])\n",
        "print(a[-3:-5]) # 이건 안된다.\n",
        "\n"
      ],
      "metadata": {
        "colab": {
          "base_uri": "https://localhost:8080/"
        },
        "id": "-JFPViRftKQI",
        "outputId": "f3184c4b-d84f-4aba-ecc7-d7df3cce630b"
      },
      "execution_count": null,
      "outputs": [
        {
          "output_type": "stream",
          "name": "stdout",
          "text": [
            "9\n",
            "[8, 9]\n",
            "[6, 7, 8]\n",
            "[]\n"
          ]
        }
      ]
    },
    {
      "cell_type": "code",
      "source": [
        "# 리스트 확장\n",
        "h = [1,2,3]\n",
        "h.extend([4,5])\n",
        "print(h)\n",
        "h.append(6)\n",
        "print(h)\n",
        "h.insert(0,5)\n",
        "print(h)\n",
        "# h.insert(7) insert()는 위치와 값을 함께 입력해야한다. 마지막에 추가하는건 append()\n",
        "h.insert(6,9)\n",
        "print(h)\n",
        "h.append(20)\n",
        "print(h)"
      ],
      "metadata": {
        "colab": {
          "base_uri": "https://localhost:8080/"
        },
        "id": "RPiAYrnCt0ZA",
        "outputId": "d611c315-06e6-44d1-aaac-7c8030a0f6dc"
      },
      "execution_count": null,
      "outputs": [
        {
          "output_type": "stream",
          "name": "stdout",
          "text": [
            "[1, 2, 3, 4, 5]\n",
            "[1, 2, 3, 4, 5, 6]\n",
            "[5, 1, 2, 3, 4, 5, 6]\n",
            "[5, 1, 2, 3, 4, 5, 9, 6]\n",
            "[5, 1, 2, 3, 4, 5, 9, 6, 20]\n"
          ]
        }
      ]
    },
    {
      "cell_type": "code",
      "source": [
        "# isidentifier()\n",
        "b = \"string\"\n",
        "s = \"김한결\"\n",
        "a = 100\n",
        "f = 3.3\n",
        "print(type(b.isidentifier()))\n",
        "print(type(s.isidentifier()))\n",
        "#print(type(a.isidentifier())) 에러\n",
        "#print(type(f.isidentifier())) 에러\n",
        "# class 'bool' 반환"
      ],
      "metadata": {
        "colab": {
          "base_uri": "https://localhost:8080/"
        },
        "id": "-wbuGLL9vJGd",
        "outputId": "9280b050-2400-4130-da96-bd5023cc7a69"
      },
      "execution_count": null,
      "outputs": [
        {
          "output_type": "stream",
          "name": "stdout",
          "text": [
            "<class 'bool'>\n",
            "<class 'bool'>\n"
          ]
        }
      ]
    },
    {
      "cell_type": "markdown",
      "source": [
        "Q. list1에서 다음을 수행하세요\n",
        "- 33을 출력\n",
        "- 82를 리스트에 추가\n",
        "- 87의 인덱스 구하기 - 도전\n",
        "- 인덱스 3에서 10까지의 값을 출력하고 list2에 저장한 후 내림차순 정렬하기 - 도전\n",
        "- 39를 11로 변경\n",
        "- [69,45,58] 출력\n",
        "- 짝수 인덱스의 값으로 구성된 리스트 출력하기\n",
        "- 인덱스가 가장 큰수를 삭제하기\n",
        "- 인덱스 3, 5인 값으로 4칙 연산하기\n",
        "\n",
        "list1 = [58, 45, 69, 19,  4, 87, 29, 13, 39, 15, 54, [8, 33, 11], 27, 49, 63, 98, 22, 82]"
      ],
      "metadata": {
        "id": "jvBGaW3kvxbi"
      }
    },
    {
      "cell_type": "code",
      "source": [
        "list1 = [58, 45, 69, 19, 4, 87, 29, 13, 39, 15, 54, [8, 33, 11], 27, 49, 63, 98, 22, 82]\n",
        "\n",
        "print('1. ', list1[11][1])\n",
        "\n",
        "list1.append(82)\n",
        "print('2. ', list1)\n",
        "\n",
        "print(\"3. \", list1.index(87))\n",
        "\n",
        "list2 = list1[3:11] # 3에서 11 앞까지 = 3~10인것\n",
        "#print('4. ', sorted(list2, reverse=True))\n",
        "list2.sort(reverse=True)\n",
        "print('4. ', list2)\n",
        "\n",
        "n1 = list1.index(39)\n",
        "list1[n1] = 11\n",
        "print('5. ', list1[n1])\n",
        "\n",
        "# 2부터 끝까지인데 -1은 꺼꾸로라는 뜻\n",
        "# 그래서 :: 두번쓴다. :한번쓰면 끝까지라는 뜻인데 :를 하나 더 붙여서 -1꺼꾸로라는 의미를 부여했다.\n",
        "print('6. ', list1[2::-1])\n",
        "# 0부터 끝까지인데 2스텝으로\n",
        "print('7. ', list1[0::2])\n",
        "\n",
        "del list1[-1]\n",
        "print('8. ', list1)\n",
        "\n",
        "print('9 ', list1[3] + list1[5])\n",
        "\n",
        "# 3번째부터 거꾸로 끝까지 출력\n",
        "print(list1[2::-1])\n",
        "# 3번째부터 한칸씩 띄고 끝까지 출력\n",
        "print(list1[2::2])\n",
        "# 9번째 부터 거꾸로 2칸씩\n",
        "print(list1[8::-2])\n",
        "# 처음부터 끝까지인데 역순\n",
        "print(list1[::-1])\n",
        "# 시작점과 끝점, 역순이면?\n",
        "print(list1[9:4:-1])"
      ],
      "metadata": {
        "colab": {
          "base_uri": "https://localhost:8080/"
        },
        "id": "DBYLMo6MvwFK",
        "outputId": "d92a0c6e-d3b6-40a3-cf24-0f2e0980cc69"
      },
      "execution_count": null,
      "outputs": [
        {
          "output_type": "stream",
          "name": "stdout",
          "text": [
            "1.  33\n",
            "2.  [58, 45, 69, 19, 4, 87, 29, 13, 39, 15, 54, [8, 33, 11], 27, 49, 63, 98, 22, 82, 82]\n",
            "3.  5\n",
            "4.  [87, 54, 39, 29, 19, 15, 13, 4]\n",
            "5.  11\n",
            "6.  [69, 45, 58]\n",
            "7.  [58, 69, 4, 29, 11, 54, 27, 63, 22, 82]\n",
            "8.  [58, 45, 69, 19, 4, 87, 29, 13, 11, 15, 54, [8, 33, 11], 27, 49, 63, 98, 22, 82]\n",
            "9  106\n",
            "[69, 45, 58]\n",
            "[69, 4, 29, 11, 54, 27, 63, 22]\n",
            "[11, 29, 4, 69, 58]\n",
            "[82, 22, 98, 63, 49, 27, [8, 33, 11], 54, 15, 11, 13, 29, 87, 4, 19, 69, 45, 58]\n",
            "[15, 11, 13, 29, 87]\n"
          ]
        }
      ]
    },
    {
      "cell_type": "markdown",
      "source": [
        "#### sort 와 sorted 차이점\n",
        "\n",
        "1. 메서드 vs 함수:\n",
        "- sort(): 리스트 객체의 내장 메서드입니다. 즉, 리스트에서만 사용할 수 있습니다.\n",
        "- sorted(): 내장 함수로, 어떤 반복 가능한(iterable) 객체에도 사용될 수 있습니다. 예를 들면 리스트, 튜플, 딕셔너리, 문자열 등에 사용할 수 있습니다.\n",
        "\n",
        "2. 반환 값:\n",
        "- sort(): 리스트를 원 위치에서(in-place) 정렬하고 None을 반환합니다. 따라서 원래의 리스트 자체가 변경됩니다.\n",
        "- sorted(): 정렬된 새로운 리스트를 반환합니다. 원래의 객체는 변경되지 않습니다.\n",
        "\n",
        "3. 유용성:\n",
        "- sort(): 리스트에서만 작동하기 때문에 리스트만 정렬할 수 있습니다.\n",
        "- sorted(): 다양한 객체를 정렬할 수 있으며 결과는 항상 리스트로 반환됩니다."
      ],
      "metadata": {
        "id": "WkckvLIW98ks"
      }
    },
    {
      "cell_type": "code",
      "source": [
        "# sort()\n",
        "list1 = [3, 1, 2]\n",
        "list1.sort()\n",
        "print(list1)\n",
        "print(\"=\"*25)\n",
        "\n",
        "# sorted() 무조건 리스트반환\n",
        "tuple1 = (3, 1, 2)\n",
        "print(sorted(tuple1))\n",
        "print(\"=\"*25)\n",
        "t_list = sorted(tuple1)\n",
        "print(t_list, \"\\n\")\n",
        "print(tuple1)\n",
        "\n",
        "tuple2 = (sorted(tuple1))\n",
        "tuple2 = tuple(tuple2) #반환된 리스트를 튜플로 바꿀수는 있음\n",
        "# tuple2.append(2) 튜플은 수정이 안됨\n",
        "# tuple2[0] = 5\n",
        "print(tuple2, \"\\n\")\n",
        "tuple2 = list(tuple2)\n",
        "print(tuple2,'\\n')"
      ],
      "metadata": {
        "id": "YLii9atrAimV"
      },
      "execution_count": null,
      "outputs": []
    },
    {
      "cell_type": "code",
      "source": [
        "list1 = [58, 45, 69, 19, 4, 87, 29, 13, 39, 15, 54, [8, 33, 11], 27, 49, 63, 98, 22, 82]\n",
        "\n",
        "print(list1[3:11], '\\n')\n",
        "my_list = list1[3:11] # (11의 앞인 10까지 나온다)\n",
        "my_list.sort(reverse=True)\n",
        "print(my_list, '\\n')"
      ],
      "metadata": {
        "id": "qkIkiiZuFz1I"
      },
      "execution_count": null,
      "outputs": []
    },
    {
      "cell_type": "code",
      "source": [
        "list1 = [58, 45, 69, 19, 4, 87, 29, 13, 39, 15, 54, [8, 33, 11], 27, 49, 63, 98, 22, 82]\n",
        "\n",
        "print(list1[3:11], '\\n')\n",
        "my_list = sorted(list1[3:11], reverse=True)\n",
        "print(my_list, '\\n')"
      ],
      "metadata": {
        "id": "tzUEh0c0GtxK"
      },
      "execution_count": null,
      "outputs": []
    },
    {
      "cell_type": "markdown",
      "source": [
        "#### Task1_0425. 주어진 숫자 리스트에서 최소값과 최대값을 찾아 출력하세요.\n",
        "\n",
        "numbers = [58, 45, 69, 19, 4, 87, 29, 13, 39, 15]\n",
        "\n",
        "#### Task2_0425. 주어진 숫자 리스트의 모든 요소의 합계와 평균을 계산하고 출력하세요\n",
        "\n",
        "#### Task3_0425. 주어진 리스트에서 특정 요소가 등장하는 모든 인덱스를 리스트로 만들어 출력하세요.\n",
        "\n",
        "target = 'apple'\n",
        "\n",
        "items = ['apple', 'banana', 'cherry', 'apple', 'cherry', 'apple']\n",
        "\n",
        "#### Task4_0425. 주어진 리스트에서 연속해서 반복되는 요소만 제거하고, 결과 리스트를 반환하세요. 단, 처음 등장하는 요소는 유지해야 합니다.\n",
        "##### 예를 들어, ['a', 'a', 'b', 'c', 'c', 'c', 'd', 'e', 'e']가 입력되면, ['a', 'b', 'c', 'd', 'e']를 출력해야 합니다.\n",
        "\n",
        "#### Task5_0425 주어진 정수 리스트와 회전 횟수 k에 대해 리스트를 오른쪽으로 k만큼 회전시킨 결과를 반환하세요. k가 리스트의 길이보다 클 수 있으며, 이 경우 k를 리스트 길이로 나눈 나머지만큼 실제 회전시키면 됩니다.\n",
        "##### 예를 들어, [1, 2, 3, 4, 5]와 k=2가 주어지면, 결과는 [4, 5, 1, 2, 3]이 되어야 합니다."
      ],
      "metadata": {
        "id": "1I0BTikOHYII"
      }
    },
    {
      "cell_type": "code",
      "source": [
        "# Task1_0425. 주어진 숫자 리스트에서 최소값과 최대값을 찾아 출력하세요.\n",
        "numbers = [58, 45, 69, 19, 4, 87, 29, 13, 39, 15]\n",
        "\n",
        "min_num = min(numbers)\n",
        "max_num = max(numbers)\n",
        "\n",
        "print(f\"최소값 : {min_num} / 최대값 : {max_num}\")"
      ],
      "metadata": {
        "colab": {
          "base_uri": "https://localhost:8080/"
        },
        "id": "yKPaKamCHC8g",
        "outputId": "7e047323-21c5-4666-b2a3-f014f7fcd75a"
      },
      "execution_count": null,
      "outputs": [
        {
          "output_type": "stream",
          "name": "stdout",
          "text": [
            "최소값 : 4 / 최대값 : 87\n"
          ]
        }
      ]
    },
    {
      "cell_type": "code",
      "source": [
        "# Task2_0425. 주어진 숫자 리스트의 모든 요소의 합계와 평균을 계산하고 출력하세요\n",
        "import numpy as np\n",
        "\n",
        "numbers = [58, 45, 69, 19, 4, 87, 29, 13, 39, 15]\n",
        "\n",
        "sum_num = sum(numbers)\n",
        "avg_num = np.mean(numbers)\n",
        "print(f\"합계 : {sum_num} / 평균 : {avg_num}입니다.\")\n",
        "\n",
        "# 풀어서 계산해보자\n",
        "\n",
        "def sum_number(numbers):\n",
        "  sn = 0\n",
        "  for i in numbers:\n",
        "    sn += i\n",
        "  return sn\n",
        "\n",
        "def avg_number(numbers):\n",
        "  sn = sum_number(numbers)\n",
        "  avg_res = sn/len(numbers)\n",
        "\n",
        "  return avg_res\n",
        "\n",
        "print(\"합계는 : \", sum_number(numbers))\n",
        "print(\"평균은 : \", avg_number(numbers))"
      ],
      "metadata": {
        "colab": {
          "base_uri": "https://localhost:8080/"
        },
        "id": "RUn0i4RtIOZR",
        "outputId": "d0e3a9b6-f908-49ff-81e5-e028b5f69217"
      },
      "execution_count": null,
      "outputs": [
        {
          "output_type": "stream",
          "name": "stdout",
          "text": [
            "합계 : 378 / 평균 : 37.8입니다.\n",
            "합계는 :  378\n",
            "평균은 :  37.8\n"
          ]
        }
      ]
    },
    {
      "cell_type": "code",
      "source": [
        "import numpy as np\n",
        "numbers = [58, 45, 69, 19, 4, 87, 29, 13, 39, 15]\n",
        "print(f\"{sum(numbers)}, {np.mean(numbers)}\")"
      ],
      "metadata": {
        "colab": {
          "base_uri": "https://localhost:8080/"
        },
        "id": "wEj6QBh56V4x",
        "outputId": "9c15bbcd-e1d0-4fce-99a0-a1a6b0f21743"
      },
      "execution_count": null,
      "outputs": [
        {
          "output_type": "stream",
          "name": "stdout",
          "text": [
            "378, 37.8\n"
          ]
        }
      ]
    },
    {
      "cell_type": "code",
      "source": [
        "import statistics\n",
        "\n",
        "numbers = [58, 45, 69, 19, 4, 87, 29, 13, 39, 15]\n",
        "\n",
        "avg = statistics.mean(numbers)\n",
        "print(f\"평균 : {avg}\")"
      ],
      "metadata": {
        "colab": {
          "base_uri": "https://localhost:8080/"
        },
        "id": "o96GF21G2Sc9",
        "outputId": "ec0a0c33-b2a9-43eb-d33e-8953d3642762"
      },
      "execution_count": null,
      "outputs": [
        {
          "output_type": "stream",
          "name": "stdout",
          "text": [
            "평균 : 37.8\n"
          ]
        }
      ]
    },
    {
      "cell_type": "code",
      "source": [
        "#Task3_0425. 주어진 리스트에서 특정 요소가 등장하는 모든 인덱스를 리스트로 만들어 출력하세요.\n",
        "\n",
        "target = 'apple'\n",
        "items = ['apple', 'banana', 'cherry', 'apple', 'cherry', 'apple']\n",
        "\n",
        "# if items[i] == target이면 'i' 값이 리스트에 담기기 때문이다. 이때 i는 '인덱스값'이다.\n",
        "# apples = [i for i in range(len(items)) if items[i] == target]\n",
        "\n",
        "# enumerate()는 인덱스와 값을 함께 뽑아준다.\n",
        "apples = [ind for ind, val in enumerate(items) if val == target]\n",
        "\n",
        "print(apples)"
      ],
      "metadata": {
        "colab": {
          "base_uri": "https://localhost:8080/"
        },
        "id": "LUGBtgWrK2cN",
        "outputId": "591419d0-d9c8-475c-d3f5-68f930cdf3e2"
      },
      "execution_count": null,
      "outputs": [
        {
          "output_type": "stream",
          "name": "stdout",
          "text": [
            "['apple', 'apple', 'apple']\n"
          ]
        }
      ]
    },
    {
      "cell_type": "code",
      "source": [
        "# Task4_0425. 주어진 리스트에서 연속해서 반복되는 요소만 제거하고, 결과 리스트를 반환하세요.\n",
        "# 단, 처음 등장하는 요소는 유지해야 합니다.\n",
        "# 예를 들어, ['a', 'a', 'b', 'c', 'c', 'c', 'd', 'e', 'e']가 입력되면, ['a', 'b', 'c', 'd', 'e']를 출력해야 합니다.\n",
        "\n",
        "list1 = ['a', 'a', 'b', 'c', 'c', 'c', 'd', 'e', 'e']\n",
        "\n",
        "list2 = []\n",
        "\n",
        "for i in list1:\n",
        "  if i not in list2:\n",
        "    list2.append(i)\n",
        "\n",
        "print(list2)"
      ],
      "metadata": {
        "colab": {
          "base_uri": "https://localhost:8080/"
        },
        "id": "Fvr_1d2ZNmGa",
        "outputId": "fb2ede1b-5aa5-4b49-d94b-e54b447a5552"
      },
      "execution_count": null,
      "outputs": [
        {
          "output_type": "stream",
          "name": "stdout",
          "text": [
            "['a', 'b', 'c', 'd', 'e']\n"
          ]
        }
      ]
    },
    {
      "cell_type": "code",
      "source": [
        "# 문제를 잘 보고 해야함. '연속'해서 반복되는 요소만 '제거'임\n",
        "list1 = ['a', 'a', 'b', 'c', 'c', 'c', 'd', 'e', 'e', 'a']\n",
        "\n",
        "res = [list1[0]]\n",
        "for i in list1[1:]:\n",
        "  if i != res[-1]:\n",
        "    res.append(i)\n",
        "print(res)"
      ],
      "metadata": {
        "colab": {
          "base_uri": "https://localhost:8080/"
        },
        "id": "i8EHNirn8AvQ",
        "outputId": "0ab4a692-914e-417c-b422-cf04303a0909"
      },
      "execution_count": null,
      "outputs": [
        {
          "output_type": "stream",
          "name": "stdout",
          "text": [
            "['a', 'b', 'c', 'd', 'e', 'a']\n"
          ]
        }
      ]
    },
    {
      "cell_type": "code",
      "source": [
        "# 바로 전 요소와 비교하면서 중복 제거\n",
        "def remove_consecutive_duplicates(list1):\n",
        "  # 값이 안들어왔을 때를 항상 대비하자\n",
        "  if not items:\n",
        "    return []\n",
        "\n",
        "# 반환할 리스트에 미리 첫번째 값을 담아둡니다.\n",
        "  result = [list1[0]]\n",
        "\n",
        "# 매개변수로 받은 리스트의 두번째 값부터 시작해서 끝까지 for문을 돕니다.\n",
        "  for i in list1[1:]:\n",
        "    # result 리스트의 마지막 값과 비교하면서 넣습니다. (그냥 중복제거가 아니기 때문)\n",
        "    if i != result[-1]:\n",
        "      result.append(i)\n",
        "  return result\n",
        "\n",
        "list1 = ['a', 'a', 'b', 'c', 'c', 'c', 'd', 'e', 'e', 'a']\n",
        "print(remove_consecutive_duplicates(list1))\n"
      ],
      "metadata": {
        "colab": {
          "base_uri": "https://localhost:8080/"
        },
        "id": "zXGfl8-j9rzn",
        "outputId": "d4d13650-416d-4373-9a98-c44c312829c0"
      },
      "execution_count": null,
      "outputs": [
        {
          "output_type": "stream",
          "name": "stdout",
          "text": [
            "['a', 'b', 'c', 'd', 'e', 'a']\n"
          ]
        }
      ]
    },
    {
      "cell_type": "markdown",
      "source": [
        "주피터 환경에서 라이브러리 설치하는 방법"
      ],
      "metadata": {
        "id": "DQ1kF3r3fR6R"
      }
    },
    {
      "cell_type": "code",
      "source": [
        "!pip install fastai"
      ],
      "metadata": {
        "id": "jt5l3Skn7HDv"
      },
      "execution_count": null,
      "outputs": []
    },
    {
      "cell_type": "code",
      "source": [
        "# Task5_0425 주어진 정수 리스트와 회전 횟수 k에 대해 리스트를 오른쪽으로 k만큼 회전시킨 결과를 반환하세요.\n",
        "# k가 리스트의 길이보다 클 수 있으며, 이 경우 k를 리스트 길이로 나눈 나머지만큼 실제 회전시키면 됩니다.\n",
        "# 예를 들어, [1, 2, 3, 4, 5]와 k=2가 주어지면, 결과는 [4, 5, 1, 2, 3]이 되어야 합니다.\n",
        "# 1 2 3 4 5\n",
        "#1번 51234\n",
        "#2번 45123\n",
        "#3번 34512\n",
        "#4번 23451\n",
        "#5번 12345\n",
        "#6번 51234\n",
        "#7번 45123\n",
        "\n",
        "int_list = list( input(\"리스트를 입력해주세요 : \").split(' '))\n",
        "k = int(input(\"회전시킬 값을 입력해주세요 : \"))\n",
        "\n",
        "k = len(int_list) - k\n",
        "res_list = int_list[k:] + int_list[:k]\n",
        "\n",
        "print(f\"회전 후의 리스트는 {res_list}(이)가 됩니다.\")"
      ],
      "metadata": {
        "colab": {
          "base_uri": "https://localhost:8080/"
        },
        "id": "o8SWqC06O0VL",
        "outputId": "087174df-535d-4519-8707-5f3e11910525"
      },
      "execution_count": null,
      "outputs": [
        {
          "output_type": "stream",
          "name": "stdout",
          "text": [
            "리스트를 입력해주세요 : 1 2 3 4 5\n",
            "회전시킬 값을 입력해주세요 : 3\n",
            "회전 후의 리스트는 ['3', '4', '5', '1', '2'](이)가 됩니다.\n"
          ]
        }
      ]
    },
    {
      "cell_type": "code",
      "source": [
        "def rotate_list(nums, k):\n",
        "  if not nums:\n",
        "    return nums\n",
        "\n",
        "    # 회전 횟수를 리스트 길이로 나눈 나머지로 계산\n",
        "    k = k % len(nums)\n",
        "\n",
        "    # 리스트의 끝부분을 앞으로, 앞부분을 끝으로 옮김\n",
        "    rotated = nums[-k:] + nums[:-k]\n",
        "    return rotated\n",
        "\n",
        "nums = [1, 2, 3, 4, 5]\n",
        "k = 2\n",
        "rotate_list(nums, k)"
      ],
      "metadata": {
        "id": "mZK40wNnX5lb"
      },
      "execution_count": null,
      "outputs": []
    },
    {
      "cell_type": "code",
      "source": [
        "#int_list = list(map(int, input(\"리스트를 입력해주세요 : \").split(' ')))\n",
        "#k = int(input(\"회전시킬 값을 입력해주세요 : \"))\n",
        "\n",
        "int_list = [1, 2, 3, 4, 5]\n",
        "k = 3\n",
        "\n",
        "k = len(int_list) - k # k는 -4가 된다.\n",
        "res_list = int_list[-k:] + int_list[:-k] # --4는 +4\n",
        "\n",
        "print(f\"회전 후의 리스트는 {res_list}(이)가 됩니다.\")"
      ],
      "metadata": {
        "colab": {
          "base_uri": "https://localhost:8080/"
        },
        "id": "vOCMFihFDc7F",
        "outputId": "0b3dfab9-ff77-4c0e-9cee-8b48d6fd15a6"
      },
      "execution_count": null,
      "outputs": [
        {
          "output_type": "stream",
          "name": "stdout",
          "text": [
            "회전 후의 리스트는 [4, 5, 1, 2, 3](이)가 됩니다.\n"
          ]
        }
      ]
    },
    {
      "cell_type": "markdown",
      "source": [
        "# 자료형 - Tuple\n",
        "\n",
        "- 튜플은 변경할 수 없는(immutable) 순서가 있는 컬렉션\n",
        "- 프로그램에서 그 값이 항상 변하지 않아야되는 경우 사용"
      ],
      "metadata": {
        "id": "yljQnLnnJDd4"
      }
    },
    {
      "cell_type": "code",
      "source": [
        "tuple1 = (1, 2, 3, 4, 5)\n",
        "tuple2 = ('a', 'b', 'c', 'd', 'e')\n",
        "tuple3 = (1, 'a', 'abc', [1, 2, 3, 4, 5], ['a', 'b', 'c'])\n",
        "\n",
        "print(tuple1[:])\n",
        "print(tuple1[2])\n",
        "print(tuple3[3][2])"
      ],
      "metadata": {
        "colab": {
          "base_uri": "https://localhost:8080/"
        },
        "id": "gqBiuIvtJL8y",
        "outputId": "36834c6c-d861-4f01-e170-5c69d67a065c"
      },
      "execution_count": null,
      "outputs": [
        {
          "output_type": "stream",
          "name": "stdout",
          "text": [
            "(1, 2, 3, 4, 5)\n",
            "3\n",
            "3\n"
          ]
        }
      ]
    },
    {
      "cell_type": "code",
      "source": [
        "list = [1, 2, 3, 4, 5]\n",
        "list[0] = 0\n",
        "list"
      ],
      "metadata": {
        "colab": {
          "base_uri": "https://localhost:8080/"
        },
        "id": "rPYn-sx_KT-M",
        "outputId": "aeb4155f-f938-48c6-8712-6f87f0afa2f8"
      },
      "execution_count": null,
      "outputs": [
        {
          "output_type": "execute_result",
          "data": {
            "text/plain": [
              "[0, 2, 3, 4, 5]"
            ]
          },
          "metadata": {},
          "execution_count": 87
        }
      ]
    },
    {
      "cell_type": "code",
      "source": [
        "tuple1 = (1, 2, 3, 4, 5)\n",
        "# tuple1[0] = 0 튜플의 요소값은 변경할 수 없음\n",
        "tuple1"
      ],
      "metadata": {
        "id": "x8mqfnLDKzMy"
      },
      "execution_count": null,
      "outputs": []
    },
    {
      "cell_type": "code",
      "source": [
        "l1 = [1]\n",
        "t1 = (1,)\n",
        "# 1개의 요소만 가질 때는 요소 뒤에 콤마를 붙여야 함\n",
        "# ,가 없으면 튜플이 int 혹은 str 등 다른 타입으로 변경됨\n",
        "\n",
        "type(t1)\n",
        "#t2 = ('a')\n",
        "#type(t2)"
      ],
      "metadata": {
        "colab": {
          "base_uri": "https://localhost:8080/"
        },
        "id": "YjPnIis9Luq1",
        "outputId": "ac277368-f08e-419d-eda6-bf4c921ecc75"
      },
      "execution_count": null,
      "outputs": [
        {
          "output_type": "execute_result",
          "data": {
            "text/plain": [
              "tuple"
            ]
          },
          "metadata": {},
          "execution_count": 112
        }
      ]
    },
    {
      "cell_type": "code",
      "source": [
        "# 소괄호 생략시 튜플로 타입 지정\n",
        "t2 = 1,2,3\n",
        "print(t2)\n",
        "type(t2)"
      ],
      "metadata": {
        "colab": {
          "base_uri": "https://localhost:8080/"
        },
        "id": "xeMIDiE2MidS",
        "outputId": "88ea2e57-6590-46e9-e37e-c4769272d12d"
      },
      "execution_count": null,
      "outputs": [
        {
          "output_type": "stream",
          "name": "stdout",
          "text": [
            "(1, 2, 3)\n"
          ]
        },
        {
          "output_type": "execute_result",
          "data": {
            "text/plain": [
              "tuple"
            ]
          },
          "metadata": {},
          "execution_count": 105
        }
      ]
    },
    {
      "cell_type": "code",
      "source": [
        "t2 * 3\n",
        "print(t1)\n",
        "print(t2)\n",
        "print(t1+t2)\n",
        "\n",
        "# int+튜플은 안된다.\n",
        "# 튜플+튜플은 가능하다.\n",
        "# 리스트+튜플도 안된다."
      ],
      "metadata": {
        "colab": {
          "base_uri": "https://localhost:8080/"
        },
        "id": "svaeUpQpMz8P",
        "outputId": "d5d91d57-91d9-44d8-fe08-110b231ef421"
      },
      "execution_count": null,
      "outputs": [
        {
          "output_type": "stream",
          "name": "stdout",
          "text": [
            "(1,)\n",
            "(1, 2, 3)\n",
            "(1, 1, 2, 3)\n"
          ]
        }
      ]
    },
    {
      "cell_type": "code",
      "source": [
        "# Q. 'red', 'green', 'blue' 값을 갖는 튜플에서 각 값을 각각 r,g,b 변수에 할당하고 출력하세요\n",
        "\n",
        "colors = ('red', 'green', 'blue')\n",
        "\n",
        "#r = colors[0]\n",
        "#g = colors[1]\n",
        "#b = colors[2]\n",
        "\n",
        "# 각각 지정해줄 필요 없다\n",
        "r, g, b = colors\n",
        "\n",
        "print(r, g, b)\n",
        "\n",
        "# 리스트도 가능\n",
        "colors = ['red', 'green', 'blue']\n",
        "a, s, d = colors\n",
        "print(a,s,d)"
      ],
      "metadata": {
        "colab": {
          "base_uri": "https://localhost:8080/"
        },
        "id": "GrbJjUsHOeyT",
        "outputId": "d7cd9178-d914-475d-92ea-459bbda52c13"
      },
      "execution_count": null,
      "outputs": [
        {
          "output_type": "stream",
          "name": "stdout",
          "text": [
            "red green blue\n",
            "red green blue\n"
          ]
        }
      ]
    },
    {
      "cell_type": "markdown",
      "source": [
        "함수에서 여러 값을 반환할 때 튜플을 사용하는 것이 일반적입니다.\n",
        "Q. 주어진 리스트의 총합과 평균을 동시에 반환하는 함수를 작성하세요.\n",
        "\n",
        "numbers = [10, 20, 30, 40, 50]"
      ],
      "metadata": {
        "id": "20CetBEkPHdb"
      }
    },
    {
      "cell_type": "code",
      "source": [
        "def calculate_sum_and_average(numbers):\n",
        "  sn = sum(numbers)\n",
        "  avg = sn / len(numbers)\n",
        "\n",
        "  return sn, avg\n",
        "\n",
        "numbers = [10, 20, 30, 40, 50]\n",
        "sn, avg = calculate_sum_and_average(numbers)\n",
        "print(f\"합계 : {sn}, 평균 : {avg}\")"
      ],
      "metadata": {
        "colab": {
          "base_uri": "https://localhost:8080/"
        },
        "id": "8wZ21tpzPRQX",
        "outputId": "a1f734be-2c03-4f8d-8ac9-5fe811cee958"
      },
      "execution_count": null,
      "outputs": [
        {
          "output_type": "stream",
          "name": "stdout",
          "text": [
            "합계 : 150, 평균 : 30.0\n"
          ]
        }
      ]
    },
    {
      "cell_type": "markdown",
      "source": [
        "## 자료형 - 사전\n",
        "- 키와 값을 하나의 요소로 하는 순서가 없는 집합"
      ],
      "metadata": {
        "id": "YZ9t22cqRNzO"
      }
    },
    {
      "cell_type": "code",
      "source": [
        "d1 = {'a':1, 'b':2, 'c':3}\n",
        "print(d1.keys())\n",
        "print(d1.values())\n",
        "# items()함수를 사용하여 뽑으면 [('a',1)] 튜플로 반환된다\n",
        "print(d1.items())\n",
        "print(d1['a'])\n",
        "\n",
        "key = 'a'\n",
        "if key in d1.keys():\n",
        "  print(f\"키: {key}, 값: {d1[key]}\")"
      ],
      "metadata": {
        "colab": {
          "base_uri": "https://localhost:8080/"
        },
        "id": "owW3ulquReEf",
        "outputId": "d48d2400-b730-477d-8420-3228a3479ff3"
      },
      "execution_count": null,
      "outputs": [
        {
          "output_type": "stream",
          "name": "stdout",
          "text": [
            "dict_keys(['a', 'b', 'c'])\n",
            "dict_values([1, 2, 3])\n",
            "dict_items([('a', 1), ('b', 2), ('c', 3)])\n",
            "1\n",
            "키: a, 값: 1\n"
          ]
        }
      ]
    },
    {
      "cell_type": "code",
      "source": [
        "d1['d'] = 4\n",
        "d1['b'] = 7 # 자유롭게 추가 삭제 수정 가능\n",
        "del d1['d']\n",
        "d1"
      ],
      "metadata": {
        "colab": {
          "base_uri": "https://localhost:8080/"
        },
        "id": "XQJ03VoJTFLm",
        "outputId": "dca41520-f6fa-4b04-c1b4-b152cbe73f9d"
      },
      "execution_count": null,
      "outputs": [
        {
          "output_type": "execute_result",
          "data": {
            "text/plain": [
              "{'a': 1, 'b': 7, 'c': 3}"
            ]
          },
          "metadata": {},
          "execution_count": 131
        }
      ]
    },
    {
      "cell_type": "code",
      "source": [
        "# Q. 딕셔너리 d에서 'b'의 값을 확인하면서 그 값을 삭제하세요\n",
        "\n",
        "d = {'a':1, 'b':2, 'c':3}\n",
        "\n",
        "dl = d.pop('b')\n",
        "print(dl)\n",
        "print(d)"
      ],
      "metadata": {
        "colab": {
          "base_uri": "https://localhost:8080/"
        },
        "id": "Y7tplKcqTXKm",
        "outputId": "718769d2-0097-4346-f5e9-071a5355bf3e"
      },
      "execution_count": null,
      "outputs": [
        {
          "output_type": "stream",
          "name": "stdout",
          "text": [
            "2\n",
            "{'a': 1, 'c': 3}\n"
          ]
        }
      ]
    },
    {
      "cell_type": "code",
      "source": [
        "# Q. 다음과 같이 학생의 이름과 점수를 튜플로 묶은 리스트가 있습니다:[(\"Tom\", 85), (\"Jane\", 90), (\"Bob\", 75)]\n",
        "# 이 리스트를 사용해 학생 이름을 키로, 점수를 값으로 하는 딕셔너리를 생성하고 출력하세요\n",
        "\n",
        "students = [(\"Tom\", 85), (\"Jane\", 90), (\"Bob\", 75)]\n",
        "dict1 = {}\n",
        "\n",
        "for name, score in students:\n",
        "  dict1[name] = score\n",
        "\n",
        "print(dict1)\n"
      ],
      "metadata": {
        "id": "NNMrkfVqWdsC"
      },
      "execution_count": null,
      "outputs": []
    },
    {
      "cell_type": "code",
      "source": [
        "# dict() 함수사용\n",
        "students = [(\"Tom\", 85), (\"Jane\", 90), (\"Bob\", 75)]\n",
        "\n",
        "student_dict = dict(students)\n",
        "student_dict"
      ],
      "metadata": {
        "id": "WIuzeFL7g4qI"
      },
      "execution_count": null,
      "outputs": []
    },
    {
      "cell_type": "code",
      "source": [
        "# Q. 튜플의 불변성 때문에 튜플은 딕셔너리의 키로 사용될 수 있습니다.\n",
        "# 주어진 위치 좌표 리스트에서 각 위치가 몇 번 나타나는지 계산하는 딕셔너리를 만드세요\n",
        "\n",
        "positions = [(1,1), (2,2), (1,1), (3,3), (2,2)]\n",
        "\n",
        "# 튜플을 키로 사용할 수 있다.\n",
        "\n",
        "dict1 = {}\n",
        "\n",
        "for p in positions:\n",
        "  if p in dict1.keys():\n",
        "    dict1[p] += 1\n",
        "  else:\n",
        "    dict1[p] = 1\n",
        "\n",
        "print(dict1)"
      ],
      "metadata": {
        "colab": {
          "base_uri": "https://localhost:8080/"
        },
        "id": "_T70gQSzWxeR",
        "outputId": "b69ae80b-8eaa-40b3-929c-7c13a64a278b"
      },
      "execution_count": null,
      "outputs": [
        {
          "output_type": "stream",
          "name": "stdout",
          "text": [
            "{(1, 1): 2, (2, 2): 2, (3, 3): 1}\n"
          ]
        }
      ]
    },
    {
      "cell_type": "markdown",
      "source": [
        "## 자료형 - 집합, set\n",
        "- 중복을 허용하지 않으며 순서가 없다"
      ],
      "metadata": {
        "id": "Z2NixNbfyyZ6"
      }
    },
    {
      "cell_type": "code",
      "source": [
        "s1 = set([1,2,5,4,3])\n",
        "s2 = set('hello')\n",
        "\n",
        "print(s1)\n",
        "print(s2)\n",
        "\n",
        "# 문자열을 넣어도 각각의 요소들을 집합으로 묶는다.\n",
        "# set의 요소를 찾기 위해서는 다른 형태로 변환해줘야한다\n",
        "\n",
        "l1 = list(s1)\n",
        "print(l1[2])\n",
        "\n",
        "for i in s2:\n",
        "  if i == 'l':\n",
        "    print(i)\n"
      ],
      "metadata": {
        "colab": {
          "base_uri": "https://localhost:8080/"
        },
        "id": "gL4QtCiry269",
        "outputId": "89c02aba-ede9-40bd-ef3b-1e14f687dde6"
      },
      "execution_count": null,
      "outputs": [
        {
          "output_type": "stream",
          "name": "stdout",
          "text": [
            "{1, 2, 3, 4, 5}\n",
            "{'o', 'l', 'e', 'h'}\n",
            "3\n",
            "l\n"
          ]
        }
      ]
    },
    {
      "cell_type": "markdown",
      "source": [
        "Q. 주어진 리스트에서 중복 요소를 제거하고 결과를 출력하세요"
      ],
      "metadata": {
        "id": "AdAgKTEb1g7Q"
      }
    },
    {
      "cell_type": "code",
      "source": [
        "nums = [1,2,2,3,4,4,4,5]\n",
        "print(set(nums))\n",
        "nums = set(nums)\n",
        "print(nums)"
      ],
      "metadata": {
        "colab": {
          "base_uri": "https://localhost:8080/"
        },
        "id": "9VfcID2t02Jb",
        "outputId": "be19e17d-ccdf-473b-9d74-34582a5a6bbc"
      },
      "execution_count": null,
      "outputs": [
        {
          "output_type": "stream",
          "name": "stdout",
          "text": [
            "{1, 2, 3, 4, 5}\n",
            "{1, 2, 3, 4, 5}\n"
          ]
        }
      ]
    },
    {
      "cell_type": "markdown",
      "source": [
        "Q. s1, s2의 합집합과 교집합을 각각 리스트로 출력하세요"
      ],
      "metadata": {
        "id": "JR65aZY52fEn"
      }
    },
    {
      "cell_type": "code",
      "source": [
        "s1 = set([1, 2, 3, 4, 5, 6])\n",
        "s2 = set([4, 5, 6, 7, 8, 9])\n",
        "\n",
        "s1 = list(s1)\n",
        "s2 = list(s2)\n",
        "\n",
        "sum_nums = s1+s2\n",
        "#print(sum_nums)\n",
        "\n",
        "unique_nums = [ i for i in s1 if i in s2 ]\n",
        "#print(unique_nums)\n",
        "\n",
        "###############################################\n",
        "\n",
        "s1 = [1, 2, 3, 4, 5, 6]\n",
        "s2 = [4, 5, 6, 7, 8, 9]\n",
        "\n",
        "# 리스트는 이 연산자를 사용하지 못한다.\n",
        "# print(list[s1 | s2])\n",
        "# print(list[s1 & s2])\n",
        "\n",
        "s1 = set(s1)\n",
        "s2 = set(s2)\n",
        "\n",
        "# 집합에서는 가능하다\n",
        "print(list[s1 | s2])\n",
        "print(list[s1 & s2])"
      ],
      "metadata": {
        "colab": {
          "base_uri": "https://localhost:8080/"
        },
        "id": "4mLpRe4T2dwJ",
        "outputId": "60366af9-445e-473c-9e64-9fd552eb43f5"
      },
      "execution_count": null,
      "outputs": [
        {
          "output_type": "stream",
          "name": "stdout",
          "text": [
            "list[{1, 2, 3, 4, 5, 6, 7, 8, 9}]\n",
            "list[{4, 5, 6}]\n"
          ]
        }
      ]
    },
    {
      "cell_type": "markdown",
      "source": [
        "Q. 첫 번째 집합에서 두 번째 집합의 요소를 제외한 차집합을 구하고 출력"
      ],
      "metadata": {
        "id": "85wNQS6y5I-Y"
      }
    },
    {
      "cell_type": "code",
      "source": [
        "set1 = {1, 2, 3, 4, 5}\n",
        "set2 = {4, 5, 6, 7}\n",
        "\n",
        "#차집합 구하기\n",
        "print(list[set1 - set2])\n",
        "print(set1.difference(set2))\n",
        "\n",
        "#set1 = list(set1)\n",
        "#set2 = list(set2)\n",
        "#print(set1.difference(set2))"
      ],
      "metadata": {
        "colab": {
          "base_uri": "https://localhost:8080/"
        },
        "id": "B7jViFuf5ODM",
        "outputId": "424ac73f-b711-460b-dc5b-ce6932b2f7f3"
      },
      "execution_count": null,
      "outputs": [
        {
          "output_type": "stream",
          "name": "stdout",
          "text": [
            "list[{1, 2, 3}]\n",
            "{1, 2, 3}\n"
          ]
        }
      ]
    },
    {
      "cell_type": "markdown",
      "source": [
        "## Task1_0426. 주어진 리스트에서 중복된 요소를 제외한 후 고유한 요소의 개수를 세는 프로그램을 작성하세요.\n",
        "\n",
        "data = [1, 2, 2, 3, 4, 4, 4, 5]"
      ],
      "metadata": {
        "id": "ENDVZAOO5wMT"
      }
    },
    {
      "cell_type": "code",
      "source": [
        "data = [1, 2, 2, 3, 4, 4, 4, 5]\n",
        "\n",
        "print(len(set(data)))"
      ],
      "metadata": {
        "colab": {
          "base_uri": "https://localhost:8080/"
        },
        "id": "1OKrwQ596XUu",
        "outputId": "623c1f52-fe9e-4988-c880-5e4e99ab95ff"
      },
      "execution_count": null,
      "outputs": [
        {
          "output_type": "stream",
          "name": "stdout",
          "text": [
            "5\n"
          ]
        }
      ]
    },
    {
      "cell_type": "markdown",
      "source": [
        "## Task2_0426. 두 개의 리스트에서 공통으로 나타나는 요소들을 찾아 리스트로 반환하는 프로그램을 작성하세요.\n",
        "\n",
        "예시 입력: list1 = [1, 2, 3, 4, 5], list2 = [4, 5, 6, 7, 8]\n",
        "\n",
        "예시 출력: [4, 5]"
      ],
      "metadata": {
        "id": "MUpLh_n663Sb"
      }
    },
    {
      "cell_type": "code",
      "source": [
        "list1 = [1, 2, 3, 4, 5]\n",
        "list2 = [4, 5, 6, 7, 8]\n",
        "# 출력 : [4, 5]\n",
        "\n",
        "sum_set = set(list1) & set(list2)\n",
        "print(list(sum_set))\n",
        "\n",
        "# 리스트로 반환"
      ],
      "metadata": {
        "colab": {
          "base_uri": "https://localhost:8080/"
        },
        "id": "dT8BvLhu6625",
        "outputId": "c1be1706-05c9-4d46-8442-2cf4db00e670"
      },
      "execution_count": null,
      "outputs": [
        {
          "output_type": "stream",
          "name": "stdout",
          "text": [
            "[4, 5]\n"
          ]
        }
      ]
    },
    {
      "cell_type": "markdown",
      "source": [
        "## 자료형 - 논리(Bool) True와 False\n",
        "\n",
        "- 파이썬에서 참과 거짓을 나타내는 상수. True는 1, False는 0의 값을 가짐\n",
        "- 조건을 판단해서 그 조건이 참이면 True, 거짓이면 False를 return\n"
      ],
      "metadata": {
        "id": "w2QpJ2GL7CcW"
      }
    },
    {
      "cell_type": "code",
      "source": [
        "a = 1\n",
        "print(bool(0))\n",
        "print(bool(''))\n",
        "print(bool([]))\n",
        "print(bool(1))\n",
        "print(bool(100))\n",
        "print(bool('a'))\n",
        "print(bool(['a', 'b']))\n",
        "# print(bool(a=1))\n",
        "# print(bool(a == 1))"
      ],
      "metadata": {
        "colab": {
          "base_uri": "https://localhost:8080/"
        },
        "id": "nP3Q4lf37TXY",
        "outputId": "d5b6ba7f-21b9-4ceb-aaf5-419ae26a3fbc"
      },
      "execution_count": null,
      "outputs": [
        {
          "output_type": "stream",
          "name": "stdout",
          "text": [
            "False\n",
            "False\n",
            "False\n",
            "True\n",
            "True\n",
            "True\n",
            "True\n"
          ]
        }
      ]
    },
    {
      "cell_type": "code",
      "source": [
        "# 관계 연산자\n",
        "\n",
        "x = 1; y = 2\n",
        "str1 = 'abc'; str2 = 'Python'\n",
        "print(x == y)\n",
        "print(x != y)\n",
        "print(str1 == str2)\n",
        "print(str2 == 'Python')\n",
        "# 문자열을 비교할 때 첫글자를 아스키코드로 따져서 큰지 작은지를 확인한다\n",
        "print(str1 < str2)"
      ],
      "metadata": {
        "colab": {
          "base_uri": "https://localhost:8080/"
        },
        "id": "jirRr07a8QIV",
        "outputId": "0421793f-d2bc-4d11-d401-eb01e5b8ba77"
      },
      "execution_count": null,
      "outputs": [
        {
          "output_type": "stream",
          "name": "stdout",
          "text": [
            "False\n",
            "True\n",
            "False\n",
            "True\n",
            "False\n"
          ]
        }
      ]
    },
    {
      "cell_type": "code",
      "source": [
        "bool1 = True; bool2 = False; bool3 = True; bool4 = False\n",
        "print(bool1 and bool2)\n",
        "print(bool1 or bool2)\n",
        "print(not bool3)\n",
        "print(not bool4)"
      ],
      "metadata": {
        "colab": {
          "base_uri": "https://localhost:8080/"
        },
        "id": "kEW90TGYAm7A",
        "outputId": "e8d5b413-caa7-4979-d5b3-d16f6b208e74"
      },
      "execution_count": null,
      "outputs": [
        {
          "output_type": "stream",
          "name": "stdout",
          "text": [
            "False\n",
            "True\n",
            "False\n",
            "True\n"
          ]
        }
      ]
    },
    {
      "cell_type": "markdown",
      "source": [
        "## Task3_0426. 주어진 숫자 리스트에서 특정 값보다 큰 요소가 하나라도 존재하는지 검사하고, 그 결과를 불 값으로 반환하는 함수를 작성하세요.\n",
        "\n",
        "[ 예시 ]\n",
        "- numbers = [1, 2, 3, 10, 20]\n",
        "- threshold = 15"
      ],
      "metadata": {
        "id": "pLceYzUrA7qD"
      }
    },
    {
      "cell_type": "code",
      "source": [
        "numbers = [1, 2, 3, 10, 20]\n",
        "threshold = 15\n",
        "\n",
        "def bool_test(numbers, thr):\n",
        "  check = False\n",
        "\n",
        "  for i in numbers:\n",
        "    if i > thr:\n",
        "      check = True\n",
        "\n",
        "  return bool(check)\n",
        "\n",
        "print(bool_test(numbers, threshold))\n",
        "\n",
        "#######################################\n",
        "\n",
        "def threshold_bool_check(numbers, target):\n",
        "  return any(num > target for num in numbers)\n",
        "\n",
        "print(threshold_bool_check(numbers, threshold))"
      ],
      "metadata": {
        "colab": {
          "base_uri": "https://localhost:8080/"
        },
        "id": "Q5LbhFD-BMV1",
        "outputId": "a388ede5-349c-4c5e-d830-b5890b37cd33"
      },
      "execution_count": null,
      "outputs": [
        {
          "output_type": "stream",
          "name": "stdout",
          "text": [
            "True\n",
            "True\n"
          ]
        }
      ]
    },
    {
      "cell_type": "markdown",
      "source": [
        "## Task4_0426. 주어진 문자열이 특정 문자열을 포함하는지 확인하고 결과를 불 값으로 반환하는 함수를 작성하세요.\n",
        "\n",
        "- text = \"hello world\"\n",
        "- substring = \"world\""
      ],
      "metadata": {
        "id": "e4sHamwKBOxH"
      }
    },
    {
      "cell_type": "markdown",
      "source": [
        "## 사용자 함수의 형태\n",
        "\n",
        "- 입력값(매개변수), 출력값(리턴) 모두 있는 경우\n",
        "- 입력 값만 있는 경우\n",
        "- 출력 값만 있는 경우\n",
        "- 입출력 값이 없는 경우"
      ],
      "metadata": {
        "id": "a2LZiMfVUVoE"
      }
    },
    {
      "cell_type": "code",
      "source": [
        "text = \"hello world\"\n",
        "substring = \"world\"\n",
        "\n",
        "# world가 text 안에 있느냐\n",
        "def return_bool(text, substring):\n",
        "  if substring in text:\n",
        "    return True\n",
        "  else:\n",
        "    return False\n",
        "\n",
        "print(return_bool(text, substring))"
      ],
      "metadata": {
        "colab": {
          "base_uri": "https://localhost:8080/"
        },
        "id": "QElavCX4BXtS",
        "outputId": "9fcc0d0b-f9d8-4c61-e39c-45857663b901"
      },
      "execution_count": null,
      "outputs": [
        {
          "output_type": "stream",
          "name": "stdout",
          "text": [
            "False\n"
          ]
        }
      ]
    },
    {
      "cell_type": "markdown",
      "source": [
        "## Task5_0426. 주어진 연도가 윤년인지 판별하는 함수를 작성하세요. 윤년은 다음의 조건을 만족해야 합니다:\n",
        "- 4로 나누어 떨어진다.\n",
        "- 100으로 나누어 떨어지지 않거나, 400으로 나누어 떨어지면 윤년이다.\n",
        "\n",
        "year = 2020\n",
        "\n",
        "True"
      ],
      "metadata": {
        "id": "c2A3_J7_BaHX"
      }
    },
    {
      "cell_type": "code",
      "source": [
        "def leap_year(year):\n",
        "\n",
        "  # if year % 4 == 0 and (year % 100 != 0 or year % 400 == 0):\n",
        "  # if ( not year % 4 ) and ( (year % 100) or ( not year % 400 ) )\n",
        "  if year % 4 == 0:\n",
        "    if year % 100 != 0 or year % 400 == 0:\n",
        "      return True\n",
        "  else:\n",
        "    return False\n",
        "\n",
        "year = 2024\n",
        "leap_year(year)"
      ],
      "metadata": {
        "colab": {
          "base_uri": "https://localhost:8080/"
        },
        "id": "xUf-s0vVC0oX",
        "outputId": "ea8180fb-fe8e-4193-badd-9e3c741c77e7"
      },
      "execution_count": null,
      "outputs": [
        {
          "output_type": "execute_result",
          "data": {
            "text/plain": [
              "True"
            ]
          },
          "metadata": {},
          "execution_count": 11
        }
      ]
    },
    {
      "cell_type": "markdown",
      "source": [
        "#### 파이썬에서 들여쓰기\n",
        "- 파이썬에는 실행 코드 부분을 묶어주는 {} 괄호가 없다.\n",
        "- 대신 들여쓰기(indentation)로 {}를 대신한다.\n",
        "- 제어문이나 함수이름, 클래스 이름 뒤에 콜론(':')으로 제어문, 함수이름, 클래스 이름의 끝을 표시하며 ':' 다음에 실행 코드를 작성"
      ],
      "metadata": {
        "id": "wPS-HA3MCvPA"
      }
    },
    {
      "cell_type": "markdown",
      "source": [
        "Q. 뺄셈, 나눗셈을 수행하는 사용자 함수를 작성하세요."
      ],
      "metadata": {
        "id": "2kghCGmOHeFi"
      }
    },
    {
      "cell_type": "code",
      "source": [
        "def subtract(a,b):\n",
        "  return a-b\n",
        "\n",
        "print(subtract(5,3))\n",
        "\n",
        "def devide(a,b):\n",
        "  if a == 0 or b == 0:\n",
        "    return \"Error : Devision by Zero\"\n",
        "\n",
        "  return a/b\n",
        "\n",
        "print(round(devide(2, 1), 2))"
      ],
      "metadata": {
        "colab": {
          "base_uri": "https://localhost:8080/"
        },
        "id": "VLs27MmKHg7k",
        "outputId": "cd10b997-6518-453f-8515-2f50f1c5a421"
      },
      "execution_count": null,
      "outputs": [
        {
          "output_type": "stream",
          "name": "stdout",
          "text": [
            "2\n",
            "2.0\n"
          ]
        }
      ]
    },
    {
      "cell_type": "code",
      "source": [
        "class AddMul:\n",
        "  def add(self, n1, n2):\n",
        "    return n1 + n2\n",
        "  def mul(self, n1, n2):\n",
        "    return n1 * n2\n",
        "\n",
        "obj1 = AddMul()\n",
        "print(obj1.add(1,1))\n",
        "obj2 = AddMul()\n",
        "print(obj2.mul(1,1))"
      ],
      "metadata": {
        "colab": {
          "base_uri": "https://localhost:8080/"
        },
        "id": "WOjVD8UMJYaH",
        "outputId": "4c673dd5-6ab1-44aa-a3b0-d2477fae8fc4"
      },
      "execution_count": null,
      "outputs": [
        {
          "output_type": "stream",
          "name": "stdout",
          "text": [
            "2\n",
            "1\n"
          ]
        }
      ]
    },
    {
      "cell_type": "markdown",
      "source": [
        "## Task6_0426. Calculator 클래스를 작성하고 4친 연산을 수행하는 객체 4개를 작성하여 결과를 출력하세요."
      ],
      "metadata": {
        "id": "HSbwgHOOKpXM"
      }
    },
    {
      "cell_type": "code",
      "source": [
        "class Calculator:\n",
        "  def add(self, a, b):\n",
        "    return a + b\n",
        "\n",
        "  def mul(self, a, b):\n",
        "    return a * b\n",
        "\n",
        "  def devide(self, a, b):\n",
        "    if a|b == 0:\n",
        "      return \"ZeroDivision Error\"\n",
        "\n",
        "    return round((a / b), 2)\n",
        "\n",
        "  def subtract(self, a, b):\n",
        "    return a - b\n",
        "\n",
        "a = 10\n",
        "b = 3\n",
        "\n",
        "obj1 = Calculator()\n",
        "print(obj1.add(a, b))\n",
        "obj2 = Calculator()\n",
        "print(obj2.mul(a, b))\n",
        "obj3 = Calculator()\n",
        "print(obj3.devide(a, b))\n",
        "obj4 = Calculator()\n",
        "print(obj4.subtract(a, b))"
      ],
      "metadata": {
        "colab": {
          "base_uri": "https://localhost:8080/"
        },
        "id": "_mFlgPfjKvdz",
        "outputId": "b541c6ba-ff8e-48a8-ef74-f67566fa5edc"
      },
      "execution_count": null,
      "outputs": [
        {
          "output_type": "stream",
          "name": "stdout",
          "text": [
            "13\n",
            "30\n",
            "3.33\n",
            "7\n"
          ]
        }
      ]
    },
    {
      "cell_type": "markdown",
      "source": [
        "## Task7_0426. 다음 과제를 수행하세요.\n",
        "- 사용자로 부터 텍스트를 입력 받는다.\n",
        "- 문자을 단어 단위로 분리 : split()\n",
        "- 단어의 빈도수를 저장할 딕셔너리를 생성\n",
        "- 각 단어의 빈도 수를 계산(for 문 / if else문): word = word.lower()\n",
        "- 결과 출력\n",
        "\n",
        "[ 예시 ]\n",
        "\n",
        "문장을 입력하세요: I love apple. I love orange. Apple is tasty\n",
        "\n",
        "{'i': 2, 'love': 2, 'apple.': 1, 'orange.': 1, 'apple': 1, 'is': 1, 'tasty': 1}"
      ],
      "metadata": {
        "id": "KR6Cov-SL9K8"
      }
    },
    {
      "cell_type": "code",
      "source": [
        "# 사용자로부터 문장을 입력 받아 공백을 기준으로 분리합니다.\n",
        "text = list(input(\"문장을 입력해주세요 : \").split(' '))\n",
        "\n",
        "# 단어의 빈도수를 저장할 딕셔너리 생성\n",
        "dict1 = {}\n",
        "\n",
        "# 각 단어의 빈도수 계산\n",
        "for i in text:\n",
        "  # 결과값에서 키가 소문자이어야 하기 때문에 lower() 함수 사용\n",
        "  i = i.lower()\n",
        "\n",
        "  # if i in dict1으로만 해도 된다. 굳이 keys를 뽑지 않아도 됨\n",
        "  if i in dict1.keys():\n",
        "    # i라는 키가 존재하면 + 1\n",
        "    dict1[i] += 1\n",
        "  else:\n",
        "    dict1[i] = 1\n",
        "\n",
        "print(dict1)"
      ],
      "metadata": {
        "colab": {
          "base_uri": "https://localhost:8080/"
        },
        "id": "1Z4pM6I7PgQh",
        "outputId": "dc7e29eb-5b59-4106-dfe1-6c6d490cebf2"
      },
      "execution_count": null,
      "outputs": [
        {
          "output_type": "stream",
          "name": "stdout",
          "text": [
            "문장을 입력해주세요 : I love apple. I love orange. Apple is tasty\n",
            "{'i': 2, 'love': 2, 'apple.': 1, 'orange.': 1, 'apple': 1, 'is': 1, 'tasty': 1}\n"
          ]
        }
      ]
    },
    {
      "cell_type": "markdown",
      "source": [
        "Q. multi_line_text를 아래 리스트로 분리해 보세요."
      ],
      "metadata": {
        "id": "wRYfP9CfiZBB"
      }
    },
    {
      "cell_type": "code",
      "source": [
        "multi_line_text = \"Hello\\nWorld\\nPython\\nProgramming\"\n",
        "\n",
        "print(multi_line_text.split('\\n'))\n",
        "\n",
        "# [ 'Hello', 'World', 'Python', 'Programming' ]"
      ],
      "metadata": {
        "colab": {
          "base_uri": "https://localhost:8080/"
        },
        "id": "Y548eHyoid_-",
        "outputId": "09fbb6b4-5a31-4aca-e993-188ed9aa2b87"
      },
      "execution_count": null,
      "outputs": [
        {
          "output_type": "stream",
          "name": "stdout",
          "text": [
            "['Hello', 'World', 'Python', 'Programming']\n"
          ]
        }
      ]
    },
    {
      "cell_type": "markdown",
      "source": [
        "## 복합 대입연산자\n",
        "\n",
        "- += =- /= *= 와 같이 연산자를 =과 같이 사용\n",
        "- +=는 string에도 적용 가능"
      ],
      "metadata": {
        "id": "fyuVhFwTmbj8"
      }
    },
    {
      "cell_type": "code",
      "source": [
        "string = 'abc'\n",
        "string += 'def'\n",
        "\n",
        "string\n",
        "\n",
        "num = 10\n",
        "num += 10\n",
        "\n",
        "num -= 2\n",
        "\n",
        "num //=3\n",
        "\n",
        "num *= 2\n",
        "\n",
        "num"
      ],
      "metadata": {
        "id": "lU_A5LjCmcYU"
      },
      "execution_count": null,
      "outputs": []
    },
    {
      "cell_type": "code",
      "source": [
        "# 소문자, 대문자 변환\n",
        "\n",
        "word = \"DOG\"\n",
        "w1 = word.lower()\n",
        "\n",
        "w2 = word.upper()\n",
        "\n",
        "w1\n",
        "w2"
      ],
      "metadata": {
        "colab": {
          "base_uri": "https://localhost:8080/",
          "height": 35
        },
        "id": "DqgXPpbYnwMh",
        "outputId": "f3c50517-4c0c-4526-817d-ce1126416dec"
      },
      "execution_count": null,
      "outputs": [
        {
          "output_type": "execute_result",
          "data": {
            "text/plain": [
              "'DOG'"
            ],
            "application/vnd.google.colaboratory.intrinsic+json": {
              "type": "string"
            }
          },
          "metadata": {},
          "execution_count": 11
        }
      ]
    },
    {
      "cell_type": "markdown",
      "source": [
        "re.split() 함수의 동작:\n",
        "- 주어진 문자열에서 공백, 쉼표, 마침표, 물음표, 느낌표를 포함하여 연속된 어떤 조합이라도 하나의 구분자로 취급하고, 이에 따라 문자열을 분리\n",
        "\n",
        "정규 표현식 구성 요소:\n",
        "- 대괄호([ ]): 대괄호는 문자 클래스를 만들며 대괄호 안에 포함된 어떤 문자와도 일치할 수 있다. 여기서는 공백( ), 쉼표(,), 마침표(.), 물음표(?), 느낌표(!)가 포함되어 있어 이 중 어떤 한 문자와도 일치할 수 있다.\n",
        "- 플러스 기호(+): 이 기호는 직전의 요소가 하나 이상 반복될 때 사용. 즉, `[ ,.?!]+`는 공백, 쉼표, 마침표, 물음표, 느낌표 중 하나 이상 연속된 시퀀스와 일치. 이를 통해 문자열을 분리할 때 하나의 구분자만이 아닌, 여러 구분자가 연속적으로 위치해 있는 경우에도 단일 구분점으로 취급할 수 있다."
      ],
      "metadata": {
        "id": "AhMDH1AfY_AN"
      }
    },
    {
      "cell_type": "markdown",
      "source": [
        "Task1_0429. input_str을 아래와 같이 단어로 분리하시오.\n",
        "\n",
        "input_str = \"Hello, World! How are you today? I am fine. Thank you!\"\n",
        "\n",
        "['hello', 'wolrd', 'how', 'are', 'you', 'today', 'i', 'am', 'fine', 'Thank', 'you', '']"
      ],
      "metadata": {
        "id": "1VjdsYVvo6zl"
      }
    },
    {
      "cell_type": "code",
      "source": [
        "import re\n",
        "\n",
        "input_str = \"Hello, World! How are you today? I am fine. Thank you!\"\n",
        "\n",
        "#output_str = re.findall(r'[a-z|A-Z|]+', input_str)\n",
        "output_str = re.split(r'[ ,.?!]+', input_str)\n",
        "tokens = list(filter(None, tokens))\n",
        "print(output_str)"
      ],
      "metadata": {
        "id": "PRajOPrjo9u5"
      },
      "execution_count": null,
      "outputs": []
    },
    {
      "cell_type": "markdown",
      "source": [
        "## 이스케이프 문자\n",
        "- 키보드로 입력하기 어려운 기호 등을 나타낸다.\n",
        "- |로 시작, \\n 줄바꾸기, \\t 탭"
      ],
      "metadata": {
        "id": "_HUFUM8LpQSH"
      }
    },
    {
      "cell_type": "code",
      "source": [
        "print('나는 파이썬을 사랑합니다.\\n파이썬은 자바보다 훨씬 쉽습니다.')\n",
        "print('나는 파이썬을 사랑합니다.\\t파이썬은 자바보다 훨씬 쉽습니다.')"
      ],
      "metadata": {
        "colab": {
          "base_uri": "https://localhost:8080/"
        },
        "id": "5kh_BtJVpYOi",
        "outputId": "59776b36-6240-41e8-c429-db595e4efed4"
      },
      "execution_count": null,
      "outputs": [
        {
          "output_type": "stream",
          "name": "stdout",
          "text": [
            "나는 파이썬을 사랑합니다.\n",
            "파이썬은 자바보다 훨씬 쉽습니다.\n",
            "나는 파이썬을 사랑합니다.\t파이썬은 자바보다 훨씬 쉽습니다.\n"
          ]
        }
      ]
    },
    {
      "cell_type": "code",
      "source": [
        "print(\"Hello\\tWorld!\")\n",
        "print(\"Hello\\nWorld!\")\n",
        "print(\"She saie, \\\"Hi!\\\"\")\n",
        "print(\"It\\'s raining.\")\n",
        "print(\"Backslash: \\\\\")"
      ],
      "metadata": {
        "colab": {
          "base_uri": "https://localhost:8080/"
        },
        "id": "NM4bY9hApgmr",
        "outputId": "14bb9c2c-eda7-4cc3-85c4-49e2f8c81191"
      },
      "execution_count": null,
      "outputs": [
        {
          "output_type": "stream",
          "name": "stdout",
          "text": [
            "Hello\tWorld!\n",
            "Hello\n",
            "World!\n",
            "She saie, \"Hi!\"\n",
            "It's raining.\n",
            "Backslash: \\\n"
          ]
        }
      ]
    },
    {
      "cell_type": "markdown",
      "source": [
        "#### 문자열 포멧\n",
        "- % operator 사용 : % 연산자를 사용하려면 %(VAR_NAME)TYPE 형식으로 적어주며 VAR_NAME 은 바인딩할 변수명을 TYPE 은 변수의 유형을 적어준다.\n",
        "- str.format : str.format() 은 파이썬 표현식 값을 바인딩할 부분을 중괄호 {} 로 표시하고 .format() 뒤에 바인딩할 값을 기술해 준다.\n",
        "- f-string : 문자열에 f 나 F 접두사를 붙이고 표현식을 {expr} 형식으로 작성하면 출력 문자열이 파이썬 표현식의 값으로 바뀐다."
      ],
      "metadata": {
        "id": "AerQUtKOq7_5"
      }
    },
    {
      "cell_type": "code",
      "source": [
        "print('%(num)d, %(float)f, %(string)s ' % {\"num\":3, \"float\": 3, \"string\": 'hello'})"
      ],
      "metadata": {
        "colab": {
          "base_uri": "https://localhost:8080/"
        },
        "id": "J6hMLII8pqZT",
        "outputId": "6a53ca8e-9a94-448d-d810-dfd4c1e9d652"
      },
      "execution_count": null,
      "outputs": [
        {
          "output_type": "stream",
          "name": "stdout",
          "text": [
            "3, 3.000000, hello \n"
          ]
        }
      ]
    },
    {
      "cell_type": "code",
      "source": [
        "txt1 = '자바'; txt2 = '파이썬'\n",
        "num1 = 5; num2 = 10\n",
        "\n",
        "print('나는 %s보다 %s에 더 익숙합니다.' %(txt1, txt2))\n",
        "print('%s은 %s보다 %d배 더 쉽습니다.' %(txt2, txt1, num1))\n",
        "print('%d + %d = %d' %(num1, num2, num1 + num2))\n",
        "print('작년 세계 경제 성장률은 전년에 비해 %d%% 포인트 증가했다.' %num1)"
      ],
      "metadata": {
        "colab": {
          "base_uri": "https://localhost:8080/"
        },
        "id": "7GXYhznTrxeM",
        "outputId": "a187e851-4206-431a-c20a-cb3d1434a262"
      },
      "execution_count": null,
      "outputs": [
        {
          "output_type": "stream",
          "name": "stdout",
          "text": [
            "나는 자바보다 파이썬에 더 익숙합니다.\n",
            "파이썬은 자바보다 5배 더 쉽습니다.\n",
            "5 + 10 = 15\n",
            "작년 세계 경제 성장률은 전년에 비해 5% 포인트 증가했다.\n"
          ]
        }
      ]
    },
    {
      "cell_type": "code",
      "source": [
        "# str.format\n",
        "print('We are the {} who say \"{}!\"'.format('knights', 'Ni'))"
      ],
      "metadata": {
        "colab": {
          "base_uri": "https://localhost:8080/"
        },
        "id": "IdKYUyWOtzQR",
        "outputId": "5c1aeb52-62c2-4e9e-c6b9-02a2a719031b"
      },
      "execution_count": null,
      "outputs": [
        {
          "output_type": "stream",
          "name": "stdout",
          "text": [
            "We are the knights who say \"Ni!\"\n"
          ]
        }
      ]
    },
    {
      "cell_type": "code",
      "source": [
        "# f-string\n",
        "name = '홍길동'\n",
        "age = 30\n",
        "f'나의 이름은 {name}입니다. 나이는 {age}입니다'"
      ],
      "metadata": {
        "id": "sJ-qhkPQuC1z"
      },
      "execution_count": null,
      "outputs": []
    },
    {
      "cell_type": "code",
      "source": [
        "table = {'Tom' : 1234, 'Jack' : 4518, 'Eddie': 9638}\n",
        "for name, phone in table.items():\n",
        "  print(f'{name:5} ==> {phone:5d}')\n",
        "  # :과 그 뒤 숫자는 자릿수를 뜻한다.\n",
        "  # 최소 5개 문자 너비 할당. 줄맞춤 할때 사용"
      ],
      "metadata": {
        "id": "yvJkBshn0E3M"
      },
      "execution_count": null,
      "outputs": []
    },
    {
      "cell_type": "code",
      "source": [
        "# 소수점 n번째 자리까지만 표현\n",
        "\n",
        "y = 3.42134234\n",
        "f'{y:0.3f}'"
      ],
      "metadata": {
        "id": "ygBHlFJf0HS-"
      },
      "execution_count": null,
      "outputs": []
    },
    {
      "cell_type": "code",
      "source": [
        "# 소수점 4자리까지 표현하고 총 자리수를 10으로 맞춤\n",
        "y = 3.42134234\n",
        "f'{y:10.4f}'"
      ],
      "metadata": {
        "id": "KYGxasiy0IvD"
      },
      "execution_count": null,
      "outputs": []
    },
    {
      "cell_type": "code",
      "source": [
        "# Q. num1=12345, num2=12.345679 를 아래와 같이 출력하세요\n",
        "# 12345\n",
        "#      12345\n",
        "# 12.345679\n",
        "#           12.346\n",
        "\n",
        "num1 = 12345\n",
        "num2 = 12.345679\n",
        "\n",
        "print(f'{num1}')\n",
        "print(f'{num1:10}')\n",
        "print(f'{num2}')\n",
        "print(f'{num2:16.3f}')"
      ],
      "metadata": {
        "id": "UpmRv41N0KKP"
      },
      "execution_count": null,
      "outputs": []
    },
    {
      "cell_type": "markdown",
      "source": [
        "#### 2진수, 8진수, 16진수의 데이터 표현 방법\n",
        "\n",
        "- 우리가 프로그래밍을 하면서 변수에 어떤 값을 저장할 때 10진수는 일상적 표현을 그대로 대입한다.\n",
        "- 예를들어 15를 저장하고 싶다면 int a= 15; 와 같이 15라는 숫자를 그대로 대입하면 된다.\n",
        "- 하지만 2진수, 8진수, 16진수는 표현법이 따로 정해져있다.<br><br>  \n",
        "\n",
        "- 2진수는 대입하고자 하는 값 앞에 0b를 붙인다. (숫자0과 영문자b)\n",
        "- 8진수는 대입하고자 하는 값 앞에 0o 을 붙인다. (숫자0 영문자o)\n",
        "- 16진수는 대입하고자 하는 값 앞에 0x 를 붙인다. (숫자0과 영문자x)\n",
        "\n",
        "아래의 예시를 보자.\n",
        "변수 a,b,c,d 는 모두 10진수 122 이라는 값을 저장하는 코드이다.\n",
        "\n",
        "122는\n",
        "- 2진수로 1111010\n",
        "- 8진수로 172\n",
        "- 16진수로 7A 이다."
      ],
      "metadata": {
        "id": "_7lO034v1AXL"
      }
    },
    {
      "cell_type": "code",
      "source": [
        "a = 0o172 # 8진수 0o로 시작\n",
        "b = 0x7A # 16진수 0x로 시작\n",
        "c = 0b1111010 # 2진수 0b로 시작\n",
        "print(a)\n",
        "print(b)\n",
        "print(c)"
      ],
      "metadata": {
        "colab": {
          "base_uri": "https://localhost:8080/"
        },
        "id": "t2X0CCFN1Bi1",
        "outputId": "f0965672-7a22-4265-d396-8fab73c683a0"
      },
      "execution_count": null,
      "outputs": [
        {
          "output_type": "stream",
          "name": "stdout",
          "text": [
            "122\n",
            "122\n",
            "122\n"
          ]
        }
      ]
    },
    {
      "cell_type": "code",
      "source": [
        "# Q. 10을 10진수, 2진수, 8진수, 16진수로 출력하세요.\n",
        "\n",
        "print(10)\n",
        "print(0b10)\n",
        "print(0o10)\n",
        "print(0x10)"
      ],
      "metadata": {
        "colab": {
          "base_uri": "https://localhost:8080/"
        },
        "id": "IBZgt9nk1yrK",
        "outputId": "b9fea778-6615-463e-b456-be8e14fe06da"
      },
      "execution_count": null,
      "outputs": [
        {
          "output_type": "stream",
          "name": "stdout",
          "text": [
            "10\n",
            "2\n",
            "8\n",
            "16\n"
          ]
        }
      ]
    },
    {
      "cell_type": "code",
      "source": [
        "# 파이썬 자료형 - 숫자형(정수, 실수, 8진수, 16진수)\n",
        "# 16진수 10 a, 11 b, 12 c, 13 d, 14 e, 15 f\n",
        "\n",
        "e = 0o177 # 8진수\n",
        "f = 0xABC # 16진수\n",
        "g = 0b101010 # 2진수\n",
        "\n",
        "print(e)\n",
        "print(f)\n",
        "print(g)"
      ],
      "metadata": {
        "colab": {
          "base_uri": "https://localhost:8080/"
        },
        "id": "VaKSz0723JGq",
        "outputId": "5e0f8953-9914-41e5-b9bd-a8074c78a660"
      },
      "execution_count": null,
      "outputs": [
        {
          "output_type": "stream",
          "name": "stdout",
          "text": [
            "127\n",
            "2748\n",
            "42\n"
          ]
        }
      ]
    },
    {
      "cell_type": "code",
      "source": [
        "# 2진수를 10진수로 표현\n",
        "\n",
        "g1 = 0b1000\n",
        "g2 = 0b100\n",
        "g3 = 0b10\n",
        "\n",
        "print(g1)\n",
        "print(g2)\n",
        "print(g3)"
      ],
      "metadata": {
        "colab": {
          "base_uri": "https://localhost:8080/"
        },
        "id": "QFbnjXvi3yQI",
        "outputId": "d818969c-ba96-48d4-855e-ce8f4057ff55"
      },
      "execution_count": null,
      "outputs": [
        {
          "output_type": "stream",
          "name": "stdout",
          "text": [
            "8\n",
            "4\n",
            "2\n"
          ]
        }
      ]
    },
    {
      "cell_type": "code",
      "source": [
        "# 16진수를 10진수로 표현\n",
        "f1 = 0xA\n",
        "f2 = 0xB\n",
        "f3 = 0xAB\n",
        "# 16*10+1*11\n",
        "# 16진수이므로 16을 곱하는건 기본\n",
        "\n",
        "f1 = 0xC\n",
        "f2 = 0xD\n",
        "f3 = 0xCD\n",
        "\n",
        "print(f1)\n",
        "print(f2)\n",
        "print(f3)"
      ],
      "metadata": {
        "colab": {
          "base_uri": "https://localhost:8080/"
        },
        "id": "LEOujC-34evD",
        "outputId": "883bd1d8-5536-4c8e-866f-6b7f0342a0c9"
      },
      "execution_count": null,
      "outputs": [
        {
          "output_type": "stream",
          "name": "stdout",
          "text": [
            "12\n",
            "13\n",
            "205\n"
          ]
        }
      ]
    },
    {
      "cell_type": "code",
      "source": [
        "# Q. 0xABC를 계산하세요.\n",
        "print(0xABC)\n",
        "print(16*16*10+16*11+12)"
      ],
      "metadata": {
        "colab": {
          "base_uri": "https://localhost:8080/"
        },
        "id": "46lCv5js55rr",
        "outputId": "f13f38a0-edd8-49ee-ab10-0e9197074de4"
      },
      "execution_count": null,
      "outputs": [
        {
          "output_type": "stream",
          "name": "stdout",
          "text": [
            "2748\n",
            "2748\n"
          ]
        }
      ]
    },
    {
      "cell_type": "markdown",
      "source": [
        "Task2_0429. 십진수 122를 2진수, 8진수, 16진수로 변경하여 출력하세요."
      ],
      "metadata": {
        "id": "-cxEmBUB6on9"
      }
    },
    {
      "cell_type": "code",
      "source": [
        "n = 122\n",
        "\n",
        "# 2진수\n",
        "print(0b1111010)\n",
        "# 8진수\n",
        "print(0o172)\n",
        "# 16진수\n",
        "print(0x7A)"
      ],
      "metadata": {
        "id": "gCC3uVbQ671a"
      },
      "execution_count": null,
      "outputs": []
    },
    {
      "cell_type": "markdown",
      "source": [
        "Task3_0429. 두 수의 곱셈 결과를 계산하고, 그 결과에 10을 더하세요."
      ],
      "metadata": {
        "id": "boRdDLas7l_B"
      }
    },
    {
      "cell_type": "code",
      "source": [
        "a = 10\n",
        "b = 20\n",
        "\n",
        "res = a * b + 10\n",
        "res"
      ],
      "metadata": {
        "id": "MUyBmCA_7muL"
      },
      "execution_count": null,
      "outputs": []
    },
    {
      "cell_type": "markdown",
      "source": [
        "Task4_0429. 주어진 리스트에서 두 번째 요소를 삭제하고, 마지막에 새로운 요소 'Python'을 추가하세요.\n",
        "\n",
        "리스트: ['Java', 'C', 'JavaScript']"
      ],
      "metadata": {
        "id": "xM2wh1zm7svV"
      }
    },
    {
      "cell_type": "code",
      "source": [
        "list1 = ['Java', 'C', 'JavaScript']\n",
        "\n",
        "del list1[1]\n",
        "# list1.pop(1)\n",
        "list1.append('Python')\n",
        "\n",
        "list1"
      ],
      "metadata": {
        "id": "PgUyr3naTPtG"
      },
      "execution_count": null,
      "outputs": []
    },
    {
      "cell_type": "markdown",
      "source": [
        "Task5_0429. 주어진 문자열에서 처음 세 글자와 마지막 세 글자를 연결하여 새로운 문자열을 만드세요.\n",
        "\n",
        "문자열: 'Incredible'"
      ],
      "metadata": {
        "id": "9M13p1XF7-oF"
      }
    },
    {
      "cell_type": "code",
      "source": [
        "string = 'Incredible'\n",
        "\n",
        "new_str = string[:3]+string[-3:]\n",
        "\n",
        "new_str"
      ],
      "metadata": {
        "id": "R4Fn066GWhKR"
      },
      "execution_count": null,
      "outputs": []
    },
    {
      "cell_type": "markdown",
      "source": [
        "Task6_0429. 사용자의 이름과 이메일을 딕셔너리로 저장하고, 이름을 입력받아 해당하는 이메일을 출력하세요.\n",
        "\n",
        "사용자 정보: 이름 - 'Alice', 이메일 - 'alice@example.com'"
      ],
      "metadata": {
        "id": "AtIlFvLJ8EMV"
      }
    },
    {
      "cell_type": "code",
      "source": [
        "dict1 = {'Alice' : 'alice@example.com'}\n",
        "\n",
        "input_name = input('이름을 입력하세요 : ')\n",
        "\n",
        "if not input_name:\n",
        "  print('ZeroDivisionError')\n",
        "else:\n",
        "  if input_name in dict1:\n",
        "    print(dict1[input_name])\n",
        "  else:\n",
        "    print('해당 이름이 존재하지 않습니다.')"
      ],
      "metadata": {
        "id": "HfVwcb3LWh4l",
        "colab": {
          "base_uri": "https://localhost:8080/"
        },
        "outputId": "4f2df112-5db8-4fec-af8e-973f698217ce"
      },
      "execution_count": null,
      "outputs": [
        {
          "output_type": "stream",
          "name": "stdout",
          "text": [
            "이름을 입력하세요 : Alice\n",
            "alice@example.com\n"
          ]
        }
      ]
    },
    {
      "cell_type": "markdown",
      "source": [
        "Task7_0429. 주어진 두 튜플에서 공통 요소만을 찾아 집합으로 만드세요.\n",
        "\n",
        "튜플: (1, 2, 3, 4, 5)와 (4, 5, 6, 7, 8)"
      ],
      "metadata": {
        "id": "ICOYfHVy8F9P"
      }
    },
    {
      "cell_type": "code",
      "source": [
        "tu1 = (1, 2, 3, 4, 5)\n",
        "tu2 = (4, 5, 6, 7, 8)\n",
        "\n",
        "set1 = set(tu1+tu2)\n",
        "# set1 = set(tu1) & set(tu2)\n",
        "\n",
        "set1"
      ],
      "metadata": {
        "id": "CMdN2NOVWiQp",
        "colab": {
          "base_uri": "https://localhost:8080/"
        },
        "outputId": "91267d52-ffdc-4513-b250-fb8bc8a8d907"
      },
      "execution_count": null,
      "outputs": [
        {
          "output_type": "execute_result",
          "data": {
            "text/plain": [
              "{1, 2, 3, 4, 5, 6, 7, 8}"
            ]
          },
          "metadata": {},
          "execution_count": 3
        }
      ]
    },
    {
      "cell_type": "markdown",
      "source": [
        "Task8_Challenge_0429. 다음 요구 사항을 충족하는 프로그램을 작성하세요:\n",
        "\n",
        "- 사용자로부터 이름, 나이, 좋아하는 색상을 입력받습니다.\n",
        "- 입력받은 정보를 딕셔너리로 저장하고, 모든 사용자 정보를 리스트에 저장합니다.\n",
        "- 이름이 'John'인 사용자의 정보만 출력하세요.\n",
        "- 전체 사용자의 평균 나이를 계산하고 출력하세요."
      ],
      "metadata": {
        "id": "KddFljRO8HPM"
      }
    },
    {
      "cell_type": "markdown",
      "source": [
        "1. 사용자 데이터:\n",
        "- 이름: John\n",
        "- 나이: 28\n",
        "- 좋아하는 색상: Blue\n",
        "2. 사용자 데이터:\n",
        "- 이름: Alice\n",
        "- 나이: 24\n",
        "- 좋아하는 색상: Red\n",
        "3. 사용자 데이터:\n",
        "- 이름: Maria\n",
        "- 나이: 32\n",
        "- 좋아하는 색상: Green"
      ],
      "metadata": {
        "id": "K7stgQcG8aor"
      }
    },
    {
      "cell_type": "code",
      "source": [
        "#user_dict = [{'name':'John', 'age': 28, 'color': 'Blue'}, {'name':'Alice', 'age': 24, 'color': 'Red'}, {'name':'Maria', 'age': 32, 'color': 'Green'}]\n",
        "\n",
        "user_keys = ['name', 'age', 'color']\n",
        "user_vals = input(\"사용자 정보를 입력하세요 : ex) 이름 나이 좋아하는 색상\\n\").split(' ')\n",
        "user_dict = [ dict(zip(user_keys, user_vals)) ]\n",
        "\n",
        "for user in user_dict:\n",
        "  if 'John' in user.values():\n",
        "    for key in user.keys():\n",
        "      print(f\"{key} : {user[key]}\")\n",
        "  else:\n",
        "    print(\"그런 유저는 없어요\")"
      ],
      "metadata": {
        "id": "Tumw9Le6dG3P"
      },
      "execution_count": null,
      "outputs": []
    },
    {
      "cell_type": "markdown",
      "source": [
        "#### 파이썬에서 \"모든 것이 객체\"\n",
        "파이썬 내에서 데이터와 함수, 모듈, 클래스 등 모든 것이 객체로 취급된다는 것을 의미\n",
        "- 기본 데이터 타입(예: 정수, 실수, 문자열 등)을 포함하여 모든 데이터가 객체. 각 데이터 타입은 특정 클래스의 인스턴스로, 해당 데이터 타입의 메소드와 속성을 가진다. 예를 들어, 정수는 int 클래스의 인스턴스로, 여러 가지 메소드(예: bit_length(), __add__() 등)를 사용할 수 있습니다."
      ],
      "metadata": {
        "id": "JBvB3JzFmdxw"
      }
    },
    {
      "cell_type": "code",
      "source": [
        "x = 10\n",
        "\n",
        "x.bit_length()"
      ],
      "metadata": {
        "id": "onpv7pJhoWNR"
      },
      "execution_count": null,
      "outputs": []
    },
    {
      "cell_type": "markdown",
      "source": [
        "- 파이썬에서 함수도 객체로 취급. 이는 함수를 변수에 할당하거나, 다른 함수의 인자로 전달하거나, 리스트나 딕셔너리 같은 데이터 구조에 저장할 수 있음을 의미"
      ],
      "metadata": {
        "id": "mQO3tGU0oU5W"
      }
    },
    {
      "cell_type": "code",
      "source": [
        "def greet():\n",
        "  print(\"Hello, World!\")\n",
        "\n",
        "print(greet.__name__) # 함수 이름 출력"
      ],
      "metadata": {
        "colab": {
          "base_uri": "https://localhost:8080/"
        },
        "id": "gbPNsuUdofCl",
        "outputId": "97a93cdc-3b47-4388-851c-4eb0b1043af0"
      },
      "execution_count": null,
      "outputs": [
        {
          "output_type": "stream",
          "name": "stdout",
          "text": [
            "greet\n"
          ]
        }
      ]
    },
    {
      "cell_type": "markdown",
      "source": [
        "- 파이썬에서 클래스와 모듈 또한 객체. 클래스는 type의 인스턴스로, 메소드와 속성을 포함할 수 있다. 모듈도 객체로 취급되어, 모듈 내의 함수나 변수 등을 속성으로 가질 수 있다."
      ],
      "metadata": {
        "id": "7E9ywIftoink"
      }
    },
    {
      "cell_type": "code",
      "source": [
        "import math\n",
        "\n",
        "print(type(math)) # class 'module'\n",
        "print(math.sqrt(4)) # 모듈의 메소드 사용"
      ],
      "metadata": {
        "colab": {
          "base_uri": "https://localhost:8080/"
        },
        "id": "SXlBLIznpAmc",
        "outputId": "8860df16-d25b-4c2c-85b8-64f2278f5a86"
      },
      "execution_count": null,
      "outputs": [
        {
          "output_type": "stream",
          "name": "stdout",
          "text": [
            "<class 'module'>\n",
            "2.0\n"
          ]
        }
      ]
    },
    {
      "cell_type": "markdown",
      "source": [
        "- type 함수가 반환하는 결과가 클래스 이름(예: <class 'list'>)으로 나오는 것은, 해당 객체가 해당 클래스의 인스턴스라는 것을 의미"
      ],
      "metadata": {
        "id": "3byeZweLokNr"
      }
    },
    {
      "cell_type": "code",
      "source": [
        "x = 1\n",
        "print(type(x)) # class 'int'\n",
        "\n",
        "y = 'hello'\n",
        "print(type(y)) # class 'str'\n",
        "\n",
        "def func():\n",
        "  pass\n",
        "\n",
        "print(type(func)) # class 'function'"
      ],
      "metadata": {
        "colab": {
          "base_uri": "https://localhost:8080/"
        },
        "id": "02RLPxhqpuqE",
        "outputId": "4cf8ac88-1677-4265-a928-4275bd7584b6"
      },
      "execution_count": null,
      "outputs": [
        {
          "output_type": "stream",
          "name": "stdout",
          "text": [
            "<class 'int'>\n",
            "<class 'str'>\n",
            "<class 'function'>\n"
          ]
        }
      ]
    },
    {
      "cell_type": "code",
      "source": [
        "list_example = [1, 2, 3]\n",
        "print(type(list_example)) # class 'list'\n",
        "\n",
        "tuple_example = (1, 2, 3)\n",
        "print(type(tuple_example)) # class 'tuple'\n",
        "\n",
        "dict_example = {'key':'value'}\n",
        "print(type(dict_example)) # class 'dict'"
      ],
      "metadata": {
        "id": "PVXGBPLorI7k"
      },
      "execution_count": null,
      "outputs": []
    },
    {
      "cell_type": "code",
      "source": [
        "# 사용자가 직접 작성한 클래스에서 개체를 만들 경우\n",
        "\n",
        "class Car:\n",
        "  def __init__(self, model):\n",
        "    self.model = model\n",
        "\n",
        "my_car = Car('Toyota')\n",
        "print(type(my_car)) # class '__main__.Car"
      ],
      "metadata": {
        "colab": {
          "base_uri": "https://localhost:8080/"
        },
        "id": "90z_QkIzrwVP",
        "outputId": "f43ff309-b1d8-4210-e330-dbd414722a31"
      },
      "execution_count": null,
      "outputs": [
        {
          "output_type": "stream",
          "name": "stdout",
          "text": [
            "<class '__main__.Car'>\n",
            "<class 'NoneType'>\n"
          ]
        }
      ]
    },
    {
      "cell_type": "code",
      "source": [
        "print(dir(int))"
      ],
      "metadata": {
        "colab": {
          "base_uri": "https://localhost:8080/"
        },
        "id": "rRGEw9OcvfNb",
        "outputId": "3c3d1296-d65e-48e4-c62b-09d1db0be0ac"
      },
      "execution_count": null,
      "outputs": [
        {
          "output_type": "stream",
          "name": "stdout",
          "text": [
            "['__abs__', '__add__', '__and__', '__bool__', '__ceil__', '__class__', '__delattr__', '__dir__', '__divmod__', '__doc__', '__eq__', '__float__', '__floor__', '__floordiv__', '__format__', '__ge__', '__getattribute__', '__getnewargs__', '__gt__', '__hash__', '__index__', '__init__', '__init_subclass__', '__int__', '__invert__', '__le__', '__lshift__', '__lt__', '__mod__', '__mul__', '__ne__', '__neg__', '__new__', '__or__', '__pos__', '__pow__', '__radd__', '__rand__', '__rdivmod__', '__reduce__', '__reduce_ex__', '__repr__', '__rfloordiv__', '__rlshift__', '__rmod__', '__rmul__', '__ror__', '__round__', '__rpow__', '__rrshift__', '__rshift__', '__rsub__', '__rtruediv__', '__rxor__', '__setattr__', '__sizeof__', '__str__', '__sub__', '__subclasshook__', '__truediv__', '__trunc__', '__xor__', 'as_integer_ratio', 'bit_count', 'bit_length', 'conjugate', 'denominator', 'from_bytes', 'imag', 'numerator', 'real', 'to_bytes']\n"
          ]
        }
      ]
    }
  ]
}