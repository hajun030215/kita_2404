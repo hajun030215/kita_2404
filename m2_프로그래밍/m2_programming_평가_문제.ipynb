{
  "cells": [
    {
      "cell_type": "markdown",
      "metadata": {
        "id": "MUBRVgz6E8wA"
      },
      "source": [
        "## AI기반 챗봇 및 OCR 개발 전문가 과정\n",
        "\n",
        "#### 교과목명 : m2_programming\n",
        "\n",
        "- 평가일 : 24.05.14\n",
        "- 성명 :\n",
        "- 점수 :\n",
        "\n",
        "※ 문제당 2점으로 채점 60점 + 자유 프로그램 40점"
      ]
    },
    {
      "cell_type": "markdown",
      "metadata": {
        "id": "8RQjyavpE8wE"
      },
      "source": [
        "#### 1. numbers 리스트에서 15, 20, 25를 출력하세요.(for문과 if 조건 사용 필수)  \n",
        "numbers = [5, 15, 6, 20, 7, 25]"
      ]
    },
    {
      "cell_type": "code",
      "source": [
        "numbers = [5, 15, 6, 20, 7, 25]\n",
        "for i in numbers:\n",
        "  if i >=15 :\n",
        "    print(i,end=',')"
      ],
      "metadata": {
        "colab": {
          "base_uri": "https://localhost:8080/"
        },
        "id": "Jzpp3AtxeqZT",
        "outputId": "641efe5b-7d83-402a-d0dd-771cee28a94a"
      },
      "execution_count": 11,
      "outputs": [
        {
          "output_type": "stream",
          "name": "stdout",
          "text": [
            "15,20,25,"
          ]
        }
      ]
    },
    {
      "cell_type": "markdown",
      "metadata": {
        "id": "meykYdToE8wH"
      },
      "source": [
        "#### 2. 아래 list_input에 대해서 주어진 사용자 함수를 일괄적으로 적용할 수 있는 2개의 내장함수를 활용하여 [1, 4, 9, 16, 25], [1, 2]를 출력하는 코드를 작성하세요."
      ]
    },
    {
      "cell_type": "code",
      "execution_count": 24,
      "metadata": {
        "id": "2wpOoN4AE8wI",
        "colab": {
          "base_uri": "https://localhost:8080/"
        },
        "outputId": "75d8381f-7e2a-4814-bcb6-e584390fe77f"
      },
      "outputs": [
        {
          "output_type": "stream",
          "name": "stdout",
          "text": [
            "[1, 4, 9, 16, 25],[1, 2]\n"
          ]
        }
      ],
      "source": [
        "# 사용자 함수를 선언합니다.\n",
        "def power(item):\n",
        "    return item * item\n",
        "def under_3(item):\n",
        "    return item < 3\n",
        "\n",
        "# 변수를 선언합니다.\n",
        "list_input = [1, 2, 3, 4, 5]\n",
        "\n",
        "list_power = list(map(power, list_input))\n",
        "\n",
        "list_under_3 = list(filter(under_3, list_input))\n",
        "print(f'{list_power},{list_under_3}')"
      ]
    },
    {
      "cell_type": "markdown",
      "metadata": {
        "id": "WOZSeJdeE8wJ"
      },
      "source": [
        "#### 3. 정수를 입력하면 짝수 홀수 여부를 반환해주는 프로그램을 작성하세요.(정수를 입력하지 않는 경우에 대해서 예외처리 수행)"
      ]
    },
    {
      "cell_type": "code",
      "source": [
        "def odd_num(num):\n",
        "    try:\n",
        "      num = int(input('정수를 입력해주세요: '))\n",
        "      if num % 2 == 0:\n",
        "        return '짝수입니다.'\n",
        "      else:\n",
        "        return '홀수입니다.'\n",
        "    except ValueError:\n",
        "      return '올바른 정수를 입력해주세요.'\n",
        "print(odd_num(num))\n",
        "\n"
      ],
      "metadata": {
        "colab": {
          "base_uri": "https://localhost:8080/"
        },
        "id": "HnENKk9AiVv7",
        "outputId": "f25cd483-5d90-483a-ee66-f38f453e0c0a"
      },
      "execution_count": 35,
      "outputs": [
        {
          "output_type": "stream",
          "name": "stdout",
          "text": [
            "정수를 입력해주세요: 3\n",
            "홀수입니다.\n"
          ]
        }
      ]
    },
    {
      "cell_type": "markdown",
      "metadata": {
        "id": "RW2qbdFcE8wK"
      },
      "source": [
        "#### 4. a의 b제곱에서 a x b를 뺀 수를 a, b가 아래와 같이 주어졌을 때 람다 함수를 이용해서 구하세요.\n",
        "a = 2, b = 5 \\\n",
        "a= 5, b = 2"
      ]
    },
    {
      "cell_type": "code",
      "source": [
        "num = lambda a,b : a ** b - (a*b)\n",
        "\n",
        "num1 = num(2,5)\n",
        "print('a=2,b=5:',num1)\n",
        "\n",
        "num2 = num(5, 2)\n",
        "print('a=5,b=2:',num2)"
      ],
      "metadata": {
        "colab": {
          "base_uri": "https://localhost:8080/"
        },
        "id": "gMdwZDUQlJ9n",
        "outputId": "989252ac-6d8e-4909-abbc-9024f0d27ba6"
      },
      "execution_count": 38,
      "outputs": [
        {
          "output_type": "stream",
          "name": "stdout",
          "text": [
            "a=2,b=5: 22\n",
            "a=5,b=2: 15\n"
          ]
        }
      ]
    },
    {
      "cell_type": "markdown",
      "metadata": {
        "id": "ZDKM_x4WE8wL"
      },
      "source": [
        "#### 5. 정수를 입력하면 천 단위로 콤마로 구분하여 출력하세요.(정수가 아닌 경우 '정수가 아닙니다.'를 출력)\n",
        "\n",
        "예시\n",
        "\n",
        "정수를 입력하세요: 123456789\\\n",
        "123,456,789"
      ]
    },
    {
      "cell_type": "code",
      "source": [
        "def plus_comma():\n",
        "    try:\n",
        "      num = int(input('정수를 입력하세요: '))\n",
        "      return format(num,\",d\")\n",
        "    except ValueError:\n",
        "     return '정수가 아닙니다.'\n",
        "\n",
        "num1 = plus_comma()\n",
        "print(num1)"
      ],
      "metadata": {
        "colab": {
          "base_uri": "https://localhost:8080/"
        },
        "id": "-WbZlcDAl9RA",
        "outputId": "e2804729-edec-4f2c-932e-37c72092b0bf"
      },
      "execution_count": 39,
      "outputs": [
        {
          "output_type": "stream",
          "name": "stdout",
          "text": [
            "정수를 입력하세요: 674657684657\n",
            "674,657,684,657\n"
          ]
        }
      ]
    },
    {
      "cell_type": "markdown",
      "metadata": {
        "id": "ArpZddYjE8wM"
      },
      "source": [
        "#### 6. example_list = [\"요소A\", \"요소B\", \"요소C\"]를 파이썬 내장함수를 이용하여 아래와 같이 출력하세요.\n",
        "0번째 요소는 요소A입니다.\\\n",
        "1번째 요소는 요소B입니다.\\\n",
        "2번째 요소는 요소C입니다."
      ]
    },
    {
      "cell_type": "code",
      "source": [
        "example_list = [\"요소A\", \"요소B\", \"요소C\"]\n",
        "print(f'0번째 요소는 {example_list[0]}입니다.\\n1번째 요소는 {example_list[1]}입니다.\\n2번째 요소는 {example_list[2]}입니다.')"
      ],
      "metadata": {
        "colab": {
          "base_uri": "https://localhost:8080/"
        },
        "id": "M1xpzCT8nQfs",
        "outputId": "1083ad6b-9ca2-4e7d-9234-cdcd2791c445"
      },
      "execution_count": 46,
      "outputs": [
        {
          "output_type": "stream",
          "name": "stdout",
          "text": [
            "0번째 요소는 요소A입니다.\n",
            "1번째 요소는 요소B입니다.\n",
            "2번째 요소는 요소C입니다.\n"
          ]
        }
      ]
    },
    {
      "cell_type": "markdown",
      "metadata": {
        "id": "OfYeAyHIE8wN"
      },
      "source": [
        "#### 7. 97을 40으로 나눈 몫과 나머지를 내장함수를 이용하여 구하세요.(튜플로 출력 필수)"
      ]
    },
    {
      "cell_type": "code",
      "source": [
        "num = divmod(97, 40)\n",
        "print(num)"
      ],
      "metadata": {
        "colab": {
          "base_uri": "https://localhost:8080/"
        },
        "id": "cfnRln9aoOn5",
        "outputId": "653f1b6f-d064-4797-e227-c77ef6251b67"
      },
      "execution_count": 47,
      "outputs": [
        {
          "output_type": "stream",
          "name": "stdout",
          "text": [
            "(2, 17)\n"
          ]
        }
      ]
    },
    {
      "cell_type": "markdown",
      "metadata": {
        "id": "aHbiX8XsE8wO"
      },
      "source": [
        "#### 8. list_number = [52, 273, 32, 72, 100]로 변수 선언하고 정수를 입력하면 그 정수 인덱스와 리스트에서 해당하는 값을 출력하는 프로그램을 작성하세요. 단, 모든 예외처리를 수행하며 특히 ValueError와 IndexError는 별도 구분해서 예외처리 한 후 '예외처리 완료'를 마지막으로 출력하세요.\n",
        "\n",
        "- 4 입력시 \\\n",
        "정수 입력> 4 \\\n",
        "4번째 요소: 100\n",
        "예외 처리 완료\n",
        "\n",
        "- 문자 입력시 \\\n",
        "정수 입력> 가 \\\n",
        "정수를 입력해 주세요!\n",
        "예외 처리 완료\n",
        "\n",
        "- 5 입력시 \\\n",
        "정수 입력> 5 \\\n",
        "리스트의 인덱스를 벗어났어요!\n",
        "예외 처리 완료"
      ]
    },
    {
      "cell_type": "code",
      "source": [
        "list_number = [52, 273, 32, 72, 100]\n",
        "\n",
        "try:\n",
        "    index_num = int(input('정수 입력> '))\n",
        "    num = list_number[index_num]\n",
        "    print(f'{index_num}번째 요소: {num}')\n",
        "except ValueError:\n",
        "    print('정수를 입력해 주세요!')\n",
        "except IndexError:\n",
        "    print('리스트의 인덱스를 벗어났어요!')\n",
        "finally:\n",
        "    print('예외 처리 완료')"
      ],
      "metadata": {
        "colab": {
          "base_uri": "https://localhost:8080/"
        },
        "id": "PyiQbzSZomYI",
        "outputId": "7e1b9104-c32f-4f7c-e1be-0260dc1fc8f8"
      },
      "execution_count": 54,
      "outputs": [
        {
          "output_type": "stream",
          "name": "stdout",
          "text": [
            "정수 입력> 4\n",
            "4번째 요소: 100\n",
            "예외 처리 완료\n"
          ]
        }
      ]
    },
    {
      "cell_type": "markdown",
      "metadata": {
        "id": "EaQCwEAtE8wP"
      },
      "source": [
        "#### 9. 사용자로부터 서로 다른 숫자 두 개를 입력받고 첫 번째 와 두 번째중 큰 숫자를 구하는 프로그램을 수행하세요."
      ]
    },
    {
      "cell_type": "code",
      "source": [
        "print('서로 다른 두개의 숫자를 입력해주세요')\n",
        "num1=int(input('첫번째 숫자를 입력해주세요:'))\n",
        "num2=int(input('두번째 숫자를 입력해주세요:'))\n",
        "if num1 > num2:\n",
        "  print(f'큰 숫자:{num1}')\n",
        "elif num1 < num2:\n",
        "  print(f'큰 숫자:{num2}')\n",
        "else:\n",
        "  print('두 수가 같습니다.')"
      ],
      "metadata": {
        "colab": {
          "base_uri": "https://localhost:8080/"
        },
        "id": "pYgFAjDFqger",
        "outputId": "75cf8016-c1c2-4053-9605-d2798d64e6d5"
      },
      "execution_count": 56,
      "outputs": [
        {
          "output_type": "stream",
          "name": "stdout",
          "text": [
            "서로 다른 두개의 숫자를 입력해주세요\n",
            "첫번째 숫자를 입력해주세요:789879\n",
            "두번째 숫자를 입력해주세요:70\n",
            "큰 숫자:789879\n"
          ]
        }
      ]
    },
    {
      "cell_type": "markdown",
      "metadata": {
        "id": "LRfQjiCzE8wQ"
      },
      "source": [
        "#### 10. 1부터 100까지 아래와 같은 방식으로 2개의 수를 곱해서 가장 큰 수를 구하세요.\n",
        "\n",
        " 1 * 99 ...99 * 1"
      ]
    },
    {
      "cell_type": "code",
      "source": [
        "num = 0\n",
        "for i in range(1, 51):\n",
        "    num1 = i * (101 - i)\n",
        "    if num1 > num:\n",
        "        num = num1\n",
        "\n",
        "\n",
        "print(\"가장 큰 곱:\", num)"
      ],
      "metadata": {
        "colab": {
          "base_uri": "https://localhost:8080/"
        },
        "id": "QuXMqHlHrZg6",
        "outputId": "6db4e1c2-89f5-462f-f3de-4f81423b83f0"
      },
      "execution_count": 61,
      "outputs": [
        {
          "output_type": "stream",
          "name": "stdout",
          "text": [
            "가장 큰 곱: 2550\n"
          ]
        }
      ]
    },
    {
      "cell_type": "markdown",
      "metadata": {
        "id": "a40kqI8ME8wQ"
      },
      "source": [
        "#### 11. 현재 시간을 년-월-일 시:분:초로 출력하세요."
      ]
    },
    {
      "cell_type": "code",
      "source": [
        "from datetime import datetime\n",
        "\n",
        "datetime_now = datetime.now()\n",
        "\n",
        "now_time = datetime_now.strftime(\"%Y-%m-%d %H:%M:%S\")\n",
        "\n",
        "print(\"현재 시간:\", now_time)"
      ],
      "metadata": {
        "colab": {
          "base_uri": "https://localhost:8080/"
        },
        "id": "awy48911sjwL",
        "outputId": "2ebfa613-6570-40ea-98a4-b82d41ca4289"
      },
      "execution_count": 64,
      "outputs": [
        {
          "output_type": "stream",
          "name": "stdout",
          "text": [
            "현재 시간: 2024-05-14 06:05:57\n"
          ]
        }
      ]
    },
    {
      "cell_type": "markdown",
      "metadata": {
        "id": "N9EEnKZvE8wR"
      },
      "source": [
        "#### 12. 1에서 백만까지 더하는데 걸리는 프로그램 실행 시간을 밀리초(ms) 단위로 구하세요.(1000 밀리초(ms) = 1초)"
      ]
    },
    {
      "cell_type": "code",
      "source": [
        "import time\n",
        "start_time = time.time()\n",
        "\n",
        "total = 0\n",
        "for i in range(1, 1000001):\n",
        "    total += i\n",
        "end_time = time.time()\n",
        "\n",
        "time_ms = (end_time - start_time) * 1000\n",
        "\n",
        "print(f'프로그램 실행 시간:{time_ms}ms')"
      ],
      "metadata": {
        "colab": {
          "base_uri": "https://localhost:8080/"
        },
        "id": "969P-3AQtUaN",
        "outputId": "9345d6ec-7e32-4133-cc53-fa65ca63ec94"
      },
      "execution_count": 67,
      "outputs": [
        {
          "output_type": "stream",
          "name": "stdout",
          "text": [
            "프로그램 실행 시간:131.2999725341797ms\n"
          ]
        }
      ]
    },
    {
      "cell_type": "markdown",
      "metadata": {
        "id": "vWkI-A1JE8wR"
      },
      "source": [
        "#### 13. [0, 1, 2, 3, 4, 5, 6, 7, 8, 9, 'a', 'b', 'c']에서 9와 'a'를 삭제 후 리스트로 출력하세요"
      ]
    },
    {
      "cell_type": "code",
      "source": [
        "list1=[0, 1, 2, 3, 4, 5, 6, 7, 8, 9, 'a', 'b', 'c']\n",
        "del(list1[9],list1[-3])\n",
        "print(list1)"
      ],
      "metadata": {
        "colab": {
          "base_uri": "https://localhost:8080/"
        },
        "id": "w08Q-GcPtxBZ",
        "outputId": "6b5b34f6-000d-484a-f098-e04eec401d91"
      },
      "execution_count": 71,
      "outputs": [
        {
          "output_type": "stream",
          "name": "stdout",
          "text": [
            "[0, 1, 2, 3, 4, 5, 6, 7, 8, 'b', 'c']\n"
          ]
        }
      ]
    },
    {
      "cell_type": "markdown",
      "metadata": {
        "id": "GMR1DQYkE8wS"
      },
      "source": [
        "#### 14. 500 ~ 1000사이의 정수 중 5와 7의 공배수의 합을 구하세요"
      ]
    },
    {
      "cell_type": "code",
      "source": [
        "total_sum = 0\n",
        "for num in range(500, 1001):\n",
        "    if num % 5 == 0 and num % 7 == 0:\n",
        "        total_sum += num\n",
        "print('500부터 1000까지의 정수 중 5와 7의 공배수의 합:', total_sum)"
      ],
      "metadata": {
        "colab": {
          "base_uri": "https://localhost:8080/"
        },
        "id": "_O7-J7kpuMic",
        "outputId": "cd675332-a2d4-4217-bccf-efbbbeed1298"
      },
      "execution_count": 72,
      "outputs": [
        {
          "output_type": "stream",
          "name": "stdout",
          "text": [
            "500부터 1000까지의 정수 중 5와 7의 공배수의 합: 10535\n"
          ]
        }
      ]
    },
    {
      "cell_type": "markdown",
      "metadata": {
        "id": "aUeANeYlE8wS"
      },
      "source": [
        "#### 15. [    ]을 채워서 아래와 같이 출력하세요."
      ]
    },
    {
      "cell_type": "code",
      "execution_count": 76,
      "metadata": {
        "id": "0e9zx41YE8wS",
        "colab": {
          "base_uri": "https://localhost:8080/"
        },
        "outputId": "9312cd41-d83d-40cc-e1c4-a2b7483966af"
      },
      "outputs": [
        {
          "output_type": "stream",
          "name": "stdout",
          "text": [
            "[[3, 6, 9], [1, 4, 7], [2, 5, 8]]\n"
          ]
        }
      ],
      "source": [
        "numbers = [1, 2, 3, 4, 5, 6, 7, 8, 9]\n",
        "output = [[], [], []]\n",
        "\n",
        "for number in numbers:\n",
        "    index = number % 3\n",
        "    output[index].append(number)\n",
        "\n",
        "print(output)"
      ]
    },
    {
      "cell_type": "markdown",
      "metadata": {
        "id": "tCc1vBWeE8wT"
      },
      "source": [
        "####  16. numbers 내부에 들어 있는 숫자가 몇 번 등장하는지를 출력하는 코드를 작성하세요.\n",
        "\n",
        "답안 예시:\\\n",
        "{3: 4, 6: 2, 5: 2, 8: 2, 2: 2, 9: 2, 7: 2, 4: 2}"
      ]
    },
    {
      "cell_type": "code",
      "source": [],
      "metadata": {
        "id": "eRUVGXVtvUOY"
      },
      "execution_count": 93,
      "outputs": []
    },
    {
      "cell_type": "markdown",
      "metadata": {
        "id": "N1fnr0ISE8wT"
      },
      "source": [
        "#### 17. 클래스 Country를 완성하여 아래와 같이 출력하세요."
      ]
    },
    {
      "cell_type": "code",
      "execution_count": 84,
      "metadata": {
        "id": "9DtEm6x0E8wT",
        "outputId": "b5658c42-4a11-4d52-fe41-65c83db2d084",
        "colab": {
          "base_uri": "https://localhost:8080/"
        }
      },
      "outputs": [
        {
          "output_type": "stream",
          "name": "stdout",
          "text": [
            "한국의 인구는, 5만명이며, 수도는 서울입니다.\n",
            "1인당 gnp는 USD 3만입니다.\n"
          ]
        }
      ],
      "source": [
        "class Country:\n",
        "  def __init__(self,name,total_people,capital):\n",
        "    self.name = name\n",
        "    self.total_people = total_people\n",
        "    self.capital = capital\n",
        "\n",
        "  def desc(self):\n",
        "        print(f'{self.name}의 인구는, {self.total_people}만명이며, 수도는 {self.capital}입니다.')\n",
        "\n",
        "\n",
        "class Korea(Country):\n",
        "\n",
        "    def desc1(self,gnp):\n",
        "        self.gnp = gnp\n",
        "        print('1인당 gnp는 USD %d만입니다.' %self.gnp)\n",
        "\n",
        "obj = Korea('한국',5,'서울')\n",
        "obj.desc()\n",
        "obj.desc1(3)"
      ]
    },
    {
      "cell_type": "markdown",
      "metadata": {
        "id": "64-pIQ7cE8wU"
      },
      "source": [
        "#### 18. 사칙연산을 수행하는  클래스를 작성하여 객체를 만들고 2개의 정수 10, 5를 입력한 후 연산 결과를  포멧을 이용하여 출력하세요."
      ]
    },
    {
      "cell_type": "code",
      "source": [
        "class calculator:\n",
        "    def __init__(self, num1, num2):\n",
        "        self.num1 = num1\n",
        "        self.num2 = num2\n",
        "\n",
        "    def add(self):\n",
        "        return self.num1 + self.num2\n",
        "\n",
        "    def sub(self):\n",
        "        return self.num1 - self.num2\n",
        "\n",
        "    def mul(self):\n",
        "        return self.num1 * self.num2\n",
        "\n",
        "    def div(self):\n",
        "        if self.num2 != 0:\n",
        "            return self.num1 / self.num2\n",
        "        else:\n",
        "            return \"0으로 나눌 수 없습니다.\"\n",
        "\n",
        "num = calculator(10, 5)\n",
        "\n",
        "print(f'덧셈 결과: {num.add()}')\n",
        "print(f'뺄셈 결과: {num.sub()}')\n",
        "print(f'곱셈 결과: {num.mul()}')\n",
        "print(f'나눗셈 결과: {num.div()}')"
      ],
      "metadata": {
        "colab": {
          "base_uri": "https://localhost:8080/"
        },
        "id": "3GCcLfoSxqbq",
        "outputId": "420ffe44-05ba-4aea-a7ae-593259ed6519"
      },
      "execution_count": 85,
      "outputs": [
        {
          "output_type": "stream",
          "name": "stdout",
          "text": [
            "덧셈 결과: 15\n",
            "뺄셈 결과: 5\n",
            "곱셈 결과: 50\n",
            "나눗셈 결과: 2.0\n"
          ]
        }
      ]
    },
    {
      "cell_type": "markdown",
      "metadata": {
        "id": "aXnTCJjhE8wV"
      },
      "source": [
        "#### 19. 올해 경과된 날짜수를 계산하여 출력하세요.\n",
        "\n",
        "답안 예시:\\\n",
        "오늘은 2024-01-01 이후 127일째 되는 날입니다."
      ]
    },
    {
      "cell_type": "code",
      "source": [],
      "metadata": {
        "id": "LSD1Vx4AxpcA"
      },
      "execution_count": 93,
      "outputs": []
    },
    {
      "cell_type": "markdown",
      "metadata": {
        "id": "dcwksmd7E8wV"
      },
      "source": [
        "#### 20. 문자열 리스트 states를 아래 [출력]와 같이 전처리하여 출력하세요\n",
        "`states = ['   Alabama ', 'Georgia!', 'Georgia', 'georgia', 'FlOrIda',\n",
        "          'south   carolina##', 'West virginia?']`\n",
        "\n",
        "[출력]\\\n",
        "['Alabama',\\\n",
        " 'Georgia',\\\n",
        " 'Georgia',\\\n",
        " 'Georgia',\\\n",
        " 'Florida',\\\n",
        " 'South Carolina',\\\n",
        " 'West Virginia']"
      ]
    },
    {
      "cell_type": "code",
      "source": [],
      "metadata": {
        "id": "-mlNKmE_59FX"
      },
      "execution_count": 99,
      "outputs": []
    },
    {
      "cell_type": "markdown",
      "source": [
        "자유 프로그램 수행 결과를 실행하세요"
      ],
      "metadata": {
        "id": "4-6ekfFAKfG6"
      }
    },
    {
      "cell_type": "code",
      "source": [],
      "metadata": {
        "id": "Tt9f_2sCKgPd"
      },
      "execution_count": null,
      "outputs": []
    }
  ],
  "metadata": {
    "kernelspec": {
      "display_name": "Python 3 (ipykernel)",
      "language": "python",
      "name": "python3"
    },
    "language_info": {
      "codemirror_mode": {
        "name": "ipython",
        "version": 3
      },
      "file_extension": ".py",
      "mimetype": "text/x-python",
      "name": "python",
      "nbconvert_exporter": "python",
      "pygments_lexer": "ipython3",
      "version": "3.8.13"
    },
    "colab": {
      "provenance": []
    }
  },
  "nbformat": 4,
  "nbformat_minor": 0
}