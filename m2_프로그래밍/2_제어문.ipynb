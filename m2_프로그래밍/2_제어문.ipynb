{
  "nbformat": 4,
  "nbformat_minor": 0,
  "metadata": {
    "colab": {
      "provenance": []
    },
    "kernelspec": {
      "name": "python3",
      "display_name": "Python 3"
    },
    "language_info": {
      "name": "python"
    }
  },
  "cells": [
    {
      "cell_type": "markdown",
      "source": [
        "제어문(control statement)은 프로그램의 흐름을 제어하는데 사용\n",
        "\n",
        "#### 조건문 (Conditional Statements):\n",
        "- if: 특정 조건이 참(True)일 때 코드 블록을 실행\n",
        "    - 조건은 비교 연산자(==, !=, <, >, <=, >=)와 논리 연산자(and, or, not)를 사용하여 표현할 수 있다\n",
        "- elif: 이전의 if 또는 elif 조건이 거짓(False)일 때 다른 조건을 검사\n",
        "    - elif는 'else if'의 축약형으로, 이전 if 또는 elif 문의 조건이 거짓(False)일 때 다른 조건을 검사\n",
        "    - 여러 elif 문을 사용하여 다양한 조건을 검사할 수 있다\n",
        "- else:\n",
        "    - 이전의 if 또는 elif 문의 조건이 모두 거짓일 때 실행할 코드 블록을 지정"
      ],
      "metadata": {
        "id": "ywpZV_2j8PPK"
      }
    },
    {
      "cell_type": "code",
      "execution_count": null,
      "metadata": {
        "colab": {
          "base_uri": "https://localhost:8080/"
        },
        "id": "mQBqi7DH8MYI",
        "outputId": "e67db7b9-3dfa-4f36-92b0-44fdc100dd86"
      },
      "outputs": [
        {
          "output_type": "stream",
          "name": "stdout",
          "text": [
            "크다\n"
          ]
        }
      ],
      "source": [
        "x = 10\n",
        "if x > 5:\n",
        "  print(\"크다\")\n",
        "elif x == 5:\n",
        "  print(\"같다\")\n",
        "else:\n",
        "  print(\"작다\")"
      ]
    },
    {
      "cell_type": "code",
      "source": [
        "# 각 조건이 서로 독립적일 때 if문을 연속해서 사용\n",
        "\n",
        "x = 10\n",
        "y = 5\n",
        "\n",
        "if x > 5:\n",
        "  print(\"x는 5보다 큽니다.\")\n",
        "\n",
        "if x < 10:\n",
        "  print(\"x는 10보다 작습니다.\")\n",
        "\n",
        "if x  y:\n",
        "  print(\"x는 y보다 큽니다.\")"
      ],
      "metadata": {
        "id": "fFVV-eq0SZnX"
      },
      "execution_count": null,
      "outputs": []
    },
    {
      "cell_type": "code",
      "source": [
        "x = 10\n",
        "y = 5\n",
        "\n",
        "if x > 5:\n",
        "  if y >= 3:\n",
        "    print('x는 5보다 크고 y는 3보다 크거나 같습니다.')\n",
        "  else:\n",
        "    print('x는5보다 크고 y는 3보다 작습니다.')\n",
        "else:\n",
        "  print('x는 5보다 작거나 같습니다.')"
      ],
      "metadata": {
        "id": "D-wjxxxOUFci"
      },
      "execution_count": null,
      "outputs": []
    },
    {
      "cell_type": "code",
      "source": [
        "# Q. 이중 조건문을 사용하여 코드를 작성하세요. if문 elif else 중첩하여 사용\n",
        "\n",
        "name = '김한결'\n",
        "age = 30\n",
        "se = 'female'\n",
        "height = 170\n",
        "\n",
        "if name == '김한결':\n",
        "  print(f'이름은 {name}입니다.')\n",
        "\n",
        "  if age == 30:\n",
        "    print(f'나이는 {age}세 입니다.')\n",
        "  elif age > 30:\n",
        "    print(f'나이는 {age} 보다 많습니다.')\n",
        "  elif age < 30:\n",
        "    print(f'나이는 {age} 보다 적습니다.')\n",
        "  else:\n",
        "    print('나이를 모르겠네요')\n",
        "\n",
        "  if se == 'female':\n",
        "    print('성별은 여자입니다.')\n",
        "  else:\n",
        "    print('성별은 남자입니다.')\n",
        "\n",
        "  if height >= 170:\n",
        "    print(f'키가 {height}이거나, 그보다 큽니다.')\n",
        "  elif height < 170:\n",
        "    print(f'키가 {height}보다 작습니다.')\n",
        "else:\n",
        "  print(f'이름은 {name}이 아닙니다.')"
      ],
      "metadata": {
        "colab": {
          "base_uri": "https://localhost:8080/"
        },
        "id": "DpB-D2pMUVCw",
        "outputId": "c2b627b4-00d4-43fa-f516-8be3045e2cd7"
      },
      "execution_count": null,
      "outputs": [
        {
          "output_type": "stream",
          "name": "stdout",
          "text": [
            "이름은 김한결입니다.\n",
            "나이는 30세 입니다.\n",
            "성별은 여자입니다.\n",
            "키가 170이거나, 그보다 큽니다.\n"
          ]
        }
      ]
    },
    {
      "cell_type": "code",
      "source": [
        "# Q. listdata = ['a', 'b', 'c']에서 조건문을 이용해 아래와 같이 출력하세요.\n",
        "\n",
        "# a가 listdata에 있습니다.\n",
        "# b가 listdata에 있습니다.\n",
        "# c가 listdata에 있습니다.\n",
        "\n",
        "listdata = ['a', 'b', 'c']\n",
        "\n",
        "for i in listdata:\n",
        "  if i in listdata:\n",
        "    print(f'{i}가 listdata에 있습니다.')"
      ],
      "metadata": {
        "colab": {
          "base_uri": "https://localhost:8080/"
        },
        "id": "Sb7_o6UKYTaG",
        "outputId": "5831ade3-a799-4940-e64e-941901cf690a"
      },
      "execution_count": null,
      "outputs": [
        {
          "output_type": "stream",
          "name": "stdout",
          "text": [
            "a가 listdata에 있습니다.\n",
            "b가 listdata에 있습니다.\n",
            "c가 listdata에 있습니다.\n"
          ]
        }
      ]
    },
    {
      "cell_type": "code",
      "source": [
        "# next()는 리스트 컴프리핸션에서 생성된 iterator에서 첫번째 요소를 반환\n",
        "# 조건을 만족하는 요소가 없다면 StopIteration을 반환하기 때문에\n",
        "# 두번째 인자로 기본값을 지정할 수 있다.\n",
        "\n",
        "listdata = ['a', 'b', 'c']\n",
        "\n",
        "new_str = next(i for i in listdata if i == 'a')\n",
        "# new_str = next(i for i in listdata if i == 'a', 'a가 없습니다.')\n",
        "\n",
        "new_str"
      ],
      "metadata": {
        "colab": {
          "base_uri": "https://localhost:8080/",
          "height": 35
        },
        "id": "M52cXRL0Z0zN",
        "outputId": "f843a6f4-803e-41bf-ceaa-92a9b339e2f9"
      },
      "execution_count": null,
      "outputs": [
        {
          "output_type": "execute_result",
          "data": {
            "text/plain": [
              "'a'"
            ],
            "application/vnd.google.colaboratory.intrinsic+json": {
              "type": "string"
            }
          },
          "metadata": {},
          "execution_count": 10
        }
      ]
    },
    {
      "cell_type": "code",
      "source": [
        "# Q. \"주머니에 돈이 10,000원 이상 있으면 택시를 타고, 없으면 걸어 간다\"를 만족하는 조건문을 완성하시오.\n",
        "\n",
        "money = int(input('주머니 돈 : '))\n",
        "\n",
        "if money >= 10000:\n",
        "  print('택시를 타자!')\n",
        "else:\n",
        "  print('돈도 없는데 걸어가자!')"
      ],
      "metadata": {
        "id": "sGz_jZajac_L"
      },
      "execution_count": null,
      "outputs": []
    },
    {
      "cell_type": "code",
      "source": [
        "# Q. 조건부 표현식을 한줄의 조건문으로 작성하세요.\n",
        "\n",
        "score = 70\n",
        "if score >= 60:\n",
        "  message = \"success\"\n",
        "else:\n",
        "  message = \"failure\"\n",
        "\n",
        "print(message)\n",
        "\n",
        "##########################\n",
        "\n",
        "\"success\" if score >= 60 else \"failure\"\n",
        "[\"success\" if score >= 60 else \"failure\"]"
      ],
      "metadata": {
        "colab": {
          "base_uri": "https://localhost:8080/",
          "height": 54
        },
        "id": "2uJNwlkweyH_",
        "outputId": "9933c8c3-09f3-4b2c-9d2b-49efd6e250eb"
      },
      "execution_count": null,
      "outputs": [
        {
          "output_type": "stream",
          "name": "stdout",
          "text": [
            "success\n"
          ]
        },
        {
          "output_type": "execute_result",
          "data": {
            "text/plain": [
              "'success'"
            ],
            "application/vnd.google.colaboratory.intrinsic+json": {
              "type": "string"
            }
          },
          "metadata": {},
          "execution_count": 13
        }
      ]
    },
    {
      "cell_type": "code",
      "source": [
        "# Q. \"수입과 지출 금액을 비교해서 수입이 많으면 저축 증가, 반대이면 빚이 증가\" 프로그램 작성\n",
        "\n",
        "income = int(input(\"수입 : \"))\n",
        "spend  = int(input(\"지출 : \"))\n",
        "\n",
        "if income > spend:\n",
        "  print('수입 증가')\n",
        "elif income < spend:\n",
        "  print('저축 증가')\n",
        "else:\n",
        "  print('현상유지')\n",
        "\n"
      ],
      "metadata": {
        "colab": {
          "base_uri": "https://localhost:8080/"
        },
        "id": "xBd-LLJ1gJNh",
        "outputId": "ac6c34bb-727f-46ec-988d-338ad990c1cf"
      },
      "execution_count": null,
      "outputs": [
        {
          "output_type": "stream",
          "name": "stdout",
          "text": [
            "수입 : 10\n",
            "지출 : 10\n",
            "현상유지\n"
          ]
        }
      ]
    },
    {
      "cell_type": "markdown",
      "source": [
        "#### 반복문 (Loop Statements):\n",
        "- for: 시퀀스(리스트, 튜플, 문자열 등)의 아이템을 순회하면서 코드 블록을 실행\n",
        "- while: 특정 조건이 참인 동안 코드 블록을 반복하여 실행"
      ],
      "metadata": {
        "id": "GswVkV6xhWH7"
      }
    },
    {
      "cell_type": "code",
      "source": [
        "for i in range(10):\n",
        "  print(i, end=' ')\n",
        "print('\\n')\n",
        "\n",
        "count = 0\n",
        "while count < 5:\n",
        "  print(count, end=' ')\n",
        "  count += 1"
      ],
      "metadata": {
        "colab": {
          "base_uri": "https://localhost:8080/"
        },
        "id": "tMIsfQ-Th-B0",
        "outputId": "ba365802-9e7f-414d-ce23-b5ec4f6cdf13"
      },
      "execution_count": null,
      "outputs": [
        {
          "output_type": "stream",
          "name": "stdout",
          "text": [
            "0 1 2 3 4 5 6 7 8 9 \n",
            "\n",
            "0 1 2 3 4 "
          ]
        }
      ]
    },
    {
      "cell_type": "code",
      "source": [
        "# 리스트를 순회하는 예\n",
        "for i in [1, 2, 3, 4, 5]:\n",
        "  print(i, end=' ')\n",
        "print('\\n')\n",
        "\n",
        "# 문자열을 순회하는 예\n",
        "for char in \"hello\":\n",
        "  print(char, end=' ')"
      ],
      "metadata": {
        "id": "e28vYRHAlCei"
      },
      "execution_count": null,
      "outputs": []
    },
    {
      "cell_type": "code",
      "source": [
        "# while 루프는 주어진 조건이 참(True)인 동안 코드 블록을 반복\n",
        "# 조건이 거짓(False)이 되면 루프가 종료\n",
        "\n",
        "count = 0\n",
        "sum = 0\n",
        "while count < 5:\n",
        "  sum += count\n",
        "  print(sum, end=' ')\n",
        "  count += 1 # count를 1 증가 시킵니다.\n",
        "\n",
        "# 무한으로 돌 때는 조건문을 추가해 break를 줘야한다."
      ],
      "metadata": {
        "colab": {
          "base_uri": "https://localhost:8080/"
        },
        "id": "mLPRPB73lYSq",
        "outputId": "de923b80-0d00-4aec-9ea7-f1857724bec7"
      },
      "execution_count": null,
      "outputs": [
        {
          "output_type": "stream",
          "name": "stdout",
          "text": [
            "0 1 3 6 10 "
          ]
        }
      ]
    },
    {
      "cell_type": "code",
      "source": [
        "# Q. d에서 반복문을 사용하여 97, 98, 99를 출력하세요.\n",
        "\n",
        "d = {'a':97, 'b':98, 'c':99}\n",
        "\n",
        "for i in d.keys():\n",
        "  print(d[i], end=' ')"
      ],
      "metadata": {
        "colab": {
          "base_uri": "https://localhost:8080/"
        },
        "id": "RfvQKXrwmjfT",
        "outputId": "427d5701-6880-4641-930b-836ee8534f22"
      },
      "execution_count": null,
      "outputs": [
        {
          "output_type": "stream",
          "name": "stdout",
          "text": [
            "97 98 99 "
          ]
        }
      ]
    },
    {
      "cell_type": "code",
      "source": [
        "# zip() 함수\n",
        "numbers = [1, 2, 3]\n",
        "letters = [\"A\", \"B\", \"C\"]\n",
        "\n",
        "#for pair in zip(numbers, letters):\n",
        "#  print(pair)\n",
        "\n",
        "print(dict(zip(numbers, letters)))"
      ],
      "metadata": {
        "colab": {
          "base_uri": "https://localhost:8080/"
        },
        "id": "2l90fTGd2DDi",
        "outputId": "34836c69-ff05-4fee-9aef-22942e272bc5"
      },
      "execution_count": null,
      "outputs": [
        {
          "output_type": "stream",
          "name": "stdout",
          "text": [
            "{1: 'A', 2: 'B', 3: 'C'}\n"
          ]
        }
      ]
    },
    {
      "cell_type": "markdown",
      "source": [
        "dict_values 클래스의 이해:\n",
        "- 클래스 정의: 파이썬에서 클래스는 객체를 생성하는 데 사용되는 템플릿. dict_values는 딕셔너리의 값을 보여주는 뷰 객체를 생성하는 특별한 내장 클래스.\n",
        "- 뷰 객체: dict_values 객체는 딕셔너리의 값에 대한 동적인 뷰를 제공. \"뷰(view)\"란 원본 딕셔너리 객체의 값이 변하면 그 변화가 dict_values 객체에도 반영되는, 원본 데이터의 실시간 반영본을 의미. 이는 딕셔너리의 값들이 수정, 추가, 삭제될 때 dict_values 객체가 자동으로 업데이트된다는 의미.\n",
        "- 객체 인스턴스: dict_values 객체는 dict_values 클래스의 인스턴스. 이 클래스는 파이썬의 다른 모든 클래스처럼 특정 데이터 구조와 메서드를 가진다. 예를 들어, dict_values 객체는 순회 가능하며 (iterable), 딕셔너리의 모든 값을 순차적으로 접근할 수 있는 메서드를 제공."
      ],
      "metadata": {
        "id": "XY_1cG34xoXE"
      }
    },
    {
      "cell_type": "code",
      "source": [
        "d = {'a':97, 'b':98, 'c':99}\n",
        "\n",
        "d['b'] = 100\n",
        "print(d)\n",
        "print(d.values())"
      ],
      "metadata": {
        "colab": {
          "base_uri": "https://localhost:8080/"
        },
        "id": "CHYJkp5RykUD",
        "outputId": "d5ef3360-ce86-4243-9734-602f940edf05"
      },
      "execution_count": null,
      "outputs": [
        {
          "output_type": "stream",
          "name": "stdout",
          "text": [
            "{'a': 97, 'b': 100, 'c': 99}\n",
            "dict_values([97, 100, 99])\n"
          ]
        }
      ]
    },
    {
      "cell_type": "markdown",
      "source": [
        "#### 제어문 관련 키워드:\n",
        "- break: 현재의 반복문을 중단하고, 반복문 바깥의 코드를 실행\n",
        "- continue: 반복문의 나머지 부분을 건너뛰고, 다음 반복을 시작"
      ],
      "metadata": {
        "id": "sW17FaRVy0n6"
      }
    },
    {
      "cell_type": "code",
      "source": [
        "for i in range(5):\n",
        "  if i == 3:\n",
        "    break\n",
        "  print(i, end = ' ')\n",
        "print('\\n')\n",
        "\n",
        "for i in range(5):\n",
        "  if i == 3:\n",
        "    continue\n",
        "  print(i, end = ' ')"
      ],
      "metadata": {
        "colab": {
          "base_uri": "https://localhost:8080/"
        },
        "id": "Pxds3z-Gy2WE",
        "outputId": "b95fcf30-e715-4631-9f70-42af8d2c1bd5"
      },
      "execution_count": null,
      "outputs": [
        {
          "output_type": "stream",
          "name": "stdout",
          "text": [
            "0 1 2 \n",
            "\n",
            "0 1 2 4 "
          ]
        }
      ]
    },
    {
      "cell_type": "code",
      "source": [
        "for i in range(10):\n",
        "  if i == 5:\n",
        "    break\n",
        "  print(i, end = ' ')\n",
        "print('\\n')\n",
        "\n",
        "for i in range(10):\n",
        "  if i % 2 == 0: # i가 짝수일 때 건너 뛰고 다음을 반복\n",
        "    continue\n",
        "  print(i, end = ' ')"
      ],
      "metadata": {
        "id": "qDS4apNlz9Jg"
      },
      "execution_count": null,
      "outputs": []
    },
    {
      "cell_type": "code",
      "source": [
        "# for 또는 while 루프에 else 절을 사용하면, 루프가 정상적으로 완료된 후에 실행할 코드를 지정\n",
        "\n",
        "for i in range(5):\n",
        "  print(i, end = ' ')\n",
        "else:\n",
        "  print(\"루프가 완료되었습니다\\n\")\n",
        "\n",
        "count = 0\n",
        "while count < 5:\n",
        "  print(count, end = ' ')\n",
        "  count += 1\n",
        "else:\n",
        "  print(\"루프가 완료되었습니다\\n\")"
      ],
      "metadata": {
        "colab": {
          "base_uri": "https://localhost:8080/"
        },
        "id": "WJ1VHc_N1L7w",
        "outputId": "34c86161-0a79-435f-b562-7734aa94c202"
      },
      "execution_count": null,
      "outputs": [
        {
          "output_type": "stream",
          "name": "stdout",
          "text": [
            "0 1 2 3 4 루프가 완료되었습니다\n",
            "\n",
            "0 1 2 3 4 루프가 완료되었습니다\n",
            "\n"
          ]
        }
      ]
    },
    {
      "cell_type": "code",
      "source": [
        "# break 문을 사용하여 루프를 중단하면 else 절은 실행되지 않음\n",
        "\n",
        "for i in range(5):\n",
        "  if i == 3:\n",
        "    print(f\"{i}에서 루프를 중단합니다\")\n",
        "else:\n",
        "  print(\"루프가 정상적으로 완료되었습니다.\")\n",
        "\n",
        "# 출력 :\n",
        "# 3에서 루프를 중단합니다."
      ],
      "metadata": {
        "id": "RYxHXwJ-3PiF"
      },
      "execution_count": null,
      "outputs": []
    },
    {
      "cell_type": "markdown",
      "source": [
        "## 조건과 반복을 결합"
      ],
      "metadata": {
        "id": "wBtZ2Ln_3zl5"
      }
    },
    {
      "cell_type": "code",
      "source": [
        "# 10 미만의 홀수만 출력\n",
        "for i in range(10):\n",
        "  if i % 2 == 1:\n",
        "    print(i, end = ' ')"
      ],
      "metadata": {
        "colab": {
          "base_uri": "https://localhost:8080/"
        },
        "id": "rwKtkx7_33br",
        "outputId": "a5a846a8-2cb8-4111-f734-988a3ca1363a"
      },
      "execution_count": null,
      "outputs": [
        {
          "output_type": "stream",
          "name": "stdout",
          "text": [
            "1 3 5 7 9 "
          ]
        }
      ]
    },
    {
      "cell_type": "code",
      "source": [
        "# Q. 1~10 범위의 정수에서 1부터 5까지만 출력하세요\n",
        "\n",
        "for i in range(10):\n",
        "  if i == 5:\n",
        "    break\n",
        "  print(i+1, end = ' ')\n",
        "\n",
        "for i in range(1, 11):\n",
        "  if i > 5:\n",
        "    break\n",
        "  print(i, end = ' ')"
      ],
      "metadata": {
        "colab": {
          "base_uri": "https://localhost:8080/"
        },
        "id": "Y0U-F92i4CnG",
        "outputId": "58d1a831-c4f6-4961-a9ae-e567e8982f18"
      },
      "execution_count": null,
      "outputs": [
        {
          "output_type": "stream",
          "name": "stdout",
          "text": [
            "1 2 3 4 5 1 2 3 4 5 "
          ]
        }
      ]
    },
    {
      "cell_type": "code",
      "source": [
        "# Q. numbers 리스트에서 15, 20, 25를 출력하세요. (for문과 if문 사용)\n",
        "\n",
        "numbers = [5, 15, 6, 20, 7, 25]\n",
        "\n",
        "for i in numbers:\n",
        "  if i > 5 and i % 5 == 0:\n",
        "    print(i, end = ' ')"
      ],
      "metadata": {
        "colab": {
          "base_uri": "https://localhost:8080/"
        },
        "id": "0DyoRkkM5KMZ",
        "outputId": "68a45e74-8bbc-4203-bb52-bb762b784493"
      },
      "execution_count": null,
      "outputs": [
        {
          "output_type": "stream",
          "name": "stdout",
          "text": [
            "15 20 25 "
          ]
        }
      ]
    },
    {
      "cell_type": "code",
      "source": [
        "# 특정 조건을 만족할 때까지 반복\n",
        "\n",
        "count = 0\n",
        "while 1:\n",
        "  count += 1\n",
        "  if count > 5:\n",
        "    break\n",
        "  print(count)\n",
        "print('루프 종료')"
      ],
      "metadata": {
        "id": "j-1S57Ve-UWj"
      },
      "execution_count": null,
      "outputs": []
    },
    {
      "cell_type": "code",
      "source": [
        "# Q. 리스트에서 특정값 찾기\n",
        "\n",
        "numbers = [1, 2, 3, 4, 5]\n",
        "target = 3\n",
        "\n",
        "for i in numbers:\n",
        "  if i == target:\n",
        "    print(i, end = ' ')\n",
        "    break\n",
        "else:\n",
        "  print('찾지 못했습니다.')"
      ],
      "metadata": {
        "colab": {
          "base_uri": "https://localhost:8080/"
        },
        "id": "jCCSK4rh_F4z",
        "outputId": "91c15b67-66d4-4bbe-c0f0-9da403ad3976"
      },
      "execution_count": null,
      "outputs": [
        {
          "output_type": "stream",
          "name": "stdout",
          "text": [
            "3 "
          ]
        }
      ]
    },
    {
      "cell_type": "code",
      "source": [
        "# Q. 1 ~ 20 사이의 정수에서 10보다 작은 홀수만 출력\n",
        "\n",
        "for num in range(1, 21):\n",
        "  if num < 10 and num % 2 == 1:\n",
        "    print(num, end = ' ')\n",
        "  elif num > 10:\n",
        "    print('끝')\n",
        "    break\n",
        "\n",
        "a = 0\n",
        "while a < 20:\n",
        "  a += 1\n",
        "\n",
        "  if a % 2 == 0:\n",
        "    continue\n",
        "  if a >= 10:\n",
        "    break\n",
        "  print(a, end = ' ')"
      ],
      "metadata": {
        "colab": {
          "base_uri": "https://localhost:8080/"
        },
        "id": "TwfF9ZC1CgiZ",
        "outputId": "cc916af7-56be-4652-e09b-c9d3bebe9bf0"
      },
      "execution_count": null,
      "outputs": [
        {
          "output_type": "stream",
          "name": "stdout",
          "text": [
            "1 3 5 7 9 끝\n",
            "1 3 5 7 9 "
          ]
        }
      ]
    },
    {
      "cell_type": "code",
      "source": [
        "# Q. 정수 1부터 n까지 더할 때 그 합이 1000보다 커지게 되는 n과 합을 구하세요 (while~break)\n",
        "\n",
        "num = 1\n",
        "total_num = 0\n",
        "while 1:\n",
        "  total_num += num\n",
        "\n",
        "  if total_num > 1000:\n",
        "    print(f'합계 : {total_num} / num : {num}')\n",
        "    break\n",
        "  else:\n",
        "    num += 1\n",
        "\n",
        "num = 0\n",
        "total_num = 0\n",
        "while total_num <= 1000:\n",
        "  num += 1\n",
        "  total_num += num\n",
        "\n",
        "print(f'합계 : {total_num} / num : {num}')"
      ],
      "metadata": {
        "colab": {
          "base_uri": "https://localhost:8080/"
        },
        "id": "dCV6LPWLFFyW",
        "outputId": "bb5c0c23-626a-4453-a572-18af7d0ab07c"
      },
      "execution_count": null,
      "outputs": [
        {
          "output_type": "stream",
          "name": "stdout",
          "text": [
            "합계 : 1035 / num : 45\n",
            "합계 : 1035 / num : 45\n"
          ]
        }
      ]
    },
    {
      "cell_type": "code",
      "source": [
        "# Q. while문을 사용해 1부터 1000까지의 정수 중 3의 배수의 합을 구해보세요.\n",
        "\n",
        "num = 1\n",
        "total = 0\n",
        "while num <= 1000:\n",
        "  if num % 3 == 0:\n",
        "    total += num\n",
        "  num += 1\n",
        "\n",
        "print(total)"
      ],
      "metadata": {
        "colab": {
          "base_uri": "https://localhost:8080/"
        },
        "id": "zGIkMDBrGezv",
        "outputId": "fb6c6f31-e886-40e6-af81-1e3f0eab5fd5"
      },
      "execution_count": null,
      "outputs": [
        {
          "output_type": "stream",
          "name": "stdout",
          "text": [
            "166833\n"
          ]
        }
      ]
    },
    {
      "cell_type": "code",
      "source": [
        "num = 3\n",
        "total = 0\n",
        "\n",
        "while num <= 1000:\n",
        "  total += num\n",
        "  num += 3\n",
        "\n",
        "print(total)"
      ],
      "metadata": {
        "colab": {
          "base_uri": "https://localhost:8080/"
        },
        "id": "yHAaAvW6eQkJ",
        "outputId": "bcddb9a6-aa68-4c56-c1ab-1b9e789478f4"
      },
      "execution_count": null,
      "outputs": [
        {
          "output_type": "stream",
          "name": "stdout",
          "text": [
            "166833\n"
          ]
        }
      ]
    },
    {
      "cell_type": "code",
      "source": [
        "# Q. 정수를 입력하면 홀수 짝수를 판별하는 프로그램"
      ],
      "metadata": {
        "id": "SIvrZFAGGiPg"
      },
      "execution_count": null,
      "outputs": []
    },
    {
      "cell_type": "code",
      "source": [
        "num = int(input(\"정수 : \"))\n",
        "\n",
        "if num == 0:\n",
        "  print(\"0\")\n",
        "elif num % 2 != 0:\n",
        "  print(\"홀수\")\n",
        "else:\n",
        "  print(\"짝수\")"
      ],
      "metadata": {
        "colab": {
          "base_uri": "https://localhost:8080/"
        },
        "id": "W4w4UT8WHyky",
        "outputId": "236ffa4a-c182-4be6-8965-1ebe356c3531"
      },
      "execution_count": null,
      "outputs": [
        {
          "output_type": "stream",
          "name": "stdout",
          "text": [
            "정수 : 1\n",
            "홀수\n"
          ]
        }
      ]
    },
    {
      "cell_type": "code",
      "source": [
        "while True:\n",
        "  try:\n",
        "    number = int(input('정수 입력 : '))\n",
        "\n",
        "    if number % 2 == 1:\n",
        "      print(f'입력한 숫자 {number}는 홀수 입니다.')\n",
        "    else:\n",
        "      print(f'입력한 숫자 {number}는 짝수입니다.')\n",
        "    break\n",
        "  except ValueError:\n",
        "    print(\"정수가 아닌 값이 입력되었어요. 정수를 입력하세요\")"
      ],
      "metadata": {
        "colab": {
          "base_uri": "https://localhost:8080/"
        },
        "id": "nl4fpZUihdp7",
        "outputId": "75fc0fca-6b0b-4c3e-e89c-3df34674f693"
      },
      "execution_count": null,
      "outputs": [
        {
          "output_type": "stream",
          "name": "stdout",
          "text": [
            "정수 입력 : 2.4\n",
            "정수가 아닌 값이 입력되었어요. 정수를 입력하세요\n",
            "정수 입력 : 1\n",
            "입력한 숫자 1는 홀수 입니다.\n"
          ]
        }
      ]
    },
    {
      "cell_type": "code",
      "source": [
        "# Q. 입력받은 문자열의 각 문자를 그 다음 문자로 변경하여 출력하세요(ABC->BCA)\n",
        "\n",
        "string = input(\"문자열을 입력하세요:\")\n",
        "#string = 'ABC'\n",
        "\n",
        "string[1:]+string[:1]\n"
      ],
      "metadata": {
        "colab": {
          "base_uri": "https://localhost:8080/",
          "height": 54
        },
        "id": "hWVWB2yGjD-U",
        "outputId": "6306d1ec-ca65-485f-bd28-d47d5e3df98a"
      },
      "execution_count": null,
      "outputs": [
        {
          "name": "stdout",
          "output_type": "stream",
          "text": [
            "문자열을 입력하세요:ABC\n"
          ]
        },
        {
          "output_type": "execute_result",
          "data": {
            "text/plain": [
              "'BCA'"
            ],
            "application/vnd.google.colaboratory.intrinsic+json": {
              "type": "string"
            }
          },
          "metadata": {},
          "execution_count": 24
        }
      ]
    },
    {
      "cell_type": "code",
      "source": [
        "data = input('문자열을 입력하세요 : ')\n",
        "for i in range(len(data)):\n",
        "  if i == 0:\n",
        "    continue\n",
        "  print(data[i], end = ' ')\n",
        "\n",
        "else:\n",
        "  print(data[0])"
      ],
      "metadata": {
        "colab": {
          "base_uri": "https://localhost:8080/"
        },
        "id": "3ff35NZTmuQW",
        "outputId": "146d8af5-147d-40e6-bbd6-a8693ada5e89"
      },
      "execution_count": null,
      "outputs": [
        {
          "output_type": "stream",
          "name": "stdout",
          "text": [
            "문자열을 입력하세요 : CDE\n",
            "D E C\n"
          ]
        }
      ]
    },
    {
      "cell_type": "markdown",
      "source": [
        "zip() 함수\n",
        "- 여러 개의 이터러블(리스트, 튜플 등)을 인자로 받아, 동일한 인덱스에 있는 요소들을 하나의 튜플로 묶어서 이터레이터를 반환\n",
        "- 데이터를 병렬로 처리할 때 유용"
      ],
      "metadata": {
        "id": "Q6ABTbPYnKu_"
      }
    },
    {
      "cell_type": "code",
      "source": [
        "list1 = [1,2,3,4]\n",
        "list2 = ['a', 'b', 'c', 'd']\n",
        "zipped = zip(list1, list2)\n",
        "print(list(zipped))"
      ],
      "metadata": {
        "colab": {
          "base_uri": "https://localhost:8080/"
        },
        "id": "Z6Yr3RyFnqbd",
        "outputId": "15bf28c5-edc5-43f1-dcb7-255c873ae300"
      },
      "execution_count": null,
      "outputs": [
        {
          "output_type": "stream",
          "name": "stdout",
          "text": [
            "[(1, 'a'), (2, 'b'), (3, 'c'), (4, 'd')]\n"
          ]
        }
      ]
    },
    {
      "cell_type": "code",
      "source": [
        "# Q. 두 개의 리스트(이름과 성)를 사용하여 각 사람의 전체 이름을 생성하세요.\n",
        "\n",
        "first_names = ['John', 'Jane', 'Corey', 'Travis']\n",
        "last_names = ['Doe', 'Smith', 'Turner', 'Williams']\n",
        "\n",
        "print( [ first + '' + last for first, last in zip(first_names, last_names)] )\n"
      ],
      "metadata": {
        "colab": {
          "base_uri": "https://localhost:8080/"
        },
        "id": "yDpNMkEqn0yG",
        "outputId": "e850551d-ec74-4839-ab66-b08747d9d185"
      },
      "execution_count": null,
      "outputs": [
        {
          "output_type": "stream",
          "name": "stdout",
          "text": [
            "['JohnDoe', 'JaneSmith', 'CoreyTurner', 'TravisWilliams']\n"
          ]
        }
      ]
    },
    {
      "cell_type": "code",
      "source": [
        "# Q. 학생들의 수학과 영어 점수를 각각의 리스트로 받아 평균 점수를 계산하세요.\n",
        "\n",
        "math_scores = [88, 92, 79, 93, 85]\n",
        "english_scores = [90, 91, 85, 88, 86]\n",
        "\n",
        "avg_scores = [ (math + english) // 2 for math, english in zip(math_scores, english_scores) ]\n",
        "avg_scores"
      ],
      "metadata": {
        "colab": {
          "base_uri": "https://localhost:8080/"
        },
        "id": "osM79B_hoGe2",
        "outputId": "bd90f6d0-8df5-4c9a-81b6-35d76fe9cdc2"
      },
      "execution_count": null,
      "outputs": [
        {
          "output_type": "execute_result",
          "data": {
            "text/plain": [
              "[89, 91, 82, 90, 85]"
            ]
          },
          "metadata": {},
          "execution_count": 42
        }
      ]
    },
    {
      "cell_type": "code",
      "source": [
        "# Q. 상품 이름과 가격이 각각 다른 리스트에 저장되어 있을 때, 상품명과 가격을 튜플로 묶어 출력하세요.\n",
        "\n",
        "products = ['apple', 'banana', 'cherry']\n",
        "prices = [1.2, 0.5, 2.5]\n",
        "\n",
        "print(tuple(zip(products, prices)))\n",
        "\n",
        "for product, price in zip(products, prices):\n",
        "  print(f'품목 : {product} / 가격 : {price}')"
      ],
      "metadata": {
        "colab": {
          "base_uri": "https://localhost:8080/"
        },
        "id": "2e37w2IroVMl",
        "outputId": "a73d8b79-55ce-490c-af85-1a8063e58f03"
      },
      "execution_count": null,
      "outputs": [
        {
          "output_type": "stream",
          "name": "stdout",
          "text": [
            "(('apple', 1.2), ('banana', 0.5), ('cherry', 2.5))\n",
            "품목 : apple / 가격 : 1.2\n",
            "품목 : banana / 가격 : 0.5\n",
            "품목 : cherry / 가격 : 2.5\n"
          ]
        }
      ]
    },
    {
      "cell_type": "markdown",
      "source": [
        "#### 파이썬의 random 모듈\n",
        "난수를 생성하기 위한 다양한 함수를 제공\n",
        "- 기본 난수 생성:\n",
        "  - random.random(): 0과 1 사이의 무작위 부동소수점 숫자를 반환.\n",
        "- 범위 지정 난수 생성:\n",
        "  - random.randint(a, b): a와 b 사이의 무작위 정수를 반환(b 포함).\n",
        "  - random.randrange(start, stop[, step]): 지정된 범위에서 무작위 정수를 반환. step을 설정하여 수의 간격을 조정할 수 있다.\n",
        "- 시퀀스용 함수:\n",
        "  - random.choice(sequence): 주어진 시퀀스(리스트, 튜플 등)에서 무작위로 아이템을 선택하여 반환.\n",
        "  - random.shuffle(x[, random]): 리스트의 항목들을 무작위로 섞는다. random은 섞기를 위한 함수를 커스텀할 때 사용.\n",
        "  - random.sample(population, k): 주어진 시퀀스에서 무작위로 k개의 항목을 뽑아 새 리스트로 반환.\n",
        "- 분포 기반 난수 생성:\n",
        "  - random.uniform(a, b): a와 b 사이의 무작위 부동소수점 숫자를 균등 분포로 반환.\n",
        "  - random.gauss(mu, sigma): 평균 mu와 표준편차 sigma를 가지는 정규 분포에서 난수를 반환."
      ],
      "metadata": {
        "id": "ukw-p4UVrV7c"
      }
    },
    {
      "cell_type": "code",
      "source": [
        "import random\n",
        "\n",
        "# 0과 1사이의 난수 생성\n",
        "print(random.random())\n",
        "# 1에서 10 사이의 정수 반환(10 포함)\n",
        "print(random.randint(1, 10))\n",
        "# 리스트에서 무작위로 하나의 원소 선택\n",
        "items = [1, 2, 3, 4, 5]\n",
        "print(random.choice(items))\n",
        "# 리스트의 원소를 무작위로 섞기\n",
        "random.shuffle(items)\n",
        "print(items)\n",
        "# 정규 분포 난수 생성\n",
        "mean = 0\n",
        "std_dev = 1\n",
        "print(random.gauss(mean, std_dev))"
      ],
      "metadata": {
        "colab": {
          "base_uri": "https://localhost:8080/"
        },
        "id": "JT3UY-4Mt4ax",
        "outputId": "1981d7da-2aa2-4cc1-a6d7-919bb8ee515f"
      },
      "execution_count": null,
      "outputs": [
        {
          "output_type": "stream",
          "name": "stdout",
          "text": [
            "0.6097574619717392\n",
            "10\n",
            "5\n",
            "[1, 2, 3, 5, 4]\n",
            "1.7787002978447661\n"
          ]
        }
      ]
    },
    {
      "cell_type": "code",
      "source": [
        "from random import shuffle # 랜덤 모듈에서 셔플 메소드만 가져옴\n",
        "\n",
        "male = ['철수', '갑돌', '로미오', '이몽룡', '온돌']\n",
        "shuffle(male)\n",
        "male"
      ],
      "metadata": {
        "colab": {
          "base_uri": "https://localhost:8080/"
        },
        "id": "VJqCFz1kvjc-",
        "outputId": "d57a8f9b-0295-4b6a-939a-c57a344f48b5"
      },
      "execution_count": null,
      "outputs": [
        {
          "output_type": "execute_result",
          "data": {
            "text/plain": [
              "['이몽룡', '갑돌', '철수', '온돌', '로미오']"
            ]
          },
          "metadata": {},
          "execution_count": 51
        }
      ]
    },
    {
      "cell_type": "markdown",
      "source": [
        "Task1_0430. 남녀 파트너 정해주기 프로그램(zip)\n",
        "\n",
        "같은 수의 남녀 모임에서 파트너를 랜덤하게 정해주는 프로그램을 만들어 보세요"
      ],
      "metadata": {
        "id": "MNdsluDxwdGu"
      }
    },
    {
      "cell_type": "markdown",
      "source": [
        "- zip함수는 이터레이터를 반환하고 이 이터레이터를 단 한번만 소비할 수 있다\n",
        "- list()함수를 사용하여 이터레이터의 모든 원소를 한번에 소비해버리면, 그 결과는 빈 이터레이터가 되기 때문에 리스트로 다시 저장한 후 사용해야한다"
      ],
      "metadata": {
        "id": "pf_RqAcP4Vj9"
      }
    },
    {
      "cell_type": "code",
      "source": [
        "from random import shuffle\n",
        "\n",
        "male = ['철수', '갑돌', '로미오', '이몽룡', '온돌']\n",
        "female = ['미미', '갑순', '줄리엣', '성춘향', '평강']\n",
        "shuffle(male)\n",
        "shuffle(female)\n",
        "#print(['커플 : ' + m + ', ' + fe for m, fe in zip(male, female) ])\n",
        "couples = list(zip(male, female))\n",
        "for i, couple in enumerate(couples):\n",
        "  print(f\"커플{i+1}: {couple[0]}, {couple[1]}\")"
      ],
      "metadata": {
        "colab": {
          "base_uri": "https://localhost:8080/"
        },
        "id": "SX9_lYRdwPBC",
        "outputId": "49146621-57f8-4449-d080-a8076c0dd613"
      },
      "execution_count": null,
      "outputs": [
        {
          "output_type": "stream",
          "name": "stdout",
          "text": [
            "[('로미오', '성춘향'), ('온돌', '미미'), ('철수', '줄리엣'), ('갑돌', '갑순'), ('이몽룡', '평강')]\n",
            "커플1: 로미오, 성춘향\n",
            "커플2: 온돌, 미미\n",
            "커플3: 철수, 줄리엣\n",
            "커플4: 갑돌, 갑순\n",
            "커플5: 이몽룡, 평강\n"
          ]
        }
      ]
    },
    {
      "cell_type": "code",
      "source": [
        "from random import shuffle\n",
        "\n",
        "male = ['철수', '갑돌', '로미오', '이몽룡', '온돌']\n",
        "female = ['미미', '갑순', '줄리엣', '성춘향', '평강']\n",
        "shuffle(male)\n",
        "shuffle(female)\n",
        "\n",
        "couples = zip(male, female)\n",
        "print(list(couples)) # 이 경우 빈 이터레이터를 반환하기 때문에 밑에서 출력이 안될 수 밖에 없다\n",
        "for i, couple in enumerate(couples):\n",
        "  print(f\"커플{i+1}: {couple[0]}, {couple[1]}\")"
      ],
      "metadata": {
        "colab": {
          "base_uri": "https://localhost:8080/"
        },
        "id": "5IYA88iq8nuY",
        "outputId": "bc5207f4-49d0-40c5-ee4d-484dfea31f90"
      },
      "execution_count": null,
      "outputs": [
        {
          "output_type": "stream",
          "name": "stdout",
          "text": [
            "[('갑돌', '평강'), ('이몽룡', '미미'), ('온돌', '갑순'), ('철수', '성춘향'), ('로미오', '줄리엣')]\n"
          ]
        }
      ]
    },
    {
      "cell_type": "markdown",
      "source": [
        "Task2_0430. 대문자, 소문자, 숫자를 포함하는 8자리 랜덤 비밀번호를 생성하는 프로그램을 작성하세요."
      ],
      "metadata": {
        "id": "QQOsp-VKyAnE"
      }
    },
    {
      "cell_type": "code",
      "source": [
        "import random\n",
        "import string\n",
        "\n",
        "population = list(string.ascii_letters+string.digits)\n",
        "k = 5\n",
        "\n",
        "password = ''.join(random.sample(population, k))\n",
        "print(password)\n",
        "\n",
        "################################\n",
        "\n",
        "characters = string.ascii_letters+string.digits\n",
        "pwd = ''.join(random.choice(characters) for i in range(8))\n",
        "print(pwd)\n",
        "\n",
        "################################\n",
        "\n",
        "# 반드시 소문자,대문자,숫자를 하나 이상 포함일 경우\n",
        "lowercase = random.choice(string.ascii_lowercase)\n",
        "uppercase = random.choice(string.ascii_uppercase)\n",
        "digitscase = random.choice(string.digits)\n",
        "\n",
        "letters = [lowercase, uppercase, digitscase]\n",
        "letters.extend(pwd)\n",
        "random.shuffle(letters)\n",
        "\n",
        "random_pwd = ''.join(letters)\n",
        "print(random_pwd)"
      ],
      "metadata": {
        "colab": {
          "base_uri": "https://localhost:8080/"
        },
        "id": "Jmd9E7FHy5R1",
        "outputId": "6a83158f-1367-4dca-d8d8-0c96579b73a2"
      },
      "execution_count": null,
      "outputs": [
        {
          "output_type": "stream",
          "name": "stdout",
          "text": [
            "['x', 'b', '5', 'U', 'G']\n",
            "NrtIq\n",
            "y7VZOlEN\n",
            "7UxD5bvG\n"
          ]
        }
      ]
    },
    {
      "cell_type": "markdown",
      "source": [
        "Task3_0430. 발표자 수를 랜덤하게 출력하는 프로그램을 작성하세요.(발표자 수 입력)\n",
        "\n",
        "kita = ['김성현','황강민','윤호준','류윤선','이상협','박지환','최환욱','서보선','김한결','김도현','김하준',\n",
        "        '김도원','신현진','소지승','이범석','이현석','이명신','박윤경','이도헌','김홍준']"
      ],
      "metadata": {
        "id": "h7DW4BWhyBET"
      }
    },
    {
      "cell_type": "code",
      "source": [
        "from random import sample\n",
        "\n",
        "k = int(input(\"발표자 수 : \"))\n",
        "\n",
        "kita = ['김성현','황강민','윤호준','류윤선','이상협','박지환','최환욱','서보선','김한결','김도현','김하준', '김도원','신현진','소지승','이범석','이현석','이명신','박윤경','이도헌','김홍준']\n",
        "\n",
        "sample(kita, k) # sample : 중복없이 요소 선택"
      ],
      "metadata": {
        "colab": {
          "base_uri": "https://localhost:8080/"
        },
        "id": "UAG4Bp4Ay9Ys",
        "outputId": "93469a48-4087-4157-ab8a-e6abe7b5bbdc"
      },
      "execution_count": null,
      "outputs": [
        {
          "name": "stdout",
          "output_type": "stream",
          "text": [
            "발표자 수 : 4\n"
          ]
        },
        {
          "output_type": "execute_result",
          "data": {
            "text/plain": [
              "['박윤경', '서보선', '이범석', '류윤선']"
            ]
          },
          "metadata": {},
          "execution_count": 1
        }
      ]
    },
    {
      "cell_type": "markdown",
      "source": [
        "Task4_0430. 사용자로부터 숫자를 입력받아 해당 숫자의 구구단을 출력하는 프로그램을 작성하세요."
      ],
      "metadata": {
        "id": "QS1wCtCQyBcS"
      }
    },
    {
      "cell_type": "code",
      "source": [
        "num = int(input(\"구구단 몇단? \"))\n",
        "\n",
        "for n in range(1, 10):\n",
        "  print(f'{num} X {n} = {num * n}')"
      ],
      "metadata": {
        "colab": {
          "base_uri": "https://localhost:8080/"
        },
        "id": "fwFJZTmczDO5",
        "outputId": "39a8aba7-9c48-4368-d063-cfa9849b498f"
      },
      "execution_count": null,
      "outputs": [
        {
          "output_type": "stream",
          "name": "stdout",
          "text": [
            "구구단 몇단? 19\n",
            "19 X 1 = 19\n",
            "19 X 2 = 38\n",
            "19 X 3 = 57\n",
            "19 X 4 = 76\n",
            "19 X 5 = 95\n",
            "19 X 6 = 114\n",
            "19 X 7 = 133\n",
            "19 X 8 = 152\n",
            "19 X 9 = 171\n"
          ]
        }
      ]
    },
    {
      "cell_type": "markdown",
      "source": [
        "표현식(Expression)\n",
        "- 하나 이상의 값, 변수, 연산자, 함수 호출 등을 조합하여 평가(evaluate)될 때 값을 생성하거나 반환하는 코드\n",
        "- 표현식은 계산되어 값이 되는 모든 것을 의미\n",
        "\n",
        "표현식의 예시:\n",
        "- 수치 계산: 2 + 3는 5라는 값을 반환\n",
        "- 문자열 조합: \"Hello \" + \"World\"는 \"Hello World\"라는 문자열을 생성\n",
        "- 논리 연산: x > 5는 x의 값에 따라 True 또는 False를 반환\n",
        "- 함수 호출: sum([1, 2, 3])은 리스트의 합인 6을 반환\n",
        "- 조건식: x if x > 0 else -x는 x가 양수면 x를, 음수면 -x를 반환"
      ],
      "metadata": {
        "id": "t7zw1wW4Fvwy"
      }
    },
    {
      "cell_type": "code",
      "source": [
        "# 2단부터 9단까지 구구단 출력\n",
        "\n",
        "# 세로로 할때는 * n이 기준이 되나, 횡으로 할때에는 n단 이 기준이 되면 된다.\n",
        "for j in range(2, 10):\n",
        "  #print('', end='\\t')\n",
        "  print(f'\\t{j}단', end = '\\t')\n",
        "print()\n",
        "for p in range(1, 10):\n",
        "  for i in range(2, 10):\n",
        "    print(f'{\" \"*5}{i} * {p} = {i * p}', end = '\\t')\n",
        "  print()"
      ],
      "metadata": {
        "colab": {
          "base_uri": "https://localhost:8080/"
        },
        "id": "ViP6XXaz6_Yt",
        "outputId": "3b6ad6f3-f953-46d9-8c95-625302446072"
      },
      "execution_count": null,
      "outputs": [
        {
          "output_type": "stream",
          "name": "stdout",
          "text": [
            "\t2단\t\t3단\t\t4단\t\t5단\t\t6단\t\t7단\t\t8단\t\t9단\t\n",
            "     2 * 1 = 2\t     3 * 1 = 3\t     4 * 1 = 4\t     5 * 1 = 5\t     6 * 1 = 6\t     7 * 1 = 7\t     8 * 1 = 8\t     9 * 1 = 9\t\n",
            "     2 * 2 = 4\t     3 * 2 = 6\t     4 * 2 = 8\t     5 * 2 = 10\t     6 * 2 = 12\t     7 * 2 = 14\t     8 * 2 = 16\t     9 * 2 = 18\t\n",
            "     2 * 3 = 6\t     3 * 3 = 9\t     4 * 3 = 12\t     5 * 3 = 15\t     6 * 3 = 18\t     7 * 3 = 21\t     8 * 3 = 24\t     9 * 3 = 27\t\n",
            "     2 * 4 = 8\t     3 * 4 = 12\t     4 * 4 = 16\t     5 * 4 = 20\t     6 * 4 = 24\t     7 * 4 = 28\t     8 * 4 = 32\t     9 * 4 = 36\t\n",
            "     2 * 5 = 10\t     3 * 5 = 15\t     4 * 5 = 20\t     5 * 5 = 25\t     6 * 5 = 30\t     7 * 5 = 35\t     8 * 5 = 40\t     9 * 5 = 45\t\n",
            "     2 * 6 = 12\t     3 * 6 = 18\t     4 * 6 = 24\t     5 * 6 = 30\t     6 * 6 = 36\t     7 * 6 = 42\t     8 * 6 = 48\t     9 * 6 = 54\t\n",
            "     2 * 7 = 14\t     3 * 7 = 21\t     4 * 7 = 28\t     5 * 7 = 35\t     6 * 7 = 42\t     7 * 7 = 49\t     8 * 7 = 56\t     9 * 7 = 63\t\n",
            "     2 * 8 = 16\t     3 * 8 = 24\t     4 * 8 = 32\t     5 * 8 = 40\t     6 * 8 = 48\t     7 * 8 = 56\t     8 * 8 = 64\t     9 * 8 = 72\t\n",
            "     2 * 9 = 18\t     3 * 9 = 27\t     4 * 9 = 36\t     5 * 9 = 45\t     6 * 9 = 54\t     7 * 9 = 63\t     8 * 9 = 72\t     9 * 9 = 81\t\n"
          ]
        }
      ]
    },
    {
      "cell_type": "code",
      "source": [
        "for i in range(2, 10):\n",
        "  print(f\"{' '*5}{i}단{' '*5}\", end='\\t')\n",
        "print()\n",
        "\n",
        "for i in range(2, 10):\n",
        "  print('='*12, end ='\\t')\n",
        "print()\n",
        "\n",
        "for p in range(1, 10):\n",
        "  for i in range(2, 10):\n",
        "    print(f' {i} * {p} = {i * p}', end = '\\t')\n",
        "  print()"
      ],
      "metadata": {
        "colab": {
          "base_uri": "https://localhost:8080/"
        },
        "id": "FzdpmYTNECfl",
        "outputId": "1121ca42-8f62-4cd7-a2ad-f22b3b3c67e1"
      },
      "execution_count": null,
      "outputs": [
        {
          "output_type": "stream",
          "name": "stdout",
          "text": [
            "     2단     \t     3단     \t     4단     \t     5단     \t     6단     \t     7단     \t     8단     \t     9단     \t\n",
            "============\t============\t============\t============\t============\t============\t============\t============\t\n",
            " 2 * 1 = 2\t 3 * 1 = 3\t 4 * 1 = 4\t 5 * 1 = 5\t 6 * 1 = 6\t 7 * 1 = 7\t 8 * 1 = 8\t 9 * 1 = 9\t\n",
            " 2 * 2 = 4\t 3 * 2 = 6\t 4 * 2 = 8\t 5 * 2 = 10\t 6 * 2 = 12\t 7 * 2 = 14\t 8 * 2 = 16\t 9 * 2 = 18\t\n",
            " 2 * 3 = 6\t 3 * 3 = 9\t 4 * 3 = 12\t 5 * 3 = 15\t 6 * 3 = 18\t 7 * 3 = 21\t 8 * 3 = 24\t 9 * 3 = 27\t\n",
            " 2 * 4 = 8\t 3 * 4 = 12\t 4 * 4 = 16\t 5 * 4 = 20\t 6 * 4 = 24\t 7 * 4 = 28\t 8 * 4 = 32\t 9 * 4 = 36\t\n",
            " 2 * 5 = 10\t 3 * 5 = 15\t 4 * 5 = 20\t 5 * 5 = 25\t 6 * 5 = 30\t 7 * 5 = 35\t 8 * 5 = 40\t 9 * 5 = 45\t\n",
            " 2 * 6 = 12\t 3 * 6 = 18\t 4 * 6 = 24\t 5 * 6 = 30\t 6 * 6 = 36\t 7 * 6 = 42\t 8 * 6 = 48\t 9 * 6 = 54\t\n",
            " 2 * 7 = 14\t 3 * 7 = 21\t 4 * 7 = 28\t 5 * 7 = 35\t 6 * 7 = 42\t 7 * 7 = 49\t 8 * 7 = 56\t 9 * 7 = 63\t\n",
            " 2 * 8 = 16\t 3 * 8 = 24\t 4 * 8 = 32\t 5 * 8 = 40\t 6 * 8 = 48\t 7 * 8 = 56\t 8 * 8 = 64\t 9 * 8 = 72\t\n",
            " 2 * 9 = 18\t 3 * 9 = 27\t 4 * 9 = 36\t 5 * 9 = 45\t 6 * 9 = 54\t 7 * 9 = 63\t 8 * 9 = 72\t 9 * 9 = 81\t\n"
          ]
        }
      ]
    },
    {
      "cell_type": "markdown",
      "source": [
        "Task5_0430. 사용자로부터 숫자를 입력받아 해당 숫자의 팩토리얼을 계산하세요."
      ],
      "metadata": {
        "id": "ZNnTV9OHyBz7"
      }
    },
    {
      "cell_type": "code",
      "source": [
        "# 팩토리얼 : 5! = 5 * 4 * 3 * 2 * 1 = 120\n",
        "\n",
        "num = int(input(\"팩토리얼 숫자 : \"))\n",
        "\n",
        "total = 0\n",
        "for i in range(num, 0, -1):\n",
        "  total += i\n",
        "\n",
        "print(f'= {total}')"
      ],
      "metadata": {
        "colab": {
          "base_uri": "https://localhost:8080/"
        },
        "id": "IzBAyqbwzGWp",
        "outputId": "b41ece01-a1ee-4916-9b5f-b69bc2a9060a"
      },
      "execution_count": null,
      "outputs": [
        {
          "output_type": "stream",
          "name": "stdout",
          "text": [
            "팩토리얼 숫자 : 3\n",
            "= 6\n"
          ]
        }
      ]
    },
    {
      "cell_type": "markdown",
      "source": [
        "Task6_0430. 0부터 20까지의 숫자 중에서 짝수와 홀수를 분리하여 두 개의 리스트에 저장하세요."
      ],
      "metadata": {
        "id": "J74a08tjyCSh"
      }
    },
    {
      "cell_type": "code",
      "source": [
        "a = []\n",
        "b = []\n",
        "\n",
        "for i in range(21):\n",
        "  if i % 2 == 0:\n",
        "    a.append(i)\n",
        "  else:\n",
        "    b.append(i)\n",
        "\n",
        "print(a)\n",
        "print(b)"
      ],
      "metadata": {
        "colab": {
          "base_uri": "https://localhost:8080/"
        },
        "id": "dtNvZW2ezI7r",
        "outputId": "f34ba9cb-68e4-44c1-f91b-7e11a059d007"
      },
      "execution_count": null,
      "outputs": [
        {
          "output_type": "stream",
          "name": "stdout",
          "text": [
            "[0, 2, 4, 6, 8, 10, 12, 14, 16, 18, 20]\n",
            "[1, 3, 5, 7, 9, 11, 13, 15, 17, 19]\n"
          ]
        }
      ]
    },
    {
      "cell_type": "markdown",
      "source": [
        "Task7_0430. 주어진 리스트에서 최대값을 찾아 출력하세요."
      ],
      "metadata": {
        "id": "TY7Fn7cwyCwA"
      }
    },
    {
      "cell_type": "code",
      "source": [
        "numbers = [34, 78, 2, 45, 99, 23]\n",
        "\n",
        "max(numbers)"
      ],
      "metadata": {
        "colab": {
          "base_uri": "https://localhost:8080/"
        },
        "id": "uOxhwPodzPxT",
        "outputId": "457f7004-d8a8-4ae8-fe34-040821baf7da"
      },
      "execution_count": null,
      "outputs": [
        {
          "output_type": "execute_result",
          "data": {
            "text/plain": [
              "99"
            ]
          },
          "metadata": {},
          "execution_count": 13
        }
      ]
    },
    {
      "cell_type": "markdown",
      "source": [
        "Task8_0430.  1부터 10 사이의 임의의 숫자를 맞추는 게임을 만드세요. 사용자가 숫자를 맞출 때까지 입력을 계속 받으며, 정답을 맞추면 게임을 종료하세요.\n",
        "단, 정답을 맞출 수 있는 힌트를 주어야한다.\n",
        "입력 숫자가 정답보다 큰가 작은가"
      ],
      "metadata": {
        "id": "_i0B3IdayDbl"
      }
    },
    {
      "cell_type": "code",
      "source": [
        "from random import randint\n",
        "\n",
        "res_num = randint(1, 10)\n",
        "\n",
        "while 1:\n",
        "  user_num = int(input(\"숫자를 입력하세요 : \"))\n",
        "\n",
        "  if user_num > res_num:\n",
        "    print(f'{user_num}보다 작아야합니다')\n",
        "  elif user_num < res_num:\n",
        "    print(f'{user_num}보다 커야합니다')\n",
        "  else:\n",
        "    print(f'축하합니다! 당신의 숫자 {user_num}은 정답입니다!')\n",
        "    break"
      ],
      "metadata": {
        "colab": {
          "base_uri": "https://localhost:8080/"
        },
        "id": "fsgf1I_uzSEL",
        "outputId": "888e8f5d-6a79-46df-b91b-9fcbc2696aa2"
      },
      "execution_count": null,
      "outputs": [
        {
          "output_type": "stream",
          "name": "stdout",
          "text": [
            "숫자를 입력하세요 : 5\n",
            "5보다 큽니다\n",
            "숫자를 입력하세요 : 6\n",
            "6보다 큽니다\n",
            "숫자를 입력하세요 : 7\n",
            "7보다 큽니다\n",
            "숫자를 입력하세요 : 8\n",
            "8보다 큽니다\n",
            "숫자를 입력하세요 : 9\n",
            "9보다 큽니다\n",
            "숫자를 입력하세요 : 10\n",
            "축하합니다! 당신의 숫자 10은 정답입니다!\n"
          ]
        }
      ]
    },
    {
      "cell_type": "markdown",
      "source": [
        "Task9_0430. 태어난 연도를 입력받아 띠를 출력하는 프로그램을 작성하세요."
      ],
      "metadata": {
        "id": "31uTCM4yyuEG"
      }
    },
    {
      "cell_type": "code",
      "source": [
        "animals = ['원숭이', '닭', '개', '돼지', '쥐', '소', '호랑이', '토끼', '용', '뱀', '말', '양']\n",
        "\n",
        "year = int(input('태어난 연도 : '))\n",
        "\n",
        "def get_animals_from_year(year):\n",
        "  return animals[year%12]\n",
        "\n",
        "#zodiac_index = (year - 1924) % 12\n",
        "# 1924를 넣는 이유는 쥐띠에 해당하는 해를 빼줘야하기 떄문\n",
        "#zodiac = animals[zodiac_index]\n",
        "\n",
        "print(get_animals_from_year(year)+'띠')"
      ],
      "metadata": {
        "colab": {
          "base_uri": "https://localhost:8080/"
        },
        "id": "lemzD5vvzS7o",
        "outputId": "a30dca7e-018a-4106-b25c-8dfb20c996fd"
      },
      "execution_count": null,
      "outputs": [
        {
          "output_type": "stream",
          "name": "stdout",
          "text": [
            "태어난 연도 : 2024\n",
            "용띠\n"
          ]
        }
      ]
    },
    {
      "cell_type": "markdown",
      "source": [
        "Task10_0430. 아래 사항을 반영하여 커피 자판기 프로그램을 작성하세요.\n",
        "- 시나리오 : 자판기 커피 재고 5잔, 커피 1잔 가격 300원, 재고 범위내에서 300원 이상 돈을 넣으면 거스름돈과 커피를 주고 그렇지 않으면 반환하며 재고가 소진되면 안내멘트 출력\n",
        "- 각 Case별 멘트 출력은 상황에 맞게 창작\n",
        "- while, if ~ elif ~ else 제어문을 사용하여 작성"
      ],
      "metadata": {
        "id": "XOupzbPuyvPT"
      }
    },
    {
      "cell_type": "code",
      "source": [
        "coffee = 5\n",
        "price = 300\n",
        "money = int(input(\"돈을 넣어주세요 : \"))\n",
        "\n",
        "# 돈을 넣으면 일단 커피를 한잔 뽑는다.\n",
        "# 더 뽑을건지 묻는다? 입력을 받아서 처리할까?\n",
        "# 더 뽑는다고하면 재고 내에서 더 뽑아준다.?\n",
        "# 더 안뽑는다하면 break 거스름돈 반환\n",
        "# 돈이 모자르면 break 거스름돈 반환\n",
        "\n",
        "def coffee_machine(coffee, money):\n",
        "  coffee -= 1;\n",
        "  money -= 300\n",
        "\n",
        "  print('주문하신 커피 1잔 나왔습니다.')\n",
        "  return coffee, money\n",
        "\n",
        "while 1:\n",
        "  if money >= 300:\n",
        "    if coffee:\n",
        "      coffee, money = coffee_machine(coffee, money)\n",
        "    else:\n",
        "      print(f'커피 재고가 부족합니다. 거스름돈 : {money}')\n",
        "      break\n",
        "  elif coffee == 5 and money < 300:\n",
        "    print(f'돈이 부족합니다. 거스름돈 : {money}원')\n",
        "    break\n",
        "  else:\n",
        "    print(f'거스름돈 : {money}원')\n",
        "    break"
      ],
      "metadata": {
        "colab": {
          "base_uri": "https://localhost:8080/"
        },
        "id": "hGFyln6ezWKD",
        "outputId": "e933bba6-4c53-41cb-8f3f-fa60eef24185"
      },
      "execution_count": null,
      "outputs": [
        {
          "output_type": "stream",
          "name": "stdout",
          "text": [
            "돈을 넣어주세요 : 200\n",
            "돈이 부족합니다. 거스름돈 : 200원\n"
          ]
        }
      ]
    },
    {
      "cell_type": "code",
      "source": [
        "coffee = 5\n",
        "while True:\n",
        "  money = int(input(\"돈을 넣어주세요 \"))\n",
        "  if money == 300:\n",
        "    print(\"커피를 추출합니다.\")\n",
        "    coffee -= 1\n",
        "  elif money > 300:\n",
        "    print(\"거스름돈 %d원을 반환하고 커피를 추출합니다.\" %(money-300))\n",
        "    coffee -= 1\n",
        "  else:\n",
        "    print(\"금액이 부족하여 %d원을 반환합니다.\" %(money))\n",
        "\n",
        "  if coffee == 0:\n",
        "    print(\"커피가 다 소진되었습니다. 다음에 또 찾아주시길 바랍니다.\")\n",
        "    break"
      ],
      "metadata": {
        "id": "NBRdUCXgQCKt"
      },
      "execution_count": null,
      "outputs": []
    },
    {
      "cell_type": "code",
      "source": [
        "# Q. 로또 번호 6개를 6세트 출력하는 코드를 작성하세요. (중복 없이)\n",
        "\n",
        "from random import sample\n",
        "\n",
        "numbers = list(range(1, 46))\n",
        "\n",
        "for _ in range(6):\n",
        "  lotto = sample(numbers, 6)\n",
        "  print(lotto)"
      ],
      "metadata": {
        "colab": {
          "base_uri": "https://localhost:8080/"
        },
        "id": "78ql6tI3Sl3N",
        "outputId": "40a89eef-7757-4c10-bfa4-827e908bdb34"
      },
      "execution_count": null,
      "outputs": [
        {
          "output_type": "stream",
          "name": "stdout",
          "text": [
            "[38, 22, 9, 16, 33, 28]\n",
            "[30, 19, 27, 7, 23, 37]\n",
            "[28, 23, 18, 20, 2, 37]\n",
            "[11, 37, 33, 24, 23, 6]\n",
            "[10, 22, 4, 14, 41, 21]\n",
            "[11, 44, 19, 38, 45, 26]\n"
          ]
        }
      ]
    },
    {
      "cell_type": "code",
      "source": [
        "# Q. n개 그룹으로 분류하는 코드를 작성하세요.\n",
        "\n",
        "import random\n",
        "\n",
        "names = ['김성현','황강민','윤호준','류윤선','이상협','박지환','최환욱','서보선','김한결',\n",
        "        '김도현','김하준', '김도원','신현진','소지승','이범석','이현석','이명신','박윤경','이도헌','김홍준']\n",
        "\n",
        "random.shuffle(names)\n",
        "n = 5\n",
        "g_mem = len(names) // n\n",
        "\n",
        "group = []\n",
        "\n",
        "for i in range(n):\n",
        "  group.extend([names[:g_mem]])\n",
        "  del names[:g_mem]\n",
        "print(group)"
      ],
      "metadata": {
        "id": "T3TforkNTcrs"
      },
      "execution_count": null,
      "outputs": []
    },
    {
      "cell_type": "code",
      "source": [
        "names = ['김성현','황강민','윤호준','류윤선','이상협','박지환','최환욱','서보선','김한결',\n",
        "        '김도현','김하준', '김도원','신현진','소지승','이범석','이현석','이명신','박윤경','이도헌','김홍준']\n",
        "\n",
        "n = 5\n",
        "\n",
        "# 5번을 루프를 돌면서 [0번, 5번, 10번, 15번],[1번, 6번, 11번, 16번], [2번, 7번, 12번, 17번] 이런식으로 담아준다.\n",
        "groups = [ names[i::5] for i in range(n) ]\n",
        "\n",
        "for num, name in enumerate(groups):\n",
        "  print(num, name)"
      ],
      "metadata": {
        "colab": {
          "base_uri": "https://localhost:8080/"
        },
        "id": "EijSAJC-uKon",
        "outputId": "3dd88a9b-2036-47d1-d1b6-d23465a35a13"
      },
      "execution_count": 2,
      "outputs": [
        {
          "output_type": "stream",
          "name": "stdout",
          "text": [
            "0 ['김성현', '박지환', '김하준', '이현석']\n",
            "1 ['황강민', '최환욱', '김도원', '이명신']\n",
            "2 ['윤호준', '서보선', '신현진', '박윤경']\n",
            "3 ['류윤선', '김한결', '소지승', '이도헌']\n",
            "4 ['이상협', '김도현', '이범석', '김홍준']\n",
            "[['김성현', '박지환', '김하준', '이현석'], ['황강민', '최환욱', '김도원', '이명신'], ['윤호준', '서보선', '신현진', '박윤경'], ['류윤선', '김한결', '소지승', '이도헌'], ['이상협', '김도현', '이범석', '김홍준']]\n"
          ]
        }
      ]
    },
    {
      "cell_type": "code",
      "source": [
        "# Q. 1부터 100까지의 정수 중 5에서 95까지의 합을 구하세요.\n",
        "\n",
        "total = 0\n",
        "for i in range(1, 101):\n",
        "  if i >=5 and i <= 95:\n",
        "    total += i\n",
        "\n",
        "print(total)"
      ],
      "metadata": {
        "colab": {
          "base_uri": "https://localhost:8080/"
        },
        "id": "KSnVFThATlR8",
        "outputId": "fbd4bfb0-231f-4c1d-8dfe-b93eec3c975b"
      },
      "execution_count": null,
      "outputs": [
        {
          "output_type": "stream",
          "name": "stdout",
          "text": [
            "4550\n"
          ]
        }
      ]
    },
    {
      "cell_type": "code",
      "source": [
        "# Q. while문을 사용해 1부터 1000까지의 정수 중 3과 5의 공배수의 합을 구해 보세요.\n",
        "\n",
        "num = 1\n",
        "total = 0\n",
        "while num < 1000:\n",
        "  if num % 3 == 0 and num % 5 == 0:\n",
        "    total += num\n",
        "  num += 1\n",
        "\n",
        "print(total)"
      ],
      "metadata": {
        "colab": {
          "base_uri": "https://localhost:8080/"
        },
        "id": "BWt_b6fSTo7u",
        "outputId": "5993a13d-e94b-4e7d-dd7c-93e75c3d809b"
      },
      "execution_count": null,
      "outputs": [
        {
          "output_type": "stream",
          "name": "stdout",
          "text": [
            "33165\n"
          ]
        }
      ]
    },
    {
      "cell_type": "code",
      "source": [
        "# Q. 현재 시각을 오전과 오후로 구분하는 프로그램을 작성하세요.\n",
        "import pytz\n",
        "import datetime\n",
        "\n",
        "local = pytz.timezone('Asia/Seoul')\n",
        "hour = datetime.datetime.now(local).hour\n",
        "\n",
        "if hour > 12:\n",
        "  print(f\"오후 {hour-12}시 입니다.\")\n",
        "elif hour == 12:\n",
        "  print(f\"오후 {hour}시 입니다.\")\n",
        "else:\n",
        "  print(f\"오전 {hour}시 입니다.\")"
      ],
      "metadata": {
        "colab": {
          "base_uri": "https://localhost:8080/"
        },
        "id": "dJnuyXMyTtX5",
        "outputId": "2b110341-ccfc-4190-bfca-008d5b812292"
      },
      "execution_count": null,
      "outputs": [
        {
          "output_type": "stream",
          "name": "stdout",
          "text": [
            "오후 2시 입니다.\n"
          ]
        }
      ]
    },
    {
      "cell_type": "code",
      "source": [
        "# 다양한 오류 입력에 대한 해결 방안 추가 필요\n",
        "import re\n",
        "\n",
        "#time = input(\"현재 시간을 입력하세요\\n(ex: 15시 30분 15시 15:00 15) : \")\n",
        "\n",
        "time = '15시 30분'\n",
        "\n",
        "hour = int(next(i for i in re.split('[시:]', time)))\n",
        "\n",
        "if hour >= 12 and hour < 24:\n",
        "  print(f'오후입니다.')\n",
        "elif hour < 12 and hour >= 0:\n",
        "  print(f'오전입니다.')"
      ],
      "metadata": {
        "colab": {
          "base_uri": "https://localhost:8080/"
        },
        "id": "NXt_QuINzI3T",
        "outputId": "b374d39f-d4cc-469b-a1eb-8d7f27d193ac"
      },
      "execution_count": null,
      "outputs": [
        {
          "output_type": "stream",
          "name": "stdout",
          "text": [
            "오후입니다.\n"
          ]
        }
      ]
    },
    {
      "cell_type": "code",
      "source": [
        "fruits = ['apple', 'banana', 'cherry', 'date']\n",
        "\n",
        "# 해당 인덱스의 요소를 제거하고 반환\n",
        "removed_fruit = fruits.pop(2)\n",
        "print(removed_fruit)\n",
        "\n",
        "# 리스트의 마지막 요소를 제거하고 반환\n",
        "last_fruit = fruits.pop()\n",
        "print(last_fruit)"
      ],
      "metadata": {
        "id": "GWIg289S2qLK"
      },
      "execution_count": null,
      "outputs": []
    },
    {
      "cell_type": "code",
      "source": [
        "# Q. 컴퓨터와 가위바위보 하는 게임을 프로그래밍 하세요\n",
        "\n",
        "import random\n",
        "com = random.choice(list1)\n",
        "you = input('가위 바위 보 : ')\n",
        "\n",
        "list2 = {'가위':'바위', '바위':'보', '보':'가위'}\n",
        "\n",
        "if com == you:\n",
        "  print(f'너:{you}, 컴퓨터:{com} 비겼어요')\n",
        "elif com == list2[you]:\n",
        "  print(f'너:{you}, 컴퓨터:{com} 너가 졌어요')\n",
        "else:\n",
        "  print(f'너:{you}, 컴퓨터:{com} 너가 이겼어요')"
      ],
      "metadata": {
        "colab": {
          "base_uri": "https://localhost:8080/"
        },
        "id": "-JKvl2r1_zea",
        "outputId": "b118009f-1e90-4586-9bda-0ccce985b757"
      },
      "execution_count": null,
      "outputs": [
        {
          "output_type": "stream",
          "name": "stdout",
          "text": [
            "가위 바위 보 : 보\n",
            "너:보, 컴퓨터:가위 너가 졌어요\n"
          ]
        }
      ]
    },
    {
      "cell_type": "code",
      "source": [
        "class Menu:\n",
        "  def __init__(self, menu_num, price = 0):\n",
        "    self.menu_num = menu_num\n",
        "\n",
        "    if menu_num == 1:\n",
        "      price = 12000\n",
        "    elif menu_num == 2:\n",
        "      price = 8000\n",
        "    else:\n",
        "      price = 10000\n",
        "\n",
        "    self.price = price\n",
        "\n",
        "class Order(Menu):\n",
        "  def __init__(self, menu_num):\n",
        "    super().__init__(menu_num)\n",
        "\n",
        "  def set_check(self, check):\n",
        "    if check == 'y':\n",
        "      self.price += 3000\n",
        "\n",
        "  def total_price(self):\n",
        "    return self.price\n",
        "\n",
        "print(\"KITA 식당에 오신 것을 환영합니다\")\n",
        "print(\"\\n\" + \"=\" * 40)\n",
        "print(\"\\n          - 메  뉴 -\")\n",
        "print(\"    1. 불고기 비빔밥 : 12,000원\")\n",
        "print(\"    2. 야채 비빔밥 : 8,000원\")\n",
        "print(\"    3. 전주 비빔밥 : 10,000원\")\n",
        "print(\"\\n    세트 주문시 : 3,000원 추가\")\n",
        "print(\"    (세트는 밥과 반찬이 추가됩니다.)\")\n",
        "print(\"\\n\" + \"=\" * 40)\n",
        "\n",
        "order_price = 0\n",
        "while 1:\n",
        "  menu_num = int(input('비빔밥 메뉴를 선택해주세요 : 1, 2, 3 '))\n",
        "  check = input('세트 주문을 하시겠습니까? 3000원 추가 (y, n) : ')\n",
        "\n",
        "  order = Order(menu_num)\n",
        "  order.set_check(check)\n",
        "\n",
        "  order_price += order.total_price()\n",
        "  yn = input('계속 주문하시겠습니까? (y, n) ')\n",
        "  if yn == 'n':\n",
        "    print(f'총 금액은 {order_price}원 입니다')\n",
        "    break\n"
      ],
      "metadata": {
        "colab": {
          "base_uri": "https://localhost:8080/"
        },
        "id": "jEGftmn5Tmax",
        "outputId": "30864bc1-2b67-433d-c7d2-635024e1fa23"
      },
      "execution_count": 3,
      "outputs": [
        {
          "output_type": "stream",
          "name": "stdout",
          "text": [
            "KITA 식당에 오신 것을 환영합니다\n",
            "\n",
            "========================================\n",
            "\n",
            "          - 메  뉴 -\n",
            "    1. 불고기 비빔밥 : 12,000원\n",
            "    2. 야채 비빔밥 : 8,000원\n",
            "    3. 전주 비빔밥 : 10,000원\n",
            "\n",
            "    세트 주문시 : 3,000원 추가\n",
            "    (세트는 밥과 반찬이 추가됩니다.)\n",
            "\n",
            "========================================\n",
            "비빔밥 메뉴를 선택해주세요 : 1, 2, 3 1\n",
            "세트 주문을 하시겠습니까? 3000원 추가 (y, n) : n\n",
            "계속 주문하시겠습니까? (y, n) n\n",
            "총 금액은 12000원 입니다\n"
          ]
        }
      ]
    },
    {
      "cell_type": "code",
      "source": [
        "def display_menu():\n",
        "    print(\"\\nKITA 식당에 오신 것을 환영합니다\")\n",
        "    print(\"\\n\" + \"=\" * 40)\n",
        "    print(\"\\n          - 메  뉴 -\")\n",
        "    print(\"    1. 불고기 비빔밥 : 12,000원\")\n",
        "    print(\"    2. 야채 비빔밥 : 8,000원\")\n",
        "    print(\"    3. 전주 비빔밥 : 10,000원\")\n",
        "    print(\"\\n    세트 주문시 : 3,000원 추가\")\n",
        "    print(\"    (세트는 밥과 반찬이 추가됩니다.)\")\n",
        "    print(\"\\n\" + \"=\" * 40)\n",
        "\n",
        "\n",
        "def order():\n",
        "    # 메뉴별 가격을 설정한다.\n",
        "    prices = {1: 12000, 2: 8000, 3: 10000}\n",
        "\n",
        "    # 사용자로부터 메뉴 선택을 받는다.\n",
        "    menu_choice = int(input(\"\\n비빔밥 메뉴를 선택해 주세요. 1, 2, 3 >>> \"))\n",
        "\n",
        "    # 사용자가 선택한 메뉴의 가격을 가져온다.\n",
        "    total_price = prices.get(menu_choice, 0)\n",
        "\n",
        "    # 세트 주문 여부를 확인한다.\n",
        "    set_order = input(\"세트 주문을 하시겠습니까? 3,000원 추가. y, n >>> \").lower()\n",
        "    if set_order == 'y':\n",
        "        total_price += 3000\n",
        "\n",
        "    print(f\"총 금액은 {total_price}원 입니다.\")\n",
        "\n",
        "\n",
        "def main():\n",
        "    while True:\n",
        "        display_menu()\n",
        "        order()\n",
        "\n",
        "        # 계속 주문하거나 종료 여부를 확인한다.\n",
        "        continue_ordering = input(\"\\n다시 주문하시겠습니까? (주문: enter, 종료: '종료' 입력) >>> \")\n",
        "        if continue_ordering == '종료':\n",
        "            break\n",
        "\n",
        "    print(\"\\n감사합니다! 다음에 또 방문해 주세요.\")\n",
        "\n",
        "\n",
        "if __name__ == \"__main__\":\n",
        "    main()"
      ],
      "metadata": {
        "colab": {
          "base_uri": "https://localhost:8080/"
        },
        "id": "mj13JpprjdOY",
        "outputId": "f8dc120e-1e8c-46a5-e211-0a236fa8cf46"
      },
      "execution_count": 45,
      "outputs": [
        {
          "output_type": "stream",
          "name": "stdout",
          "text": [
            "\n",
            "KITA 식당에 오신 것을 환영합니다\n",
            "\n",
            "========================================\n",
            "\n",
            "          - 메  뉴 -\n",
            "    1. 불고기 비빔밥 : 12,000원\n",
            "    2. 야채 비빔밥 : 8,000원\n",
            "    3. 전주 비빔밥 : 10,000원\n",
            "\n",
            "    세트 주문시 : 3,000원 추가\n",
            "    (세트는 밥과 반찬이 추가됩니다.)\n",
            "\n",
            "========================================\n",
            "\n",
            "비빔밥 메뉴를 선택해 주세요. 1, 2, 3 >>> 1\n",
            "세트 주문을 하시겠습니까? 3,000원 추가. y, n >>> y\n",
            "총 금액은 15000원 입니다.\n",
            "\n",
            "다시 주문하시겠습니까? (주문: enter, 종료: '종료' 입력) >>> \n",
            "\n",
            "KITA 식당에 오신 것을 환영합니다\n",
            "\n",
            "========================================\n",
            "\n",
            "          - 메  뉴 -\n",
            "    1. 불고기 비빔밥 : 12,000원\n",
            "    2. 야채 비빔밥 : 8,000원\n",
            "    3. 전주 비빔밥 : 10,000원\n",
            "\n",
            "    세트 주문시 : 3,000원 추가\n",
            "    (세트는 밥과 반찬이 추가됩니다.)\n",
            "\n",
            "========================================\n",
            "\n",
            "비빔밥 메뉴를 선택해 주세요. 1, 2, 3 >>> 2\n",
            "세트 주문을 하시겠습니까? 3,000원 추가. y, n >>> n\n",
            "총 금액은 8000원 입니다.\n",
            "\n",
            "다시 주문하시겠습니까? (주문: enter, 종료: '종료' 입력) >>> 종료\n",
            "\n",
            "감사합니다! 다음에 또 방문해 주세요.\n"
          ]
        }
      ]
    },
    {
      "cell_type": "markdown",
      "source": [
        "`if __name__ == \"__main__\": `\n",
        "\n",
        "- 현재 모듈이 직접 실행되는지 또는 다른 파일에 의해 임포트되어 사용되는지를 판단할 때 사용.\n",
        "- 만약 모듈이 직접 실행되면 __name__ 변수의 값은 \"__main__\"이 되고, 모듈이 다른 파일에서 임포트되어 사용될 경우 __name__은 모듈의 이름이 된다."
      ],
      "metadata": {
        "id": "sqicIQQd4qGn"
      }
    },
    {
      "cell_type": "code",
      "source": [
        "# mymodule.py 파일의 내용을 문자열로 정의합니다.\n",
        "# if __name__ == '__main__': 은 직접 실행할 경우만 True, 모듈 임포트 경우는 False\n",
        "module_content = \"\"\"\n",
        "def print_hello():\n",
        "    print(\"Hello from mymodule!\")\n",
        "\n",
        "def print_goodbye():\n",
        "    print(\"Goodbye from mymodule!\")\n",
        "\n",
        "if __name__ == '__main__':\n",
        "  print(This code runs only when mymodule.py is executed directly.')\n",
        "  print_hello()\n",
        "  print_goodbye()\n",
        "\"\"\"\n",
        "\n",
        "# 파일을 쓰기 모드로 열고, 내용을 작성한 뒤 파일을 닫습니다.\n",
        "with open(\"mymodule.py\", \"w\") as file:\n",
        "    file.write(module_content)\n",
        "\n",
        "# 파일이 저장된 위치 확인 (일반적으로 Colab의 현재 작업 디렉토리)\n",
        "!ls"
      ],
      "metadata": {
        "colab": {
          "base_uri": "https://localhost:8080/"
        },
        "id": "73u4Buyt2hAK",
        "outputId": "9f6dd937-bda9-4709-9f48-58b89be0d066"
      },
      "execution_count": 12,
      "outputs": [
        {
          "output_type": "stream",
          "name": "stdout",
          "text": [
            "drive  mymodule.py  __pycache__  sample_data\n"
          ]
        }
      ]
    },
    {
      "cell_type": "code",
      "source": [
        "import mymodule\n",
        "\n",
        "mymodule.print_hello()\n",
        "mymodule.print_goodbye()"
      ],
      "metadata": {
        "id": "nR0zNgts3hAF"
      },
      "execution_count": 14,
      "outputs": []
    },
    {
      "cell_type": "markdown",
      "source": [
        "Q. 여러개의 음식을 동시에 주문할 수 있는 주문 시스템을 작성하세요"
      ],
      "metadata": {
        "id": "qM2BGNdT52J4"
      }
    },
    {
      "cell_type": "code",
      "source": [
        "class Food:\n",
        "  def __init__(self, food):\n",
        "    self.name = food['name']\n",
        "    self.price = food['price']\n",
        "\n",
        "class Order(Food):\n",
        "  def __init__(self, food, setted):\n",
        "    super().__init__(food)\n",
        "    self.setted = setted\n",
        "\n",
        "  def total_price(self):\n",
        "    self.total_price = self.price + self.setted\n",
        "\n",
        "    return self.total_price\n",
        "\n",
        "def order_menu(foods):\n",
        "  num = int(input('비빔밥 메뉴를 선택해주세요 : 1, 2, 3 '))\n",
        "  st = next((3000 for i in [input('세트 주문을 하시겠습니까? (y, n) : ')] if i == 'y'), 0)\n",
        "\n",
        "  return foods[num], st\n",
        "\n",
        "\n",
        "\n",
        "foods = {1: {'name' : '불고기비빔밥', 'price' : 12000},\n",
        "         2: {'name' : '야채비빔밥', 'price' : 8000},\n",
        "         3: {'name' : '전주비빔밥', 'price': 10000}}\n",
        "\n",
        "food, setted = order_menu(foods)\n",
        "order = Order(food, setted)\n",
        "total_price = order.total_price()\n",
        "\n",
        "print(f'총 가격은 {total_price}원 입니다')\n",
        "\n",
        "while 1:\n",
        "  #cont = next((True for i in [input('계속 주문하시겠습니까? (enter:계속 주문 / n:종료)')] if i == ''), False)\n",
        "\n",
        "  # lambda 함수로 간단한 함수 예제 작성. 매개 변수가 없어도 가능하다.\n",
        "  cont = lambda : True if input('계속 주문하시겠습니까? (enter:계속 주문 / n:종료)') == '' else False\n",
        "  if cont():\n",
        "    food, setted = order_menu(foods)\n",
        "    order = Order(food, setted)\n",
        "    total_price += order.total_price()\n",
        "  else:\n",
        "    print(f'주문완료. 총 가격은 {total_price}원 입니다.')\n",
        "    break\n",
        "\n",
        "\n",
        "\n",
        "\n",
        "\n"
      ],
      "metadata": {
        "colab": {
          "base_uri": "https://localhost:8080/"
        },
        "id": "wXL4_j7r561y",
        "outputId": "886f6100-a1fd-4e4b-c9e3-a49d77fd7a7d"
      },
      "execution_count": 30,
      "outputs": [
        {
          "output_type": "stream",
          "name": "stdout",
          "text": [
            "비빔밥 메뉴를 선택해주세요 : 1, 2, 3 2\n",
            "세트 주문을 하시겠습니까? (y, n) : ㅛ\n",
            "총 가격은 8000원 입니다\n",
            "계속 주문하시겠습니까? (enter:계속 주문 / n:종료)\n",
            "비빔밥 메뉴를 선택해주세요 : 1, 2, 3 1\n",
            "세트 주문을 하시겠습니까? (y, n) : y\n",
            "계속 주문하시겠습니까? (enter:계속 주문 / n:종료)n\n",
            "주문완료. 총 가격은 23000원 입니다.\n"
          ]
        }
      ]
    }
  ]
}