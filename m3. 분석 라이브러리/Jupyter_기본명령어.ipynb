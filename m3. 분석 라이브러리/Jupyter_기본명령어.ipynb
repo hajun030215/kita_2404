{
 "cells": [
  {
   "cell_type": "code",
   "execution_count": 2,
   "id": "d4f99f08-9769-4133-ad30-804235c45e3c",
   "metadata": {},
   "outputs": [
    {
     "name": "stdout",
     "output_type": "stream",
     "text": [
      "Python 3.10.14\n"
     ]
    }
   ],
   "source": [
    "!python --version"
   ]
  },
  {
   "cell_type": "code",
   "execution_count": 3,
   "id": "39a222f7-b808-453d-9a0b-1e65a08c39e4",
   "metadata": {},
   "outputs": [
    {
     "name": "stdout",
     "output_type": "stream",
     "text": [
      "C:\\Users\\tkdeh\\AppData\\Local\\anaconda3\\envs\\myenv\\python.exe\n",
      "C:\\Users\\tkdeh\\AppData\\Local\\anaconda3\\python.exe\n",
      "C:\\Users\\tkdeh\\AppData\\Local\\Microsoft\\WindowsApps\\python.exe\n"
     ]
    }
   ],
   "source": [
    "!where python"
   ]
  },
  {
   "cell_type": "code",
   "execution_count": null,
   "id": "3b856481-fb68-4eda-8faf-1273c76ff6e0",
   "metadata": {},
   "outputs": [],
   "source": [
    "print(\"current Directory:\")\n",
    "%pwd"
   ]
  },
  {
   "cell_type": "code",
   "execution_count": null,
   "id": "c2da762c-ba8c-4d82-8911-ab3564442938",
   "metadata": {},
   "outputs": [],
   "source": [
    "#### !ls vs %ls\r\n",
    "- !ls는 UNIX 계열 시스템에서 셸 명령어 ls를 실행하여 현재 작업 디렉토리의 파일과 디렉토리를 나열\r\n",
    "- Windows에서는 ls 대신 dir 명령어를 사용 (!dir).\r\n",
    "- %ls는 IPython에서 제공하는 매직 명령어로, 파일 및 디렉토리 목록을 표시. 이는 운영 체제에 관계없이 동일한 방식으로 작동"
   ]
  },
  {
   "cell_type": "code",
   "execution_count": 4,
   "id": "fd007927-075c-44d7-985e-6e52dd415c86",
   "metadata": {},
   "outputs": [
    {
     "name": "stdout",
     "output_type": "stream",
     "text": [
      " C 드라이브의 볼륨에는 이름이 없습니다.\n",
      " 볼륨 일련 번호: 2A7F-7C1E\n",
      "\n",
      " C:\\Users\\tkdeh\\kita 디렉터리\n",
      "\n",
      "2024-05-24  오후 05:21    <DIR>          .\n",
      "2024-05-24  오후 05:21    <DIR>          ..\n",
      "2024-05-24  오후 05:14    <DIR>          .ipynb_checkpoints\n",
      "2024-05-24  오후 05:21             1,924 Untitled.ipynb\n",
      "               1개 파일               1,924 바이트\n",
      "               3개 디렉터리  49,354,604,544 바이트 남음\n"
     ]
    }
   ],
   "source": [
    "%ls"
   ]
  },
  {
   "cell_type": "code",
   "execution_count": null,
   "id": "aa2caeed-2406-40a7-9e65-91733ad538a5",
   "metadata": {},
   "outputs": [],
   "source": [
    "esc + b = 새로운 셀"
   ]
  },
  {
   "cell_type": "code",
   "execution_count": null,
   "id": "778a9c12-142f-4225-87d2-b6193f599a49",
   "metadata": {},
   "outputs": [],
   "source": [
    "shift + enter = 실행 후 새로운 셀 생성"
   ]
  },
  {
   "cell_type": "code",
   "execution_count": 7,
   "id": "42ead84e-ea70-4ac5-b7a5-52269fbb799f",
   "metadata": {},
   "outputs": [
    {
     "name": "stdout",
     "output_type": "stream",
     "text": [
      " C 드라이브의 볼륨에는 이름이 없습니다.\n",
      " 볼륨 일련 번호: 2A7F-7C1E\n",
      "\n",
      " C:\\Users\\tkdeh\\kita 디렉터리\n",
      "\n",
      "2024-05-24  오후 05:25    <DIR>          .\n",
      "2024-05-24  오후 05:25    <DIR>          ..\n",
      "2024-05-24  오후 05:14    <DIR>          .ipynb_checkpoints\n",
      "2024-05-24  오후 05:25             3,414 Untitled.ipynb\n",
      "               1개 파일               3,414 바이트\n",
      "               3개 디렉터리  49,355,026,432 바이트 남음\n"
     ]
    }
   ],
   "source": [
    "!dir C:\\Users\\tkdeh\\kita"
   ]
  },
  {
   "cell_type": "code",
   "execution_count": 9,
   "id": "2ab84b40-3018-4caa-afbd-ec6e66253b6f",
   "metadata": {},
   "outputs": [],
   "source": [
    "# 새 파일 생성 및 쓰기\n",
    "with open('example.txt', 'w') as file:\n",
    "    file.write(\"This is an example file.\")"
   ]
  },
  {
   "cell_type": "code",
   "execution_count": 10,
   "id": "a5977eb9-f627-43c7-800e-816f37f6f938",
   "metadata": {},
   "outputs": [
    {
     "name": "stdout",
     "output_type": "stream",
     "text": [
      "This is an example file.\n"
     ]
    }
   ],
   "source": [
    "with open('example.txt', 'r') as file:\n",
    "    txt = file.read()\n",
    "    print(txt)"
   ]
  },
  {
   "cell_type": "code",
   "execution_count": 11,
   "id": "692f40c0-57ce-4ecc-89eb-86200c2e83ac",
   "metadata": {},
   "outputs": [],
   "source": [
    "!del example.txt"
   ]
  },
  {
   "cell_type": "code",
   "execution_count": 25,
   "id": "835fad1e-e953-481a-a5ba-61bc3d99f895",
   "metadata": {},
   "outputs": [],
   "source": [
    "# 디렉토리 생성\n",
    "!mkdir test_dir"
   ]
  },
  {
   "cell_type": "code",
   "execution_count": 19,
   "id": "07923d19-1b7f-4120-a971-68f8dbea3641",
   "metadata": {},
   "outputs": [
    {
     "name": "stdout",
     "output_type": "stream",
     "text": [
      "C:\\Users\\tkdeh\\kita\\test_dir\n"
     ]
    }
   ],
   "source": [
    "# 디렉토리 이동\n",
    "%cd test_dir"
   ]
  },
  {
   "cell_type": "code",
   "execution_count": 15,
   "id": "972d2c5a-be18-427d-9553-ef65c8b4ff33",
   "metadata": {},
   "outputs": [
    {
     "data": {
      "text/plain": [
       "'C:\\\\Users\\\\tkdeh\\\\kita\\\\test_dir'"
      ]
     },
     "execution_count": 15,
     "metadata": {},
     "output_type": "execute_result"
    }
   ],
   "source": [
    "%pwd"
   ]
  },
  {
   "cell_type": "code",
   "execution_count": 17,
   "id": "a7a0b989-94cf-49e6-a14a-07eb8a44a50a",
   "metadata": {},
   "outputs": [
    {
     "name": "stdout",
     "output_type": "stream",
     "text": [
      "Collecting pickleshare\n",
      "  Downloading pickleshare-0.7.5-py2.py3-none-any.whl.metadata (1.5 kB)\n",
      "Downloading pickleshare-0.7.5-py2.py3-none-any.whl (6.9 kB)\n",
      "Installing collected packages: pickleshare\n",
      "Successfully installed pickleshare-0.7.5\n"
     ]
    }
   ],
   "source": [
    "!pip install pickleshare"
   ]
  },
  {
   "cell_type": "code",
   "execution_count": 20,
   "id": "2214ebbb-0cc1-4731-b0f7-b102a8d0b875",
   "metadata": {},
   "outputs": [],
   "source": [
    "with open('new_example.txt', 'w') as file:\n",
    "    file.write(\"This is an new_example file.\")"
   ]
  },
  {
   "cell_type": "code",
   "execution_count": 21,
   "id": "04fe529e-236d-484f-b577-5d1e4d047e90",
   "metadata": {},
   "outputs": [
    {
     "name": "stdout",
     "output_type": "stream",
     "text": [
      "This is an new_example file.\n"
     ]
    }
   ],
   "source": [
    "with open('new_example.txt', 'r') as file:\n",
    "    txt = file.read()\n",
    "    print(txt)"
   ]
  },
  {
   "cell_type": "code",
   "execution_count": 22,
   "id": "be31a4bb-036b-4618-9732-e0142754f420",
   "metadata": {},
   "outputs": [
    {
     "name": "stdout",
     "output_type": "stream",
     "text": [
      "C:\\Users\\tkdeh\\kita\n"
     ]
    }
   ],
   "source": [
    "%cd .."
   ]
  },
  {
   "cell_type": "code",
   "execution_count": 26,
   "id": "692586bc-fe1e-45c0-a6e5-d2bc621ff637",
   "metadata": {},
   "outputs": [],
   "source": [
    "# 디렉토리와 그 안의 모든 파일 삭제\n",
    "# /S 옵션 : 디렉토리 안에 있는 모든 파일과 서브 디렉토리 삭제\n",
    "# /Q 옵션 : 디렉토리 삭제하기 전에 사용자에게 확인 메시지를 묻지 않고 바로 삭제\n",
    "!rmdir /S /Q test_dir"
   ]
  },
  {
   "cell_type": "code",
   "execution_count": null,
   "id": "83121522-1100-45b0-9e7d-9181bffcd4dd",
   "metadata": {},
   "outputs": [],
   "source": [
    "# 파일 이름 변경\n",
    "!move example.txt new_example.txt"
   ]
  },
  {
   "cell_type": "code",
   "execution_count": null,
   "id": "cad3a8ed-0784-47ad-97b5-e6f65d6aa717",
   "metadata": {},
   "outputs": [],
   "source": [
    "# 파일 복사\n",
    "!copy new_example.txt .\\test_dir\\copy_example.txt"
   ]
  },
  {
   "cell_type": "code",
   "execution_count": null,
   "id": "12000006-b6d4-49d4-9247-4c4af0e4912b",
   "metadata": {},
   "outputs": [],
   "source": []
  }
 ],
 "metadata": {
  "kernelspec": {
   "display_name": "Python 3 (ipykernel)",
   "language": "python",
   "name": "python3"
  },
  "language_info": {
   "codemirror_mode": {
    "name": "ipython",
    "version": 3
   },
   "file_extension": ".py",
   "mimetype": "text/x-python",
   "name": "python",
   "nbconvert_exporter": "python",
   "pygments_lexer": "ipython3",
   "version": "3.10.14"
  }
 },
 "nbformat": 4,
 "nbformat_minor": 5
}
